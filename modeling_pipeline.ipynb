{
 "cells": [
  {
   "cell_type": "code",
   "execution_count": 77,
   "id": "ed40602b",
   "metadata": {},
   "outputs": [],
   "source": [
    "#Inital imports\n",
    "%matplotlib inline\n",
    "import numpy as np\n",
    "import pandas as pd\n",
    "import matplotlib.pyplot as plt\n",
    "import seaborn as sns\n",
    "import lifetimes\n",
    "from lifetimes.plotting import plot_period_transactions, plot_calibration_purchases_vs_holdout_purchases\n",
    "from lifetimes import BetaGeoFitter, GammaGammaFitter, BetaGeoBetaBinomFitter\n",
    "from datetime import timedelta\n",
    "from datetime import datetime\n",
    "from dateutil import parser\n",
    "from sklearn.metrics import mean_squared_error\n",
    "from sklearn.model_selection import GridSearchCV\n",
    "#Load in our data wrangler\n",
    "from lifetimes.utils import summary_data_from_transaction_data\n",
    "#Import holdout \n",
    "from lifetimes.utils import calibration_and_holdout_data"
   ]
  },
  {
   "cell_type": "markdown",
   "id": "b69aa0a3",
   "metadata": {},
   "source": [
    "#### Preparation and evaluation functions"
   ]
  },
  {
   "cell_type": "code",
   "execution_count": 2,
   "id": "caadd948",
   "metadata": {},
   "outputs": [],
   "source": [
    "def clean_transaction_csv(transaction_df,datetime_col,customer_id_col,monetary_value_col):\n",
    "    #Remove tansactions less than or equal to zero\n",
    "    sub_transaction_df = transaction_df[transaction_df[monetary_value_col]>0]\n",
    "    #Subset to only repeat customers\n",
    "    repeat_cust_ID = pd.DataFrame(sub_transaction_df.groupby(customer_id_col)[datetime_col].nunique())\n",
    "    repeat_cust_ID = list(repeat_cust_ID[repeat_cust_ID[datetime_col]>1].index)\n",
    "    sub_transaction_df = sub_transaction_df[sub_transaction_df[customer_id_col].isin(repeat_cust_ID)]\n",
    "    #convert datetime_col to datetime64\n",
    "#    sub_transaction_df[datetime_col] = pd.to_datetime(sub_transaction_df[datetime_col])\n",
    "    #return a df with only repeat customers with orders over 0.00 monetary value\n",
    "    return sub_transaction_df"
   ]
  },
  {
   "cell_type": "code",
   "execution_count": 3,
   "id": "e15b5eb2",
   "metadata": {},
   "outputs": [],
   "source": [
    "#class to return a calibration and holdout df\n",
    "class df_ch():\n",
    "    def __init__(self,transaction_df=None,customer_id_col=None,datetime_col=None,monetary_value_col=None):\n",
    "        #initialized attributes\n",
    "        self.transaction_df = transaction_df\n",
    "        self.customer_id_col=customer_id_col\n",
    "        self.datetime_col=datetime_col\n",
    "        self.monetary_value_col=monetary_value_col\n",
    "        #save off more attributes\n",
    "        self.min_obs_date = parser.parse(transaction_df[datetime_col].min())\n",
    "        self.max_obs_date = parser.parse(transaction_df[datetime_col].max())\n",
    "        self.eval_period = np.round(((self.max_obs_date-self.min_obs_date).days * (1/3))) #one third of total range\n",
    "        self.max_calib_date = self.max_obs_date - timedelta(days=self.eval_period)  \n",
    "        self.calib_range_days = (self.max_calib_date - self.min_obs_date).days\n",
    "    def df_ch_getdf(self):\n",
    "        df = calibration_and_holdout_data(\n",
    "        transactions = self.transaction_df, \n",
    "        customer_id_col=self.customer_id_col,\n",
    "        datetime_col=self.datetime_col,\n",
    "        monetary_value_col=self.monetary_value_col,\n",
    "        calibration_period_end = self.max_calib_date, \n",
    "        observation_period_end = self.max_obs_date, \n",
    "        freq = \"D\")\n",
    "        return df\n",
    "        "
   ]
  },
  {
   "cell_type": "code",
   "execution_count": 4,
   "id": "5f8aacca",
   "metadata": {},
   "outputs": [],
   "source": [
    "#function to capture RMSE for a BGF model\n",
    "def bgf_rmse(ch,bgf):\n",
    "    df_ch = ch.df_ch_getdf()\n",
    "    df_ch[\"n_transactions_holdout_real\"] = df_ch[\"frequency_holdout\"]\n",
    "    y_true = df_ch[\"n_transactions_holdout_real\"]\n",
    "    y_pred = bgf.predict(t=ch.eval_period, frequency=df_ch['frequency_cal'],\n",
    "                         recency=df_ch['recency_cal'],\n",
    "                         T=df_ch['T_cal'])\n",
    "\n",
    "    return mean_squared_error(y_true,y_pred,squared=False)"
   ]
  },
  {
   "cell_type": "code",
   "execution_count": 5,
   "id": "e62d6d72",
   "metadata": {},
   "outputs": [],
   "source": [
    "def bgf_real_v_pred_df(ch,bgf):\n",
    "    rfm_cal_holdout = pd.DataFrame()\n",
    "    ch_df = ch.df_ch_getdf()\n",
    "    rfm_cal_holdout[\"n_transactions_cal_real\"]  = ch_df[\"frequency_cal\"] + 1 #Total calibration days with purchases = calibration frequency + 1\n",
    "    rfm_cal_holdout[\"n_transactions_holdout_real\"]  = ch_df[\"frequency_holdout\"] #Total validation days with purchases = validation frequency\n",
    "    # the predicted number of transactions\n",
    "    rfm_cal_holdout[\"n_transactions_holdout_pred\"] = bgf.predict(t=ch.eval_period, \n",
    "                                                    frequency=ch_df['frequency_cal'], \n",
    "                                                    recency=ch_df['recency_cal'], \n",
    "                                                    T=ch_df['T_cal'])\n",
    "    return rfm_cal_holdout[[\"n_transactions_cal_real\",\"n_transactions_holdout_real\", \"n_transactions_holdout_pred\"]]"
   ]
  },
  {
   "cell_type": "code",
   "execution_count": 6,
   "id": "fe67f401",
   "metadata": {},
   "outputs": [],
   "source": [
    "#function to return predicted # transactions for given customer in evaluation period\n",
    "def samp_cust_pred_trans(df_ch,sample_customer_id,eval_period):\n",
    "    sample_customer = df_ch.loc[sample_customer_id]\n",
    "    n_transactions_pred = bgf.predict(t=eval_period,\n",
    "                                  frequency=sample_customer['frequency_cal'], \n",
    "                                  recency=sample_customer['recency_cal'], \n",
    "                                  T=sample_customer['T_cal'])\n",
    "    return(n_transactions_pred)"
   ]
  },
  {
   "cell_type": "markdown",
   "id": "9b84712e",
   "metadata": {},
   "source": [
    "#### User selections"
   ]
  },
  {
   "cell_type": "code",
   "execution_count": 7,
   "id": "60391fc1",
   "metadata": {},
   "outputs": [],
   "source": [
    "#Data inputs\n",
    "transaction_df = pd.read_csv(\"data/lifetimes_object_df.csv\") #user uploads csv and it's converted to df\n",
    "#Identify how columns are titled in your csv\n",
    "customer_id_coloumn = \"customer_unique_id\"\n",
    "datetime_coloumn = \"order_purchase_timestamp\"\n",
    "monetary_value_coloumn = \"payment_value\""
   ]
  },
  {
   "cell_type": "code",
   "execution_count": 28,
   "id": "d7dc45f8",
   "metadata": {},
   "outputs": [],
   "source": [
    "#Evaluation\n",
    "prediction_period = 12 # months\n",
    "evaluation_customer_id = None"
   ]
  },
  {
   "cell_type": "markdown",
   "id": "0de1645e",
   "metadata": {},
   "source": [
    "### Pipeline"
   ]
  },
  {
   "cell_type": "code",
   "execution_count": 9,
   "id": "b1d74a4e",
   "metadata": {},
   "outputs": [],
   "source": [
    "#saved variables from customer inputs\n",
    "ch_df_obj = df_ch(transaction_df,customer_id_coloumn,datetime_coloumn,monetary_value_coloumn)\n",
    "ch_df = ch_df_obj.df_ch_getdf()\n",
    "full_rfm_summary = summary_data_from_transaction_data(transactions=transaction_df,\n",
    "                                                      customer_id_col=customer_id_coloumn,\n",
    "                                                      datetime_col=datetime_coloumn,\n",
    "                                                      monetary_value_col=monetary_value_coloumn)\n",
    "\n",
    "repeat_transaction_df = clean_transaction_csv(transaction_df,datetime_coloumn,customer_id_coloumn,monetary_value_coloumn)\n",
    "\n",
    "repeat_rfm_summary = summary_data_from_transaction_data(transactions=repeat_transaction_df,\n",
    "                                                      customer_id_col=customer_id_coloumn,\n",
    "                                                      datetime_col=datetime_coloumn,\n",
    "                                                      monetary_value_col=monetary_value_coloumn,)"
   ]
  },
  {
   "cell_type": "code",
   "execution_count": 27,
   "id": "1ff80927",
   "metadata": {},
   "outputs": [
    {
     "name": "stdout",
     "output_type": "stream",
     "text": [
      "Model is accurate to within 0.143 purchases over 243 days\n"
     ]
    },
    {
     "data": {
      "image/png": "[encoded data removed]",
      "text/plain": [
       "<Figure size 720x360 with 1 Axes>"
      ]
     },
     "metadata": {
      "needs_background": "light"
     },
     "output_type": "display_data"
    }
   ],
   "source": [
    "#Train-test results\n",
    "#Iniatialize bgf model\n",
    "bgf = BetaGeoFitter(penalizer_coef=0)\n",
    "#Fit model to ch_df\n",
    "bgf.fit(\n",
    "        frequency = ch_df[\"frequency_cal\"], \n",
    "        recency = ch_df[\"recency_cal\"], \n",
    "        T = ch_df[\"T_cal\"],   \n",
    "        weights = None,  \n",
    "        verbose = False)\n",
    "#Return rmse for bgf model\n",
    "model_rmse = bgf_rmse(ch_df_obj,bgf)\n",
    "print(f'Model is accurate to within {round(model_rmse,ndigits=3)} purchases over {int(ch_df_obj.eval_period)} days')\n",
    "# testing: predicted vs actual purchases in holdout period \n",
    "fig = plot_calibration_purchases_vs_holdout_purchases(bgf, ch_df,figsize=(10, 5))"
   ]
  },
  {
   "cell_type": "code",
   "execution_count": 11,
   "id": "51f62717",
   "metadata": {},
   "outputs": [
    {
     "data": {
      "text/plain": [
       "<lifetimes.GammaGammaFitter: fitted with 2065 subjects, p: 10.29, q: 1.34, v: 9.61>"
      ]
     },
     "execution_count": 11,
     "metadata": {},
     "output_type": "execute_result"
    }
   ],
   "source": [
    "#Trainning GG model on repeat purchaser rfm summary\n",
    "gg = GammaGammaFitter(penalizer_coef = 0.001)\n",
    "\n",
    "gg.fit(repeat_rfm_summary['frequency'],repeat_rfm_summary['monetary_value'])"
   ]
  },
  {
   "cell_type": "markdown",
   "id": "f3db6bce",
   "metadata": {},
   "source": [
    "### Model Attributes"
   ]
  },
  {
   "cell_type": "code",
   "execution_count": 59,
   "id": "bd6fb8c2",
   "metadata": {},
   "outputs": [],
   "source": [
    "#Predicted CLV\n",
    "ltv_predictions = gg.customer_lifetime_value(\n",
    "    bgf, #our best bgf model\n",
    "    full_rfm_summary['frequency'],\n",
    "    full_rfm_summary['recency'],\n",
    "    full_rfm_summary['T'],\n",
    "    full_rfm_summary['monetary_value'],\n",
    "    time=prediction_period, # months\n",
    "    discount_rate=0.0, # \n",
    "    freq =\"D\"\n",
    ")"
   ]
  },
  {
   "cell_type": "code",
   "execution_count": 79,
   "id": "15f20617",
   "metadata": {},
   "outputs": [],
   "source": [
    "#Predicted purchases\n",
    "prediction_period_days = prediction_period * 30\n",
    "n_predicted_purchases_base = bgf.conditional_expected_number_of_purchases_up_to_time(prediction_period_days,\n",
    "                                                        full_rfm_summary['frequency'],\n",
    "                                                        full_rfm_summary['recency'],\n",
    "                                                        full_rfm_summary['T'])"
   ]
  },
  {
   "cell_type": "code",
   "execution_count": 80,
   "id": "7f670ef0",
   "metadata": {},
   "outputs": [],
   "source": [
    "#Predicted probability of being alive\n",
    "BGBB = BetaGeoBetaBinomFitter()\n",
    "BGBB.fit(full_rfm_summary[\"frequency\"],full_rfm_summary[\"recency\"],)"
   ]
  },
  {
   "cell_type": "code",
   "execution_count": 75,
   "id": "34ca6cdb",
   "metadata": {},
   "outputs": [
    {
     "data": {
      "text/plain": [
       "94989"
      ]
     },
     "execution_count": 75,
     "metadata": {},
     "output_type": "execute_result"
    }
   ],
   "source": [
    "len(prob_alive_base)"
   ]
  },
  {
   "cell_type": "markdown",
   "id": "22c21ffc",
   "metadata": {},
   "source": [
    "### Customer Base CLV Evaluation"
   ]
  },
  {
   "cell_type": "code",
   "execution_count": 60,
   "id": "77367539",
   "metadata": {},
   "outputs": [
    {
     "name": "stdout",
     "output_type": "stream",
     "text": [
      "Total revenue from return customers in next 12 months 419762.0\n"
     ]
    }
   ],
   "source": [
    "print(f'Total revenue from return customers in next {prediction_period} months {np.round(sum(ltv_predictions))}')"
   ]
  },
  {
   "cell_type": "code",
   "execution_count": 61,
   "id": "9961d1ad",
   "metadata": {},
   "outputs": [
    {
     "data": {
      "text/plain": [
       "''"
      ]
     },
     "execution_count": 61,
     "metadata": {},
     "output_type": "execute_result"
    },
    {
     "data": {
      "image/png": "[encoded data removed]",
      "text/plain": [
       "<Figure size 720x360 with 1 Axes>"
      ]
     },
     "metadata": {
      "needs_background": "light"
     },
     "output_type": "display_data"
    }
   ],
   "source": [
    "#Get a list of predicted CLV for n months in the future\n",
    "clv_sum_per_day = []\n",
    "date_range = [*range(1, (prediction_period)+1, 1)]\n",
    "for months in date_range:\n",
    "    ltv_predictions = gg.customer_lifetime_value(\n",
    "    bgf, #our best bgf model\n",
    "    full_rfm_summary['frequency'],\n",
    "    full_rfm_summary['recency'],\n",
    "    full_rfm_summary['T'],\n",
    "    full_rfm_summary['monetary_value'],\n",
    "    time=months, # months\n",
    "    freq =\"D\"\n",
    ")\n",
    "    clv_sum_per_day.append(sum(ltv_predictions))\n",
    "\n",
    "#Plot a line graph of cumulative CLV over the prediction period\n",
    "fig, ax = plt.subplots(figsize=(10,5))\n",
    "ax.plot(date_range,clv_sum_per_day)\n",
    "ax.set_title(f'Cumulative CLV Next {prediction_period} Months')\n",
    "ax.set_ylabel(\"Cumulative CLV\")\n",
    "ax.set_xlabel(\"Months in The Future\")\n",
    ";"
   ]
  },
  {
   "cell_type": "code",
   "execution_count": 63,
   "id": "d3d50efc",
   "metadata": {},
   "outputs": [
    {
     "data": {
      "text/plain": [
       "''"
      ]
     },
     "execution_count": 63,
     "metadata": {},
     "output_type": "execute_result"
    },
    {
     "data": {
      "image/png": "[encoded data removed]",
      "text/plain": [
       "<Figure size 720x360 with 1 Axes>"
      ]
     },
     "metadata": {
      "needs_background": "light"
     },
     "output_type": "display_data"
    }
   ],
   "source": [
    "#Plot a histogram of our ltv predictions\n",
    "fig, ax = plt.subplots(figsize=(10,5))\n",
    "ax.hist(ltv_predictions)\n",
    "ax.set_title(f'CLV Next {prediction_period} Months')\n",
    "ax.set_ylabel(\"Customer Count\")\n",
    "ax.set_xlabel(\"Predicted CLV\")\n",
    ";"
   ]
  },
  {
   "cell_type": "code",
   "execution_count": 66,
   "id": "ca765f5b",
   "metadata": {},
   "outputs": [
    {
     "data": {
      "text/html": [
       "<div>\n",
       "<style scoped>\n",
       "    .dataframe tbody tr th:only-of-type {\n",
       "        vertical-align: middle;\n",
       "    }\n",
       "\n",
       "    .dataframe tbody tr th {\n",
       "        vertical-align: top;\n",
       "    }\n",
       "\n",
       "    .dataframe thead th {\n",
       "        text-align: right;\n",
       "    }\n",
       "</style>\n",
       "<table border=\"1\" class=\"dataframe\">\n",
       "  <thead>\n",
       "    <tr style=\"text-align: right;\">\n",
       "      <th></th>\n",
       "      <th>clv</th>\n",
       "    </tr>\n",
       "    <tr>\n",
       "      <th>customer_unique_id</th>\n",
       "      <th></th>\n",
       "    </tr>\n",
       "  </thead>\n",
       "  <tbody>\n",
       "    <tr>\n",
       "      <th>0000366f3b9a7992bf8c76cfdf3221e2</th>\n",
       "      <td>5.027218</td>\n",
       "    </tr>\n",
       "    <tr>\n",
       "      <th>0000b849f77a49e4a4ce2b2a4ca5be3f</th>\n",
       "      <td>4.971118</td>\n",
       "    </tr>\n",
       "    <tr>\n",
       "      <th>0000f46a3911fa3c0805444483337064</th>\n",
       "      <td>1.997735</td>\n",
       "    </tr>\n",
       "    <tr>\n",
       "      <th>0000f6ccb0745a6a4b88665a16c9f078</th>\n",
       "      <td>2.856539</td>\n",
       "    </tr>\n",
       "    <tr>\n",
       "      <th>0004aac84e0df4da2b147fca70cf8255</th>\n",
       "      <td>3.059888</td>\n",
       "    </tr>\n",
       "    <tr>\n",
       "      <th>...</th>\n",
       "      <td>...</td>\n",
       "    </tr>\n",
       "    <tr>\n",
       "      <th>fffcf5a5ff07b0908bd4e2dbc735a684</th>\n",
       "      <td>2.282362</td>\n",
       "    </tr>\n",
       "    <tr>\n",
       "      <th>fffea47cd6d3cc0a88bd621562a9d061</th>\n",
       "      <td>3.242575</td>\n",
       "    </tr>\n",
       "    <tr>\n",
       "      <th>ffff371b4d645b6ecea244b27531430a</th>\n",
       "      <td>1.915687</td>\n",
       "    </tr>\n",
       "    <tr>\n",
       "      <th>ffff5962728ec6157033ef9805bacc48</th>\n",
       "      <td>4.880581</td>\n",
       "    </tr>\n",
       "    <tr>\n",
       "      <th>ffffd2657e2aad2907e67c3e9daecbeb</th>\n",
       "      <td>2.155903</td>\n",
       "    </tr>\n",
       "  </tbody>\n",
       "</table>\n",
       "<p>94989 rows × 1 columns</p>\n",
       "</div>"
      ],
      "text/plain": [
       "                                       clv\n",
       "customer_unique_id                        \n",
       "0000366f3b9a7992bf8c76cfdf3221e2  5.027218\n",
       "0000b849f77a49e4a4ce2b2a4ca5be3f  4.971118\n",
       "0000f46a3911fa3c0805444483337064  1.997735\n",
       "0000f6ccb0745a6a4b88665a16c9f078  2.856539\n",
       "0004aac84e0df4da2b147fca70cf8255  3.059888\n",
       "...                                    ...\n",
       "fffcf5a5ff07b0908bd4e2dbc735a684  2.282362\n",
       "fffea47cd6d3cc0a88bd621562a9d061  3.242575\n",
       "ffff371b4d645b6ecea244b27531430a  1.915687\n",
       "ffff5962728ec6157033ef9805bacc48  4.880581\n",
       "ffffd2657e2aad2907e67c3e9daecbeb  2.155903\n",
       "\n",
       "[94989 rows x 1 columns]"
      ]
     },
     "execution_count": 66,
     "metadata": {},
     "output_type": "execute_result"
    }
   ],
   "source": [
    "#Predicted clv df\n",
    "ltv_predictions = pd.DataFrame(ltv_predictions)\n",
    "ltv_predictions"
   ]
  },
  {
   "cell_type": "code",
   "execution_count": 70,
   "id": "ab2ca29e",
   "metadata": {},
   "outputs": [
    {
     "data": {
      "text/html": [
       "<div>\n",
       "<style scoped>\n",
       "    .dataframe tbody tr th:only-of-type {\n",
       "        vertical-align: middle;\n",
       "    }\n",
       "\n",
       "    .dataframe tbody tr th {\n",
       "        vertical-align: top;\n",
       "    }\n",
       "\n",
       "    .dataframe thead th {\n",
       "        text-align: right;\n",
       "    }\n",
       "</style>\n",
       "<table border=\"1\" class=\"dataframe\">\n",
       "  <thead>\n",
       "    <tr style=\"text-align: right;\">\n",
       "      <th></th>\n",
       "      <th>Predicted Purchases</th>\n",
       "    </tr>\n",
       "    <tr>\n",
       "      <th>customer_unique_id</th>\n",
       "      <th></th>\n",
       "    </tr>\n",
       "  </thead>\n",
       "  <tbody>\n",
       "    <tr>\n",
       "      <th>0000366f3b9a7992bf8c76cfdf3221e2</th>\n",
       "      <td>0.018022</td>\n",
       "    </tr>\n",
       "    <tr>\n",
       "      <th>0000b849f77a49e4a4ce2b2a4ca5be3f</th>\n",
       "      <td>0.017823</td>\n",
       "    </tr>\n",
       "    <tr>\n",
       "      <th>0000f46a3911fa3c0805444483337064</th>\n",
       "      <td>0.007203</td>\n",
       "    </tr>\n",
       "    <tr>\n",
       "      <th>0000f6ccb0745a6a4b88665a16c9f078</th>\n",
       "      <td>0.010282</td>\n",
       "    </tr>\n",
       "    <tr>\n",
       "      <th>0004aac84e0df4da2b147fca70cf8255</th>\n",
       "      <td>0.011010</td>\n",
       "    </tr>\n",
       "    <tr>\n",
       "      <th>...</th>\n",
       "      <td>...</td>\n",
       "    </tr>\n",
       "    <tr>\n",
       "      <th>fffcf5a5ff07b0908bd4e2dbc735a684</th>\n",
       "      <td>0.008225</td>\n",
       "    </tr>\n",
       "    <tr>\n",
       "      <th>fffea47cd6d3cc0a88bd621562a9d061</th>\n",
       "      <td>0.011663</td>\n",
       "    </tr>\n",
       "    <tr>\n",
       "      <th>ffff371b4d645b6ecea244b27531430a</th>\n",
       "      <td>0.006909</td>\n",
       "    </tr>\n",
       "    <tr>\n",
       "      <th>ffff5962728ec6157033ef9805bacc48</th>\n",
       "      <td>0.017501</td>\n",
       "    </tr>\n",
       "    <tr>\n",
       "      <th>ffffd2657e2aad2907e67c3e9daecbeb</th>\n",
       "      <td>0.007771</td>\n",
       "    </tr>\n",
       "  </tbody>\n",
       "</table>\n",
       "<p>94989 rows × 1 columns</p>\n",
       "</div>"
      ],
      "text/plain": [
       "                                  Predicted Purchases\n",
       "customer_unique_id                                   \n",
       "0000366f3b9a7992bf8c76cfdf3221e2             0.018022\n",
       "0000b849f77a49e4a4ce2b2a4ca5be3f             0.017823\n",
       "0000f46a3911fa3c0805444483337064             0.007203\n",
       "0000f6ccb0745a6a4b88665a16c9f078             0.010282\n",
       "0004aac84e0df4da2b147fca70cf8255             0.011010\n",
       "...                                               ...\n",
       "fffcf5a5ff07b0908bd4e2dbc735a684             0.008225\n",
       "fffea47cd6d3cc0a88bd621562a9d061             0.011663\n",
       "ffff371b4d645b6ecea244b27531430a             0.006909\n",
       "ffff5962728ec6157033ef9805bacc48             0.017501\n",
       "ffffd2657e2aad2907e67c3e9daecbeb             0.007771\n",
       "\n",
       "[94989 rows x 1 columns]"
      ]
     },
     "execution_count": 70,
     "metadata": {},
     "output_type": "execute_result"
    }
   ],
   "source": [
    "#Predicted purchases df\n",
    "n_predicted_purchases_df = pd.DataFrame(n_predicted_purchases_base,columns=[\"Predicted Purchases\"])\n",
    "n_predicted_purchases_df"
   ]
  },
  {
   "cell_type": "code",
   "execution_count": null,
   "id": "16b1ab19",
   "metadata": {},
   "outputs": [],
   "source": []
  }
 ],
 "metadata": {
  "kernelspec": {
   "display_name": "Python (lifetime-env)",
   "language": "python",
   "name": "lifetime-env"
  },
  "language_info": {
   "codemirror_mode": {
    "name": "ipython",
    "version": 3
   },
   "file_extension": ".py",
   "mimetype": "text/x-python",
   "name": "python",
   "nbconvert_exporter": "python",
   "pygments_lexer": "ipython3",
   "version": "3.10.4"
  }
 },
 "nbformat": 4,
 "nbformat_minor": 5
}
