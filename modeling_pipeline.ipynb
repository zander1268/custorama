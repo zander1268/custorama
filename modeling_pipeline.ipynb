{
 "cells": [
  {
   "cell_type": "code",
   "execution_count": 1,
   "id": "ed40602b",
   "metadata": {},
   "outputs": [],
   "source": [
    "#Inital imports\n",
    "%matplotlib inline\n",
    "import numpy as np\n",
    "import pandas as pd\n",
    "import matplotlib.pyplot as plt\n",
    "import seaborn as sns\n",
    "import lifetimes\n",
    "from lifetimes.plotting import plot_period_transactions, plot_calibration_purchases_vs_holdout_purchases\n",
    "from lifetimes import BetaGeoFitter, GammaGammaFitter\n",
    "from datetime import timedelta\n",
    "from datetime import datetime\n",
    "from dateutil import parser\n",
    "from sklearn.metrics import mean_squared_error\n",
    "from sklearn.model_selection import GridSearchCV\n",
    "#Load in our data wrangler\n",
    "from lifetimes.utils import summary_data_from_transaction_data\n",
    "#Import holdout \n",
    "from lifetimes.utils import calibration_and_holdout_data"
   ]
  },
  {
   "cell_type": "markdown",
   "id": "b69aa0a3",
   "metadata": {},
   "source": [
    "#### Preparation and evaluation functions"
   ]
  },
  {
   "cell_type": "code",
   "execution_count": 2,
   "id": "caadd948",
   "metadata": {},
   "outputs": [],
   "source": [
    "def clean_transaction_csv(transaction_df,datetime_col,customer_id_col,monetary_value_col):\n",
    "    #Remove tansactions less than or equal to zero\n",
    "    sub_transaction_df = transaction_df[transaction_df[monetary_value_col]>0]\n",
    "    #Subset to only repeat customers\n",
    "    repeat_cust_ID = pd.DataFrame(sub_transaction_df.groupby(customer_id_col)[datetime_col].nunique())\n",
    "    repeat_cust_ID = list(repeat_cust_ID[repeat_cust_ID[datetime_col]>1].index)\n",
    "    sub_transaction_df = sub_transaction_df[sub_transaction_df[customer_id_col].isin(repeat_cust_ID)]\n",
    "    #convert datetime_col to datetime64\n",
    "#    sub_transaction_df[datetime_col] = pd.to_datetime(sub_transaction_df[datetime_col])\n",
    "    #return a df with only repeat customers with orders over 0.00 monetary value\n",
    "    return sub_transaction_df"
   ]
  },
  {
   "cell_type": "code",
   "execution_count": 3,
   "id": "e15b5eb2",
   "metadata": {},
   "outputs": [],
   "source": [
    "#class to return a calibration and holdout df\n",
    "class df_ch():\n",
    "    def __init__(self,transaction_df=None,customer_id_col=None,datetime_col=None,monetary_value_col=None):\n",
    "        #initialized attributes\n",
    "        self.transaction_df = transaction_df\n",
    "        self.customer_id_col=customer_id_col\n",
    "        self.datetime_col=datetime_col\n",
    "        self.monetary_value_col=monetary_value_col\n",
    "        #save off more attributes\n",
    "        self.min_obs_date = parser.parse(transaction_df[datetime_col].min())\n",
    "        self.max_obs_date = parser.parse(transaction_df[datetime_col].max())\n",
    "        self.eval_period = np.round(((self.max_obs_date-self.min_obs_date).days * (1/3))) #one third of total range\n",
    "        self.max_calib_date = self.max_obs_date - timedelta(days=self.eval_period)  \n",
    "        self.calib_range_days = (self.max_calib_date - self.min_obs_date).days\n",
    "    def df_ch_getdf(self):\n",
    "        df = calibration_and_holdout_data(\n",
    "        transactions = self.transaction_df, \n",
    "        customer_id_col=self.customer_id_col,\n",
    "        datetime_col=self.datetime_col,\n",
    "        monetary_value_col=self.monetary_value_col,\n",
    "        calibration_period_end = self.max_calib_date, \n",
    "        observation_period_end = self.max_obs_date, \n",
    "        freq = \"D\")\n",
    "        return df\n",
    "        "
   ]
  },
  {
   "cell_type": "code",
   "execution_count": 4,
   "id": "5f8aacca",
   "metadata": {},
   "outputs": [],
   "source": [
    "#function to capture RMSE for a BGF model\n",
    "def bgf_rmse(ch,bgf):\n",
    "    df_ch = ch.df_ch_getdf()\n",
    "    df_ch[\"n_transactions_holdout_real\"] = df_ch[\"frequency_holdout\"]\n",
    "    y_true = df_ch[\"n_transactions_holdout_real\"]\n",
    "    y_pred = bgf.predict(t=ch.eval_period, frequency=df_ch['frequency_cal'],\n",
    "                         recency=df_ch['recency_cal'],\n",
    "                         T=df_ch['T_cal'])\n",
    "\n",
    "    return mean_squared_error(y_true,y_pred,squared=False)"
   ]
  },
  {
   "cell_type": "code",
   "execution_count": 5,
   "id": "e62d6d72",
   "metadata": {},
   "outputs": [],
   "source": [
    "def bgf_real_v_pred_df(ch,bgf):\n",
    "    rfm_cal_holdout = pd.DataFrame()\n",
    "    ch_df = ch.df_ch_getdf()\n",
    "    rfm_cal_holdout[\"n_transactions_cal_real\"]  = ch_df[\"frequency_cal\"] + 1 #Total calibration days with purchases = calibration frequency + 1\n",
    "    rfm_cal_holdout[\"n_transactions_holdout_real\"]  = ch_df[\"frequency_holdout\"] #Total validation days with purchases = validation frequency\n",
    "    # the predicted number of transactions\n",
    "    rfm_cal_holdout[\"n_transactions_holdout_pred\"] = bgf.predict(t=ch.eval_period, \n",
    "                                                    frequency=ch_df['frequency_cal'], \n",
    "                                                    recency=ch_df['recency_cal'], \n",
    "                                                    T=ch_df['T_cal'])\n",
    "    return rfm_cal_holdout[[\"n_transactions_cal_real\",\"n_transactions_holdout_real\", \"n_transactions_holdout_pred\"]]"
   ]
  },
  {
   "cell_type": "code",
   "execution_count": 6,
   "id": "fe67f401",
   "metadata": {},
   "outputs": [],
   "source": [
    "#function to return predicted # transactions for given customer in evaluation period\n",
    "def samp_cust_pred_trans(df_ch,sample_customer_id,eval_period):\n",
    "    sample_customer = df_ch.loc[sample_customer_id]\n",
    "    n_transactions_pred = bgf.predict(t=eval_period,\n",
    "                                  frequency=sample_customer['frequency_cal'], \n",
    "                                  recency=sample_customer['recency_cal'], \n",
    "                                  T=sample_customer['T_cal'])\n",
    "    return(n_transactions_pred)"
   ]
  },
  {
   "cell_type": "markdown",
   "id": "9b84712e",
   "metadata": {},
   "source": [
    "#### User selections"
   ]
  },
  {
   "cell_type": "code",
   "execution_count": 7,
   "id": "60391fc1",
   "metadata": {},
   "outputs": [],
   "source": [
    "#Data inputs\n",
    "transaction_df = pd.read_csv(\"data/lifetimes_object_df.csv\") #user uploads csv and it's converted to df\n",
    "#Identify how columns are titled in your csv\n",
    "customer_id_coloumn = \"customer_unique_id\"\n",
    "datetime_coloumn = \"order_purchase_timestamp\"\n",
    "monetary_value_coloumn = \"payment_value\""
   ]
  },
  {
   "cell_type": "code",
   "execution_count": 8,
   "id": "d7dc45f8",
   "metadata": {},
   "outputs": [],
   "source": [
    "#Evaluation\n",
    "prediction_period = 12 # months"
   ]
  },
  {
   "cell_type": "markdown",
   "id": "0de1645e",
   "metadata": {},
   "source": [
    "### Pipeline"
   ]
  },
  {
   "cell_type": "code",
   "execution_count": 9,
   "id": "b1d74a4e",
   "metadata": {},
   "outputs": [],
   "source": [
    "#saved variables from customer inputs\n",
    "ch_df_obj = df_ch(transaction_df,customer_id_coloumn,datetime_coloumn,monetary_value_coloumn)\n",
    "ch_df = ch_df_obj.df_ch_getdf()\n",
    "full_rfm_summary = summary_data_from_transaction_data(transactions=transaction_df,\n",
    "                                                      customer_id_col=customer_id_coloumn,\n",
    "                                                      datetime_col=datetime_coloumn,\n",
    "                                                      monetary_value_col=monetary_value_coloumn)\n",
    "\n",
    "repeat_transaction_df = clean_transaction_csv(transaction_df,datetime_coloumn,customer_id_coloumn,monetary_value_coloumn)\n",
    "\n",
    "repeat_rfm_summary = summary_data_from_transaction_data(transactions=repeat_transaction_df,\n",
    "                                                      customer_id_col=customer_id_coloumn,\n",
    "                                                      datetime_col=datetime_coloumn,\n",
    "                                                      monetary_value_col=monetary_value_coloumn,)"
   ]
  },
  {
   "cell_type": "code",
   "execution_count": 10,
   "id": "1ff80927",
   "metadata": {},
   "outputs": [
    {
     "name": "stdout",
     "output_type": "stream",
     "text": [
      "Model is accurate to within 0.143 purchases over 243 days\n"
     ]
    }
   ],
   "source": [
    "#Train-test results\n",
    "#Iniatialize bgf model\n",
    "bgf = BetaGeoFitter(penalizer_coef=0)\n",
    "#Fit model to ch_df\n",
    "bgf.fit(\n",
    "        frequency = ch_df[\"frequency_cal\"], \n",
    "        recency = ch_df[\"recency_cal\"], \n",
    "        T = ch_df[\"T_cal\"],   \n",
    "        weights = None,  \n",
    "        verbose = False)\n",
    "#Return rmse for bgf model\n",
    "model_rmse = bgf_rmse(ch_df_obj,bgf)\n",
    "print(f'Model is accurate to within {round(model_rmse,ndigits=3)} purchases over {int(ch_df_obj.eval_period)} days')"
   ]
  },
  {
   "cell_type": "code",
   "execution_count": 11,
   "id": "51f62717",
   "metadata": {},
   "outputs": [
    {
     "data": {
      "text/plain": [
       "<lifetimes.GammaGammaFitter: fitted with 2065 subjects, p: 10.29, q: 1.34, v: 9.61>"
      ]
     },
     "execution_count": 11,
     "metadata": {},
     "output_type": "execute_result"
    }
   ],
   "source": [
    "#Trainning GG model on repeat purchaser rfm summary\n",
    "gg = GammaGammaFitter(penalizer_coef = 0.001)\n",
    "\n",
    "gg.fit(repeat_rfm_summary['frequency'],repeat_rfm_summary['monetary_value'])"
   ]
  },
  {
   "cell_type": "code",
   "execution_count": 12,
   "id": "bd6fb8c2",
   "metadata": {},
   "outputs": [
    {
     "data": {
      "text/plain": [
       "customer_unique_id\n",
       "0000366f3b9a7992bf8c76cfdf3221e2    5.307126\n",
       "0000b849f77a49e4a4ce2b2a4ca5be3f    5.248441\n",
       "0000f46a3911fa3c0805444483337064    2.121239\n",
       "0000f6ccb0745a6a4b88665a16c9f078    3.027990\n",
       "0004aac84e0df4da2b147fca70cf8255    3.242259\n",
       "                                      ...   \n",
       "fffcf5a5ff07b0908bd4e2dbc735a684    2.422088\n",
       "fffea47cd6d3cc0a88bd621562a9d061    3.434618\n",
       "ffff371b4d645b6ecea244b27531430a    2.034452\n",
       "ffff5962728ec6157033ef9805bacc48    5.153708\n",
       "ffffd2657e2aad2907e67c3e9daecbeb    2.288463\n",
       "Name: clv, Length: 94989, dtype: float64"
      ]
     },
     "execution_count": 12,
     "metadata": {},
     "output_type": "execute_result"
    }
   ],
   "source": [
    "ltv_predictions = gg.customer_lifetime_value(\n",
    "    bgf, #our best bgf model\n",
    "    full_rfm_summary['frequency'],\n",
    "    full_rfm_summary['recency'],\n",
    "    full_rfm_summary['T'],\n",
    "    full_rfm_summary['monetary_value'],\n",
    "    time=prediction_period, # months\n",
    "    discount_rate=0.0, # \n",
    "    freq =\"D\"\n",
    ")\n",
    "ltv_predictions"
   ]
  },
  {
   "cell_type": "markdown",
   "id": "22c21ffc",
   "metadata": {},
   "source": [
    "### Evaluation"
   ]
  },
  {
   "cell_type": "code",
   "execution_count": 14,
   "id": "77367539",
   "metadata": {},
   "outputs": [
    {
     "name": "stdout",
     "output_type": "stream",
     "text": [
      "Total revenue from return customers in next 12 months 419762.0\n"
     ]
    }
   ],
   "source": [
    "print(f'Total revenue from return customers in next {prediction_period} months {np.round(sum(ltv_predictions))}')"
   ]
  }
 ],
 "metadata": {
  "kernelspec": {
   "display_name": "Python (lifetime-env)",
   "language": "python",
   "name": "lifetime-env"
  },
  "language_info": {
   "codemirror_mode": {
    "name": "ipython",
    "version": 3
   },
   "file_extension": ".py",
   "mimetype": "text/x-python",
   "name": "python",
   "nbconvert_exporter": "python",
   "pygments_lexer": "ipython3",
   "version": "3.10.4"
  }
 },
 "nbformat": 4,
 "nbformat_minor": 5
}
