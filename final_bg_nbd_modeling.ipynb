{
 "cells": [
  {
   "cell_type": "code",
   "execution_count": 1,
   "metadata": {},
   "outputs": [],
   "source": [
    "#Inital imports\n",
    "%matplotlib inline\n",
    "import numpy as np\n",
    "import pandas as pd\n",
    "import matplotlib.pyplot as plt\n",
    "import seaborn as sns\n",
    "import lifetimes\n",
    "from lifetimes.plotting import plot_period_transactions, plot_calibration_purchases_vs_holdout_purchases\n",
    "from lifetimes import BetaGeoFitter, GammaGammaFitter\n",
    "from datetime import timedelta\n",
    "from datetime import datetime\n",
    "from dateutil import parser\n",
    "from sklearn.metrics import mean_squared_error\n",
    "from sklearn.model_selection import GridSearchCV"
   ]
  },
  {
   "cell_type": "code",
   "execution_count": 2,
   "metadata": {},
   "outputs": [
    {
     "name": "stdout",
     "output_type": "stream",
     "text": [
      "OnlineRetail_2yrs.csv             lifetimes_object_df.csv\r\n",
      "customer_data_base.zip            lifetimes_object_df_uncleaned.csv\r\n"
     ]
    }
   ],
   "source": [
    "!ls data"
   ]
  },
  {
   "cell_type": "code",
   "execution_count": 3,
   "metadata": {},
   "outputs": [],
   "source": [
    "#Load in our pre-prepared dataframes\n",
    "lifetimes_object_df = pd.read_csv(\"data/lifetimes_object_df.csv\")"
   ]
  },
  {
   "cell_type": "markdown",
   "metadata": {},
   "source": [
    "### Preparation and evaluation functions"
   ]
  },
  {
   "cell_type": "code",
   "execution_count": 4,
   "metadata": {},
   "outputs": [],
   "source": [
    "#Load in our data wrangler\n",
    "from lifetimes.utils import summary_data_from_transaction_data\n",
    "#Import holdout \n",
    "from lifetimes.utils import calibration_and_holdout_data"
   ]
  },
  {
   "cell_type": "code",
   "execution_count": 5,
   "metadata": {},
   "outputs": [],
   "source": [
    "#class to return a calibration and holdout df\n",
    "class df_ch():\n",
    "    def __init__(self, eval_period=None,transaction_df=None,purchase_timestamp_col=None,customer_id_col=None,datetime_col=None,monetary_value_col=None):\n",
    "        #initialized attributes\n",
    "        self.eval_period = eval_period\n",
    "        self.transaction_df = transaction_df\n",
    "        self.purchase_timestamp_col=purchase_timestamp_col\n",
    "        self.customer_id_col=customer_id_col\n",
    "        self.datetime_col=datetime_col\n",
    "        self.monetary_value_col=monetary_value_col\n",
    "        #save off more attributes\n",
    "        self.min_obs_date = parser.parse(transaction_df[purchase_timestamp_col].min())\n",
    "        self.max_obs_date = parser.parse(transaction_df[purchase_timestamp_col].max())\n",
    "        self.max_calib_date = self.max_obs_date - timedelta(days=eval_period)  \n",
    "        self.calib_range_days = (self.max_calib_date - self.min_obs_date).days\n",
    "    def df_ch_getdf(self):\n",
    "        df = calibration_and_holdout_data(\n",
    "        transactions = self.transaction_df, \n",
    "        customer_id_col=self.customer_id_col,\n",
    "        datetime_col=self.datetime_col,\n",
    "        monetary_value_col=self.monetary_value_col,\n",
    "        calibration_period_end = self.max_calib_date, \n",
    "        observation_period_end = self.max_obs_date, \n",
    "        freq = \"D\")\n",
    "        return df\n",
    "        "
   ]
  },
  {
   "cell_type": "code",
   "execution_count": 6,
   "metadata": {},
   "outputs": [],
   "source": [
    "#function to return a df of real and predicted transacitons in eval period\n",
    "def bgf_real_v_pred_df(ch,bgf):\n",
    "    rfm_cal_holdout = pd.DataFrame()\n",
    "    ch_df = ch.df_ch_getdf()\n",
    "    rfm_cal_holdout[\"n_transactions_cal_real\"]  = ch_df[\"frequency_cal\"] + 1 #Total calibration days with purchases = calibration frequency + 1\n",
    "    rfm_cal_holdout[\"n_transactions_holdout_real\"]  = ch_df[\"frequency_holdout\"] #Total validation days with purchases = validation frequency\n",
    "    # the predicted number of transactions\n",
    "    rfm_cal_holdout[\"n_transactions_holdout_pred\"] = bgf.predict(t=ch.eval_period, \n",
    "                                                    frequency=ch_df['frequency_cal'], \n",
    "                                                    recency=ch_df['recency_cal'], \n",
    "                                                    T=ch_df['T_cal'])\n",
    "    return rfm_cal_holdout[[\"n_transactions_cal_real\",\"n_transactions_holdout_real\", \"n_transactions_holdout_pred\"]]"
   ]
  },
  {
   "cell_type": "code",
   "execution_count": 7,
   "metadata": {},
   "outputs": [],
   "source": [
    "#function to capture RMSE for a BGF model\n",
    "def bgf_rmse(ch,bgf):\n",
    "    df_ch = ch.df_ch_getdf()\n",
    "    df_ch[\"n_transactions_holdout_real\"] = df_ch[\"frequency_holdout\"]\n",
    "    y_true = df_ch[\"n_transactions_holdout_real\"]\n",
    "    y_pred = bgf.predict(t=ch.eval_period, frequency=df_ch['frequency_cal'],\n",
    "                         recency=df_ch['recency_cal'],\n",
    "                         T=df_ch['T_cal'])\n",
    "\n",
    "    return mean_squared_error(y_true,y_pred)"
   ]
  },
  {
   "cell_type": "code",
   "execution_count": 8,
   "metadata": {},
   "outputs": [],
   "source": [
    "#function to return predicted # transactions for given customer in evaluation period\n",
    "def samp_cust_pred_trans(df_ch,sample_customer_id,eval_period):\n",
    "    sample_customer = df_ch.loc[sample_customer_id]\n",
    "    n_transactions_pred = bgf.predict(t=eval_period,\n",
    "                                  frequency=sample_customer['frequency_cal'], \n",
    "                                  recency=sample_customer['recency_cal'], \n",
    "                                  T=sample_customer['T_cal'])\n",
    "    return(n_transactions_pred)"
   ]
  },
  {
   "cell_type": "code",
   "execution_count": 9,
   "metadata": {},
   "outputs": [],
   "source": [
    "#Dummy model function that predicts the same purchase rate in the observation period to continue through the eval period\n",
    "def bgf_dummy_model(ch):\n",
    "    df_ch = ch.df_ch_getdf()\n",
    "    dummy_ch_df = pd.DataFrame()\n",
    "    dummy_ch_df[\"purchases_per_period_cal\"] = df_ch[\"frequency_cal\"] + 1 #Total calibration days with purchases = calibration frequency + 1\n",
    "    dummy_ch_df[\"purchases_per_period_cal\"] = dummy_ch_df[\"purchases_per_period_cal\"]/ch.calib_range_days #Purchase rate\n",
    "    dummy_ch_df[\"dummy_pred_purchases_holdout\"] = dummy_ch_df[\"purchases_per_period_cal\"] * ch.eval_period #Predicting purchase rate to continue\n",
    "    dummy_ch_df[\"actual_purchases_holdout\"] = df_ch[\"frequency_holdout\"] #Total validation days with purchases = validation frequency\n",
    "    return mean_squared_error(y_true=dummy_ch_df[\"dummy_pred_purchases_holdout\"],y_pred=dummy_ch_df[\"actual_purchases_holdout\"])\n"
   ]
  },
  {
   "cell_type": "code",
   "execution_count": 10,
   "metadata": {},
   "outputs": [],
   "source": [
    "#function to return a df of real and predicted transacitons in eval period for dummy model\n",
    "def bgf_dummy_real_v_pred_df(ch):\n",
    "    df_ch = ch.df_ch_getdf()\n",
    "    dummy_ch_df = pd.DataFrame()\n",
    "    dummy_ch_df[\"purchases_per_period_cal\"] = df_ch[\"frequency_cal\"] + 1 #Total calibration days with purchases = calibration frequency + 1\n",
    "    dummy_ch_df[\"purchases_per_period_cal\"] = dummy_ch_df[\"purchases_per_period_cal\"]/ch.calib_range_days #Purchase rate\n",
    "    dummy_ch_df[\"dummy_pred_purchases_holdout\"] = dummy_ch_df[\"purchases_per_period_cal\"] * ch.eval_period #Predicting purchase rate to continue\n",
    "    dummy_ch_df[\"actual_purchases_holdout\"] = df_ch[\"frequency_holdout\"] #Total validation days with purchases = validation frequency\n",
    "    return dummy_ch_df"
   ]
  },
  {
   "cell_type": "markdown",
   "metadata": {},
   "source": [
    "### RFM data exploration "
   ]
  },
  {
   "cell_type": "code",
   "execution_count": 11,
   "metadata": {},
   "outputs": [
    {
     "data": {
      "text/html": [
       "<div>\n",
       "<style scoped>\n",
       "    .dataframe tbody tr th:only-of-type {\n",
       "        vertical-align: middle;\n",
       "    }\n",
       "\n",
       "    .dataframe tbody tr th {\n",
       "        vertical-align: top;\n",
       "    }\n",
       "\n",
       "    .dataframe thead th {\n",
       "        text-align: right;\n",
       "    }\n",
       "</style>\n",
       "<table border=\"1\" class=\"dataframe\">\n",
       "  <thead>\n",
       "    <tr style=\"text-align: right;\">\n",
       "      <th></th>\n",
       "      <th>frequency</th>\n",
       "      <th>recency</th>\n",
       "      <th>T</th>\n",
       "      <th>monetary_value</th>\n",
       "    </tr>\n",
       "    <tr>\n",
       "      <th>customer_unique_id</th>\n",
       "      <th></th>\n",
       "      <th></th>\n",
       "      <th></th>\n",
       "      <th></th>\n",
       "    </tr>\n",
       "  </thead>\n",
       "  <tbody>\n",
       "    <tr>\n",
       "      <th>0000366f3b9a7992bf8c76cfdf3221e2</th>\n",
       "      <td>0.0</td>\n",
       "      <td>0.0</td>\n",
       "      <td>160.0</td>\n",
       "      <td>0.0</td>\n",
       "    </tr>\n",
       "    <tr>\n",
       "      <th>0000b849f77a49e4a4ce2b2a4ca5be3f</th>\n",
       "      <td>0.0</td>\n",
       "      <td>0.0</td>\n",
       "      <td>163.0</td>\n",
       "      <td>0.0</td>\n",
       "    </tr>\n",
       "    <tr>\n",
       "      <th>0000f46a3911fa3c0805444483337064</th>\n",
       "      <td>0.0</td>\n",
       "      <td>0.0</td>\n",
       "      <td>586.0</td>\n",
       "      <td>0.0</td>\n",
       "    </tr>\n",
       "    <tr>\n",
       "      <th>0000f6ccb0745a6a4b88665a16c9f078</th>\n",
       "      <td>0.0</td>\n",
       "      <td>0.0</td>\n",
       "      <td>370.0</td>\n",
       "      <td>0.0</td>\n",
       "    </tr>\n",
       "    <tr>\n",
       "      <th>0004aac84e0df4da2b147fca70cf8255</th>\n",
       "      <td>0.0</td>\n",
       "      <td>0.0</td>\n",
       "      <td>337.0</td>\n",
       "      <td>0.0</td>\n",
       "    </tr>\n",
       "    <tr>\n",
       "      <th>...</th>\n",
       "      <td>...</td>\n",
       "      <td>...</td>\n",
       "      <td>...</td>\n",
       "      <td>...</td>\n",
       "    </tr>\n",
       "    <tr>\n",
       "      <th>fffcf5a5ff07b0908bd4e2dbc735a684</th>\n",
       "      <td>0.0</td>\n",
       "      <td>0.0</td>\n",
       "      <td>496.0</td>\n",
       "      <td>0.0</td>\n",
       "    </tr>\n",
       "    <tr>\n",
       "      <th>fffea47cd6d3cc0a88bd621562a9d061</th>\n",
       "      <td>0.0</td>\n",
       "      <td>0.0</td>\n",
       "      <td>311.0</td>\n",
       "      <td>0.0</td>\n",
       "    </tr>\n",
       "    <tr>\n",
       "      <th>ffff371b4d645b6ecea244b27531430a</th>\n",
       "      <td>0.0</td>\n",
       "      <td>0.0</td>\n",
       "      <td>617.0</td>\n",
       "      <td>0.0</td>\n",
       "    </tr>\n",
       "    <tr>\n",
       "      <th>ffff5962728ec6157033ef9805bacc48</th>\n",
       "      <td>0.0</td>\n",
       "      <td>0.0</td>\n",
       "      <td>168.0</td>\n",
       "      <td>0.0</td>\n",
       "    </tr>\n",
       "    <tr>\n",
       "      <th>ffffd2657e2aad2907e67c3e9daecbeb</th>\n",
       "      <td>0.0</td>\n",
       "      <td>0.0</td>\n",
       "      <td>533.0</td>\n",
       "      <td>0.0</td>\n",
       "    </tr>\n",
       "  </tbody>\n",
       "</table>\n",
       "<p>94989 rows × 4 columns</p>\n",
       "</div>"
      ],
      "text/plain": [
       "                                  frequency  recency      T  monetary_value\n",
       "customer_unique_id                                                         \n",
       "0000366f3b9a7992bf8c76cfdf3221e2        0.0      0.0  160.0             0.0\n",
       "0000b849f77a49e4a4ce2b2a4ca5be3f        0.0      0.0  163.0             0.0\n",
       "0000f46a3911fa3c0805444483337064        0.0      0.0  586.0             0.0\n",
       "0000f6ccb0745a6a4b88665a16c9f078        0.0      0.0  370.0             0.0\n",
       "0004aac84e0df4da2b147fca70cf8255        0.0      0.0  337.0             0.0\n",
       "...                                     ...      ...    ...             ...\n",
       "fffcf5a5ff07b0908bd4e2dbc735a684        0.0      0.0  496.0             0.0\n",
       "fffea47cd6d3cc0a88bd621562a9d061        0.0      0.0  311.0             0.0\n",
       "ffff371b4d645b6ecea244b27531430a        0.0      0.0  617.0             0.0\n",
       "ffff5962728ec6157033ef9805bacc48        0.0      0.0  168.0             0.0\n",
       "ffffd2657e2aad2907e67c3e9daecbeb        0.0      0.0  533.0             0.0\n",
       "\n",
       "[94989 rows x 4 columns]"
      ]
     },
     "execution_count": 11,
     "metadata": {},
     "output_type": "execute_result"
    }
   ],
   "source": [
    "summary = summary_data_from_transaction_data(transactions=lifetimes_object_df,customer_id_col='customer_unique_id',\n",
    "                                             datetime_col='order_purchase_timestamp',monetary_value_col='payment_value',observation_period_end='2018-10-17')\n",
    "summary"
   ]
  },
  {
   "cell_type": "code",
   "execution_count": 12,
   "metadata": {},
   "outputs": [
    {
     "data": {
      "text/plain": [
       "0.0     0.978261\n",
       "1.0     0.020097\n",
       "2.0     0.001305\n",
       "3.0     0.000189\n",
       "4.0     0.000063\n",
       "5.0     0.000053\n",
       "6.0     0.000021\n",
       "15.0    0.000011\n",
       "Name: frequency, dtype: float64"
      ]
     },
     "execution_count": 12,
     "metadata": {},
     "output_type": "execute_result"
    }
   ],
   "source": [
    "#We have less than 3% of customers who are repeat purchasers\n",
    "summary.frequency.value_counts(normalize=True)"
   ]
  },
  {
   "cell_type": "code",
   "execution_count": 13,
   "metadata": {},
   "outputs": [
    {
     "data": {
      "text/plain": [
       "0.0     92924\n",
       "1.0      1909\n",
       "2.0       124\n",
       "3.0        18\n",
       "4.0         6\n",
       "5.0         5\n",
       "6.0         2\n",
       "15.0        1\n",
       "Name: frequency, dtype: int64"
      ]
     },
     "execution_count": 13,
     "metadata": {},
     "output_type": "execute_result"
    }
   ],
   "source": [
    "summary.frequency.value_counts()"
   ]
  },
  {
   "cell_type": "code",
   "execution_count": 14,
   "metadata": {},
   "outputs": [
    {
     "data": {
      "text/plain": [
       "True"
      ]
     },
     "execution_count": 14,
     "metadata": {},
     "output_type": "execute_result"
    }
   ],
   "source": [
    "#create a list of repeat purchasers\n",
    "repeat_purchaser_ids = list(summary[summary[\"frequency\"] >= 1].index)\n",
    "#subset our transaction data to just repeat purchasers\n",
    "repeat_lifetimes_object_df = lifetimes_object_df[lifetimes_object_df[\"customer_unique_id\"].isin(repeat_purchaser_ids) == True]\n",
    "#Checking we removed the correct number of user id's\n",
    "(len(lifetimes_object_df.customer_unique_id.unique()) - len(repeat_lifetimes_object_df.customer_unique_id.unique())) == summary.frequency.value_counts()[0]"
   ]
  },
  {
   "cell_type": "code",
   "execution_count": 15,
   "metadata": {},
   "outputs": [],
   "source": [
    "repeat_purchaser_summary = summary_data_from_transaction_data(transactions=repeat_lifetimes_object_df,customer_id_col='customer_unique_id',\n",
    "                                             datetime_col='order_purchase_timestamp',monetary_value_col='payment_value',observation_period_end='2018-10-17')\n"
   ]
  },
  {
   "cell_type": "code",
   "execution_count": 77,
   "metadata": {},
   "outputs": [
    {
     "data": {
      "text/plain": [
       "113.9720823244552"
      ]
     },
     "execution_count": 77,
     "metadata": {},
     "output_type": "execute_result"
    }
   ],
   "source": [
    "#Calculate the time between purchases\n",
    "inter_purchase_period = []\n",
    "for customer in repeat_purchaser_summary.index:\n",
    "    inter_purchase_period.append((repeat_purchaser_summary.loc[customer].recency/repeat_purchaser_summary.loc[customer].frequency))\n",
    "avg_inter_purchase_period = sum(inter_purchase_period)/len(inter_purchase_period)\n",
    "avg_inter_purchase_period"
   ]
  },
  {
   "cell_type": "code",
   "execution_count": 81,
   "metadata": {},
   "outputs": [
    {
     "data": {
      "text/plain": [
       "700"
      ]
     },
     "execution_count": 81,
     "metadata": {},
     "output_type": "execute_result"
    }
   ],
   "source": [
    "#From the documentation, for optimal fit, the training date range should cover at least 3 \n",
    "#but hopefully 5-10 inter-purchase periods\n",
    "#The holdout period should be at least half the training period\n",
    "total_date_range = (repeat_lifetimes_object_df[\"order_purchase_timestamp\"].max() - repeat_lifetimes_object_df[\"order_purchase_timestamp\"].min()).days\n",
    "total_date_range"
   ]
  },
  {
   "cell_type": "code",
   "execution_count": 120,
   "metadata": {},
   "outputs": [],
   "source": [
    "def get_eval_period(\n",
    "def objective_function(test_period):\n",
    "    return sdfs\n",
    "minimize()"
   ]
  },
  {
   "cell_type": "code",
   "execution_count": 105,
   "metadata": {},
   "outputs": [
    {
     "name": "stdout",
     "output_type": "stream",
     "text": [
      "holdout period given 4 inter period multiple: 244.1116707021792\n"
     ]
    }
   ],
   "source": [
    "# An inter_period_multiple of 4 works well and gives us a holdout period of about 240 days\n",
    "inter_period_multiple = 4\n",
    "print(f'holdout period given {inter_period_multiple} inter period multiple: {total_date_range-(avg_inter_purchase_period*4)}')"
   ]
  },
  {
   "cell_type": "code",
   "execution_count": 16,
   "metadata": {},
   "outputs": [
    {
     "data": {
      "text/html": [
       "<div>\n",
       "<style scoped>\n",
       "    .dataframe tbody tr th:only-of-type {\n",
       "        vertical-align: middle;\n",
       "    }\n",
       "\n",
       "    .dataframe tbody tr th {\n",
       "        vertical-align: top;\n",
       "    }\n",
       "\n",
       "    .dataframe thead th {\n",
       "        text-align: right;\n",
       "    }\n",
       "</style>\n",
       "<table border=\"1\" class=\"dataframe\">\n",
       "  <thead>\n",
       "    <tr style=\"text-align: right;\">\n",
       "      <th></th>\n",
       "      <th>monetary_value</th>\n",
       "      <th>frequency</th>\n",
       "    </tr>\n",
       "  </thead>\n",
       "  <tbody>\n",
       "    <tr>\n",
       "      <th>monetary_value</th>\n",
       "      <td>1.00000</td>\n",
       "      <td>-0.00049</td>\n",
       "    </tr>\n",
       "    <tr>\n",
       "      <th>frequency</th>\n",
       "      <td>-0.00049</td>\n",
       "      <td>1.00000</td>\n",
       "    </tr>\n",
       "  </tbody>\n",
       "</table>\n",
       "</div>"
      ],
      "text/plain": [
       "                monetary_value  frequency\n",
       "monetary_value         1.00000   -0.00049\n",
       "frequency             -0.00049    1.00000"
      ]
     },
     "execution_count": 16,
     "metadata": {},
     "output_type": "execute_result"
    }
   ],
   "source": [
    "#The Gamma-Gamma submodel, assumes no relationship between the monetary value and the purchase frequency. \n",
    "#The correlation between the two vectors is close to 0 so we can use this model.\n",
    "repeat_purchaser_summary[['monetary_value', 'frequency']].corr()"
   ]
  },
  {
   "cell_type": "code",
   "execution_count": 17,
   "metadata": {},
   "outputs": [],
   "source": [
    "#Load in our ch object with all data\n",
    "ch_1 = df_ch(eval_period=240,transaction_df=lifetimes_object_df,purchase_timestamp_col='order_purchase_timestamp',\n",
    "                   customer_id_col='customer_unique_id',datetime_col='order_purchase_timestamp',\n",
    "                   monetary_value_col='payment_value')"
   ]
  },
  {
   "cell_type": "code",
   "execution_count": 18,
   "metadata": {},
   "outputs": [],
   "source": [
    "#Load in our ch object with repeat purchaser data\n",
    "ch_2 = df_ch(eval_period=240,transaction_df=repeat_lifetimes_object_df,purchase_timestamp_col='order_purchase_timestamp',\n",
    "                   customer_id_col='customer_unique_id',datetime_col='order_purchase_timestamp',\n",
    "                   monetary_value_col='payment_value')"
   ]
  },
  {
   "cell_type": "code",
   "execution_count": 19,
   "metadata": {},
   "outputs": [],
   "source": [
    "#create an array to evaluate total purchases per customer in calib period\n",
    "repeat_lifetimes_object_df_ts = repeat_lifetimes_object_df\n",
    "repeat_lifetimes_object_df_ts[\"order_purchase_timestamp\"] = pd.to_datetime(repeat_lifetimes_object_df[\"order_purchase_timestamp\"])\n",
    "purchases_in_cal = repeat_lifetimes_object_df_ts[repeat_lifetimes_object_df_ts[\"order_purchase_timestamp\"]<=ch_2.max_calib_date]\n",
    "purchases_in_cal = purchases_in_cal[purchases_in_cal[\"order_purchase_timestamp\"]<=ch_2.max_calib_date].groupby(\"customer_unique_id\").nunique()[\"order_purchase_timestamp\"]\n",
    "purchases_in_cal.sort_values()\n",
    "purchases_in_cal = pd.DataFrame(purchases_in_cal)\n",
    "purchaser_id_in_cal = list(purchases_in_cal.index)"
   ]
  },
  {
   "cell_type": "code",
   "execution_count": 20,
   "metadata": {},
   "outputs": [
    {
     "data": {
      "text/html": [
       "<div>\n",
       "<style scoped>\n",
       "    .dataframe tbody tr th:only-of-type {\n",
       "        vertical-align: middle;\n",
       "    }\n",
       "\n",
       "    .dataframe tbody tr th {\n",
       "        vertical-align: top;\n",
       "    }\n",
       "\n",
       "    .dataframe thead th {\n",
       "        text-align: right;\n",
       "    }\n",
       "</style>\n",
       "<table border=\"1\" class=\"dataframe\">\n",
       "  <thead>\n",
       "    <tr style=\"text-align: right;\">\n",
       "      <th></th>\n",
       "      <th>order_purchase_timestamp</th>\n",
       "    </tr>\n",
       "    <tr>\n",
       "      <th>customer_unique_id</th>\n",
       "      <th></th>\n",
       "    </tr>\n",
       "  </thead>\n",
       "  <tbody>\n",
       "    <tr>\n",
       "      <th>004288347e5e88a27ded2bb23747066c</th>\n",
       "      <td>1</td>\n",
       "    </tr>\n",
       "    <tr>\n",
       "      <th>004b45ec5c64187465168251cd1c9c2f</th>\n",
       "      <td>1</td>\n",
       "    </tr>\n",
       "    <tr>\n",
       "      <th>011b4adcd54683b480c4d841250a987f</th>\n",
       "      <td>1</td>\n",
       "    </tr>\n",
       "    <tr>\n",
       "      <th>012452d40dafae4df401bced74cdb490</th>\n",
       "      <td>1</td>\n",
       "    </tr>\n",
       "    <tr>\n",
       "      <th>0178b244a5c281fb2ade54038dd4b161</th>\n",
       "      <td>1</td>\n",
       "    </tr>\n",
       "    <tr>\n",
       "      <th>...</th>\n",
       "      <td>...</td>\n",
       "    </tr>\n",
       "    <tr>\n",
       "      <th>fc19fe9ac733e36ff8227c29435c2030</th>\n",
       "      <td>1</td>\n",
       "    </tr>\n",
       "    <tr>\n",
       "      <th>fcd0ab79592faab19e2bf386cf69fbcd</th>\n",
       "      <td>1</td>\n",
       "    </tr>\n",
       "    <tr>\n",
       "      <th>fe3e52de024b82706717c38c8e183084</th>\n",
       "      <td>1</td>\n",
       "    </tr>\n",
       "    <tr>\n",
       "      <th>fe81bb32c243a86b2f86fbf053fe6140</th>\n",
       "      <td>3</td>\n",
       "    </tr>\n",
       "    <tr>\n",
       "      <th>fed519569d16e690df6f89cb99d4e682</th>\n",
       "      <td>1</td>\n",
       "    </tr>\n",
       "  </tbody>\n",
       "</table>\n",
       "<p>674 rows × 1 columns</p>\n",
       "</div>"
      ],
      "text/plain": [
       "                                  order_purchase_timestamp\n",
       "customer_unique_id                                        \n",
       "004288347e5e88a27ded2bb23747066c                         1\n",
       "004b45ec5c64187465168251cd1c9c2f                         1\n",
       "011b4adcd54683b480c4d841250a987f                         1\n",
       "012452d40dafae4df401bced74cdb490                         1\n",
       "0178b244a5c281fb2ade54038dd4b161                         1\n",
       "...                                                    ...\n",
       "fc19fe9ac733e36ff8227c29435c2030                         1\n",
       "fcd0ab79592faab19e2bf386cf69fbcd                         1\n",
       "fe3e52de024b82706717c38c8e183084                         1\n",
       "fe81bb32c243a86b2f86fbf053fe6140                         3\n",
       "fed519569d16e690df6f89cb99d4e682                         1\n",
       "\n",
       "[674 rows x 1 columns]"
      ]
     },
     "execution_count": 20,
     "metadata": {},
     "output_type": "execute_result"
    }
   ],
   "source": [
    "#create an array to evaluate total purchases per customer in validation period\n",
    "purchases_in_val = repeat_lifetimes_object_df_ts[repeat_lifetimes_object_df_ts[\"order_purchase_timestamp\"]>ch_2.max_calib_date].groupby(\"customer_unique_id\").nunique()[\"order_purchase_timestamp\"]\n",
    "purchases_in_val.sort_values()\n",
    "purchases_in_val = pd.DataFrame(purchases_in_val)\n",
    "#subset to just those id's that appeared in our calib period\n",
    "purchases_in_val = purchases_in_val[purchases_in_val.index.isin(purchaser_id_in_cal)]\n",
    "purchases_in_val"
   ]
  },
  {
   "cell_type": "code",
   "execution_count": 21,
   "metadata": {},
   "outputs": [],
   "source": [
    "df_ch_2 = ch_2.df_ch_getdf()"
   ]
  },
  {
   "cell_type": "code",
   "execution_count": 22,
   "metadata": {},
   "outputs": [
    {
     "data": {
      "text/plain": [
       "True"
      ]
     },
     "execution_count": 22,
     "metadata": {},
     "output_type": "execute_result"
    }
   ],
   "source": [
    "#Confirming that a 'frequency' of 0.00 in calibration period means total purchases in that period = 1\n",
    "#Total calibration days with purchases = calibration frequency + 1\n",
    "purch = []\n",
    "for purchasers in df_ch_2[\"frequency_cal\"]:    \n",
    "    purch.append(purchasers+1)\n",
    "sum(purch) == purchases_in_cal[\"order_purchase_timestamp\"].sum()"
   ]
  },
  {
   "cell_type": "code",
   "execution_count": 23,
   "metadata": {},
   "outputs": [
    {
     "data": {
      "text/plain": [
       "False"
      ]
     },
     "execution_count": 23,
     "metadata": {},
     "output_type": "execute_result"
    }
   ],
   "source": [
    "#Attempting on holdout group\n",
    "#False bc these are repeat customers so we don't need to add +1\n",
    "purch = []\n",
    "for purchasers in df_ch_2[\"frequency_holdout\"]:    \n",
    "    purch.append(purchasers+1)\n",
    "sum(purch) == purchases_in_val[\"order_purchase_timestamp\"].sum()"
   ]
  },
  {
   "cell_type": "code",
   "execution_count": 24,
   "metadata": {},
   "outputs": [
    {
     "data": {
      "text/plain": [
       "True"
      ]
     },
     "execution_count": 24,
     "metadata": {},
     "output_type": "execute_result"
    }
   ],
   "source": [
    "#Total validation days with purchases = validation frequency\n",
    "sum(df_ch_2[\"frequency_holdout\"]) == purchases_in_val[\"order_purchase_timestamp\"].sum()"
   ]
  },
  {
   "cell_type": "markdown",
   "metadata": {},
   "source": [
    "###  Dummy model\n",
    "Model features\n",
    "- Predict purchases in holdout period based on the observed purchase rate in the calibration period\n",
    "Model results\n",
    "- Decent RMSE for all customers\n",
    "- Poor RMSE for repeat customer subset\n",
    "- We significantly improved upon our dummy model"
   ]
  },
  {
   "cell_type": "code",
   "execution_count": 25,
   "metadata": {},
   "outputs": [
    {
     "name": "stdout",
     "output_type": "stream",
     "text": [
      " bgf dummy model RMSE w/ all data: 0.25709468684945536\n",
      " bgf dummy model RMSE w/ repeat cust only: 0.8141615765376924\n"
     ]
    }
   ],
   "source": [
    "print(f' bgf dummy model RMSE w/ all data: {bgf_dummy_model(ch_1)}')\n",
    "print(f' bgf dummy model RMSE w/ repeat cust only: {bgf_dummy_model(ch_2)}')"
   ]
  },
  {
   "cell_type": "code",
   "execution_count": 26,
   "metadata": {},
   "outputs": [
    {
     "data": {
      "text/html": [
       "<div>\n",
       "<style scoped>\n",
       "    .dataframe tbody tr th:only-of-type {\n",
       "        vertical-align: middle;\n",
       "    }\n",
       "\n",
       "    .dataframe tbody tr th {\n",
       "        vertical-align: top;\n",
       "    }\n",
       "\n",
       "    .dataframe thead th {\n",
       "        text-align: right;\n",
       "    }\n",
       "</style>\n",
       "<table border=\"1\" class=\"dataframe\">\n",
       "  <thead>\n",
       "    <tr style=\"text-align: right;\">\n",
       "      <th></th>\n",
       "      <th>purchases_per_period_cal</th>\n",
       "      <th>value_per_purchase_cal</th>\n",
       "      <th>dummy_pred_purchases_holdout</th>\n",
       "      <th>actual_purchases_holdout</th>\n",
       "    </tr>\n",
       "    <tr>\n",
       "      <th>customer_unique_id</th>\n",
       "      <th></th>\n",
       "      <th></th>\n",
       "      <th></th>\n",
       "      <th></th>\n",
       "    </tr>\n",
       "  </thead>\n",
       "  <tbody>\n",
       "    <tr>\n",
       "      <th>004288347e5e88a27ded2bb23747066c</th>\n",
       "      <td>0.001876</td>\n",
       "      <td>0.000000</td>\n",
       "      <td>0.450281</td>\n",
       "      <td>2.0</td>\n",
       "    </tr>\n",
       "    <tr>\n",
       "      <th>004b45ec5c64187465168251cd1c9c2f</th>\n",
       "      <td>0.001876</td>\n",
       "      <td>0.000000</td>\n",
       "      <td>0.450281</td>\n",
       "      <td>2.0</td>\n",
       "    </tr>\n",
       "    <tr>\n",
       "      <th>011b4adcd54683b480c4d841250a987f</th>\n",
       "      <td>0.001876</td>\n",
       "      <td>0.000000</td>\n",
       "      <td>0.450281</td>\n",
       "      <td>2.0</td>\n",
       "    </tr>\n",
       "    <tr>\n",
       "      <th>012452d40dafae4df401bced74cdb490</th>\n",
       "      <td>0.001876</td>\n",
       "      <td>0.000000</td>\n",
       "      <td>0.450281</td>\n",
       "      <td>2.0</td>\n",
       "    </tr>\n",
       "    <tr>\n",
       "      <th>013f4353d26bb05dc6652f1269458d8d</th>\n",
       "      <td>0.003752</td>\n",
       "      <td>82.020000</td>\n",
       "      <td>0.900563</td>\n",
       "      <td>1.0</td>\n",
       "    </tr>\n",
       "    <tr>\n",
       "      <th>...</th>\n",
       "      <td>...</td>\n",
       "      <td>...</td>\n",
       "      <td>...</td>\n",
       "      <td>...</td>\n",
       "    </tr>\n",
       "    <tr>\n",
       "      <th>fe59d5878cd80080edbd29b5a0a4e1cf</th>\n",
       "      <td>0.005629</td>\n",
       "      <td>13.200000</td>\n",
       "      <td>1.350844</td>\n",
       "      <td>1.0</td>\n",
       "    </tr>\n",
       "    <tr>\n",
       "      <th>fe81bb32c243a86b2f86fbf053fe6140</th>\n",
       "      <td>0.003752</td>\n",
       "      <td>31.890000</td>\n",
       "      <td>0.900563</td>\n",
       "      <td>4.0</td>\n",
       "    </tr>\n",
       "    <tr>\n",
       "      <th>fed519569d16e690df6f89cb99d4e682</th>\n",
       "      <td>0.001876</td>\n",
       "      <td>0.000000</td>\n",
       "      <td>0.450281</td>\n",
       "      <td>2.0</td>\n",
       "    </tr>\n",
       "    <tr>\n",
       "      <th>ff8892f7c26aa0446da53d01b18df463</th>\n",
       "      <td>0.003752</td>\n",
       "      <td>33.370000</td>\n",
       "      <td>0.900563</td>\n",
       "      <td>1.0</td>\n",
       "    </tr>\n",
       "    <tr>\n",
       "      <th>ff922bdd6bafcdf99cb90d7f39cea5b3</th>\n",
       "      <td>0.005629</td>\n",
       "      <td>16.696667</td>\n",
       "      <td>1.350844</td>\n",
       "      <td>1.0</td>\n",
       "    </tr>\n",
       "  </tbody>\n",
       "</table>\n",
       "<p>1384 rows × 4 columns</p>\n",
       "</div>"
      ],
      "text/plain": [
       "                                  purchases_per_period_cal  \\\n",
       "customer_unique_id                                           \n",
       "004288347e5e88a27ded2bb23747066c                  0.001876   \n",
       "004b45ec5c64187465168251cd1c9c2f                  0.001876   \n",
       "011b4adcd54683b480c4d841250a987f                  0.001876   \n",
       "012452d40dafae4df401bced74cdb490                  0.001876   \n",
       "013f4353d26bb05dc6652f1269458d8d                  0.003752   \n",
       "...                                                    ...   \n",
       "fe59d5878cd80080edbd29b5a0a4e1cf                  0.005629   \n",
       "fe81bb32c243a86b2f86fbf053fe6140                  0.003752   \n",
       "fed519569d16e690df6f89cb99d4e682                  0.001876   \n",
       "ff8892f7c26aa0446da53d01b18df463                  0.003752   \n",
       "ff922bdd6bafcdf99cb90d7f39cea5b3                  0.005629   \n",
       "\n",
       "                                  value_per_purchase_cal  \\\n",
       "customer_unique_id                                         \n",
       "004288347e5e88a27ded2bb23747066c                0.000000   \n",
       "004b45ec5c64187465168251cd1c9c2f                0.000000   \n",
       "011b4adcd54683b480c4d841250a987f                0.000000   \n",
       "012452d40dafae4df401bced74cdb490                0.000000   \n",
       "013f4353d26bb05dc6652f1269458d8d               82.020000   \n",
       "...                                                  ...   \n",
       "fe59d5878cd80080edbd29b5a0a4e1cf               13.200000   \n",
       "fe81bb32c243a86b2f86fbf053fe6140               31.890000   \n",
       "fed519569d16e690df6f89cb99d4e682                0.000000   \n",
       "ff8892f7c26aa0446da53d01b18df463               33.370000   \n",
       "ff922bdd6bafcdf99cb90d7f39cea5b3               16.696667   \n",
       "\n",
       "                                  dummy_pred_purchases_holdout  \\\n",
       "customer_unique_id                                               \n",
       "004288347e5e88a27ded2bb23747066c                      0.450281   \n",
       "004b45ec5c64187465168251cd1c9c2f                      0.450281   \n",
       "011b4adcd54683b480c4d841250a987f                      0.450281   \n",
       "012452d40dafae4df401bced74cdb490                      0.450281   \n",
       "013f4353d26bb05dc6652f1269458d8d                      0.900563   \n",
       "...                                                        ...   \n",
       "fe59d5878cd80080edbd29b5a0a4e1cf                      1.350844   \n",
       "fe81bb32c243a86b2f86fbf053fe6140                      0.900563   \n",
       "fed519569d16e690df6f89cb99d4e682                      0.450281   \n",
       "ff8892f7c26aa0446da53d01b18df463                      0.900563   \n",
       "ff922bdd6bafcdf99cb90d7f39cea5b3                      1.350844   \n",
       "\n",
       "                                  actual_purchases_holdout  \n",
       "customer_unique_id                                          \n",
       "004288347e5e88a27ded2bb23747066c                       2.0  \n",
       "004b45ec5c64187465168251cd1c9c2f                       2.0  \n",
       "011b4adcd54683b480c4d841250a987f                       2.0  \n",
       "012452d40dafae4df401bced74cdb490                       2.0  \n",
       "013f4353d26bb05dc6652f1269458d8d                       1.0  \n",
       "...                                                    ...  \n",
       "fe59d5878cd80080edbd29b5a0a4e1cf                       1.0  \n",
       "fe81bb32c243a86b2f86fbf053fe6140                       4.0  \n",
       "fed519569d16e690df6f89cb99d4e682                       2.0  \n",
       "ff8892f7c26aa0446da53d01b18df463                       1.0  \n",
       "ff922bdd6bafcdf99cb90d7f39cea5b3                       1.0  \n",
       "\n",
       "[1384 rows x 4 columns]"
      ]
     },
     "execution_count": 26,
     "metadata": {},
     "output_type": "execute_result"
    }
   ],
   "source": [
    "dummy_ch_df = pd.DataFrame()\n",
    "dummy_ch_df[\"purchases_per_period_cal\"] = df_ch_2[\"frequency_cal\"] + 1\n",
    "#533 is the calib range\n",
    "dummy_ch_df[\"purchases_per_period_cal\"] = dummy_ch_df[\"purchases_per_period_cal\"]/533\n",
    "dummy_ch_df[\"value_per_purchase_cal\"] = df_ch_2[\"monetary_value_cal\"] / (df_ch_2[\"frequency_cal\"] + 1)\n",
    "#240 is the eval range\n",
    "dummy_ch_df[\"dummy_pred_purchases_holdout\"] = dummy_ch_df[\"purchases_per_period_cal\"] * 240\n",
    "dummy_ch_df[\"actual_purchases_holdout\"] = df_ch_2[\"frequency_holdout\"] + 1\n",
    "dummy_ch_df"
   ]
  },
  {
   "cell_type": "markdown",
   "metadata": {},
   "source": [
    "###  1.0 BG/NBD model\n",
    "Model features\n",
    "- All customers including those with just 1 purchase\n",
    "\n",
    "Model results\n",
    "- Very strong RMSE\n",
    "- We significantly improved upon our dummy model\n",
    "\n",
    "Next steps\n",
    "- Attempt on subsetted data of customers with more than 1 purchase"
   ]
  },
  {
   "cell_type": "code",
   "execution_count": 27,
   "metadata": {},
   "outputs": [],
   "source": [
    "#Iniatialze df_ch \n",
    "df_ch_1 = ch_1.df_ch_getdf()"
   ]
  },
  {
   "cell_type": "code",
   "execution_count": 28,
   "metadata": {},
   "outputs": [],
   "source": [
    "#Iniatialize bgf model\n",
    "bgf_1 = BetaGeoFitter(penalizer_coef=0)"
   ]
  },
  {
   "cell_type": "code",
   "execution_count": 29,
   "metadata": {},
   "outputs": [
    {
     "name": "stdout",
     "output_type": "stream",
     "text": [
      "Optimization terminated successfully.\n",
      "         Current function value: 0.065817\n",
      "         Iterations: 60\n",
      "         Function evaluations: 63\n",
      "         Gradient evaluations: 63\n"
     ]
    },
    {
     "data": {
      "text/plain": [
       "<lifetimes.BetaGeoFitter: fitted with 44463 subjects, a: 1.85, alpha: 55.22, b: 0.32, r: 0.02>"
      ]
     },
     "execution_count": 29,
     "metadata": {},
     "output_type": "execute_result"
    }
   ],
   "source": [
    "#Fit model to df_ch\n",
    "bgf_1.fit(\n",
    "        frequency = df_ch_1[\"frequency_cal\"], \n",
    "        recency = df_ch_1[\"recency_cal\"], \n",
    "        T = df_ch_1[\"T_cal\"],   \n",
    "        weights = None,  \n",
    "        verbose = True)"
   ]
  },
  {
   "cell_type": "code",
   "execution_count": 30,
   "metadata": {},
   "outputs": [
    {
     "data": {
      "text/plain": [
       "0.020255570402409388"
      ]
     },
     "execution_count": 30,
     "metadata": {},
     "output_type": "execute_result"
    }
   ],
   "source": [
    "bgf_1_rmse = bgf_rmse(ch_1,bgf_1)\n",
    "bgf_1_rmse"
   ]
  },
  {
   "cell_type": "code",
   "execution_count": 31,
   "metadata": {},
   "outputs": [
    {
     "name": "stderr",
     "output_type": "stream",
     "text": [
      "/Applications/anaconda3/envs/lifetime-env/lib/python3.10/site-packages/lifetimes/generate_data.py:54: RuntimeWarning: divide by zero encountered in double_scalars\n",
      "  next_purchase_in = random.exponential(scale=1.0 / l)\n"
     ]
    },
    {
     "data": {
      "image/png": "[encoded data removed]",
      "text/plain": [
       "<Figure size 432x288 with 1 Axes>"
      ]
     },
     "metadata": {
      "needs_background": "light"
     },
     "output_type": "display_data"
    }
   ],
   "source": [
    "#Our model accurately esimates n purchases with in the calibation period\n",
    "plot_period_transactions(bgf_1);"
   ]
  },
  {
   "cell_type": "code",
   "execution_count": 32,
   "metadata": {},
   "outputs": [
    {
     "data": {
      "text/plain": [
       "<Figure size 504x504 with 0 Axes>"
      ]
     },
     "metadata": {},
     "output_type": "display_data"
    },
    {
     "data": {
      "image/png": "[encoded data removed]",
      "text/plain": [
       "<Figure size 432x288 with 1 Axes>"
      ]
     },
     "metadata": {
      "needs_background": "light"
     },
     "output_type": "display_data"
    }
   ],
   "source": [
    "# testing: predicted vs actual purchases in holdout period\n",
    "fig = plt.figure(figsize=(7, 7))\n",
    "plot_calibration_purchases_vs_holdout_purchases(bgf_1, df_ch_1);"
   ]
  },
  {
   "cell_type": "markdown",
   "metadata": {},
   "source": [
    "###  2.0 BG/NBD model\n",
    "Model features\n",
    "- Subsetted data of customers with more than 1 purchase\n",
    "\n",
    "Model results\n",
    "- Our model is less accurate on this subset of repeat customers bc we can't inflate accuracy with the signficant n of correct 0 purchase perdictions that \n",
    "- That said, this model did much better than our dummy model did on repeat customers\n",
    "\n",
    "Next steps\n",
    "- Attempt regularization"
   ]
  },
  {
   "cell_type": "code",
   "execution_count": 33,
   "metadata": {},
   "outputs": [],
   "source": [
    "#Iniatialze df_ch \n",
    "df_ch_2 = ch_2.df_ch_getdf()"
   ]
  },
  {
   "cell_type": "code",
   "execution_count": 34,
   "metadata": {},
   "outputs": [],
   "source": [
    "#Iniatialize bgf model\n",
    "bgf_2 = BetaGeoFitter(penalizer_coef=0)"
   ]
  },
  {
   "cell_type": "code",
   "execution_count": 35,
   "metadata": {},
   "outputs": [
    {
     "name": "stdout",
     "output_type": "stream",
     "text": [
      "Optimization terminated successfully.\n",
      "         Current function value: 0.095057\n",
      "         Iterations: 29\n",
      "         Function evaluations: 31\n",
      "         Gradient evaluations: 31\n"
     ]
    },
    {
     "data": {
      "text/plain": [
       "<lifetimes.BetaGeoFitter: fitted with 1384 subjects, a: 1.82, alpha: 135.02, b: 0.25, r: 1.13>"
      ]
     },
     "execution_count": 35,
     "metadata": {},
     "output_type": "execute_result"
    }
   ],
   "source": [
    "#Fit model to df_ch\n",
    "bgf_2.fit(\n",
    "        frequency = df_ch_2[\"frequency_cal\"], \n",
    "        recency = df_ch_2[\"recency_cal\"], \n",
    "        T = df_ch_2[\"T_cal\"],   \n",
    "        weights = None,  \n",
    "        verbose = True)"
   ]
  },
  {
   "cell_type": "code",
   "execution_count": 36,
   "metadata": {},
   "outputs": [
    {
     "data": {
      "text/plain": [
       "0.254995983388962"
      ]
     },
     "execution_count": 36,
     "metadata": {},
     "output_type": "execute_result"
    }
   ],
   "source": [
    "bgf_2_rmse = bgf_rmse(ch_2,bgf_2)\n",
    "bgf_2_rmse"
   ]
  },
  {
   "cell_type": "code",
   "execution_count": 37,
   "metadata": {},
   "outputs": [
    {
     "data": {
      "image/png": "[encoded data removed]",
      "text/plain": [
       "<Figure size 432x288 with 1 Axes>"
      ]
     },
     "metadata": {
      "needs_background": "light"
     },
     "output_type": "display_data"
    }
   ],
   "source": [
    "plot_period_transactions(bgf_2);"
   ]
  },
  {
   "cell_type": "code",
   "execution_count": 38,
   "metadata": {},
   "outputs": [
    {
     "data": {
      "text/plain": [
       "<Figure size 504x504 with 0 Axes>"
      ]
     },
     "metadata": {},
     "output_type": "display_data"
    },
    {
     "data": {
      "image/png": "[encoded data removed]",
      "text/plain": [
       "<Figure size 432x288 with 1 Axes>"
      ]
     },
     "metadata": {
      "needs_background": "light"
     },
     "output_type": "display_data"
    }
   ],
   "source": [
    "# testing: predicted vs actual purchases in holdout period\n",
    "fig = plt.figure(figsize=(7, 7)) \n",
    "plot_calibration_purchases_vs_holdout_purchases(bgf_2, df_ch_2);"
   ]
  },
  {
   "cell_type": "markdown",
   "metadata": {},
   "source": [
    "###  3.0 BG/NBD model\n",
    "Model features\n",
    "- Subsetted data of customers with more than 1 purchase\n",
    "- Regularization in the form of l2 penalty\n",
    "\n",
    "Model results\n",
    "- Zero regularization produced the best result\n",
    "\n",
    "Next steps\n",
    "- Attempt regularization on full data set"
   ]
  },
  {
   "cell_type": "code",
   "execution_count": 39,
   "metadata": {},
   "outputs": [
    {
     "name": "stdout",
     "output_type": "stream",
     "text": [
      "bgf_3_0 0.254995983388962\n",
      "bgf_3_001 0.2554724458875201\n",
      "bgf_3_05 0.38414252555643896\n",
      "bgf_3_01 0.2950368840677332\n",
      "bgf_3_015 0.3111396102838008\n"
     ]
    }
   ],
   "source": [
    "#Documentation says that penalties in the order of 0.001 to 0.1 are effective\n",
    "penalizer_coef_grid = {\"bgf_3_0\":0,\"bgf_3_001\":0.001,\"bgf_3_05\":0.05,\"bgf_3_01\":.01,\"bgf_3_015\":.015}\n",
    "for penalizer in penalizer_coef_grid:\n",
    "    model = BetaGeoFitter(penalizer_coef=penalizer_coef_grid[penalizer])\n",
    "    model.fit(\n",
    "        frequency = df_ch_2[\"frequency_cal\"], \n",
    "        recency = df_ch_2[\"recency_cal\"], \n",
    "        T = df_ch_2[\"T_cal\"],   \n",
    "        weights = None,  \n",
    "        verbose = False)\n",
    "    print(f'{penalizer} {bgf_rmse(ch_2,model)}')"
   ]
  },
  {
   "cell_type": "markdown",
   "metadata": {},
   "source": [
    "###  4.0 BG/NBD model\n",
    "Model features\n",
    "- All customers including those with just 1 purchase\n",
    "- Regularization in the form of l2 penalty\n",
    "\n",
    "Model results\n",
    "- Zero regularization produced the best result\n",
    "\n",
    "Next steps\n",
    "- Bring in a Gama Gama model to predict LTV\n"
   ]
  },
  {
   "cell_type": "code",
   "execution_count": 40,
   "metadata": {},
   "outputs": [
    {
     "name": "stdout",
     "output_type": "stream",
     "text": [
      "bgf_3_0 0.020255570402409388\n",
      "bgf_3_001 0.02159426531842805\n",
      "bgf_3_05 0.026885903278818842\n",
      "bgf_3_01 0.024215553556762578\n",
      "bgf_3_015 0.024818318495397666\n"
     ]
    }
   ],
   "source": [
    "for penalizer in penalizer_coef_grid:\n",
    "    model = BetaGeoFitter(penalizer_coef=penalizer_coef_grid[penalizer])\n",
    "    model.fit(\n",
    "        frequency = df_ch_1[\"frequency_cal\"], \n",
    "        recency = df_ch_1[\"recency_cal\"], \n",
    "        T = df_ch_1[\"T_cal\"],   \n",
    "        weights = None,  \n",
    "        verbose = False)\n",
    "    print(f'{penalizer} {bgf_rmse(ch_1,model)}')"
   ]
  },
  {
   "cell_type": "markdown",
   "metadata": {},
   "source": [
    "###  1.0 GG model\n",
    "Model features\n",
    "- All customers including those with just 1 purchase\n",
    "- No regularization\n",
    "\n",
    "Model results\n",
    "- TBD\n"
   ]
  },
  {
   "cell_type": "code",
   "execution_count": 146,
   "metadata": {},
   "outputs": [
    {
     "data": {
      "text/html": [
       "<div>\n",
       "<style scoped>\n",
       "    .dataframe tbody tr th:only-of-type {\n",
       "        vertical-align: middle;\n",
       "    }\n",
       "\n",
       "    .dataframe tbody tr th {\n",
       "        vertical-align: top;\n",
       "    }\n",
       "\n",
       "    .dataframe thead th {\n",
       "        text-align: right;\n",
       "    }\n",
       "</style>\n",
       "<table border=\"1\" class=\"dataframe\">\n",
       "  <thead>\n",
       "    <tr style=\"text-align: right;\">\n",
       "      <th></th>\n",
       "      <th>frequency</th>\n",
       "      <th>recency</th>\n",
       "      <th>T</th>\n",
       "      <th>monetary_value</th>\n",
       "    </tr>\n",
       "    <tr>\n",
       "      <th>customer_unique_id</th>\n",
       "      <th></th>\n",
       "      <th></th>\n",
       "      <th></th>\n",
       "      <th></th>\n",
       "    </tr>\n",
       "  </thead>\n",
       "  <tbody>\n",
       "    <tr>\n",
       "      <th>004288347e5e88a27ded2bb23747066c</th>\n",
       "      <td>1.0</td>\n",
       "      <td>171.0</td>\n",
       "      <td>447.0</td>\n",
       "      <td>103.28</td>\n",
       "    </tr>\n",
       "    <tr>\n",
       "      <th>004b45ec5c64187465168251cd1c9c2f</th>\n",
       "      <td>1.0</td>\n",
       "      <td>267.0</td>\n",
       "      <td>411.0</td>\n",
       "      <td>49.85</td>\n",
       "    </tr>\n",
       "    <tr>\n",
       "      <th>00a39521eb40f7012db50455bf083460</th>\n",
       "      <td>1.0</td>\n",
       "      <td>11.0</td>\n",
       "      <td>147.0</td>\n",
       "      <td>26.78</td>\n",
       "    </tr>\n",
       "  </tbody>\n",
       "</table>\n",
       "</div>"
      ],
      "text/plain": [
       "                                  frequency  recency      T  monetary_value\n",
       "customer_unique_id                                                         \n",
       "004288347e5e88a27ded2bb23747066c        1.0    171.0  447.0          103.28\n",
       "004b45ec5c64187465168251cd1c9c2f        1.0    267.0  411.0           49.85\n",
       "00a39521eb40f7012db50455bf083460        1.0     11.0  147.0           26.78"
      ]
     },
     "execution_count": 146,
     "metadata": {},
     "output_type": "execute_result"
    }
   ],
   "source": [
    "#subset the summary data to just return customers, GG models do not accept a freq of zero\n",
    "return_cust_summary = summary[summary[\"frequency\"]>0]\n",
    "return_cust_summary.head(3)"
   ]
  },
  {
   "cell_type": "code",
   "execution_count": 169,
   "metadata": {},
   "outputs": [
    {
     "data": {
      "text/plain": [
       "<lifetimes.GammaGammaFitter: fitted with 2065 subjects, p: 5.95, q: 2.80, v: 46.29>"
      ]
     },
     "execution_count": 169,
     "metadata": {},
     "output_type": "execute_result"
    }
   ],
   "source": [
    "ggf_1 = GammaGammaFitter(penalizer_coef = 0)\n",
    "#fit to return customer summary\n",
    "ggf.fit(frequency=return_cust_summary[\"frequency\"],monetary_value=return_cust_summary[\"monetary_value\"])\n"
   ]
  },
  {
   "cell_type": "code",
   "execution_count": 172,
   "metadata": {},
   "outputs": [
    {
     "data": {
      "text/plain": [
       "customer_unique_id\n",
       "004288347e5e88a27ded2bb23747066c    114.784000\n",
       "004b45ec5c64187465168251cd1c9c2f     73.781302\n",
       "00a39521eb40f7012db50455bf083460     56.077162\n",
       "011575986092c30523ecb71ff10cb473     97.164274\n",
       "011b4adcd54683b480c4d841250a987f    150.545289\n",
       "                                       ...    \n",
       "fed519569d16e690df6f89cb99d4e682    120.140519\n",
       "ff03923ad1eb9e32304deb7f9b2a45c9    130.324045\n",
       "ff22e30958c13ffe219db7d711e8f564    163.268941\n",
       "ff8892f7c26aa0446da53d01b18df463     86.742851\n",
       "ff922bdd6bafcdf99cb90d7f39cea5b3     63.598742\n",
       "Length: 2065, dtype: float64"
      ]
     },
     "execution_count": 172,
     "metadata": {},
     "output_type": "execute_result"
    }
   ],
   "source": [
    "conditional_expected_average_profit = ggf.conditional_expected_average_profit(frequency=return_cust_summary[\"frequency\"],monetary_value=return_cust_summary[\"monetary_value\"])\n",
    "conditional_expected_average_profit"
   ]
  },
  {
   "cell_type": "code",
   "execution_count": 171,
   "metadata": {},
   "outputs": [
    {
     "data": {
      "text/plain": [
       "1361.5689939757717"
      ]
     },
     "execution_count": 171,
     "metadata": {},
     "output_type": "execute_result"
    }
   ],
   "source": [
    "mean_squared_error(y_true=return_cust_summary[\"monetary_value\"],y_pred=conditional_expected_average_profit)"
   ]
  },
  {
   "cell_type": "code",
   "execution_count": null,
   "metadata": {},
   "outputs": [],
   "source": []
  },
  {
   "cell_type": "code",
   "execution_count": 152,
   "metadata": {},
   "outputs": [
    {
     "data": {
      "text/html": [
       "<div>\n",
       "<style scoped>\n",
       "    .dataframe tbody tr th:only-of-type {\n",
       "        vertical-align: middle;\n",
       "    }\n",
       "\n",
       "    .dataframe tbody tr th {\n",
       "        vertical-align: top;\n",
       "    }\n",
       "\n",
       "    .dataframe thead th {\n",
       "        text-align: right;\n",
       "    }\n",
       "</style>\n",
       "<table border=\"1\" class=\"dataframe\">\n",
       "  <thead>\n",
       "    <tr style=\"text-align: right;\">\n",
       "      <th></th>\n",
       "      <th>frequency</th>\n",
       "      <th>recency</th>\n",
       "      <th>T</th>\n",
       "      <th>monetary_value</th>\n",
       "    </tr>\n",
       "    <tr>\n",
       "      <th>customer_unique_id</th>\n",
       "      <th></th>\n",
       "      <th></th>\n",
       "      <th></th>\n",
       "      <th></th>\n",
       "    </tr>\n",
       "  </thead>\n",
       "  <tbody>\n",
       "    <tr>\n",
       "      <th>0000366f3b9a7992bf8c76cfdf3221e2</th>\n",
       "      <td>0.0</td>\n",
       "      <td>0.0</td>\n",
       "      <td>160.0</td>\n",
       "      <td>0.0</td>\n",
       "    </tr>\n",
       "    <tr>\n",
       "      <th>0000b849f77a49e4a4ce2b2a4ca5be3f</th>\n",
       "      <td>0.0</td>\n",
       "      <td>0.0</td>\n",
       "      <td>163.0</td>\n",
       "      <td>0.0</td>\n",
       "    </tr>\n",
       "    <tr>\n",
       "      <th>0000f46a3911fa3c0805444483337064</th>\n",
       "      <td>0.0</td>\n",
       "      <td>0.0</td>\n",
       "      <td>586.0</td>\n",
       "      <td>0.0</td>\n",
       "    </tr>\n",
       "    <tr>\n",
       "      <th>0000f6ccb0745a6a4b88665a16c9f078</th>\n",
       "      <td>0.0</td>\n",
       "      <td>0.0</td>\n",
       "      <td>370.0</td>\n",
       "      <td>0.0</td>\n",
       "    </tr>\n",
       "    <tr>\n",
       "      <th>0004aac84e0df4da2b147fca70cf8255</th>\n",
       "      <td>0.0</td>\n",
       "      <td>0.0</td>\n",
       "      <td>337.0</td>\n",
       "      <td>0.0</td>\n",
       "    </tr>\n",
       "    <tr>\n",
       "      <th>...</th>\n",
       "      <td>...</td>\n",
       "      <td>...</td>\n",
       "      <td>...</td>\n",
       "      <td>...</td>\n",
       "    </tr>\n",
       "    <tr>\n",
       "      <th>fffcf5a5ff07b0908bd4e2dbc735a684</th>\n",
       "      <td>0.0</td>\n",
       "      <td>0.0</td>\n",
       "      <td>496.0</td>\n",
       "      <td>0.0</td>\n",
       "    </tr>\n",
       "    <tr>\n",
       "      <th>fffea47cd6d3cc0a88bd621562a9d061</th>\n",
       "      <td>0.0</td>\n",
       "      <td>0.0</td>\n",
       "      <td>311.0</td>\n",
       "      <td>0.0</td>\n",
       "    </tr>\n",
       "    <tr>\n",
       "      <th>ffff371b4d645b6ecea244b27531430a</th>\n",
       "      <td>0.0</td>\n",
       "      <td>0.0</td>\n",
       "      <td>617.0</td>\n",
       "      <td>0.0</td>\n",
       "    </tr>\n",
       "    <tr>\n",
       "      <th>ffff5962728ec6157033ef9805bacc48</th>\n",
       "      <td>0.0</td>\n",
       "      <td>0.0</td>\n",
       "      <td>168.0</td>\n",
       "      <td>0.0</td>\n",
       "    </tr>\n",
       "    <tr>\n",
       "      <th>ffffd2657e2aad2907e67c3e9daecbeb</th>\n",
       "      <td>0.0</td>\n",
       "      <td>0.0</td>\n",
       "      <td>533.0</td>\n",
       "      <td>0.0</td>\n",
       "    </tr>\n",
       "  </tbody>\n",
       "</table>\n",
       "<p>94989 rows × 4 columns</p>\n",
       "</div>"
      ],
      "text/plain": [
       "                                  frequency  recency      T  monetary_value\n",
       "customer_unique_id                                                         \n",
       "0000366f3b9a7992bf8c76cfdf3221e2        0.0      0.0  160.0             0.0\n",
       "0000b849f77a49e4a4ce2b2a4ca5be3f        0.0      0.0  163.0             0.0\n",
       "0000f46a3911fa3c0805444483337064        0.0      0.0  586.0             0.0\n",
       "0000f6ccb0745a6a4b88665a16c9f078        0.0      0.0  370.0             0.0\n",
       "0004aac84e0df4da2b147fca70cf8255        0.0      0.0  337.0             0.0\n",
       "...                                     ...      ...    ...             ...\n",
       "fffcf5a5ff07b0908bd4e2dbc735a684        0.0      0.0  496.0             0.0\n",
       "fffea47cd6d3cc0a88bd621562a9d061        0.0      0.0  311.0             0.0\n",
       "ffff371b4d645b6ecea244b27531430a        0.0      0.0  617.0             0.0\n",
       "ffff5962728ec6157033ef9805bacc48        0.0      0.0  168.0             0.0\n",
       "ffffd2657e2aad2907e67c3e9daecbeb        0.0      0.0  533.0             0.0\n",
       "\n",
       "[94989 rows x 4 columns]"
      ]
     },
     "execution_count": 152,
     "metadata": {},
     "output_type": "execute_result"
    }
   ],
   "source": [
    "# refit the BG model to the summary_with_money_value dataset\n",
    "bgf.fit(summary_with_money_value['frequency'], summary_with_money_value['recency'], summary_with_money_value['T'])\n"
   ]
  },
  {
   "cell_type": "markdown",
   "metadata": {},
   "source": [
    "#### Attempting to validate the performance of the GG model"
   ]
  },
  {
   "cell_type": "code",
   "execution_count": 128,
   "metadata": {
    "scrolled": true
   },
   "outputs": [
    {
     "data": {
      "text/html": [
       "<div>\n",
       "<style scoped>\n",
       "    .dataframe tbody tr th:only-of-type {\n",
       "        vertical-align: middle;\n",
       "    }\n",
       "\n",
       "    .dataframe tbody tr th {\n",
       "        vertical-align: top;\n",
       "    }\n",
       "\n",
       "    .dataframe thead th {\n",
       "        text-align: right;\n",
       "    }\n",
       "</style>\n",
       "<table border=\"1\" class=\"dataframe\">\n",
       "  <thead>\n",
       "    <tr style=\"text-align: right;\">\n",
       "      <th></th>\n",
       "      <th>frequency_cal</th>\n",
       "      <th>recency_cal</th>\n",
       "      <th>T_cal</th>\n",
       "      <th>monetary_value_cal</th>\n",
       "      <th>frequency_holdout</th>\n",
       "      <th>monetary_value_holdout</th>\n",
       "      <th>duration_holdout</th>\n",
       "    </tr>\n",
       "    <tr>\n",
       "      <th>customer_unique_id</th>\n",
       "      <th></th>\n",
       "      <th></th>\n",
       "      <th></th>\n",
       "      <th></th>\n",
       "      <th></th>\n",
       "      <th></th>\n",
       "      <th></th>\n",
       "    </tr>\n",
       "  </thead>\n",
       "  <tbody>\n",
       "    <tr>\n",
       "      <th>041caba6a63ace5818387698ea85cdb2</th>\n",
       "      <td>1.0</td>\n",
       "      <td>247.0</td>\n",
       "      <td>297.0</td>\n",
       "      <td>51.73</td>\n",
       "      <td>1.0</td>\n",
       "      <td>71.78</td>\n",
       "      <td>240.0</td>\n",
       "    </tr>\n",
       "    <tr>\n",
       "      <th>083ca1aa470c280236380973a48f77c6</th>\n",
       "      <td>2.0</td>\n",
       "      <td>19.0</td>\n",
       "      <td>162.0</td>\n",
       "      <td>86.96</td>\n",
       "      <td>1.0</td>\n",
       "      <td>105.29</td>\n",
       "      <td>240.0</td>\n",
       "    </tr>\n",
       "    <tr>\n",
       "      <th>0b18593e033697810a62a987e77f4b8c</th>\n",
       "      <td>1.0</td>\n",
       "      <td>12.0</td>\n",
       "      <td>218.0</td>\n",
       "      <td>73.34</td>\n",
       "      <td>1.0</td>\n",
       "      <td>63.13</td>\n",
       "      <td>240.0</td>\n",
       "    </tr>\n",
       "  </tbody>\n",
       "</table>\n",
       "</div>"
      ],
      "text/plain": [
       "                                  frequency_cal  recency_cal  T_cal  \\\n",
       "customer_unique_id                                                    \n",
       "041caba6a63ace5818387698ea85cdb2            1.0        247.0  297.0   \n",
       "083ca1aa470c280236380973a48f77c6            2.0         19.0  162.0   \n",
       "0b18593e033697810a62a987e77f4b8c            1.0         12.0  218.0   \n",
       "\n",
       "                                  monetary_value_cal  frequency_holdout  \\\n",
       "customer_unique_id                                                        \n",
       "041caba6a63ace5818387698ea85cdb2               51.73                1.0   \n",
       "083ca1aa470c280236380973a48f77c6               86.96                1.0   \n",
       "0b18593e033697810a62a987e77f4b8c               73.34                1.0   \n",
       "\n",
       "                                  monetary_value_holdout  duration_holdout  \n",
       "customer_unique_id                                                          \n",
       "041caba6a63ace5818387698ea85cdb2                   71.78             240.0  \n",
       "083ca1aa470c280236380973a48f77c6                  105.29             240.0  \n",
       "0b18593e033697810a62a987e77f4b8c                   63.13             240.0  "
      ]
     },
     "execution_count": 128,
     "metadata": {},
     "output_type": "execute_result"
    }
   ],
   "source": [
    "df_ch_2_subset = df_ch_2[df_ch_2[\"monetary_value_cal\"]>0]\n",
    "df_ch_2_subset = df_ch_2_subset[df_ch_2_subset[\"monetary_value_holdout\"]>0]\n",
    "df_ch_2_subset.head(3)"
   ]
  },
  {
   "cell_type": "code",
   "execution_count": 126,
   "metadata": {},
   "outputs": [
    {
     "data": {
      "text/plain": [
       "<lifetimes.GammaGammaFitter: fitted with 51 subjects, p: 4.90, q: 2.81, v: 64.30>"
      ]
     },
     "execution_count": 126,
     "metadata": {},
     "output_type": "execute_result"
    }
   ],
   "source": [
    "ggf = GammaGammaFitter(penalizer_coef = 0)\n",
    "ggf.fit(frequency=df_ch_2_subset[\"frequency_cal\"],monetary_value=df_ch_2_subset[\"monetary_value_cal\"])"
   ]
  },
  {
   "cell_type": "code",
   "execution_count": 137,
   "metadata": {},
   "outputs": [
    {
     "data": {
      "text/plain": [
       "customer_unique_id\n",
       "041caba6a63ace5818387698ea85cdb2     99.374134\n",
       "083ca1aa470c280236380973a48f77c6    123.845132\n",
       "0b18593e033697810a62a987e77f4b8c     93.057389\n",
       "1b6c7548a2a1f9037c1fd3ddfed95f33    176.384223\n",
       "1da09dd64e235e7c2f29a4faff33535c    653.538896\n",
       "2ddc001b620bd90d0f4378cfde1db887    123.538423\n",
       "30a81e307f19e822e7199139fe52b1b0     88.011296\n",
       "32ea3bdedab835c3aa6cb68ce66565ef     72.456767\n",
       "35ecdf6858edc6427223b64804cf028e    111.905388\n",
       "3e43e6105506432c953e165fb2acf44c    111.619726\n",
       "3e5306add1209e5ba184092dd1587282    120.230347\n",
       "3ea4185126195c34ed9949d8e406d570    105.574038\n",
       "455c17b35969ca198c17f2fc9e8eba1b    235.326555\n",
       "47c1a3033b8b77b3ab6e109eb4d5fdf3     91.297464\n",
       "4bbaf6f7a10a7e26a8777aa5cb6d5864     82.877571\n",
       "4e65032f1f574189fb793bac5a867bbc     84.681312\n",
       "4f4d2fe2987efa0b9e4e61a466e8ed8b     88.142742\n",
       "5e8f38a9a1c023f3db718edcf926a2db    139.859724\n",
       "5f45aa4ef9b8fb99b95d33a970bb64a7     96.810923\n",
       "6204c4e582a95b6a350adf6988623bfb    145.898970\n",
       "63cfc61cee11cbe306bff5857d00bfe4    113.802348\n",
       "6469f99c1f9dfae7733b25662e7f1782    102.655954\n",
       "7305430719d715992b00be82af4a6aa8     93.581836\n",
       "738ffcf1017b584e9d2684b36e07469c    186.724497\n",
       "7588c20c457369de8caad958afc1cc06    115.381424\n",
       "78b5cbc4b9ad61445b6609593addca37    148.170077\n",
       "7a311d62282fa63be12b02aef2fd21d1     80.014954\n",
       "7d3d94b4740895a17760e976797f9f0e    105.530222\n",
       "7f50c43baa66aae590aa1a067427cce5    111.175129\n",
       "8689b3e15d4b16cfd05ecf597a523453     90.771677\n",
       "894382535eef1ce243ec19088626be0e    115.826882\n",
       "8d50f5eadf50201ccdcedfb9e2ac8455     66.272987\n",
       "93360190b9375a40b65720ee99387a4a    155.165964\n",
       "9832ae2f7d3e5fa4c7a1a06e9551bc61    411.720749\n",
       "98e3117841a2431959d17808f04bf23c     88.953330\n",
       "a72a2d4e19868dba726c0e6f49198c7e    113.577682\n",
       "acea6bd29b8c1e3c6a8b266a8fb4475e    178.101974\n",
       "b39dde6dd619943190a8cc9aa6db38a4     83.965658\n",
       "b896655e2083a1d76b7b85df8fc86e40    149.069016\n",
       "c2919fbdb45366551c1e80d5cb35cd3f     76.327143\n",
       "c37cc6c1a59d81460a3059744f7ada1c    161.687182\n",
       "c7c19110042036e6266adc998cbf1289    151.412430\n",
       "cecc19ff12c206e6368dd1e9c22a848d    124.064210\n",
       "cef29e793e232d30250331804cdb7000     90.640230\n",
       "db07fd2ad9869f8356b1fbeefdac31e8    114.636559\n",
       "dc48b0a1b0e6abb6586f322c189f6b93    144.533385\n",
       "dc813062e0fc23409cd255f7f53c7074    136.106190\n",
       "de34b16117594161a6a89c50b289d35a     81.819246\n",
       "e226254ce0c6d5b7a7ef7218c9b5b518    343.631348\n",
       "f0e310a6839dce9de1638e0fe5ab282a     67.494800\n",
       "fe81bb32c243a86b2f86fbf053fe6140    453.348189\n",
       "dtype: float64"
      ]
     },
     "execution_count": 137,
     "metadata": {},
     "output_type": "execute_result"
    }
   ],
   "source": [
    "ggf.conditional_expected_average_profit(frequency=df_ch_2_subset[\"frequency_holdout\"],monetary_value=df_ch_2_subset[\"monetary_value_holdout\"])"
   ]
  },
  {
   "cell_type": "code",
   "execution_count": 138,
   "metadata": {},
   "outputs": [
    {
     "data": {
      "text/plain": [
       "1334.2813385562738"
      ]
     },
     "execution_count": 138,
     "metadata": {},
     "output_type": "execute_result"
    }
   ],
   "source": [
    "mean_squared_error(y_true=df_ch_2_subset[\"monetary_value_holdout\"],y_pred=ggf.conditional_expected_average_profit(frequency=df_ch_2_subset[\"frequency_holdout\"],monetary_value=df_ch_2_subset[\"monetary_value_holdout\"]))"
   ]
  },
  {
   "cell_type": "code",
   "execution_count": 141,
   "metadata": {},
   "outputs": [
    {
     "data": {
      "text/plain": [
       "37162.99154594201"
      ]
     },
     "execution_count": 141,
     "metadata": {},
     "output_type": "execute_result"
    }
   ],
   "source": [
    "mean_squared_error(y_true=df_ch_2_subset[\"monetary_value_holdout\"],y_pred=df_ch_2_subset[\"monetary_value_cal\"])\n"
   ]
  },
  {
   "cell_type": "code",
   "execution_count": null,
   "metadata": {},
   "outputs": [],
   "source": []
  }
 ],
 "metadata": {
  "kernelspec": {
   "display_name": "Python (lifetime-env)",
   "language": "python",
   "name": "lifetime-env"
  },
  "language_info": {
   "codemirror_mode": {
    "name": "ipython",
    "version": 3
   },
   "file_extension": ".py",
   "mimetype": "text/x-python",
   "name": "python",
   "nbconvert_exporter": "python",
   "pygments_lexer": "ipython3",
   "version": "3.10.4"
  }
 },
 "nbformat": 4,
 "nbformat_minor": 4
}
