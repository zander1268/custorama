{
 "cells": [
  {
   "cell_type": "code",
   "execution_count": 1,
   "metadata": {},
   "outputs": [],
   "source": [
    "#Inital imports\n",
    "%matplotlib inline\n",
    "import numpy as np\n",
    "import pandas as pd\n",
    "import matplotlib.pyplot as plt\n",
    "import seaborn as sns\n",
    "import lifetimes\n",
    "from lifetimes.plotting import plot_period_transactions, plot_calibration_purchases_vs_holdout_purchases\n",
    "from lifetimes import BetaGeoFitter, GammaGammaFitter\n",
    "from datetime import timedelta\n",
    "from datetime import datetime\n",
    "from dateutil import parser\n",
    "from sklearn.metrics import mean_squared_error\n",
    "from sklearn.model_selection import GridSearchCV"
   ]
  },
  {
   "cell_type": "code",
   "execution_count": 2,
   "metadata": {},
   "outputs": [
    {
     "name": "stdout",
     "output_type": "stream",
     "text": [
      "OnlineRetail_2yrs.csv             lifetimes_object_df.csv\r\n",
      "customer_data_base.zip            lifetimes_object_df_uncleaned.csv\r\n"
     ]
    }
   ],
   "source": [
    "!ls data"
   ]
  },
  {
   "cell_type": "code",
   "execution_count": 3,
   "metadata": {},
   "outputs": [],
   "source": [
    "#Load in our pre-prepared dataframes\n",
    "lifetimes_object_df = pd.read_csv(\"data/lifetimes_object_df.csv\")"
   ]
  },
  {
   "cell_type": "markdown",
   "metadata": {},
   "source": [
    "### Preparation and evaluation functions"
   ]
  },
  {
   "cell_type": "code",
   "execution_count": 4,
   "metadata": {},
   "outputs": [],
   "source": [
    "#Load in our data wrangler\n",
    "from lifetimes.utils import summary_data_from_transaction_data\n",
    "#Import holdout \n",
    "from lifetimes.utils import calibration_and_holdout_data"
   ]
  },
  {
   "cell_type": "code",
   "execution_count": 5,
   "metadata": {},
   "outputs": [],
   "source": [
    "def clean_transaction_csv(csv,purchase_timestamp_col,customer_id_col,datetime_col,monetary_value_col):\n",
    "    lifetimes_object_df = pd.read_csv(csv)\n",
    "    #Remove tansactions less than or equal to zero\n",
    "    lifetimes_object_df = lifetimes_object_df[lifetimes_object_df[monetary_value_col]>0]\n",
    "    #Subset to only repeat customers\n",
    "    repeat_cust_ID = lifetimes_object_df.groupby(customer_id_col).count()\n",
    "    repeat_cust_ID = list(repeat_cust_ID[repeat_cust_ID[datetime_col]>1].index)\n",
    "    lifetimes_object_df = lifetimes_object_df[lifetimes_object_df[customer_id_col].isin(repeat_cust_ID)]\n",
    "    #convert datetime_col to datetime64\n",
    "    lifetimes_object_df[datetime_col] = pd.to_datetime(lifetimes_object_df[datetime_col])\n",
    "    #return a df with only repeat customers with orders over 0.00 monetary value\n",
    "    return lifetimes_object_df"
   ]
  },
  {
   "cell_type": "code",
   "execution_count": 6,
   "metadata": {},
   "outputs": [],
   "source": [
    "#class to return a calibration and holdout df\n",
    "class df_ch():\n",
    "    def __init__(self, eval_period=None,transaction_df=None,purchase_timestamp_col=None,customer_id_col=None,datetime_col=None,monetary_value_col=None):\n",
    "        #initialized attributes\n",
    "        self.eval_period = eval_period\n",
    "        self.transaction_df = transaction_df\n",
    "        self.purchase_timestamp_col=purchase_timestamp_col\n",
    "        self.customer_id_col=customer_id_col\n",
    "        self.datetime_col=datetime_col\n",
    "        self.monetary_value_col=monetary_value_col\n",
    "        #save off more attributes\n",
    "        self.min_obs_date = parser.parse(transaction_df[purchase_timestamp_col].min())\n",
    "        self.max_obs_date = parser.parse(transaction_df[purchase_timestamp_col].max())\n",
    "        self.max_calib_date = self.max_obs_date - timedelta(days=eval_period)  \n",
    "        self.calib_range_days = (self.max_calib_date - self.min_obs_date).days\n",
    "    def df_ch_getdf(self):\n",
    "        df = calibration_and_holdout_data(\n",
    "        transactions = self.transaction_df, \n",
    "        customer_id_col=self.customer_id_col,\n",
    "        datetime_col=self.datetime_col,\n",
    "        monetary_value_col=self.monetary_value_col,\n",
    "        calibration_period_end = self.max_calib_date, \n",
    "        observation_period_end = self.max_obs_date, \n",
    "        freq = \"D\")\n",
    "        return df\n",
    "        "
   ]
  },
  {
   "cell_type": "code",
   "execution_count": 7,
   "metadata": {},
   "outputs": [],
   "source": [
    "#function to return a df of real and predicted transacitons in eval period\n",
    "def bgf_real_v_pred_df(ch,bgf):\n",
    "    rfm_cal_holdout = pd.DataFrame()\n",
    "    ch_df = ch.df_ch_getdf()\n",
    "    rfm_cal_holdout[\"n_transactions_cal_real\"]  = ch_df[\"frequency_cal\"] + 1 #Total calibration days with purchases = calibration frequency + 1\n",
    "    rfm_cal_holdout[\"n_transactions_holdout_real\"]  = ch_df[\"frequency_holdout\"] #Total validation days with purchases = validation frequency\n",
    "    # the predicted number of transactions\n",
    "    rfm_cal_holdout[\"n_transactions_holdout_pred\"] = bgf.predict(t=ch.eval_period, \n",
    "                                                    frequency=ch_df['frequency_cal'], \n",
    "                                                    recency=ch_df['recency_cal'], \n",
    "                                                    T=ch_df['T_cal'])\n",
    "    return rfm_cal_holdout[[\"n_transactions_cal_real\",\"n_transactions_holdout_real\", \"n_transactions_holdout_pred\"]]"
   ]
  },
  {
   "cell_type": "code",
   "execution_count": 8,
   "metadata": {},
   "outputs": [],
   "source": [
    "#function to capture RMSE for a BGF model\n",
    "def bgf_rmse(ch,bgf):\n",
    "    df_ch = ch.df_ch_getdf()\n",
    "    df_ch[\"n_transactions_holdout_real\"] = df_ch[\"frequency_holdout\"]\n",
    "    y_true = df_ch[\"n_transactions_holdout_real\"]\n",
    "    y_pred = bgf.predict(t=ch.eval_period, frequency=df_ch['frequency_cal'],\n",
    "                         recency=df_ch['recency_cal'],\n",
    "                         T=df_ch['T_cal'])\n",
    "\n",
    "    return mean_squared_error(y_true,y_pred,squared=False)"
   ]
  },
  {
   "cell_type": "code",
   "execution_count": 9,
   "metadata": {},
   "outputs": [],
   "source": [
    "#function to return predicted # transactions for given customer in evaluation period\n",
    "def samp_cust_pred_trans(df_ch,sample_customer_id,eval_period):\n",
    "    sample_customer = df_ch.loc[sample_customer_id]\n",
    "    n_transactions_pred = bgf.predict(t=eval_period,\n",
    "                                  frequency=sample_customer['frequency_cal'], \n",
    "                                  recency=sample_customer['recency_cal'], \n",
    "                                  T=sample_customer['T_cal'])\n",
    "    return(n_transactions_pred)"
   ]
  },
  {
   "cell_type": "code",
   "execution_count": 10,
   "metadata": {},
   "outputs": [],
   "source": [
    "#Dummy model function that predicts the same purchase rate in the observation period to continue through the eval period\n",
    "def bgf_dummy_model(ch):\n",
    "    df_ch = ch.df_ch_getdf()\n",
    "    dummy_ch_df = pd.DataFrame()\n",
    "    dummy_ch_df[\"purchases_per_period_cal\"] = df_ch[\"frequency_cal\"] + 1 #Total calibration days with purchases = calibration frequency + 1\n",
    "    dummy_ch_df[\"purchases_per_period_cal\"] = dummy_ch_df[\"purchases_per_period_cal\"]/ch.calib_range_days #Purchase rate\n",
    "    dummy_ch_df[\"dummy_pred_purchases_holdout\"] = dummy_ch_df[\"purchases_per_period_cal\"] * ch.eval_period #Predicting purchase rate to continue\n",
    "    dummy_ch_df[\"dummy_pred_purchases_holdout\"] = np.round(dummy_ch_df[\"dummy_pred_purchases_holdout\"]) #Round to get an actual number of predictions\n",
    "    dummy_ch_df[\"actual_purchases_holdout\"] = df_ch[\"frequency_holdout\"] #Total validation days with purchases = validation frequency\n",
    "    return mean_squared_error(y_true=dummy_ch_df[\"dummy_pred_purchases_holdout\"],y_pred=dummy_ch_df[\"actual_purchases_holdout\"],squared=False)\n"
   ]
  },
  {
   "cell_type": "code",
   "execution_count": 11,
   "metadata": {},
   "outputs": [],
   "source": [
    "#function to return a df of real and predicted transacitons in eval period for dummy model\n",
    "def bgf_dummy_real_v_pred_df(ch):\n",
    "    df_ch = ch.df_ch_getdf()\n",
    "    dummy_ch_df = pd.DataFrame()\n",
    "    dummy_ch_df[\"purchases_per_period_cal\"] = df_ch[\"frequency_cal\"] + 1 #Total calibration days with purchases = calibration frequency + 1\n",
    "    dummy_ch_df[\"purchases_per_period_cal\"] = dummy_ch_df[\"purchases_per_period_cal\"]/ch.calib_range_days #Purchase rate\n",
    "    dummy_ch_df[\"dummy_pred_purchases_holdout\"] = dummy_ch_df[\"purchases_per_period_cal\"] * ch.eval_period #Predicting purchase rate to continue\n",
    "    dummy_ch_df[\"actual_purchases_holdout\"] = df_ch[\"frequency_holdout\"] #Total validation days with purchases = validation frequency\n",
    "    return dummy_ch_df"
   ]
  },
  {
   "cell_type": "markdown",
   "metadata": {},
   "source": [
    "### RFM data exploration "
   ]
  },
  {
   "cell_type": "code",
   "execution_count": 12,
   "metadata": {},
   "outputs": [
    {
     "data": {
      "text/html": [
       "<div>\n",
       "<style scoped>\n",
       "    .dataframe tbody tr th:only-of-type {\n",
       "        vertical-align: middle;\n",
       "    }\n",
       "\n",
       "    .dataframe tbody tr th {\n",
       "        vertical-align: top;\n",
       "    }\n",
       "\n",
       "    .dataframe thead th {\n",
       "        text-align: right;\n",
       "    }\n",
       "</style>\n",
       "<table border=\"1\" class=\"dataframe\">\n",
       "  <thead>\n",
       "    <tr style=\"text-align: right;\">\n",
       "      <th></th>\n",
       "      <th>frequency</th>\n",
       "      <th>recency</th>\n",
       "      <th>T</th>\n",
       "      <th>monetary_value</th>\n",
       "    </tr>\n",
       "    <tr>\n",
       "      <th>customer_unique_id</th>\n",
       "      <th></th>\n",
       "      <th></th>\n",
       "      <th></th>\n",
       "      <th></th>\n",
       "    </tr>\n",
       "  </thead>\n",
       "  <tbody>\n",
       "    <tr>\n",
       "      <th>0000366f3b9a7992bf8c76cfdf3221e2</th>\n",
       "      <td>0.0</td>\n",
       "      <td>0.0</td>\n",
       "      <td>160.0</td>\n",
       "      <td>0.0</td>\n",
       "    </tr>\n",
       "    <tr>\n",
       "      <th>0000b849f77a49e4a4ce2b2a4ca5be3f</th>\n",
       "      <td>0.0</td>\n",
       "      <td>0.0</td>\n",
       "      <td>163.0</td>\n",
       "      <td>0.0</td>\n",
       "    </tr>\n",
       "    <tr>\n",
       "      <th>0000f46a3911fa3c0805444483337064</th>\n",
       "      <td>0.0</td>\n",
       "      <td>0.0</td>\n",
       "      <td>586.0</td>\n",
       "      <td>0.0</td>\n",
       "    </tr>\n",
       "    <tr>\n",
       "      <th>0000f6ccb0745a6a4b88665a16c9f078</th>\n",
       "      <td>0.0</td>\n",
       "      <td>0.0</td>\n",
       "      <td>370.0</td>\n",
       "      <td>0.0</td>\n",
       "    </tr>\n",
       "    <tr>\n",
       "      <th>0004aac84e0df4da2b147fca70cf8255</th>\n",
       "      <td>0.0</td>\n",
       "      <td>0.0</td>\n",
       "      <td>337.0</td>\n",
       "      <td>0.0</td>\n",
       "    </tr>\n",
       "    <tr>\n",
       "      <th>...</th>\n",
       "      <td>...</td>\n",
       "      <td>...</td>\n",
       "      <td>...</td>\n",
       "      <td>...</td>\n",
       "    </tr>\n",
       "    <tr>\n",
       "      <th>fffcf5a5ff07b0908bd4e2dbc735a684</th>\n",
       "      <td>0.0</td>\n",
       "      <td>0.0</td>\n",
       "      <td>496.0</td>\n",
       "      <td>0.0</td>\n",
       "    </tr>\n",
       "    <tr>\n",
       "      <th>fffea47cd6d3cc0a88bd621562a9d061</th>\n",
       "      <td>0.0</td>\n",
       "      <td>0.0</td>\n",
       "      <td>311.0</td>\n",
       "      <td>0.0</td>\n",
       "    </tr>\n",
       "    <tr>\n",
       "      <th>ffff371b4d645b6ecea244b27531430a</th>\n",
       "      <td>0.0</td>\n",
       "      <td>0.0</td>\n",
       "      <td>617.0</td>\n",
       "      <td>0.0</td>\n",
       "    </tr>\n",
       "    <tr>\n",
       "      <th>ffff5962728ec6157033ef9805bacc48</th>\n",
       "      <td>0.0</td>\n",
       "      <td>0.0</td>\n",
       "      <td>168.0</td>\n",
       "      <td>0.0</td>\n",
       "    </tr>\n",
       "    <tr>\n",
       "      <th>ffffd2657e2aad2907e67c3e9daecbeb</th>\n",
       "      <td>0.0</td>\n",
       "      <td>0.0</td>\n",
       "      <td>533.0</td>\n",
       "      <td>0.0</td>\n",
       "    </tr>\n",
       "  </tbody>\n",
       "</table>\n",
       "<p>94989 rows × 4 columns</p>\n",
       "</div>"
      ],
      "text/plain": [
       "                                  frequency  recency      T  monetary_value\n",
       "customer_unique_id                                                         \n",
       "0000366f3b9a7992bf8c76cfdf3221e2        0.0      0.0  160.0             0.0\n",
       "0000b849f77a49e4a4ce2b2a4ca5be3f        0.0      0.0  163.0             0.0\n",
       "0000f46a3911fa3c0805444483337064        0.0      0.0  586.0             0.0\n",
       "0000f6ccb0745a6a4b88665a16c9f078        0.0      0.0  370.0             0.0\n",
       "0004aac84e0df4da2b147fca70cf8255        0.0      0.0  337.0             0.0\n",
       "...                                     ...      ...    ...             ...\n",
       "fffcf5a5ff07b0908bd4e2dbc735a684        0.0      0.0  496.0             0.0\n",
       "fffea47cd6d3cc0a88bd621562a9d061        0.0      0.0  311.0             0.0\n",
       "ffff371b4d645b6ecea244b27531430a        0.0      0.0  617.0             0.0\n",
       "ffff5962728ec6157033ef9805bacc48        0.0      0.0  168.0             0.0\n",
       "ffffd2657e2aad2907e67c3e9daecbeb        0.0      0.0  533.0             0.0\n",
       "\n",
       "[94989 rows x 4 columns]"
      ]
     },
     "execution_count": 12,
     "metadata": {},
     "output_type": "execute_result"
    }
   ],
   "source": [
    "summary = summary_data_from_transaction_data(transactions=lifetimes_object_df,customer_id_col='customer_unique_id',\n",
    "                                             datetime_col='order_purchase_timestamp',monetary_value_col='payment_value',observation_period_end='2018-10-17')\n",
    "summary"
   ]
  },
  {
   "cell_type": "code",
   "execution_count": 13,
   "metadata": {},
   "outputs": [
    {
     "data": {
      "text/plain": [
       "0.0     0.978261\n",
       "1.0     0.020097\n",
       "2.0     0.001305\n",
       "3.0     0.000189\n",
       "4.0     0.000063\n",
       "5.0     0.000053\n",
       "6.0     0.000021\n",
       "15.0    0.000011\n",
       "Name: frequency, dtype: float64"
      ]
     },
     "execution_count": 13,
     "metadata": {},
     "output_type": "execute_result"
    }
   ],
   "source": [
    "#We have less than 3% of customers who are repeat purchasers\n",
    "summary.frequency.value_counts(normalize=True)"
   ]
  },
  {
   "cell_type": "code",
   "execution_count": 14,
   "metadata": {},
   "outputs": [
    {
     "name": "stdout",
     "output_type": "stream",
     "text": [
      "customers without repeat purchases: 92924\n"
     ]
    }
   ],
   "source": [
    "#These customers cannot be used for analysis in your GG model bc they don't have repeat purchases\n",
    "print(f'customers without repeat purchases: {summary.frequency.value_counts()[0]}')"
   ]
  },
  {
   "cell_type": "code",
   "execution_count": 15,
   "metadata": {},
   "outputs": [
    {
     "data": {
      "text/plain": [
       "True"
      ]
     },
     "execution_count": 15,
     "metadata": {},
     "output_type": "execute_result"
    }
   ],
   "source": [
    "#create a list of repeat purchasers\n",
    "repeat_purchaser_ids = list(summary[summary[\"frequency\"] >= 1].index)\n",
    "#subset our transaction data to just repeat purchasers\n",
    "repeat_lifetimes_object_df = lifetimes_object_df[lifetimes_object_df[\"customer_unique_id\"].isin(repeat_purchaser_ids) == True]\n",
    "#repeat_lifetimes_object_df[\"order_purchase_timestamp\"] = pd.to_datetime(repeat_lifetimes_object_df[\"order_purchase_timestamp\"])\n",
    "#Checking we removed the correct number of user id's\n",
    "(len(lifetimes_object_df.customer_unique_id.unique()) - len(repeat_lifetimes_object_df.customer_unique_id.unique())) == summary.frequency.value_counts()[0]\n"
   ]
  },
  {
   "cell_type": "code",
   "execution_count": 16,
   "metadata": {},
   "outputs": [],
   "source": [
    "repeat_purchaser_summary = summary_data_from_transaction_data(transactions=repeat_lifetimes_object_df,customer_id_col='customer_unique_id',\n",
    "                                             datetime_col='order_purchase_timestamp',monetary_value_col='payment_value')\n"
   ]
  },
  {
   "cell_type": "code",
   "execution_count": 17,
   "metadata": {},
   "outputs": [
    {
     "data": {
      "text/plain": [
       "113.9720823244552"
      ]
     },
     "execution_count": 17,
     "metadata": {},
     "output_type": "execute_result"
    }
   ],
   "source": [
    "#Calculate the time between purchases\n",
    "inter_purchase_period = []\n",
    "for customer in repeat_purchaser_summary.index:\n",
    "    inter_purchase_period.append((repeat_purchaser_summary.loc[customer].recency/repeat_purchaser_summary.loc[customer].frequency))\n",
    "avg_inter_purchase_period = sum(inter_purchase_period)/len(inter_purchase_period)\n",
    "avg_inter_purchase_period"
   ]
  },
  {
   "cell_type": "code",
   "execution_count": 18,
   "metadata": {},
   "outputs": [
    {
     "data": {
      "text/plain": [
       "700"
      ]
     },
     "execution_count": 18,
     "metadata": {},
     "output_type": "execute_result"
    }
   ],
   "source": [
    "#From the documentation, for optimal fit, the training date range should cover at least 3 \n",
    "#but hopefully 5-10 inter-purchase periods\n",
    "#The holdout period should be at least half the training period\n",
    "total_date_range = (pd.to_datetime(repeat_lifetimes_object_df[\"order_purchase_timestamp\"]).max() - pd.to_datetime(repeat_lifetimes_object_df[\"order_purchase_timestamp\"]).min()).days\n",
    "total_date_range"
   ]
  },
  {
   "cell_type": "code",
   "execution_count": 19,
   "metadata": {},
   "outputs": [
    {
     "name": "stdout",
     "output_type": "stream",
     "text": [
      "holdout period given 4 inter period multiple: 244.1116707021792\n"
     ]
    }
   ],
   "source": [
    "# An inter_period_multiple of 4 works well and gives us a holdout period of about 240 days\n",
    "inter_period_multiple = 4\n",
    "print(f'holdout period given {inter_period_multiple} inter period multiple: {total_date_range-(avg_inter_purchase_period*4)}')"
   ]
  },
  {
   "cell_type": "code",
   "execution_count": 20,
   "metadata": {},
   "outputs": [
    {
     "data": {
      "text/html": [
       "<div>\n",
       "<style scoped>\n",
       "    .dataframe tbody tr th:only-of-type {\n",
       "        vertical-align: middle;\n",
       "    }\n",
       "\n",
       "    .dataframe tbody tr th {\n",
       "        vertical-align: top;\n",
       "    }\n",
       "\n",
       "    .dataframe thead th {\n",
       "        text-align: right;\n",
       "    }\n",
       "</style>\n",
       "<table border=\"1\" class=\"dataframe\">\n",
       "  <thead>\n",
       "    <tr style=\"text-align: right;\">\n",
       "      <th></th>\n",
       "      <th>monetary_value</th>\n",
       "      <th>frequency</th>\n",
       "    </tr>\n",
       "  </thead>\n",
       "  <tbody>\n",
       "    <tr>\n",
       "      <th>monetary_value</th>\n",
       "      <td>1.00000</td>\n",
       "      <td>-0.00049</td>\n",
       "    </tr>\n",
       "    <tr>\n",
       "      <th>frequency</th>\n",
       "      <td>-0.00049</td>\n",
       "      <td>1.00000</td>\n",
       "    </tr>\n",
       "  </tbody>\n",
       "</table>\n",
       "</div>"
      ],
      "text/plain": [
       "                monetary_value  frequency\n",
       "monetary_value         1.00000   -0.00049\n",
       "frequency             -0.00049    1.00000"
      ]
     },
     "execution_count": 20,
     "metadata": {},
     "output_type": "execute_result"
    }
   ],
   "source": [
    "#The Gamma-Gamma submodel, assumes no relationship between the monetary value and the purchase frequency. \n",
    "#The correlation between the two vectors is close to 0 so we can use this model.\n",
    "repeat_purchaser_summary[['monetary_value', 'frequency']].corr()"
   ]
  },
  {
   "cell_type": "code",
   "execution_count": 21,
   "metadata": {},
   "outputs": [],
   "source": [
    "#Load in our ch object with all data\n",
    "ch_1 = df_ch(eval_period=240,transaction_df=lifetimes_object_df,purchase_timestamp_col='order_purchase_timestamp',\n",
    "                   customer_id_col='customer_unique_id',datetime_col='order_purchase_timestamp',\n",
    "                   monetary_value_col='payment_value')"
   ]
  },
  {
   "cell_type": "code",
   "execution_count": 22,
   "metadata": {},
   "outputs": [],
   "source": [
    "#Load in our ch object with repeat purchaser data\n",
    "ch_2 = df_ch(eval_period=240,transaction_df=repeat_lifetimes_object_df,purchase_timestamp_col='order_purchase_timestamp',\n",
    "                   customer_id_col='customer_unique_id',datetime_col='order_purchase_timestamp',\n",
    "                   monetary_value_col='payment_value')"
   ]
  },
  {
   "cell_type": "code",
   "execution_count": 23,
   "metadata": {},
   "outputs": [],
   "source": [
    "#create an array to evaluate total purchases per customer in calib period\n",
    "repeat_lifetimes_object_df_ts = repeat_lifetimes_object_df\n",
    "repeat_lifetimes_object_df_ts[\"order_purchase_timestamp\"] = pd.to_datetime(repeat_lifetimes_object_df[\"order_purchase_timestamp\"])\n",
    "purchases_in_cal = repeat_lifetimes_object_df_ts[repeat_lifetimes_object_df_ts[\"order_purchase_timestamp\"]<=ch_2.max_calib_date]\n",
    "purchases_in_cal = purchases_in_cal[purchases_in_cal[\"order_purchase_timestamp\"]<=ch_2.max_calib_date].groupby(\"customer_unique_id\").nunique()[\"order_purchase_timestamp\"]\n",
    "purchases_in_cal.sort_values()\n",
    "purchases_in_cal = pd.DataFrame(purchases_in_cal)\n",
    "purchaser_id_in_cal = list(purchases_in_cal.index)"
   ]
  },
  {
   "cell_type": "code",
   "execution_count": 24,
   "metadata": {},
   "outputs": [],
   "source": [
    "#create an array to evaluate total purchases per customer in validation period\n",
    "purchases_in_val = repeat_lifetimes_object_df_ts[repeat_lifetimes_object_df_ts[\"order_purchase_timestamp\"]>ch_2.max_calib_date].groupby(\"customer_unique_id\").nunique()[\"order_purchase_timestamp\"]\n",
    "purchases_in_val.sort_values()\n",
    "purchases_in_val = pd.DataFrame(purchases_in_val)\n",
    "#subset to just those id's that appeared in our calib period\n",
    "purchases_in_val = purchases_in_val[purchases_in_val.index.isin(purchaser_id_in_cal)]"
   ]
  },
  {
   "cell_type": "code",
   "execution_count": 25,
   "metadata": {},
   "outputs": [],
   "source": [
    "#Get ch df from repeat purchaser ch object\n",
    "df_ch_2 = ch_2.df_ch_getdf()"
   ]
  },
  {
   "cell_type": "code",
   "execution_count": 26,
   "metadata": {},
   "outputs": [
    {
     "data": {
      "text/plain": [
       "True"
      ]
     },
     "execution_count": 26,
     "metadata": {},
     "output_type": "execute_result"
    }
   ],
   "source": [
    "#Confirming that a 'frequency' of 0.00 in calibration period means total purchases in that period = 1\n",
    "#Total calibration days with purchases = calibration frequency + 1\n",
    "purch = []\n",
    "for purchasers in df_ch_2[\"frequency_cal\"]:    \n",
    "    purch.append(purchasers+1)\n",
    "sum(purch) == purchases_in_cal[\"order_purchase_timestamp\"].sum()"
   ]
  },
  {
   "cell_type": "code",
   "execution_count": 27,
   "metadata": {},
   "outputs": [
    {
     "data": {
      "text/plain": [
       "False"
      ]
     },
     "execution_count": 27,
     "metadata": {},
     "output_type": "execute_result"
    }
   ],
   "source": [
    "#Attempting on holdout group\n",
    "#False bc these are repeat customers so we don't need to add +1\n",
    "purch = []\n",
    "for purchasers in df_ch_2[\"frequency_holdout\"]:    \n",
    "    purch.append(purchasers+1)\n",
    "sum(purch) == purchases_in_val[\"order_purchase_timestamp\"].sum()"
   ]
  },
  {
   "cell_type": "code",
   "execution_count": 28,
   "metadata": {},
   "outputs": [
    {
     "data": {
      "text/plain": [
       "True"
      ]
     },
     "execution_count": 28,
     "metadata": {},
     "output_type": "execute_result"
    }
   ],
   "source": [
    "#Total validation days with purchases = validation frequency\n",
    "sum(df_ch_2[\"frequency_holdout\"]) == purchases_in_val[\"order_purchase_timestamp\"].sum()"
   ]
  },
  {
   "cell_type": "markdown",
   "metadata": {},
   "source": [
    "###  Dummy model\n",
    "Model features\n",
    "- Predict purchases in holdout period based on the observed purchase rate in the calibration period\n",
    "\n",
    "Model results\n",
    "- Decent RMSE for all customers\n",
    "- Poor RMSE for repeat customer subset\n",
    "- The dummy model expects purchase rate to continue so you see it do very poorly predicting actual purchase rate for customers who had just one purchase in the calibration period."
   ]
  },
  {
   "cell_type": "code",
   "execution_count": 29,
   "metadata": {},
   "outputs": [
    {
     "name": "stdout",
     "output_type": "stream",
     "text": [
      " bgf dummy model RMSE w/ all data: 0.18670952242425554\n",
      " bgf dummy model RMSE w/ repeat cust only: 0.8206158691033689\n"
     ]
    }
   ],
   "source": [
    "print(f' bgf dummy model RMSE w/ all data: {bgf_dummy_model(ch_1)}')\n",
    "print(f' bgf dummy model RMSE w/ repeat cust only: {bgf_dummy_model(ch_2)}')"
   ]
  },
  {
   "cell_type": "code",
   "execution_count": 30,
   "metadata": {},
   "outputs": [],
   "source": [
    "#Return a dataframe with predicted and actual values using dummy model on repeat customers\n",
    "dummy_ch_df = pd.DataFrame()\n",
    "dummy_ch_df[\"frequency_cal\"] = df_ch_2[\"frequency_cal\"]\n",
    "#Add 1 to frequency to get total purchasers in calibration period\n",
    "dummy_ch_df[\"purchases_per_period_cal\"] = df_ch_2[\"frequency_cal\"] + 1\n",
    "#divide by purchases by n calibration days to get purchase rate\n",
    "dummy_ch_df[\"purchases_per_period_cal\"] = dummy_ch_df[\"purchases_per_period_cal\"]/ch_2.calib_range_days\n",
    "#multiply purchase rate by n evaluation days to get purchase per day\n",
    "dummy_ch_df[\"dummy_pred_purchases_holdout\"] = dummy_ch_df[\"purchases_per_period_cal\"] * ch_2.eval_period\n",
    "#Round the prediction to get an integer, purchases either happen or they don't\n",
    "dummy_ch_df[\"dummy_pred_purchases_holdout\"] = np.round(dummy_ch_df[\"dummy_pred_purchases_holdout\"])\n",
    "#Get actual purchases in validation period\n",
    "dummy_ch_df[\"actual_purchases_holdout\"] = df_ch_2[\"frequency_holdout\"]"
   ]
  },
  {
   "cell_type": "code",
   "execution_count": 31,
   "metadata": {},
   "outputs": [
    {
     "data": {
      "text/html": [
       "<div>\n",
       "<style scoped>\n",
       "    .dataframe tbody tr th:only-of-type {\n",
       "        vertical-align: middle;\n",
       "    }\n",
       "\n",
       "    .dataframe tbody tr th {\n",
       "        vertical-align: top;\n",
       "    }\n",
       "\n",
       "    .dataframe thead th {\n",
       "        text-align: right;\n",
       "    }\n",
       "</style>\n",
       "<table border=\"1\" class=\"dataframe\">\n",
       "  <thead>\n",
       "    <tr style=\"text-align: right;\">\n",
       "      <th></th>\n",
       "      <th>purchases_per_period_cal</th>\n",
       "      <th>dummy_pred_purchases_holdout</th>\n",
       "      <th>actual_purchases_holdout</th>\n",
       "    </tr>\n",
       "    <tr>\n",
       "      <th>frequency_cal</th>\n",
       "      <th></th>\n",
       "      <th></th>\n",
       "      <th></th>\n",
       "    </tr>\n",
       "  </thead>\n",
       "  <tbody>\n",
       "    <tr>\n",
       "      <th>0.0</th>\n",
       "      <td>623</td>\n",
       "      <td>623</td>\n",
       "      <td>623</td>\n",
       "    </tr>\n",
       "    <tr>\n",
       "      <th>1.0</th>\n",
       "      <td>711</td>\n",
       "      <td>711</td>\n",
       "      <td>711</td>\n",
       "    </tr>\n",
       "    <tr>\n",
       "      <th>2.0</th>\n",
       "      <td>38</td>\n",
       "      <td>38</td>\n",
       "      <td>38</td>\n",
       "    </tr>\n",
       "    <tr>\n",
       "      <th>3.0</th>\n",
       "      <td>9</td>\n",
       "      <td>9</td>\n",
       "      <td>9</td>\n",
       "    </tr>\n",
       "    <tr>\n",
       "      <th>4.0</th>\n",
       "      <td>2</td>\n",
       "      <td>2</td>\n",
       "      <td>2</td>\n",
       "    </tr>\n",
       "    <tr>\n",
       "      <th>8.0</th>\n",
       "      <td>1</td>\n",
       "      <td>1</td>\n",
       "      <td>1</td>\n",
       "    </tr>\n",
       "  </tbody>\n",
       "</table>\n",
       "</div>"
      ],
      "text/plain": [
       "               purchases_per_period_cal  dummy_pred_purchases_holdout  \\\n",
       "frequency_cal                                                           \n",
       "0.0                                 623                           623   \n",
       "1.0                                 711                           711   \n",
       "2.0                                  38                            38   \n",
       "3.0                                   9                             9   \n",
       "4.0                                   2                             2   \n",
       "8.0                                   1                             1   \n",
       "\n",
       "               actual_purchases_holdout  \n",
       "frequency_cal                            \n",
       "0.0                                 623  \n",
       "1.0                                 711  \n",
       "2.0                                  38  \n",
       "3.0                                   9  \n",
       "4.0                                   2  \n",
       "8.0                                   1  "
      ]
     },
     "execution_count": 31,
     "metadata": {},
     "output_type": "execute_result"
    }
   ],
   "source": [
    "#There are so few examples of customers with more than 4 purchases in the calibaration period that we should limit our\n",
    "#evaluation to 4 or fewer\n",
    "dummy_ch_df.groupby(\"frequency_cal\").count()"
   ]
  },
  {
   "cell_type": "code",
   "execution_count": 32,
   "metadata": {},
   "outputs": [
    {
     "data": {
      "image/png": "[encoded data removed]",
      "text/plain": [
       "<Figure size 720x360 with 1 Axes>"
      ]
     },
     "metadata": {
      "needs_background": "light"
     },
     "output_type": "display_data"
    }
   ],
   "source": [
    "#Plot a visual to demonstrate dummy model performance\n",
    "fig, ax = plt.subplots(figsize=(10,5))\n",
    "ax.plot(dummy_ch_df.groupby(\"frequency_cal\").mean()[\"actual_purchases_holdout\"],label=('frequency_holdout'))\n",
    "ax.plot(dummy_ch_df.groupby(\"frequency_cal\").mean()[\"dummy_pred_purchases_holdout\"],label=('dummy_model_pred'))\n",
    "ax.set_xlabel(\"Number of Calibration Period Transactions\")\n",
    "ax.set_ylabel(\"Average of Purchases in Holdout Period\")\n",
    "ax.set_title(\"Dummy Model Performance On Repeat Purchasers\")\n",
    "ax.set_xticks([0,1,2,3,4])\n",
    "ax.set_xlim(0,4)\n",
    "ax.set_yticks([0,1,2,3,4])\n",
    "ax.set_ylim(0,4)\n",
    "\n",
    "ax.legend()\n",
    "#Save figure as png\n",
    "plt.savefig(\"visuals/dummy_model_performance_repeat_purchasers.png\");"
   ]
  },
  {
   "cell_type": "markdown",
   "metadata": {},
   "source": [
    "###  1.0 BG/NBD model\n",
    "Model features\n",
    "- All customers including those with just 1 purchase\n",
    "\n",
    "Model results\n",
    "- Very strong RMSE\n",
    "- We significantly improved upon our dummy model\n",
    "- Our model doesn't suffer from the niave assumption that purchase rate will just continue\n",
    "\n",
    "Next steps\n",
    "- Attempt on subsetted data of customers with more than 1 purchase"
   ]
  },
  {
   "cell_type": "code",
   "execution_count": 33,
   "metadata": {},
   "outputs": [],
   "source": [
    "#Iniatialze df_ch \n",
    "df_ch_1 = ch_1.df_ch_getdf()"
   ]
  },
  {
   "cell_type": "code",
   "execution_count": 34,
   "metadata": {},
   "outputs": [],
   "source": [
    "#Iniatialize bgf model\n",
    "bgf_1 = BetaGeoFitter(penalizer_coef=0)"
   ]
  },
  {
   "cell_type": "code",
   "execution_count": 35,
   "metadata": {},
   "outputs": [
    {
     "name": "stdout",
     "output_type": "stream",
     "text": [
      "Optimization terminated successfully.\n",
      "         Current function value: 0.065817\n",
      "         Iterations: 60\n",
      "         Function evaluations: 63\n",
      "         Gradient evaluations: 63\n"
     ]
    },
    {
     "data": {
      "text/plain": [
       "<lifetimes.BetaGeoFitter: fitted with 44463 subjects, a: 1.85, alpha: 55.22, b: 0.32, r: 0.02>"
      ]
     },
     "execution_count": 35,
     "metadata": {},
     "output_type": "execute_result"
    }
   ],
   "source": [
    "#Fit model to df_ch\n",
    "bgf_1.fit(\n",
    "        frequency = df_ch_1[\"frequency_cal\"], \n",
    "        recency = df_ch_1[\"recency_cal\"], \n",
    "        T = df_ch_1[\"T_cal\"],   \n",
    "        weights = None,  \n",
    "        verbose = True)"
   ]
  },
  {
   "cell_type": "code",
   "execution_count": 36,
   "metadata": {},
   "outputs": [
    {
     "data": {
      "text/plain": [
       "0.1423220657607575"
      ]
     },
     "execution_count": 36,
     "metadata": {},
     "output_type": "execute_result"
    }
   ],
   "source": [
    "#Return rmse for first model\n",
    "bgf_1_rmse = bgf_rmse(ch_1,bgf_1)\n",
    "bgf_1_rmse"
   ]
  },
  {
   "cell_type": "code",
   "execution_count": 37,
   "metadata": {},
   "outputs": [
    {
     "data": {
      "text/html": [
       "<div>\n",
       "<style scoped>\n",
       "    .dataframe tbody tr th:only-of-type {\n",
       "        vertical-align: middle;\n",
       "    }\n",
       "\n",
       "    .dataframe tbody tr th {\n",
       "        vertical-align: top;\n",
       "    }\n",
       "\n",
       "    .dataframe thead th {\n",
       "        text-align: right;\n",
       "    }\n",
       "</style>\n",
       "<table border=\"1\" class=\"dataframe\">\n",
       "  <thead>\n",
       "    <tr style=\"text-align: right;\">\n",
       "      <th></th>\n",
       "      <th>recency_cal</th>\n",
       "      <th>T_cal</th>\n",
       "      <th>monetary_value_cal</th>\n",
       "      <th>frequency_holdout</th>\n",
       "      <th>monetary_value_holdout</th>\n",
       "      <th>duration_holdout</th>\n",
       "    </tr>\n",
       "    <tr>\n",
       "      <th>frequency_cal</th>\n",
       "      <th></th>\n",
       "      <th></th>\n",
       "      <th></th>\n",
       "      <th></th>\n",
       "      <th></th>\n",
       "      <th></th>\n",
       "    </tr>\n",
       "  </thead>\n",
       "  <tbody>\n",
       "    <tr>\n",
       "      <th>0.0</th>\n",
       "      <td>43702</td>\n",
       "      <td>43702</td>\n",
       "      <td>43702</td>\n",
       "      <td>43702</td>\n",
       "      <td>43702</td>\n",
       "      <td>43702</td>\n",
       "    </tr>\n",
       "    <tr>\n",
       "      <th>1.0</th>\n",
       "      <td>711</td>\n",
       "      <td>711</td>\n",
       "      <td>711</td>\n",
       "      <td>711</td>\n",
       "      <td>711</td>\n",
       "      <td>711</td>\n",
       "    </tr>\n",
       "    <tr>\n",
       "      <th>2.0</th>\n",
       "      <td>38</td>\n",
       "      <td>38</td>\n",
       "      <td>38</td>\n",
       "      <td>38</td>\n",
       "      <td>38</td>\n",
       "      <td>38</td>\n",
       "    </tr>\n",
       "    <tr>\n",
       "      <th>3.0</th>\n",
       "      <td>9</td>\n",
       "      <td>9</td>\n",
       "      <td>9</td>\n",
       "      <td>9</td>\n",
       "      <td>9</td>\n",
       "      <td>9</td>\n",
       "    </tr>\n",
       "    <tr>\n",
       "      <th>4.0</th>\n",
       "      <td>2</td>\n",
       "      <td>2</td>\n",
       "      <td>2</td>\n",
       "      <td>2</td>\n",
       "      <td>2</td>\n",
       "      <td>2</td>\n",
       "    </tr>\n",
       "    <tr>\n",
       "      <th>8.0</th>\n",
       "      <td>1</td>\n",
       "      <td>1</td>\n",
       "      <td>1</td>\n",
       "      <td>1</td>\n",
       "      <td>1</td>\n",
       "      <td>1</td>\n",
       "    </tr>\n",
       "  </tbody>\n",
       "</table>\n",
       "</div>"
      ],
      "text/plain": [
       "               recency_cal  T_cal  monetary_value_cal  frequency_holdout  \\\n",
       "frequency_cal                                                              \n",
       "0.0                  43702  43702               43702              43702   \n",
       "1.0                    711    711                 711                711   \n",
       "2.0                     38     38                  38                 38   \n",
       "3.0                      9      9                   9                  9   \n",
       "4.0                      2      2                   2                  2   \n",
       "8.0                      1      1                   1                  1   \n",
       "\n",
       "               monetary_value_holdout  duration_holdout  \n",
       "frequency_cal                                            \n",
       "0.0                             43702             43702  \n",
       "1.0                               711               711  \n",
       "2.0                                38                38  \n",
       "3.0                                 9                 9  \n",
       "4.0                                 2                 2  \n",
       "8.0                                 1                 1  "
      ]
     },
     "execution_count": 37,
     "metadata": {},
     "output_type": "execute_result"
    }
   ],
   "source": [
    "#There are so few examples of customers with more than 4 purchases in the calibaration period that we should limit our\n",
    "#evaluation to 4 or fewer\n",
    "df_ch_1.groupby(\"frequency_cal\").count()"
   ]
  },
  {
   "cell_type": "code",
   "execution_count": 38,
   "metadata": {},
   "outputs": [
    {
     "data": {
      "image/png": "[encoded data removed]",
      "text/plain": [
       "<Figure size 432x288 with 1 Axes>"
      ]
     },
     "metadata": {
      "needs_background": "light"
     },
     "output_type": "display_data"
    }
   ],
   "source": [
    "#Our model accurately esimates n purchases with in the calibation period\n",
    "plot_period_transactions(bgf_1);"
   ]
  },
  {
   "cell_type": "code",
   "execution_count": 39,
   "metadata": {},
   "outputs": [
    {
     "data": {
      "text/plain": [
       "<Figure size 720x360 with 0 Axes>"
      ]
     },
     "metadata": {},
     "output_type": "display_data"
    },
    {
     "data": {
      "image/png": "[encoded data removed]",
      "text/plain": [
       "<Figure size 432x288 with 1 Axes>"
      ]
     },
     "metadata": {
      "needs_background": "light"
     },
     "output_type": "display_data"
    }
   ],
   "source": [
    "# testing: predicted vs actual purchases in holdout period\n",
    "fig = plt.figure(figsize=(10, 5)) \n",
    "fig = plot_calibration_purchases_vs_holdout_purchases(bgf_1, df_ch_1)\n",
    "\n",
    "fig.set_xticks([0,1,2,3,4])\n",
    "fig.set_xlim(0,4)\n",
    "fig.set_yticks([0,1,2,3,4])\n",
    "fig.set_ylim(0,4);"
   ]
  },
  {
   "cell_type": "markdown",
   "metadata": {},
   "source": [
    "###  2.0 BG/NBD model\n",
    "Model features\n",
    "- Subsetted data of customers with more than 1 purchase\n",
    "\n",
    "Model results\n",
    "- This is our best model\n",
    "- Our model is less accurate on this subset of repeat customers bc we can't inflate accuracy with the signficant n of correct 0 purchase perdictions that \n",
    "- That said, this model did much better than our dummy model did on repeat customers\n",
    "\n",
    "Next steps\n",
    "- Attempt regularization"
   ]
  },
  {
   "cell_type": "code",
   "execution_count": 40,
   "metadata": {},
   "outputs": [],
   "source": [
    "#Iniatialze df_ch \n",
    "df_ch_2 = ch_2.df_ch_getdf()"
   ]
  },
  {
   "cell_type": "code",
   "execution_count": 41,
   "metadata": {},
   "outputs": [],
   "source": [
    "#Iniatialize bgf model\n",
    "bgf_2 = BetaGeoFitter(penalizer_coef=0)"
   ]
  },
  {
   "cell_type": "code",
   "execution_count": 42,
   "metadata": {},
   "outputs": [
    {
     "name": "stdout",
     "output_type": "stream",
     "text": [
      "Optimization terminated successfully.\n",
      "         Current function value: 0.095057\n",
      "         Iterations: 29\n",
      "         Function evaluations: 31\n",
      "         Gradient evaluations: 31\n"
     ]
    },
    {
     "data": {
      "text/plain": [
       "<lifetimes.BetaGeoFitter: fitted with 1384 subjects, a: 1.82, alpha: 135.02, b: 0.25, r: 1.13>"
      ]
     },
     "execution_count": 42,
     "metadata": {},
     "output_type": "execute_result"
    }
   ],
   "source": [
    "#Fit model to df_ch\n",
    "bgf_2.fit(\n",
    "        frequency = df_ch_2[\"frequency_cal\"], \n",
    "        recency = df_ch_2[\"recency_cal\"], \n",
    "        T = df_ch_2[\"T_cal\"],   \n",
    "        weights = None,  \n",
    "        verbose = True)"
   ]
  },
  {
   "cell_type": "code",
   "execution_count": 43,
   "metadata": {},
   "outputs": [
    {
     "data": {
      "text/plain": [
       "0.5049712698648924"
      ]
     },
     "execution_count": 43,
     "metadata": {},
     "output_type": "execute_result"
    }
   ],
   "source": [
    "bgf_2_rmse = bgf_rmse(ch_2,bgf_2)\n",
    "bgf_2_rmse"
   ]
  },
  {
   "cell_type": "code",
   "execution_count": 44,
   "metadata": {},
   "outputs": [
    {
     "data": {
      "image/png": "[encoded data removed]",
      "text/plain": [
       "<Figure size 432x288 with 1 Axes>"
      ]
     },
     "metadata": {
      "needs_background": "light"
     },
     "output_type": "display_data"
    }
   ],
   "source": [
    "plot_period_transactions(bgf_2);"
   ]
  },
  {
   "cell_type": "code",
   "execution_count": 45,
   "metadata": {},
   "outputs": [
    {
     "data": {
      "image/png": "[encoded data removed]",
      "text/plain": [
       "<Figure size 720x360 with 1 Axes>"
      ]
     },
     "metadata": {
      "needs_background": "light"
     },
     "output_type": "display_data"
    }
   ],
   "source": [
    "# testing: predicted vs actual purchases in holdout period \n",
    "fig = plot_calibration_purchases_vs_holdout_purchases(bgf_2, df_ch_2,figsize=(10, 5))\n",
    "fig.set_xticks([0,1,2,3,4])\n",
    "fig.set_xlim(0,4)\n",
    "fig.set_yticks([0,1,2,3,4])\n",
    "fig.set_ylim(0,4);\n",
    "#Save figure as png\n",
    "plt.savefig(\"visuals/final_bgf_model_performance.png\");"
   ]
  },
  {
   "cell_type": "markdown",
   "metadata": {},
   "source": [
    "###  3.0 BG/NBD model\n",
    "Model features\n",
    "- Subsetted data of customers with more than 1 purchase\n",
    "- Regularization in the form of l2 penalty\n",
    "\n",
    "Model results\n",
    "- Zero regularization produced the best result\n",
    "\n",
    "Next steps\n",
    "- Attempt regularization on full data set"
   ]
  },
  {
   "cell_type": "code",
   "execution_count": 46,
   "metadata": {},
   "outputs": [
    {
     "name": "stdout",
     "output_type": "stream",
     "text": [
      "bgf_3_0 0.5049712698648924\n",
      "bgf_3_001 0.5054428215807601\n",
      "bgf_3_05 0.6197923245381787\n",
      "bgf_3_01 0.543172978035297\n",
      "bgf_3_015 0.5577988977075885\n"
     ]
    }
   ],
   "source": [
    "#Documentation says that penalties in the order of 0.001 to 0.1 are effective\n",
    "penalizer_coef_grid = {\"bgf_3_0\":0,\"bgf_3_001\":0.001,\"bgf_3_05\":0.05,\"bgf_3_01\":.01,\"bgf_3_015\":.015}\n",
    "for penalizer in penalizer_coef_grid:\n",
    "    model = BetaGeoFitter(penalizer_coef=penalizer_coef_grid[penalizer])\n",
    "    model.fit(\n",
    "        frequency = df_ch_2[\"frequency_cal\"], \n",
    "        recency = df_ch_2[\"recency_cal\"], \n",
    "        T = df_ch_2[\"T_cal\"],   \n",
    "        weights = None,  \n",
    "        verbose = False)\n",
    "    print(f'{penalizer} {bgf_rmse(ch_2,model)}')"
   ]
  },
  {
   "cell_type": "markdown",
   "metadata": {},
   "source": [
    "###  4.0 BG/NBD model\n",
    "Model features\n",
    "- All customers including those with just 1 purchase\n",
    "- Regularization in the form of l2 penalty\n",
    "\n",
    "Model results\n",
    "- Zero regularization produced the best result\n",
    "\n",
    "Next steps\n",
    "- Bring in a Gama Gama model to predict LTV using our best model that has 0 regularization\n"
   ]
  },
  {
   "cell_type": "code",
   "execution_count": 47,
   "metadata": {},
   "outputs": [
    {
     "name": "stdout",
     "output_type": "stream",
     "text": [
      "bgf_3_0 0.1423220657607575\n",
      "bgf_3_001 0.1469498734889828\n",
      "bgf_3_05 0.1639692144239852\n",
      "bgf_3_01 0.15561347485601168\n",
      "bgf_3_015 0.15753830802505678\n"
     ]
    }
   ],
   "source": [
    "for penalizer in penalizer_coef_grid:\n",
    "    model = BetaGeoFitter(penalizer_coef=penalizer_coef_grid[penalizer])\n",
    "    model.fit(\n",
    "        frequency = df_ch_1[\"frequency_cal\"], \n",
    "        recency = df_ch_1[\"recency_cal\"], \n",
    "        T = df_ch_1[\"T_cal\"],   \n",
    "        weights = None,  \n",
    "        verbose = False)\n",
    "    print(f'{penalizer} {bgf_rmse(ch_1,model)}')"
   ]
  },
  {
   "cell_type": "markdown",
   "metadata": {},
   "source": [
    "###  1.0 GG model\n",
    "Model features\n",
    "- Customers with monetary values in training and validation periods\n",
    "- Minimal regularization\n",
    "\n",
    "Model results\n",
    "- Pretty good RMSE of less than $10\n"
   ]
  },
  {
   "cell_type": "code",
   "execution_count": 48,
   "metadata": {
    "scrolled": true
   },
   "outputs": [
    {
     "data": {
      "text/html": [
       "<div>\n",
       "<style scoped>\n",
       "    .dataframe tbody tr th:only-of-type {\n",
       "        vertical-align: middle;\n",
       "    }\n",
       "\n",
       "    .dataframe tbody tr th {\n",
       "        vertical-align: top;\n",
       "    }\n",
       "\n",
       "    .dataframe thead th {\n",
       "        text-align: right;\n",
       "    }\n",
       "</style>\n",
       "<table border=\"1\" class=\"dataframe\">\n",
       "  <thead>\n",
       "    <tr style=\"text-align: right;\">\n",
       "      <th></th>\n",
       "      <th>frequency_cal</th>\n",
       "      <th>recency_cal</th>\n",
       "      <th>T_cal</th>\n",
       "      <th>monetary_value_cal</th>\n",
       "      <th>frequency_holdout</th>\n",
       "      <th>monetary_value_holdout</th>\n",
       "      <th>duration_holdout</th>\n",
       "    </tr>\n",
       "    <tr>\n",
       "      <th>customer_unique_id</th>\n",
       "      <th></th>\n",
       "      <th></th>\n",
       "      <th></th>\n",
       "      <th></th>\n",
       "      <th></th>\n",
       "      <th></th>\n",
       "      <th></th>\n",
       "    </tr>\n",
       "  </thead>\n",
       "  <tbody>\n",
       "    <tr>\n",
       "      <th>041caba6a63ace5818387698ea85cdb2</th>\n",
       "      <td>1.0</td>\n",
       "      <td>247.0</td>\n",
       "      <td>297.0</td>\n",
       "      <td>51.73</td>\n",
       "      <td>1.0</td>\n",
       "      <td>71.78</td>\n",
       "      <td>240.0</td>\n",
       "    </tr>\n",
       "    <tr>\n",
       "      <th>083ca1aa470c280236380973a48f77c6</th>\n",
       "      <td>2.0</td>\n",
       "      <td>19.0</td>\n",
       "      <td>162.0</td>\n",
       "      <td>86.96</td>\n",
       "      <td>1.0</td>\n",
       "      <td>105.29</td>\n",
       "      <td>240.0</td>\n",
       "    </tr>\n",
       "    <tr>\n",
       "      <th>0b18593e033697810a62a987e77f4b8c</th>\n",
       "      <td>1.0</td>\n",
       "      <td>12.0</td>\n",
       "      <td>218.0</td>\n",
       "      <td>73.34</td>\n",
       "      <td>1.0</td>\n",
       "      <td>63.13</td>\n",
       "      <td>240.0</td>\n",
       "    </tr>\n",
       "    <tr>\n",
       "      <th>1b6c7548a2a1f9037c1fd3ddfed95f33</th>\n",
       "      <td>4.0</td>\n",
       "      <td>37.0</td>\n",
       "      <td>54.0</td>\n",
       "      <td>138.31</td>\n",
       "      <td>2.0</td>\n",
       "      <td>176.81</td>\n",
       "      <td>240.0</td>\n",
       "    </tr>\n",
       "    <tr>\n",
       "      <th>1da09dd64e235e7c2f29a4faff33535c</th>\n",
       "      <td>1.0</td>\n",
       "      <td>71.0</td>\n",
       "      <td>241.0</td>\n",
       "      <td>859.36</td>\n",
       "      <td>1.0</td>\n",
       "      <td>830.64</td>\n",
       "      <td>240.0</td>\n",
       "    </tr>\n",
       "  </tbody>\n",
       "</table>\n",
       "</div>"
      ],
      "text/plain": [
       "                                  frequency_cal  recency_cal  T_cal  \\\n",
       "customer_unique_id                                                    \n",
       "041caba6a63ace5818387698ea85cdb2            1.0        247.0  297.0   \n",
       "083ca1aa470c280236380973a48f77c6            2.0         19.0  162.0   \n",
       "0b18593e033697810a62a987e77f4b8c            1.0         12.0  218.0   \n",
       "1b6c7548a2a1f9037c1fd3ddfed95f33            4.0         37.0   54.0   \n",
       "1da09dd64e235e7c2f29a4faff33535c            1.0         71.0  241.0   \n",
       "\n",
       "                                  monetary_value_cal  frequency_holdout  \\\n",
       "customer_unique_id                                                        \n",
       "041caba6a63ace5818387698ea85cdb2               51.73                1.0   \n",
       "083ca1aa470c280236380973a48f77c6               86.96                1.0   \n",
       "0b18593e033697810a62a987e77f4b8c               73.34                1.0   \n",
       "1b6c7548a2a1f9037c1fd3ddfed95f33              138.31                2.0   \n",
       "1da09dd64e235e7c2f29a4faff33535c              859.36                1.0   \n",
       "\n",
       "                                  monetary_value_holdout  duration_holdout  \n",
       "customer_unique_id                                                          \n",
       "041caba6a63ace5818387698ea85cdb2                   71.78             240.0  \n",
       "083ca1aa470c280236380973a48f77c6                  105.29             240.0  \n",
       "0b18593e033697810a62a987e77f4b8c                   63.13             240.0  \n",
       "1b6c7548a2a1f9037c1fd3ddfed95f33                  176.81             240.0  \n",
       "1da09dd64e235e7c2f29a4faff33535c                  830.64             240.0  "
      ]
     },
     "execution_count": 48,
     "metadata": {},
     "output_type": "execute_result"
    }
   ],
   "source": [
    "#Subset our data-set to ensure there are monetary values in both calibration and holdout periods\n",
    "df_ch_2_subset = df_ch_2[df_ch_2[\"monetary_value_cal\"]>0]\n",
    "df_ch_2_subset = df_ch_2_subset[df_ch_2_subset[\"monetary_value_holdout\"]>0]\n",
    "df_ch_2_subset.head()"
   ]
  },
  {
   "cell_type": "code",
   "execution_count": 49,
   "metadata": {},
   "outputs": [
    {
     "data": {
      "text/plain": [
       "<lifetimes.GammaGammaFitter: fitted with 51 subjects, p: 10.43, q: 1.27, v: 9.91>"
      ]
     },
     "execution_count": 49,
     "metadata": {},
     "output_type": "execute_result"
    }
   ],
   "source": [
    "#Fitting our model using a minimal penalizer\n",
    "gg_1 = GammaGammaFitter(penalizer_coef = 0.001)\n",
    "gg_1.fit(frequency=df_ch_2_subset[\"frequency_cal\"],monetary_value=df_ch_2_subset[\"monetary_value_cal\"])"
   ]
  },
  {
   "cell_type": "code",
   "execution_count": 50,
   "metadata": {},
   "outputs": [
    {
     "data": {
      "text/plain": [
       "count     51.000000\n",
       "mean     138.458452\n",
       "std      136.872379\n",
       "min       43.713787\n",
       "25%       68.512605\n",
       "50%      100.035614\n",
       "75%      143.295964\n",
       "max      819.621051\n",
       "dtype: float64"
      ]
     },
     "execution_count": 50,
     "metadata": {},
     "output_type": "execute_result"
    }
   ],
   "source": [
    "predicted_monetary_value = gg_1.conditional_expected_average_profit(frequency=df_ch_2_subset[\"frequency_holdout\"],monetary_value=df_ch_2_subset[\"monetary_value_holdout\"])\n",
    "predicted_monetary_value.describe()"
   ]
  },
  {
   "cell_type": "code",
   "execution_count": 51,
   "metadata": {},
   "outputs": [
    {
     "data": {
      "text/plain": [
       "6.6272680278896345"
      ]
     },
     "execution_count": 51,
     "metadata": {},
     "output_type": "execute_result"
    }
   ],
   "source": [
    "#Return mean squared error\n",
    "mean_squared_error(y_true=df_ch_2_subset[\"monetary_value_holdout\"],y_pred=gg_1.conditional_expected_average_profit(frequency=df_ch_2_subset[\"frequency_holdout\"],monetary_value=df_ch_2_subset[\"monetary_value_holdout\"]),squared=False)"
   ]
  },
  {
   "cell_type": "markdown",
   "metadata": {},
   "source": [
    "### Predicting LTV For Return Customers"
   ]
  },
  {
   "cell_type": "code",
   "execution_count": 53,
   "metadata": {},
   "outputs": [
    {
     "data": {
      "text/plain": [
       "customer_unique_id\n",
       "004288347e5e88a27ded2bb23747066c    109.322507\n",
       "004b45ec5c64187465168251cd1c9c2f     57.581044\n",
       "00a39521eb40f7012db50455bf083460     35.240120\n",
       "011575986092c30523ecb71ff10cb473     87.088107\n",
       "011b4adcd54683b480c4d841250a987f    154.449817\n",
       "dtype: float64"
      ]
     },
     "execution_count": 53,
     "metadata": {},
     "output_type": "execute_result"
    }
   ],
   "source": [
    "#subset the summary data to just return customers, GG models do not accept a freq of zero\n",
    "return_cust_summary = summary[summary[\"frequency\"]>0]\n",
    "#fit the GG model\n",
    "final_gg = GammaGammaFitter(penalizer_coef = 0.001)\n",
    "final_gg.fit(return_cust_summary['frequency'],\n",
    "        return_cust_summary['monetary_value'])\n",
    "#We can now estimate the average transaction value:\n",
    "final_gg.conditional_expected_average_profit(\n",
    "        return_cust_summary['frequency'],\n",
    "        return_cust_summary['monetary_value']).head()\n"
   ]
  },
  {
   "cell_type": "code",
   "execution_count": 54,
   "metadata": {},
   "outputs": [
    {
     "data": {
      "text/plain": [
       "customer_unique_id\n",
       "004288347e5e88a27ded2bb23747066c     1.409494\n",
       "004b45ec5c64187465168251cd1c9c2f     2.254568\n",
       "00a39521eb40f7012db50455bf083460     1.340857\n",
       "011575986092c30523ecb71ff10cb473     2.268554\n",
       "011b4adcd54683b480c4d841250a987f     2.587308\n",
       "                                      ...    \n",
       "fed519569d16e690df6f89cb99d4e682     2.361546\n",
       "ff03923ad1eb9e32304deb7f9b2a45c9     4.613806\n",
       "ff22e30958c13ffe219db7d711e8f564    14.792828\n",
       "ff8892f7c26aa0446da53d01b18df463     0.655308\n",
       "ff922bdd6bafcdf99cb90d7f39cea5b3     1.226947\n",
       "Name: clv, Length: 2065, dtype: float64"
      ]
     },
     "execution_count": 54,
     "metadata": {},
     "output_type": "execute_result"
    }
   ],
   "source": [
    "#Now we'll estimate LTV over the next 12 months\n",
    "prediction_period = 12\n",
    "# refit the bgf model to the full return customer data-set\n",
    "bgf_2.fit(return_cust_summary['frequency'], return_cust_summary['recency'], return_cust_summary['T'])\n",
    "\n",
    "ltv_predictions = final_gg.customer_lifetime_value(\n",
    "    bgf_2, #our best bgf model\n",
    "    return_cust_summary['frequency'],\n",
    "    return_cust_summary['recency'],\n",
    "    return_cust_summary['T'],\n",
    "    return_cust_summary['monetary_value'],\n",
    "    time=prediction_period, # months\n",
    "    discount_rate=0.0, # monthly discount rate ~ 12.7% annually\n",
    "    freq =\"D\"\n",
    ")\n",
    "ltv_predictions"
   ]
  },
  {
   "cell_type": "code",
   "execution_count": 55,
   "metadata": {},
   "outputs": [
    {
     "name": "stdout",
     "output_type": "stream",
     "text": [
      "total revenue from return customers in next 365 days 12625.0\n"
     ]
    }
   ],
   "source": [
    "print(f'total revenue from return customers in next 365 days {np.round(sum(ltv_predictions))}')"
   ]
  },
  {
   "cell_type": "markdown",
   "metadata": {},
   "source": [
    "### Visuals"
   ]
  },
  {
   "cell_type": "code",
   "execution_count": 56,
   "metadata": {},
   "outputs": [
    {
     "data": {
      "text/plain": [
       "''"
      ]
     },
     "execution_count": 56,
     "metadata": {},
     "output_type": "execute_result"
    },
    {
     "data": {
      "image/png": "[encoded data removed]",
      "text/plain": [
       "<Figure size 720x360 with 1 Axes>"
      ]
     },
     "metadata": {
      "needs_background": "light"
     },
     "output_type": "display_data"
    }
   ],
   "source": [
    "#Plot a histogram of our ltv predictions\n",
    "fig, ax = plt.subplots(figsize=(10,5))\n",
    "ax.hist(ltv_predictions)\n",
    "ax.set_xbound(0,80)\n",
    "ax.set_title(\"CLV In Next 365 Days\")\n",
    "ax.set_ylabel(\"Customer Count\")\n",
    "ax.set_xlabel(\"Predicted CLV\")\n",
    ";"
   ]
  },
  {
   "cell_type": "code",
   "execution_count": 87,
   "metadata": {},
   "outputs": [],
   "source": [
    "#Get a list of predicted CLV for n months in the future\n",
    "prediction_period = 12\n",
    "clv_sum_per_day = []\n",
    "date_range = [*range(1, (prediction_period)+1, 1)]\n",
    "for days in date_range:\n",
    "    ltv_predictions = final_gg.customer_lifetime_value(\n",
    "    bgf_2, #our best bgf model\n",
    "    return_cust_summary['frequency'],\n",
    "    return_cust_summary['recency'],\n",
    "    return_cust_summary['T'],\n",
    "    return_cust_summary['monetary_value'],\n",
    "    time=days, # months\n",
    "    discount_rate=0.0, # monthly discount rate ~ 12.7% annually\n",
    "    freq =\"D\"\n",
    ")\n",
    "    clv_sum_per_day.append(sum(ltv_predictions))"
   ]
  },
  {
   "cell_type": "code",
   "execution_count": 79,
   "metadata": {},
   "outputs": [
    {
     "data": {
      "text/plain": [
       "''"
      ]
     },
     "execution_count": 79,
     "metadata": {},
     "output_type": "execute_result"
    },
    {
     "data": {
      "image/png": "[encoded data removed]",
      "text/plain": [
       "<Figure size 720x360 with 1 Axes>"
      ]
     },
     "metadata": {
      "needs_background": "light"
     },
     "output_type": "display_data"
    }
   ],
   "source": [
    "#Plot a line graph of cumulative CLV over the prediction period\n",
    "fig, ax = plt.subplots(figsize=(10,5))\n",
    "ax.plot(date_range,clv_sum_per_day)\n",
    "ax.set_title(\"Cumulative CLV Next 12 Months\")\n",
    "ax.set_ylabel(\"Cumulative CLV\")\n",
    "ax.set_xlabel(\"Months in The Future\")\n",
    "plt.savefig(\"visuals/cumulative_clv_future.png\")\n",
    ";"
   ]
  },
  {
   "cell_type": "code",
   "execution_count": 81,
   "metadata": {},
   "outputs": [
    {
     "data": {
      "image/png": "[encoded data removed]",
      "text/plain": [
       "<Figure size 720x576 with 2 Axes>"
      ]
     },
     "metadata": {
      "needs_background": "light"
     },
     "output_type": "display_data"
    }
   ],
   "source": [
    "from lifetimes.plotting import plot_frequency_recency_matrix\n",
    "fig = plt.figure(figsize=(10,8))\n",
    "fig = plot_frequency_recency_matrix(bgf_2,T=365)\n",
    "fig.set_title(\"Expected Purchases In Next 365 Days\");\n",
    "plt.savefig(\"visuals/expected_purchases_matrix.png\")\n"
   ]
  },
  {
   "cell_type": "code",
   "execution_count": 82,
   "metadata": {},
   "outputs": [
    {
     "data": {
      "image/png": "[encoded data removed]",
      "text/plain": [
       "<Figure size 720x576 with 2 Axes>"
      ]
     },
     "metadata": {
      "needs_background": "light"
     },
     "output_type": "display_data"
    }
   ],
   "source": [
    "from lifetimes.plotting import plot_probability_alive_matrix\n",
    "fig = plt.figure(figsize=(10,8))\n",
    "fig = plot_probability_alive_matrix(bgf_2)\n",
    "fig.set_title(\"Probability Customer Is Active\");\n",
    "plt.savefig(\"visuals/probability_active_matrix.png\")"
   ]
  },
  {
   "cell_type": "code",
   "execution_count": 83,
   "metadata": {},
   "outputs": [
    {
     "data": {
      "image/png": "[encoded data removed]",
      "text/plain": [
       "<Figure size 720x576 with 1 Axes>"
      ]
     },
     "metadata": {
      "needs_background": "light"
     },
     "output_type": "display_data"
    }
   ],
   "source": [
    "import scipy.stats as stats\n",
    "fig, ax_gamma = plt.subplots(figsize = (10, 8))\n",
    "\n",
    "x_gamma = np.linspace(0, 10, 1000)\n",
    "y_gamma = stats.gamma.pdf(x_gamma, a=bgf_1.params_[\"alpha\"], scale=bgf_1.params_[\"r\"])\n",
    "ax_gamma.plot(x_gamma, y_gamma, \"-\")\n",
    "ax_gamma.set_title(f'Gamma: Purchase rate distribution (alpha = {bgf_1.params_[\"alpha\"]:.2f}, scale (r)  = {bgf_1.params_[\"r\"]:.2f})')\n",
    "ax_gamma.set_xlabel(r\"Purchases Per Day \" '($\\lambda$)')\n",
    "ax_gamma.set_ylabel(r'$P(\\lambda)$')\n",
    "ax_gamma.set_xbound(0,4)\n",
    "ax_gamma.set_xticks([0,1,2,3,4]);\n",
    "plt.savefig(\"visuals/gamma_purchase_rate_dist.png\")\n"
   ]
  },
  {
   "cell_type": "code",
   "execution_count": 84,
   "metadata": {},
   "outputs": [
    {
     "data": {
      "image/png": "[encoded data removed]",
      "text/plain": [
       "<Figure size 720x576 with 1 Axes>"
      ]
     },
     "metadata": {
      "needs_background": "light"
     },
     "output_type": "display_data"
    }
   ],
   "source": [
    "\n",
    "fig, ax_beta = plt.subplots(figsize = (10, 8))\n",
    "x_beta = np.linspace(0, 1, 100)\n",
    "y_beta = stats.beta.pdf(x_beta, a=bgf_1.params_[\"a\"], b=bgf_1.params_[\"b\"])\n",
    "ax_beta.plot(x_beta, y_beta, \"-\")\n",
    "ax_beta.set_title(f'Beta: De-activate risk distrobution (a = {bgf_1.params_[\"a\"]:.2f}, b  = {bgf_1.params_[\"b\"]:.2f})')\n",
    "ax_beta.set_xlabel(\"Probability de-activate after purchase (p)\" )\n",
    "ax_beta.set_ylabel('P(p)')\n",
    "plt.savefig(\"visuals/beta_deactivate_risk_dist.png\")\n"
   ]
  },
  {
   "cell_type": "markdown",
   "metadata": {},
   "source": [
    "#### Pipelines\n",
    "Train/Test eval\n",
    "1. clean_transaction_csv\n",
    "2. df_ch\n",
    "3. df_ch_getdf\n",
    "\n",
    "Final\n",
    "1. clean_transaction_csv\n",
    "2. summary\n",
    "3. gg_model"
   ]
  },
  {
   "cell_type": "code",
   "execution_count": null,
   "metadata": {},
   "outputs": [],
   "source": []
  }
 ],
 "metadata": {
  "kernelspec": {
   "display_name": "Python (lifetime-env)",
   "language": "python",
   "name": "lifetime-env"
  },
  "language_info": {
   "codemirror_mode": {
    "name": "ipython",
    "version": 3
   },
   "file_extension": ".py",
   "mimetype": "text/x-python",
   "name": "python",
   "nbconvert_exporter": "python",
   "pygments_lexer": "ipython3",
   "version": "3.10.4"
  }
 },
 "nbformat": 4,
 "nbformat_minor": 4
}
