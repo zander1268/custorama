{
 "cells": [
  {
   "cell_type": "code",
   "execution_count": 1,
   "metadata": {},
   "outputs": [],
   "source": [
    "#Inital imports\n",
    "%matplotlib inline\n",
    "import numpy as np\n",
    "import pandas as pd\n",
    "import matplotlib.pyplot as plt\n",
    "import seaborn as sns\n",
    "import lifetimes\n",
    "from lifetimes.plotting import plot_period_transactions, plot_calibration_purchases_vs_holdout_purchases\n",
    "from lifetimes import BetaGeoFitter\n",
    "from datetime import timedelta\n",
    "from datetime import datetime\n",
    "from dateutil import parser\n",
    "from sklearn.metrics import mean_squared_error\n",
    "from sklearn.model_selection import GridSearchCV"
   ]
  },
  {
   "cell_type": "code",
   "execution_count": 2,
   "metadata": {},
   "outputs": [
    {
     "name": "stdout",
     "output_type": "stream",
     "text": [
      "OnlineRetail_2yrs.csv             lifetimes_object_df.csv\r\n",
      "customer_data_base.zip            lifetimes_object_df_uncleaned.csv\r\n"
     ]
    }
   ],
   "source": [
    "!ls data"
   ]
  },
  {
   "cell_type": "code",
   "execution_count": 3,
   "metadata": {},
   "outputs": [],
   "source": [
    "#Load in our pre-prepared dataframes\n",
    "lifetimes_object_df = pd.read_csv(\"data/lifetimes_object_df.csv\")"
   ]
  },
  {
   "cell_type": "markdown",
   "metadata": {},
   "source": [
    "### Preparation and evaluation functions"
   ]
  },
  {
   "cell_type": "code",
   "execution_count": 4,
   "metadata": {},
   "outputs": [],
   "source": [
    "#Load in our data wrangler\n",
    "from lifetimes.utils import summary_data_from_transaction_data\n",
    "#Import holdout \n",
    "from lifetimes.utils import calibration_and_holdout_data"
   ]
  },
  {
   "cell_type": "code",
   "execution_count": 5,
   "metadata": {},
   "outputs": [],
   "source": [
    "#class to return a calibration and holdout df\n",
    "class df_ch():\n",
    "    def __init__(self, eval_period=None,transaction_df=None,purchase_timestamp_col=None,customer_id_col=None,datetime_col=None,monetary_value_col=None):\n",
    "        #initialized attributes\n",
    "        self.eval_period = eval_period\n",
    "        self.transaction_df = transaction_df\n",
    "        self.purchase_timestamp_col=purchase_timestamp_col\n",
    "        self.customer_id_col=customer_id_col\n",
    "        self.datetime_col=datetime_col\n",
    "        self.monetary_value_col=monetary_value_col\n",
    "        #save off more attributes\n",
    "        self.min_obs_date = parser.parse(transaction_df[purchase_timestamp_col].min())\n",
    "        self.max_obs_date = parser.parse(transaction_df[purchase_timestamp_col].max())\n",
    "        self.max_calib_date = self.max_obs_date - timedelta(days=eval_period)  \n",
    "        self.calib_range_days = (self.max_calib_date - self.min_obs_date).days\n",
    "    def df_ch_getdf(self):\n",
    "        df = calibration_and_holdout_data(\n",
    "        transactions = self.transaction_df, \n",
    "        customer_id_col=self.customer_id_col,\n",
    "        datetime_col=self.datetime_col,\n",
    "        monetary_value_col=self.monetary_value_col,\n",
    "        calibration_period_end = self.max_calib_date, \n",
    "        observation_period_end = self.max_obs_date, \n",
    "        freq = \"D\")\n",
    "        return df\n",
    "        "
   ]
  },
  {
   "cell_type": "code",
   "execution_count": 6,
   "metadata": {},
   "outputs": [],
   "source": [
    "#function to return a df of real and predicted transacitons in eval period\n",
    "def bgf_real_v_pred_df(ch,bgf):\n",
    "    # transactions in the observation period equals frequency_holdout + 1\n",
    "    rfm_cal_holdout = pd.DataFrame()\n",
    "    ch_df = ch.df_ch_getdf()\n",
    "    rfm_cal_holdout[\"n_transactions_cal_real\"]  = ch_df[\"frequency_cal\"] + 1\n",
    "    rfm_cal_holdout[\"n_transactions_holdout_real\"]  = ch_df[\"frequency_holdout\"] + 1\n",
    "    # the predicted number of transactions\n",
    "    rfm_cal_holdout[\"n_transactions_holdout_pred\"] = bgf.predict(t=ch.eval_period, \n",
    "                                                    frequency=ch_df['frequency_cal'], \n",
    "                                                    recency=ch_df['recency_cal'], \n",
    "                                                    T=ch_df['T_cal'])\n",
    "    return rfm_cal_holdout[[\"n_transactions_cal_real\",\"n_transactions_holdout_real\", \"n_transactions_holdout_pred\"]]"
   ]
  },
  {
   "cell_type": "code",
   "execution_count": 7,
   "metadata": {},
   "outputs": [],
   "source": [
    "#function to capture RMSE for a BGF model\n",
    "def bgf_rmse(ch,bgf):\n",
    "    df_ch = ch.df_ch_getdf()\n",
    "    df_ch[\"n_transactions_holdout_real\"] = df_ch[\"frequency_holdout\"] + 1\n",
    "    y_true = df_ch[\"n_transactions_holdout_real\"]\n",
    "    y_pred = bgf.predict(t=ch.eval_period, frequency=df_ch['frequency_cal'],\n",
    "                         recency=df_ch['recency_cal'],\n",
    "                         T=df_ch['T_cal'])\n",
    "\n",
    "    return mean_squared_error(y_true,y_pred)"
   ]
  },
  {
   "cell_type": "code",
   "execution_count": 8,
   "metadata": {},
   "outputs": [],
   "source": [
    "#function to return predicted # transactions for given customer in evaluation period\n",
    "def samp_cust_pred_trans(df_ch,sample_customer_id,eval_period):\n",
    "    sample_customer = df_ch.loc[sample_customer_id]\n",
    "    n_transactions_pred = bgf.predict(t=eval_period,\n",
    "                                  frequency=sample_customer['frequency_cal'], \n",
    "                                  recency=sample_customer['recency_cal'], \n",
    "                                  T=sample_customer['T_cal'])\n",
    "    return(n_transactions_pred)"
   ]
  },
  {
   "cell_type": "code",
   "execution_count": 9,
   "metadata": {},
   "outputs": [],
   "source": [
    "#Dummy model function that predicts the same purchase rate in the observation period to continue through the eval period\n",
    "def bgf_dummy_model(ch):\n",
    "    df_ch = ch.df_ch_getdf()\n",
    "    dummy_ch_df = pd.DataFrame()\n",
    "    dummy_ch_df[\"purchases_per_period_cal\"] = df_ch[\"frequency_cal\"] + 1\n",
    "    dummy_ch_df[\"purchases_per_period_cal\"] = dummy_ch_df[\"purchases_per_period_cal\"]/ch.calib_range_days\n",
    "    dummy_ch_df[\"dummy_pred_purchases_holdout\"] = dummy_ch_df[\"purchases_per_period_cal\"] * ch.eval_period\n",
    "    dummy_ch_df[\"actual_purchases_holdout\"] = df_ch[\"frequency_holdout\"] + 1\n",
    "    return mean_squared_error(y_true=dummy_ch_df[\"dummy_pred_purchases_holdout\"],y_pred=dummy_ch_df[\"actual_purchases_holdout\"])"
   ]
  },
  {
   "cell_type": "markdown",
   "metadata": {},
   "source": [
    "### RFM data exploration "
   ]
  },
  {
   "cell_type": "code",
   "execution_count": 11,
   "metadata": {},
   "outputs": [
    {
     "data": {
      "text/html": [
       "<div>\n",
       "<style scoped>\n",
       "    .dataframe tbody tr th:only-of-type {\n",
       "        vertical-align: middle;\n",
       "    }\n",
       "\n",
       "    .dataframe tbody tr th {\n",
       "        vertical-align: top;\n",
       "    }\n",
       "\n",
       "    .dataframe thead th {\n",
       "        text-align: right;\n",
       "    }\n",
       "</style>\n",
       "<table border=\"1\" class=\"dataframe\">\n",
       "  <thead>\n",
       "    <tr style=\"text-align: right;\">\n",
       "      <th></th>\n",
       "      <th>frequency</th>\n",
       "      <th>recency</th>\n",
       "      <th>T</th>\n",
       "      <th>monetary_value</th>\n",
       "    </tr>\n",
       "    <tr>\n",
       "      <th>customer_unique_id</th>\n",
       "      <th></th>\n",
       "      <th></th>\n",
       "      <th></th>\n",
       "      <th></th>\n",
       "    </tr>\n",
       "  </thead>\n",
       "  <tbody>\n",
       "    <tr>\n",
       "      <th>0000366f3b9a7992bf8c76cfdf3221e2</th>\n",
       "      <td>0.0</td>\n",
       "      <td>0.0</td>\n",
       "      <td>160.0</td>\n",
       "      <td>0.0</td>\n",
       "    </tr>\n",
       "    <tr>\n",
       "      <th>0000b849f77a49e4a4ce2b2a4ca5be3f</th>\n",
       "      <td>0.0</td>\n",
       "      <td>0.0</td>\n",
       "      <td>163.0</td>\n",
       "      <td>0.0</td>\n",
       "    </tr>\n",
       "    <tr>\n",
       "      <th>0000f46a3911fa3c0805444483337064</th>\n",
       "      <td>0.0</td>\n",
       "      <td>0.0</td>\n",
       "      <td>586.0</td>\n",
       "      <td>0.0</td>\n",
       "    </tr>\n",
       "    <tr>\n",
       "      <th>0000f6ccb0745a6a4b88665a16c9f078</th>\n",
       "      <td>0.0</td>\n",
       "      <td>0.0</td>\n",
       "      <td>370.0</td>\n",
       "      <td>0.0</td>\n",
       "    </tr>\n",
       "    <tr>\n",
       "      <th>0004aac84e0df4da2b147fca70cf8255</th>\n",
       "      <td>0.0</td>\n",
       "      <td>0.0</td>\n",
       "      <td>337.0</td>\n",
       "      <td>0.0</td>\n",
       "    </tr>\n",
       "    <tr>\n",
       "      <th>...</th>\n",
       "      <td>...</td>\n",
       "      <td>...</td>\n",
       "      <td>...</td>\n",
       "      <td>...</td>\n",
       "    </tr>\n",
       "    <tr>\n",
       "      <th>fffcf5a5ff07b0908bd4e2dbc735a684</th>\n",
       "      <td>0.0</td>\n",
       "      <td>0.0</td>\n",
       "      <td>496.0</td>\n",
       "      <td>0.0</td>\n",
       "    </tr>\n",
       "    <tr>\n",
       "      <th>fffea47cd6d3cc0a88bd621562a9d061</th>\n",
       "      <td>0.0</td>\n",
       "      <td>0.0</td>\n",
       "      <td>311.0</td>\n",
       "      <td>0.0</td>\n",
       "    </tr>\n",
       "    <tr>\n",
       "      <th>ffff371b4d645b6ecea244b27531430a</th>\n",
       "      <td>0.0</td>\n",
       "      <td>0.0</td>\n",
       "      <td>617.0</td>\n",
       "      <td>0.0</td>\n",
       "    </tr>\n",
       "    <tr>\n",
       "      <th>ffff5962728ec6157033ef9805bacc48</th>\n",
       "      <td>0.0</td>\n",
       "      <td>0.0</td>\n",
       "      <td>168.0</td>\n",
       "      <td>0.0</td>\n",
       "    </tr>\n",
       "    <tr>\n",
       "      <th>ffffd2657e2aad2907e67c3e9daecbeb</th>\n",
       "      <td>0.0</td>\n",
       "      <td>0.0</td>\n",
       "      <td>533.0</td>\n",
       "      <td>0.0</td>\n",
       "    </tr>\n",
       "  </tbody>\n",
       "</table>\n",
       "<p>94989 rows × 4 columns</p>\n",
       "</div>"
      ],
      "text/plain": [
       "                                  frequency  recency      T  monetary_value\n",
       "customer_unique_id                                                         \n",
       "0000366f3b9a7992bf8c76cfdf3221e2        0.0      0.0  160.0             0.0\n",
       "0000b849f77a49e4a4ce2b2a4ca5be3f        0.0      0.0  163.0             0.0\n",
       "0000f46a3911fa3c0805444483337064        0.0      0.0  586.0             0.0\n",
       "0000f6ccb0745a6a4b88665a16c9f078        0.0      0.0  370.0             0.0\n",
       "0004aac84e0df4da2b147fca70cf8255        0.0      0.0  337.0             0.0\n",
       "...                                     ...      ...    ...             ...\n",
       "fffcf5a5ff07b0908bd4e2dbc735a684        0.0      0.0  496.0             0.0\n",
       "fffea47cd6d3cc0a88bd621562a9d061        0.0      0.0  311.0             0.0\n",
       "ffff371b4d645b6ecea244b27531430a        0.0      0.0  617.0             0.0\n",
       "ffff5962728ec6157033ef9805bacc48        0.0      0.0  168.0             0.0\n",
       "ffffd2657e2aad2907e67c3e9daecbeb        0.0      0.0  533.0             0.0\n",
       "\n",
       "[94989 rows x 4 columns]"
      ]
     },
     "execution_count": 11,
     "metadata": {},
     "output_type": "execute_result"
    }
   ],
   "source": [
    "summary = summary_data_from_transaction_data(transactions=lifetimes_object_df,customer_id_col='customer_unique_id',\n",
    "                                             datetime_col='order_purchase_timestamp',monetary_value_col='payment_value',observation_period_end='2018-10-17')\n",
    "summary"
   ]
  },
  {
   "cell_type": "code",
   "execution_count": 12,
   "metadata": {},
   "outputs": [
    {
     "data": {
      "text/plain": [
       "0.0     0.978261\n",
       "1.0     0.020097\n",
       "2.0     0.001305\n",
       "3.0     0.000189\n",
       "4.0     0.000063\n",
       "5.0     0.000053\n",
       "6.0     0.000021\n",
       "15.0    0.000011\n",
       "Name: frequency, dtype: float64"
      ]
     },
     "execution_count": 12,
     "metadata": {},
     "output_type": "execute_result"
    }
   ],
   "source": [
    "#We have less than 3% of customers who are repeat purchasers\n",
    "summary.frequency.value_counts(normalize=True)"
   ]
  },
  {
   "cell_type": "code",
   "execution_count": 137,
   "metadata": {},
   "outputs": [
    {
     "data": {
      "text/plain": [
       "0.0     92924\n",
       "1.0      1909\n",
       "2.0       124\n",
       "3.0        18\n",
       "4.0         6\n",
       "5.0         5\n",
       "6.0         2\n",
       "15.0        1\n",
       "Name: frequency, dtype: int64"
      ]
     },
     "execution_count": 137,
     "metadata": {},
     "output_type": "execute_result"
    }
   ],
   "source": [
    "summary.frequency.value_counts()"
   ]
  },
  {
   "cell_type": "code",
   "execution_count": 138,
   "metadata": {},
   "outputs": [
    {
     "data": {
      "text/plain": [
       "True"
      ]
     },
     "execution_count": 138,
     "metadata": {},
     "output_type": "execute_result"
    }
   ],
   "source": [
    "#create a list of repeat purchasers\n",
    "repeat_purchaser_ids = list(summary[summary[\"frequency\"] >= 1].index)\n",
    "#subset our transaction data to just repeat purchasers\n",
    "repeat_lifetimes_object_df = lifetimes_object_df[lifetimes_object_df[\"customer_unique_id\"].isin(repeat_purchaser_ids) == True]\n",
    "#Checking we removed the correct number of user id's\n",
    "(len(lifetimes_object_df.customer_unique_id.unique()) - len(repeat_lifetimes_object_df.customer_unique_id.unique())) == summary.frequency.value_counts()[0]"
   ]
  },
  {
   "cell_type": "code",
   "execution_count": 14,
   "metadata": {},
   "outputs": [],
   "source": [
    "repeat_purchaser_summary = summary_data_from_transaction_data(transactions=repeat_lifetimes_object_df,customer_id_col='customer_unique_id',\n",
    "                                             datetime_col='order_purchase_timestamp',monetary_value_col='payment_value',observation_period_end='2018-10-17')\n"
   ]
  },
  {
   "cell_type": "code",
   "execution_count": 15,
   "metadata": {},
   "outputs": [
    {
     "data": {
      "text/html": [
       "<div>\n",
       "<style scoped>\n",
       "    .dataframe tbody tr th:only-of-type {\n",
       "        vertical-align: middle;\n",
       "    }\n",
       "\n",
       "    .dataframe tbody tr th {\n",
       "        vertical-align: top;\n",
       "    }\n",
       "\n",
       "    .dataframe thead th {\n",
       "        text-align: right;\n",
       "    }\n",
       "</style>\n",
       "<table border=\"1\" class=\"dataframe\">\n",
       "  <thead>\n",
       "    <tr style=\"text-align: right;\">\n",
       "      <th></th>\n",
       "      <th>monetary_value</th>\n",
       "      <th>frequency</th>\n",
       "    </tr>\n",
       "  </thead>\n",
       "  <tbody>\n",
       "    <tr>\n",
       "      <th>monetary_value</th>\n",
       "      <td>1.00000</td>\n",
       "      <td>-0.00049</td>\n",
       "    </tr>\n",
       "    <tr>\n",
       "      <th>frequency</th>\n",
       "      <td>-0.00049</td>\n",
       "      <td>1.00000</td>\n",
       "    </tr>\n",
       "  </tbody>\n",
       "</table>\n",
       "</div>"
      ],
      "text/plain": [
       "                monetary_value  frequency\n",
       "monetary_value         1.00000   -0.00049\n",
       "frequency             -0.00049    1.00000"
      ]
     },
     "execution_count": 15,
     "metadata": {},
     "output_type": "execute_result"
    }
   ],
   "source": [
    "#The Gamma-Gamma submodel, assumes no relationship between the monetary value and the purchase frequency. \n",
    "#The correlation between the two vectors is close to 0 so we can use this model.\n",
    "repeat_purchaser_summary[['monetary_value', 'frequency']].corr()"
   ]
  },
  {
   "cell_type": "code",
   "execution_count": 16,
   "metadata": {},
   "outputs": [],
   "source": [
    "#Load in our ch object with all data\n",
    "ch_1 = df_ch(eval_period=240,transaction_df=lifetimes_object_df,purchase_timestamp_col='order_purchase_timestamp',\n",
    "                   customer_id_col='customer_unique_id',datetime_col='order_purchase_timestamp',\n",
    "                   monetary_value_col='payment_value')"
   ]
  },
  {
   "cell_type": "code",
   "execution_count": 17,
   "metadata": {},
   "outputs": [],
   "source": [
    "#Load in our ch object with repeat purchaser data\n",
    "ch_2 = df_ch(eval_period=240,transaction_df=repeat_lifetimes_object_df,purchase_timestamp_col='order_purchase_timestamp',\n",
    "                   customer_id_col='customer_unique_id',datetime_col='order_purchase_timestamp',\n",
    "                   monetary_value_col='payment_value')"
   ]
  },
  {
   "cell_type": "code",
   "execution_count": 150,
   "metadata": {},
   "outputs": [],
   "source": [
    "#create an array to evaluate total purchases per customer in calib period\n",
    "repeat_lifetimes_object_df_ts = repeat_lifetimes_object_df\n",
    "repeat_lifetimes_object_df_ts[\"order_purchase_timestamp\"] = pd.to_datetime(repeat_lifetimes_object_df[\"order_purchase_timestamp\"])\n",
    "purchases_in_cal = repeat_lifetimes_object_df_ts[repeat_lifetimes_object_df_ts[\"order_purchase_timestamp\"]<=ch_2.max_calib_date]\n",
    "purchases_in_cal = purchases_in_cal[purchases_in_cal[\"order_purchase_timestamp\"]<=ch_2.max_calib_date].groupby(\"customer_unique_id\").nunique()[\"order_purchase_timestamp\"]\n",
    "purchases_in_cal.sort_values()\n",
    "purchases_in_cal = pd.DataFrame(purchases_in_cal)"
   ]
  },
  {
   "cell_type": "code",
   "execution_count": 172,
   "metadata": {},
   "outputs": [
    {
     "data": {
      "text/plain": [
       "2138"
      ]
     },
     "execution_count": 172,
     "metadata": {},
     "output_type": "execute_result"
    }
   ],
   "source": [
    "#create an array to evaluate total purchases per customer in calib period\n",
    "purchases_in_val = repeat_lifetimes_object_df_ts[repeat_lifetimes_object_df_ts[\"order_purchase_timestamp\"]>ch_2.max_calib_date].groupby(\"customer_unique_id\").nunique()[\"order_purchase_timestamp\"]\n",
    "purchases_in_val.sort_values()\n",
    "purchases_in_val = pd.DataFrame(purchases_in_val)\n",
    "purchases_in_val[\"order_purchase_timestamp\"].sum()"
   ]
  },
  {
   "cell_type": "code",
   "execution_count": 170,
   "metadata": {},
   "outputs": [
    {
     "data": {
      "text/plain": [
       "True"
      ]
     },
     "execution_count": 170,
     "metadata": {},
     "output_type": "execute_result"
    }
   ],
   "source": [
    "#Confirming that a 'frequency' of 0.00 in calibration period means total purchases in that period = 1\n",
    "#Total calibration days with purchases = calibration frequency + 1\n",
    "purch = []\n",
    "for purchasers in df_ch_2[\"frequency_cal\"]:    \n",
    "    purch.append(purchasers+1)\n",
    "sum(purch) == purchases_in_cal[\"order_purchase_timestamp\"].sum()"
   ]
  },
  {
   "cell_type": "code",
   "execution_count": 177,
   "metadata": {},
   "outputs": [
    {
     "name": "stdout",
     "output_type": "stream",
     "text": [
      "710\n"
     ]
    },
    {
     "data": {
      "text/plain": [
       "False"
      ]
     },
     "execution_count": 177,
     "metadata": {},
     "output_type": "execute_result"
    }
   ],
   "source": [
    "#attempting on holdout group\n",
    "df_ch_2[\"frequency_holdout\"]\n",
    "purch = []\n",
    "zeros = 0\n",
    "for purchasers in df_ch_2[\"frequency_holdout\"]:    \n",
    "    purch.append(purchasers+1)\n",
    "    if purchasers == 0:\n",
    "        zeros += 1\n",
    "print(zeros)\n",
    "sum(purch) == purchases_in_val[\"order_purchase_timestamp\"].sum()"
   ]
  },
  {
   "cell_type": "markdown",
   "metadata": {},
   "source": [
    "###  Dummy model\n",
    "- Predict the same purchase as the observed in the calibration period"
   ]
  },
  {
   "cell_type": "code",
   "execution_count": 41,
   "metadata": {},
   "outputs": [
    {
     "name": "stdout",
     "output_type": "stream",
     "text": [
      " bgf dummy model RMSE w/ cleaned data: 0.32524156574867047\n",
      " bgf dummy model RMSE w/ cleaned data: 1.2157071910136914\n"
     ]
    }
   ],
   "source": [
    "print(f' bgf dummy model RMSE w/ cleaned data: {bgf_dummy_model(ch_1)}')\n",
    "print(f' bgf dummy model RMSE w/ cleaned data: {bgf_dummy_model(ch_2)}')"
   ]
  },
  {
   "cell_type": "code",
   "execution_count": 61,
   "metadata": {},
   "outputs": [
    {
     "data": {
      "text/html": [
       "<div>\n",
       "<style scoped>\n",
       "    .dataframe tbody tr th:only-of-type {\n",
       "        vertical-align: middle;\n",
       "    }\n",
       "\n",
       "    .dataframe tbody tr th {\n",
       "        vertical-align: top;\n",
       "    }\n",
       "\n",
       "    .dataframe thead th {\n",
       "        text-align: right;\n",
       "    }\n",
       "</style>\n",
       "<table border=\"1\" class=\"dataframe\">\n",
       "  <thead>\n",
       "    <tr style=\"text-align: right;\">\n",
       "      <th></th>\n",
       "      <th>frequency_cal</th>\n",
       "      <th>recency_cal</th>\n",
       "      <th>T_cal</th>\n",
       "      <th>monetary_value_cal</th>\n",
       "      <th>frequency_holdout</th>\n",
       "      <th>monetary_value_holdout</th>\n",
       "      <th>duration_holdout</th>\n",
       "    </tr>\n",
       "  </thead>\n",
       "  <tbody>\n",
       "    <tr>\n",
       "      <th>count</th>\n",
       "      <td>1384.000000</td>\n",
       "      <td>1384.000000</td>\n",
       "      <td>1384.000000</td>\n",
       "      <td>1384.000000</td>\n",
       "      <td>1384.000000</td>\n",
       "      <td>1384.000000</td>\n",
       "      <td>1384.0</td>\n",
       "    </tr>\n",
       "    <tr>\n",
       "      <th>mean</th>\n",
       "      <td>0.599711</td>\n",
       "      <td>42.811416</td>\n",
       "      <td>162.373555</td>\n",
       "      <td>82.950796</td>\n",
       "      <td>0.535405</td>\n",
       "      <td>69.867975</td>\n",
       "      <td>240.0</td>\n",
       "    </tr>\n",
       "    <tr>\n",
       "      <th>std</th>\n",
       "      <td>0.626159</td>\n",
       "      <td>68.059084</td>\n",
       "      <td>98.159461</td>\n",
       "      <td>147.826952</td>\n",
       "      <td>0.631921</td>\n",
       "      <td>115.466449</td>\n",
       "      <td>0.0</td>\n",
       "    </tr>\n",
       "    <tr>\n",
       "      <th>min</th>\n",
       "      <td>0.000000</td>\n",
       "      <td>0.000000</td>\n",
       "      <td>0.000000</td>\n",
       "      <td>0.000000</td>\n",
       "      <td>0.000000</td>\n",
       "      <td>0.000000</td>\n",
       "      <td>240.0</td>\n",
       "    </tr>\n",
       "    <tr>\n",
       "      <th>25%</th>\n",
       "      <td>0.000000</td>\n",
       "      <td>0.000000</td>\n",
       "      <td>78.750000</td>\n",
       "      <td>0.000000</td>\n",
       "      <td>0.000000</td>\n",
       "      <td>0.000000</td>\n",
       "      <td>240.0</td>\n",
       "    </tr>\n",
       "    <tr>\n",
       "      <th>50%</th>\n",
       "      <td>1.000000</td>\n",
       "      <td>6.000000</td>\n",
       "      <td>156.000000</td>\n",
       "      <td>37.090000</td>\n",
       "      <td>0.000000</td>\n",
       "      <td>0.000000</td>\n",
       "      <td>240.0</td>\n",
       "    </tr>\n",
       "    <tr>\n",
       "      <th>75%</th>\n",
       "      <td>1.000000</td>\n",
       "      <td>60.000000</td>\n",
       "      <td>236.000000</td>\n",
       "      <td>113.650000</td>\n",
       "      <td>1.000000</td>\n",
       "      <td>102.817500</td>\n",
       "      <td>240.0</td>\n",
       "    </tr>\n",
       "    <tr>\n",
       "      <th>max</th>\n",
       "      <td>8.000000</td>\n",
       "      <td>455.000000</td>\n",
       "      <td>460.000000</td>\n",
       "      <td>1650.180000</td>\n",
       "      <td>7.000000</td>\n",
       "      <td>847.380000</td>\n",
       "      <td>240.0</td>\n",
       "    </tr>\n",
       "  </tbody>\n",
       "</table>\n",
       "</div>"
      ],
      "text/plain": [
       "       frequency_cal  recency_cal        T_cal  monetary_value_cal  \\\n",
       "count    1384.000000  1384.000000  1384.000000         1384.000000   \n",
       "mean        0.599711    42.811416   162.373555           82.950796   \n",
       "std         0.626159    68.059084    98.159461          147.826952   \n",
       "min         0.000000     0.000000     0.000000            0.000000   \n",
       "25%         0.000000     0.000000    78.750000            0.000000   \n",
       "50%         1.000000     6.000000   156.000000           37.090000   \n",
       "75%         1.000000    60.000000   236.000000          113.650000   \n",
       "max         8.000000   455.000000   460.000000         1650.180000   \n",
       "\n",
       "       frequency_holdout  monetary_value_holdout  duration_holdout  \n",
       "count        1384.000000             1384.000000            1384.0  \n",
       "mean            0.535405               69.867975             240.0  \n",
       "std             0.631921              115.466449               0.0  \n",
       "min             0.000000                0.000000             240.0  \n",
       "25%             0.000000                0.000000             240.0  \n",
       "50%             0.000000                0.000000             240.0  \n",
       "75%             1.000000              102.817500             240.0  \n",
       "max             7.000000              847.380000             240.0  "
      ]
     },
     "execution_count": 61,
     "metadata": {},
     "output_type": "execute_result"
    }
   ],
   "source": [
    "df_ch_2 = ch_2.df_ch_getdf()\n",
    "df_ch_2.describe()"
   ]
  },
  {
   "cell_type": "code",
   "execution_count": 63,
   "metadata": {},
   "outputs": [
    {
     "data": {
      "text/plain": [
       "datetime.datetime(2018, 1, 6, 0, 0)"
      ]
     },
     "execution_count": 63,
     "metadata": {},
     "output_type": "execute_result"
    }
   ],
   "source": [
    "ch_2.max_calib_date"
   ]
  },
  {
   "cell_type": "code",
   "execution_count": 66,
   "metadata": {},
   "outputs": [
    {
     "data": {
      "text/plain": [
       "5        2017-09-14\n",
       "13       2018-03-07\n",
       "32       2018-04-18\n",
       "87       2018-05-16\n",
       "115      2018-04-17\n",
       "            ...    \n",
       "98076    2018-01-24\n",
       "98083    2017-06-28\n",
       "98101    2018-06-20\n",
       "98118    2018-05-15\n",
       "98171    2018-01-24\n",
       "Name: order_purchase_timestamp, Length: 4433, dtype: object"
      ]
     },
     "execution_count": 66,
     "metadata": {},
     "output_type": "execute_result"
    }
   ],
   "source": []
  },
  {
   "cell_type": "code",
   "execution_count": null,
   "metadata": {},
   "outputs": [],
   "source": []
  },
  {
   "cell_type": "code",
   "execution_count": 51,
   "metadata": {},
   "outputs": [
    {
     "data": {
      "text/html": [
       "<div>\n",
       "<style scoped>\n",
       "    .dataframe tbody tr th:only-of-type {\n",
       "        vertical-align: middle;\n",
       "    }\n",
       "\n",
       "    .dataframe tbody tr th {\n",
       "        vertical-align: top;\n",
       "    }\n",
       "\n",
       "    .dataframe thead th {\n",
       "        text-align: right;\n",
       "    }\n",
       "</style>\n",
       "<table border=\"1\" class=\"dataframe\">\n",
       "  <thead>\n",
       "    <tr style=\"text-align: right;\">\n",
       "      <th></th>\n",
       "      <th>purchases_per_period_cal</th>\n",
       "      <th>value_per_purchase_cal</th>\n",
       "      <th>dummy_pred_purchases_holdout</th>\n",
       "      <th>actual_purchases_holdout</th>\n",
       "    </tr>\n",
       "    <tr>\n",
       "      <th>customer_unique_id</th>\n",
       "      <th></th>\n",
       "      <th></th>\n",
       "      <th></th>\n",
       "      <th></th>\n",
       "    </tr>\n",
       "  </thead>\n",
       "  <tbody>\n",
       "    <tr>\n",
       "      <th>004288347e5e88a27ded2bb23747066c</th>\n",
       "      <td>0.001876</td>\n",
       "      <td>0.000000</td>\n",
       "      <td>0.450281</td>\n",
       "      <td>2.0</td>\n",
       "    </tr>\n",
       "    <tr>\n",
       "      <th>004b45ec5c64187465168251cd1c9c2f</th>\n",
       "      <td>0.001876</td>\n",
       "      <td>0.000000</td>\n",
       "      <td>0.450281</td>\n",
       "      <td>2.0</td>\n",
       "    </tr>\n",
       "    <tr>\n",
       "      <th>011b4adcd54683b480c4d841250a987f</th>\n",
       "      <td>0.001876</td>\n",
       "      <td>0.000000</td>\n",
       "      <td>0.450281</td>\n",
       "      <td>2.0</td>\n",
       "    </tr>\n",
       "    <tr>\n",
       "      <th>012452d40dafae4df401bced74cdb490</th>\n",
       "      <td>0.001876</td>\n",
       "      <td>0.000000</td>\n",
       "      <td>0.450281</td>\n",
       "      <td>2.0</td>\n",
       "    </tr>\n",
       "    <tr>\n",
       "      <th>013f4353d26bb05dc6652f1269458d8d</th>\n",
       "      <td>0.003752</td>\n",
       "      <td>82.020000</td>\n",
       "      <td>0.900563</td>\n",
       "      <td>1.0</td>\n",
       "    </tr>\n",
       "    <tr>\n",
       "      <th>...</th>\n",
       "      <td>...</td>\n",
       "      <td>...</td>\n",
       "      <td>...</td>\n",
       "      <td>...</td>\n",
       "    </tr>\n",
       "    <tr>\n",
       "      <th>fe59d5878cd80080edbd29b5a0a4e1cf</th>\n",
       "      <td>0.005629</td>\n",
       "      <td>13.200000</td>\n",
       "      <td>1.350844</td>\n",
       "      <td>1.0</td>\n",
       "    </tr>\n",
       "    <tr>\n",
       "      <th>fe81bb32c243a86b2f86fbf053fe6140</th>\n",
       "      <td>0.003752</td>\n",
       "      <td>31.890000</td>\n",
       "      <td>0.900563</td>\n",
       "      <td>4.0</td>\n",
       "    </tr>\n",
       "    <tr>\n",
       "      <th>fed519569d16e690df6f89cb99d4e682</th>\n",
       "      <td>0.001876</td>\n",
       "      <td>0.000000</td>\n",
       "      <td>0.450281</td>\n",
       "      <td>2.0</td>\n",
       "    </tr>\n",
       "    <tr>\n",
       "      <th>ff8892f7c26aa0446da53d01b18df463</th>\n",
       "      <td>0.003752</td>\n",
       "      <td>33.370000</td>\n",
       "      <td>0.900563</td>\n",
       "      <td>1.0</td>\n",
       "    </tr>\n",
       "    <tr>\n",
       "      <th>ff922bdd6bafcdf99cb90d7f39cea5b3</th>\n",
       "      <td>0.005629</td>\n",
       "      <td>16.696667</td>\n",
       "      <td>1.350844</td>\n",
       "      <td>1.0</td>\n",
       "    </tr>\n",
       "  </tbody>\n",
       "</table>\n",
       "<p>1384 rows × 4 columns</p>\n",
       "</div>"
      ],
      "text/plain": [
       "                                  purchases_per_period_cal  \\\n",
       "customer_unique_id                                           \n",
       "004288347e5e88a27ded2bb23747066c                  0.001876   \n",
       "004b45ec5c64187465168251cd1c9c2f                  0.001876   \n",
       "011b4adcd54683b480c4d841250a987f                  0.001876   \n",
       "012452d40dafae4df401bced74cdb490                  0.001876   \n",
       "013f4353d26bb05dc6652f1269458d8d                  0.003752   \n",
       "...                                                    ...   \n",
       "fe59d5878cd80080edbd29b5a0a4e1cf                  0.005629   \n",
       "fe81bb32c243a86b2f86fbf053fe6140                  0.003752   \n",
       "fed519569d16e690df6f89cb99d4e682                  0.001876   \n",
       "ff8892f7c26aa0446da53d01b18df463                  0.003752   \n",
       "ff922bdd6bafcdf99cb90d7f39cea5b3                  0.005629   \n",
       "\n",
       "                                  value_per_purchase_cal  \\\n",
       "customer_unique_id                                         \n",
       "004288347e5e88a27ded2bb23747066c                0.000000   \n",
       "004b45ec5c64187465168251cd1c9c2f                0.000000   \n",
       "011b4adcd54683b480c4d841250a987f                0.000000   \n",
       "012452d40dafae4df401bced74cdb490                0.000000   \n",
       "013f4353d26bb05dc6652f1269458d8d               82.020000   \n",
       "...                                                  ...   \n",
       "fe59d5878cd80080edbd29b5a0a4e1cf               13.200000   \n",
       "fe81bb32c243a86b2f86fbf053fe6140               31.890000   \n",
       "fed519569d16e690df6f89cb99d4e682                0.000000   \n",
       "ff8892f7c26aa0446da53d01b18df463               33.370000   \n",
       "ff922bdd6bafcdf99cb90d7f39cea5b3               16.696667   \n",
       "\n",
       "                                  dummy_pred_purchases_holdout  \\\n",
       "customer_unique_id                                               \n",
       "004288347e5e88a27ded2bb23747066c                      0.450281   \n",
       "004b45ec5c64187465168251cd1c9c2f                      0.450281   \n",
       "011b4adcd54683b480c4d841250a987f                      0.450281   \n",
       "012452d40dafae4df401bced74cdb490                      0.450281   \n",
       "013f4353d26bb05dc6652f1269458d8d                      0.900563   \n",
       "...                                                        ...   \n",
       "fe59d5878cd80080edbd29b5a0a4e1cf                      1.350844   \n",
       "fe81bb32c243a86b2f86fbf053fe6140                      0.900563   \n",
       "fed519569d16e690df6f89cb99d4e682                      0.450281   \n",
       "ff8892f7c26aa0446da53d01b18df463                      0.900563   \n",
       "ff922bdd6bafcdf99cb90d7f39cea5b3                      1.350844   \n",
       "\n",
       "                                  actual_purchases_holdout  \n",
       "customer_unique_id                                          \n",
       "004288347e5e88a27ded2bb23747066c                       2.0  \n",
       "004b45ec5c64187465168251cd1c9c2f                       2.0  \n",
       "011b4adcd54683b480c4d841250a987f                       2.0  \n",
       "012452d40dafae4df401bced74cdb490                       2.0  \n",
       "013f4353d26bb05dc6652f1269458d8d                       1.0  \n",
       "...                                                    ...  \n",
       "fe59d5878cd80080edbd29b5a0a4e1cf                       1.0  \n",
       "fe81bb32c243a86b2f86fbf053fe6140                       4.0  \n",
       "fed519569d16e690df6f89cb99d4e682                       2.0  \n",
       "ff8892f7c26aa0446da53d01b18df463                       1.0  \n",
       "ff922bdd6bafcdf99cb90d7f39cea5b3                       1.0  \n",
       "\n",
       "[1384 rows x 4 columns]"
      ]
     },
     "execution_count": 51,
     "metadata": {},
     "output_type": "execute_result"
    }
   ],
   "source": [
    "dummy_ch_df = pd.DataFrame()\n",
    "dummy_ch_df[\"purchases_per_period_cal\"] = df_ch_2[\"frequency_cal\"] + 1\n",
    "#533 is the calib range\n",
    "dummy_ch_df[\"purchases_per_period_cal\"] = dummy_ch_df[\"purchases_per_period_cal\"]/533\n",
    "dummy_ch_df[\"value_per_purchase_cal\"] = df_ch_2[\"monetary_value_cal\"] / (df_ch_2[\"frequency_cal\"] + 1)\n",
    "#240 is the eval range\n",
    "dummy_ch_df[\"dummy_pred_purchases_holdout\"] = dummy_ch_df[\"purchases_per_period_cal\"] * 240\n",
    "dummy_ch_df[\"actual_purchases_holdout\"] = df_ch_2[\"frequency_holdout\"] + 1\n",
    "dummy_ch_df"
   ]
  },
  {
   "cell_type": "code",
   "execution_count": 53,
   "metadata": {},
   "outputs": [
    {
     "data": {
      "text/html": [
       "<div>\n",
       "<style scoped>\n",
       "    .dataframe tbody tr th:only-of-type {\n",
       "        vertical-align: middle;\n",
       "    }\n",
       "\n",
       "    .dataframe tbody tr th {\n",
       "        vertical-align: top;\n",
       "    }\n",
       "\n",
       "    .dataframe thead th {\n",
       "        text-align: right;\n",
       "    }\n",
       "</style>\n",
       "<table border=\"1\" class=\"dataframe\">\n",
       "  <thead>\n",
       "    <tr style=\"text-align: right;\">\n",
       "      <th></th>\n",
       "      <th>frequency_cal</th>\n",
       "      <th>recency_cal</th>\n",
       "      <th>T_cal</th>\n",
       "      <th>monetary_value_cal</th>\n",
       "      <th>frequency_holdout</th>\n",
       "      <th>monetary_value_holdout</th>\n",
       "      <th>duration_holdout</th>\n",
       "    </tr>\n",
       "  </thead>\n",
       "  <tbody>\n",
       "    <tr>\n",
       "      <th>count</th>\n",
       "      <td>1384.000000</td>\n",
       "      <td>1384.000000</td>\n",
       "      <td>1384.000000</td>\n",
       "      <td>1384.000000</td>\n",
       "      <td>1384.000000</td>\n",
       "      <td>1384.000000</td>\n",
       "      <td>1384.0</td>\n",
       "    </tr>\n",
       "    <tr>\n",
       "      <th>mean</th>\n",
       "      <td>0.599711</td>\n",
       "      <td>42.811416</td>\n",
       "      <td>162.373555</td>\n",
       "      <td>82.950796</td>\n",
       "      <td>0.535405</td>\n",
       "      <td>69.867975</td>\n",
       "      <td>240.0</td>\n",
       "    </tr>\n",
       "    <tr>\n",
       "      <th>std</th>\n",
       "      <td>0.626159</td>\n",
       "      <td>68.059084</td>\n",
       "      <td>98.159461</td>\n",
       "      <td>147.826952</td>\n",
       "      <td>0.631921</td>\n",
       "      <td>115.466449</td>\n",
       "      <td>0.0</td>\n",
       "    </tr>\n",
       "    <tr>\n",
       "      <th>min</th>\n",
       "      <td>0.000000</td>\n",
       "      <td>0.000000</td>\n",
       "      <td>0.000000</td>\n",
       "      <td>0.000000</td>\n",
       "      <td>0.000000</td>\n",
       "      <td>0.000000</td>\n",
       "      <td>240.0</td>\n",
       "    </tr>\n",
       "    <tr>\n",
       "      <th>25%</th>\n",
       "      <td>0.000000</td>\n",
       "      <td>0.000000</td>\n",
       "      <td>78.750000</td>\n",
       "      <td>0.000000</td>\n",
       "      <td>0.000000</td>\n",
       "      <td>0.000000</td>\n",
       "      <td>240.0</td>\n",
       "    </tr>\n",
       "    <tr>\n",
       "      <th>50%</th>\n",
       "      <td>1.000000</td>\n",
       "      <td>6.000000</td>\n",
       "      <td>156.000000</td>\n",
       "      <td>37.090000</td>\n",
       "      <td>0.000000</td>\n",
       "      <td>0.000000</td>\n",
       "      <td>240.0</td>\n",
       "    </tr>\n",
       "    <tr>\n",
       "      <th>75%</th>\n",
       "      <td>1.000000</td>\n",
       "      <td>60.000000</td>\n",
       "      <td>236.000000</td>\n",
       "      <td>113.650000</td>\n",
       "      <td>1.000000</td>\n",
       "      <td>102.817500</td>\n",
       "      <td>240.0</td>\n",
       "    </tr>\n",
       "    <tr>\n",
       "      <th>max</th>\n",
       "      <td>8.000000</td>\n",
       "      <td>455.000000</td>\n",
       "      <td>460.000000</td>\n",
       "      <td>1650.180000</td>\n",
       "      <td>7.000000</td>\n",
       "      <td>847.380000</td>\n",
       "      <td>240.0</td>\n",
       "    </tr>\n",
       "  </tbody>\n",
       "</table>\n",
       "</div>"
      ],
      "text/plain": [
       "       frequency_cal  recency_cal        T_cal  monetary_value_cal  \\\n",
       "count    1384.000000  1384.000000  1384.000000         1384.000000   \n",
       "mean        0.599711    42.811416   162.373555           82.950796   \n",
       "std         0.626159    68.059084    98.159461          147.826952   \n",
       "min         0.000000     0.000000     0.000000            0.000000   \n",
       "25%         0.000000     0.000000    78.750000            0.000000   \n",
       "50%         1.000000     6.000000   156.000000           37.090000   \n",
       "75%         1.000000    60.000000   236.000000          113.650000   \n",
       "max         8.000000   455.000000   460.000000         1650.180000   \n",
       "\n",
       "       frequency_holdout  monetary_value_holdout  duration_holdout  \n",
       "count        1384.000000             1384.000000            1384.0  \n",
       "mean            0.535405               69.867975             240.0  \n",
       "std             0.631921              115.466449               0.0  \n",
       "min             0.000000                0.000000             240.0  \n",
       "25%             0.000000                0.000000             240.0  \n",
       "50%             0.000000                0.000000             240.0  \n",
       "75%             1.000000              102.817500             240.0  \n",
       "max             7.000000              847.380000             240.0  "
      ]
     },
     "execution_count": 53,
     "metadata": {},
     "output_type": "execute_result"
    }
   ],
   "source": [
    "df_ch_2.describe()"
   ]
  },
  {
   "cell_type": "code",
   "execution_count": 78,
   "metadata": {},
   "outputs": [
    {
     "data": {
      "text/plain": [
       "0.32524156574867047"
      ]
     },
     "execution_count": 78,
     "metadata": {},
     "output_type": "execute_result"
    }
   ],
   "source": [
    "mean_squared_error(y_true=dummy_ch_df[\"dummy_pred_purchases_holdout\"],y_pred=dummy_ch_df[\"actual_purchases_holdout\"])"
   ]
  },
  {
   "cell_type": "markdown",
   "metadata": {},
   "source": [
    "###  1.0 BG/NBD model\n",
    "Model features\n",
    "- Uncleaned data\n",
    "\n",
    "Model results\n",
    "- Terrrible\n",
    "- Our model is way off because we have such an imbalence of customers who never made a repeat purchase.\n",
    "\n",
    "Next steps\n",
    "- Drop customers with less than 2 orders"
   ]
  },
  {
   "cell_type": "code",
   "execution_count": 33,
   "metadata": {},
   "outputs": [],
   "source": [
    "ch_1 = df_ch(eval_period=240,transaction_df=lifetimes_object_df_uncleaned,purchase_timestamp_col='order_purchase_timestamp',\n",
    "                   customer_id_col='customer_unique_id',datetime_col='order_purchase_timestamp',\n",
    "                   monetary_value_col='payment_value')"
   ]
  },
  {
   "cell_type": "code",
   "execution_count": 59,
   "metadata": {},
   "outputs": [
    {
     "data": {
      "text/plain": [
       "533"
      ]
     },
     "execution_count": 59,
     "metadata": {},
     "output_type": "execute_result"
    }
   ],
   "source": [
    "#import numpy as np\n",
    "a = (ch_1.max_calib_date - ch_1.min_obs_date).days\n",
    "a"
   ]
  },
  {
   "cell_type": "code",
   "execution_count": 26,
   "metadata": {},
   "outputs": [
    {
     "data": {
      "text/html": [
       "<div>\n",
       "<style scoped>\n",
       "    .dataframe tbody tr th:only-of-type {\n",
       "        vertical-align: middle;\n",
       "    }\n",
       "\n",
       "    .dataframe tbody tr th {\n",
       "        vertical-align: top;\n",
       "    }\n",
       "\n",
       "    .dataframe thead th {\n",
       "        text-align: right;\n",
       "    }\n",
       "</style>\n",
       "<table border=\"1\" class=\"dataframe\">\n",
       "  <thead>\n",
       "    <tr style=\"text-align: right;\">\n",
       "      <th></th>\n",
       "      <th>frequency_cal</th>\n",
       "      <th>recency_cal</th>\n",
       "      <th>T_cal</th>\n",
       "      <th>monetary_value_cal</th>\n",
       "      <th>frequency_holdout</th>\n",
       "      <th>monetary_value_holdout</th>\n",
       "      <th>duration_holdout</th>\n",
       "    </tr>\n",
       "    <tr>\n",
       "      <th>customer_unique_id</th>\n",
       "      <th></th>\n",
       "      <th></th>\n",
       "      <th></th>\n",
       "      <th></th>\n",
       "      <th></th>\n",
       "      <th></th>\n",
       "      <th></th>\n",
       "    </tr>\n",
       "  </thead>\n",
       "  <tbody>\n",
       "    <tr>\n",
       "      <th>0000f46a3911fa3c0805444483337064</th>\n",
       "      <td>0.0</td>\n",
       "      <td>0.0</td>\n",
       "      <td>346.0</td>\n",
       "      <td>0.0</td>\n",
       "      <td>0.0</td>\n",
       "      <td>0.0</td>\n",
       "      <td>240.0</td>\n",
       "    </tr>\n",
       "    <tr>\n",
       "      <th>0000f6ccb0745a6a4b88665a16c9f078</th>\n",
       "      <td>0.0</td>\n",
       "      <td>0.0</td>\n",
       "      <td>130.0</td>\n",
       "      <td>0.0</td>\n",
       "      <td>0.0</td>\n",
       "      <td>0.0</td>\n",
       "      <td>240.0</td>\n",
       "    </tr>\n",
       "    <tr>\n",
       "      <th>0004aac84e0df4da2b147fca70cf8255</th>\n",
       "      <td>0.0</td>\n",
       "      <td>0.0</td>\n",
       "      <td>97.0</td>\n",
       "      <td>0.0</td>\n",
       "      <td>0.0</td>\n",
       "      <td>0.0</td>\n",
       "      <td>240.0</td>\n",
       "    </tr>\n",
       "    <tr>\n",
       "      <th>0005e1862207bf6ccc02e4228effd9a0</th>\n",
       "      <td>0.0</td>\n",
       "      <td>0.0</td>\n",
       "      <td>352.0</td>\n",
       "      <td>0.0</td>\n",
       "      <td>0.0</td>\n",
       "      <td>0.0</td>\n",
       "      <td>240.0</td>\n",
       "    </tr>\n",
       "    <tr>\n",
       "      <th>0006fdc98a402fceb4eb0ee528f6a8d4</th>\n",
       "      <td>0.0</td>\n",
       "      <td>0.0</td>\n",
       "      <td>216.0</td>\n",
       "      <td>0.0</td>\n",
       "      <td>0.0</td>\n",
       "      <td>0.0</td>\n",
       "      <td>240.0</td>\n",
       "    </tr>\n",
       "    <tr>\n",
       "      <th>...</th>\n",
       "      <td>...</td>\n",
       "      <td>...</td>\n",
       "      <td>...</td>\n",
       "      <td>...</td>\n",
       "      <td>...</td>\n",
       "      <td>...</td>\n",
       "      <td>...</td>\n",
       "    </tr>\n",
       "    <tr>\n",
       "      <th>fffbf87b7a1a6fa8b03f081c5f51a201</th>\n",
       "      <td>0.0</td>\n",
       "      <td>0.0</td>\n",
       "      <td>54.0</td>\n",
       "      <td>0.0</td>\n",
       "      <td>0.0</td>\n",
       "      <td>0.0</td>\n",
       "      <td>240.0</td>\n",
       "    </tr>\n",
       "    <tr>\n",
       "      <th>fffcf5a5ff07b0908bd4e2dbc735a684</th>\n",
       "      <td>0.0</td>\n",
       "      <td>0.0</td>\n",
       "      <td>256.0</td>\n",
       "      <td>0.0</td>\n",
       "      <td>0.0</td>\n",
       "      <td>0.0</td>\n",
       "      <td>240.0</td>\n",
       "    </tr>\n",
       "    <tr>\n",
       "      <th>fffea47cd6d3cc0a88bd621562a9d061</th>\n",
       "      <td>0.0</td>\n",
       "      <td>0.0</td>\n",
       "      <td>71.0</td>\n",
       "      <td>0.0</td>\n",
       "      <td>0.0</td>\n",
       "      <td>0.0</td>\n",
       "      <td>240.0</td>\n",
       "    </tr>\n",
       "    <tr>\n",
       "      <th>ffff371b4d645b6ecea244b27531430a</th>\n",
       "      <td>0.0</td>\n",
       "      <td>0.0</td>\n",
       "      <td>377.0</td>\n",
       "      <td>0.0</td>\n",
       "      <td>0.0</td>\n",
       "      <td>0.0</td>\n",
       "      <td>240.0</td>\n",
       "    </tr>\n",
       "    <tr>\n",
       "      <th>ffffd2657e2aad2907e67c3e9daecbeb</th>\n",
       "      <td>0.0</td>\n",
       "      <td>0.0</td>\n",
       "      <td>293.0</td>\n",
       "      <td>0.0</td>\n",
       "      <td>0.0</td>\n",
       "      <td>0.0</td>\n",
       "      <td>240.0</td>\n",
       "    </tr>\n",
       "  </tbody>\n",
       "</table>\n",
       "<p>55206 rows × 7 columns</p>\n",
       "</div>"
      ],
      "text/plain": [
       "                                  frequency_cal  recency_cal  T_cal  \\\n",
       "customer_unique_id                                                    \n",
       "0000f46a3911fa3c0805444483337064            0.0          0.0  346.0   \n",
       "0000f6ccb0745a6a4b88665a16c9f078            0.0          0.0  130.0   \n",
       "0004aac84e0df4da2b147fca70cf8255            0.0          0.0   97.0   \n",
       "0005e1862207bf6ccc02e4228effd9a0            0.0          0.0  352.0   \n",
       "0006fdc98a402fceb4eb0ee528f6a8d4            0.0          0.0  216.0   \n",
       "...                                         ...          ...    ...   \n",
       "fffbf87b7a1a6fa8b03f081c5f51a201            0.0          0.0   54.0   \n",
       "fffcf5a5ff07b0908bd4e2dbc735a684            0.0          0.0  256.0   \n",
       "fffea47cd6d3cc0a88bd621562a9d061            0.0          0.0   71.0   \n",
       "ffff371b4d645b6ecea244b27531430a            0.0          0.0  377.0   \n",
       "ffffd2657e2aad2907e67c3e9daecbeb            0.0          0.0  293.0   \n",
       "\n",
       "                                  monetary_value_cal  frequency_holdout  \\\n",
       "customer_unique_id                                                        \n",
       "0000f46a3911fa3c0805444483337064                 0.0                0.0   \n",
       "0000f6ccb0745a6a4b88665a16c9f078                 0.0                0.0   \n",
       "0004aac84e0df4da2b147fca70cf8255                 0.0                0.0   \n",
       "0005e1862207bf6ccc02e4228effd9a0                 0.0                0.0   \n",
       "0006fdc98a402fceb4eb0ee528f6a8d4                 0.0                0.0   \n",
       "...                                              ...                ...   \n",
       "fffbf87b7a1a6fa8b03f081c5f51a201                 0.0                0.0   \n",
       "fffcf5a5ff07b0908bd4e2dbc735a684                 0.0                0.0   \n",
       "fffea47cd6d3cc0a88bd621562a9d061                 0.0                0.0   \n",
       "ffff371b4d645b6ecea244b27531430a                 0.0                0.0   \n",
       "ffffd2657e2aad2907e67c3e9daecbeb                 0.0                0.0   \n",
       "\n",
       "                                  monetary_value_holdout  duration_holdout  \n",
       "customer_unique_id                                                          \n",
       "0000f46a3911fa3c0805444483337064                     0.0             240.0  \n",
       "0000f6ccb0745a6a4b88665a16c9f078                     0.0             240.0  \n",
       "0004aac84e0df4da2b147fca70cf8255                     0.0             240.0  \n",
       "0005e1862207bf6ccc02e4228effd9a0                     0.0             240.0  \n",
       "0006fdc98a402fceb4eb0ee528f6a8d4                     0.0             240.0  \n",
       "...                                                  ...               ...  \n",
       "fffbf87b7a1a6fa8b03f081c5f51a201                     0.0             240.0  \n",
       "fffcf5a5ff07b0908bd4e2dbc735a684                     0.0             240.0  \n",
       "fffea47cd6d3cc0a88bd621562a9d061                     0.0             240.0  \n",
       "ffff371b4d645b6ecea244b27531430a                     0.0             240.0  \n",
       "ffffd2657e2aad2907e67c3e9daecbeb                     0.0             240.0  \n",
       "\n",
       "[55206 rows x 7 columns]"
      ]
     },
     "execution_count": 26,
     "metadata": {},
     "output_type": "execute_result"
    }
   ],
   "source": [
    "df_ch_1 = ch_1.df_ch_getdf()\n",
    "df_ch_1"
   ]
  },
  {
   "cell_type": "code",
   "execution_count": 27,
   "metadata": {},
   "outputs": [],
   "source": [
    "bgf_1 = BetaGeoFitter(penalizer_coef=0)"
   ]
  },
  {
   "cell_type": "code",
   "execution_count": 28,
   "metadata": {},
   "outputs": [
    {
     "name": "stdout",
     "output_type": "stream",
     "text": [
      "Optimization terminated successfully.\n",
      "         Current function value: 0.069008\n",
      "         Iterations: 63\n",
      "         Function evaluations: 64\n",
      "         Gradient evaluations: 64\n"
     ]
    },
    {
     "data": {
      "text/plain": [
       "<lifetimes.BetaGeoFitter: fitted with 55206 subjects, a: 1.41, alpha: 64.28, b: 0.24, r: 0.02>"
      ]
     },
     "execution_count": 28,
     "metadata": {},
     "output_type": "execute_result"
    }
   ],
   "source": [
    "bgf_1.fit(\n",
    "        frequency = df_ch_1[\"frequency_cal\"], \n",
    "        recency = df_ch_1[\"recency_cal\"], \n",
    "        T = df_ch_1[\"T_cal\"],   \n",
    "        weights = None,  \n",
    "        verbose = True)"
   ]
  },
  {
   "cell_type": "code",
   "execution_count": 30,
   "metadata": {},
   "outputs": [
    {
     "data": {
      "text/plain": [
       "1.009275270001345"
      ]
     },
     "execution_count": 30,
     "metadata": {},
     "output_type": "execute_result"
    }
   ],
   "source": [
    "bgf_1_rmse = bgf_rmse(ch_1,bgf_1)\n",
    "bgf_1_rmse"
   ]
  },
  {
   "cell_type": "code",
   "execution_count": 79,
   "metadata": {},
   "outputs": [
    {
     "data": {
      "text/html": [
       "<div>\n",
       "<style scoped>\n",
       "    .dataframe tbody tr th:only-of-type {\n",
       "        vertical-align: middle;\n",
       "    }\n",
       "\n",
       "    .dataframe tbody tr th {\n",
       "        vertical-align: top;\n",
       "    }\n",
       "\n",
       "    .dataframe thead th {\n",
       "        text-align: right;\n",
       "    }\n",
       "</style>\n",
       "<table border=\"1\" class=\"dataframe\">\n",
       "  <thead>\n",
       "    <tr style=\"text-align: right;\">\n",
       "      <th></th>\n",
       "      <th>n_transactions_cal_real</th>\n",
       "      <th>n_transactions_holdout_real</th>\n",
       "      <th>n_transactions_holdout_pred</th>\n",
       "    </tr>\n",
       "    <tr>\n",
       "      <th>customer_unique_id</th>\n",
       "      <th></th>\n",
       "      <th></th>\n",
       "      <th></th>\n",
       "    </tr>\n",
       "  </thead>\n",
       "  <tbody>\n",
       "    <tr>\n",
       "      <th>0000f46a3911fa3c0805444483337064</th>\n",
       "      <td>1.0</td>\n",
       "      <td>1.0</td>\n",
       "      <td>0.007896</td>\n",
       "    </tr>\n",
       "    <tr>\n",
       "      <th>0000f6ccb0745a6a4b88665a16c9f078</th>\n",
       "      <td>1.0</td>\n",
       "      <td>1.0</td>\n",
       "      <td>0.014077</td>\n",
       "    </tr>\n",
       "    <tr>\n",
       "      <th>0004aac84e0df4da2b147fca70cf8255</th>\n",
       "      <td>1.0</td>\n",
       "      <td>1.0</td>\n",
       "      <td>0.016051</td>\n",
       "    </tr>\n",
       "    <tr>\n",
       "      <th>0005e1862207bf6ccc02e4228effd9a0</th>\n",
       "      <td>1.0</td>\n",
       "      <td>1.0</td>\n",
       "      <td>0.007802</td>\n",
       "    </tr>\n",
       "    <tr>\n",
       "      <th>0006fdc98a402fceb4eb0ee528f6a8d4</th>\n",
       "      <td>1.0</td>\n",
       "      <td>1.0</td>\n",
       "      <td>0.010707</td>\n",
       "    </tr>\n",
       "    <tr>\n",
       "      <th>...</th>\n",
       "      <td>...</td>\n",
       "      <td>...</td>\n",
       "      <td>...</td>\n",
       "    </tr>\n",
       "    <tr>\n",
       "      <th>fffbf87b7a1a6fa8b03f081c5f51a201</th>\n",
       "      <td>1.0</td>\n",
       "      <td>1.0</td>\n",
       "      <td>0.019733</td>\n",
       "    </tr>\n",
       "    <tr>\n",
       "      <th>fffcf5a5ff07b0908bd4e2dbc735a684</th>\n",
       "      <td>1.0</td>\n",
       "      <td>1.0</td>\n",
       "      <td>0.009645</td>\n",
       "    </tr>\n",
       "    <tr>\n",
       "      <th>fffea47cd6d3cc0a88bd621562a9d061</th>\n",
       "      <td>1.0</td>\n",
       "      <td>1.0</td>\n",
       "      <td>0.018078</td>\n",
       "    </tr>\n",
       "    <tr>\n",
       "      <th>ffff371b4d645b6ecea244b27531430a</th>\n",
       "      <td>1.0</td>\n",
       "      <td>1.0</td>\n",
       "      <td>0.007433</td>\n",
       "    </tr>\n",
       "    <tr>\n",
       "      <th>ffffd2657e2aad2907e67c3e9daecbeb</th>\n",
       "      <td>1.0</td>\n",
       "      <td>1.0</td>\n",
       "      <td>0.008838</td>\n",
       "    </tr>\n",
       "  </tbody>\n",
       "</table>\n",
       "<p>55206 rows × 3 columns</p>\n",
       "</div>"
      ],
      "text/plain": [
       "                                  n_transactions_cal_real  \\\n",
       "customer_unique_id                                          \n",
       "0000f46a3911fa3c0805444483337064                      1.0   \n",
       "0000f6ccb0745a6a4b88665a16c9f078                      1.0   \n",
       "0004aac84e0df4da2b147fca70cf8255                      1.0   \n",
       "0005e1862207bf6ccc02e4228effd9a0                      1.0   \n",
       "0006fdc98a402fceb4eb0ee528f6a8d4                      1.0   \n",
       "...                                                   ...   \n",
       "fffbf87b7a1a6fa8b03f081c5f51a201                      1.0   \n",
       "fffcf5a5ff07b0908bd4e2dbc735a684                      1.0   \n",
       "fffea47cd6d3cc0a88bd621562a9d061                      1.0   \n",
       "ffff371b4d645b6ecea244b27531430a                      1.0   \n",
       "ffffd2657e2aad2907e67c3e9daecbeb                      1.0   \n",
       "\n",
       "                                  n_transactions_holdout_real  \\\n",
       "customer_unique_id                                              \n",
       "0000f46a3911fa3c0805444483337064                          1.0   \n",
       "0000f6ccb0745a6a4b88665a16c9f078                          1.0   \n",
       "0004aac84e0df4da2b147fca70cf8255                          1.0   \n",
       "0005e1862207bf6ccc02e4228effd9a0                          1.0   \n",
       "0006fdc98a402fceb4eb0ee528f6a8d4                          1.0   \n",
       "...                                                       ...   \n",
       "fffbf87b7a1a6fa8b03f081c5f51a201                          1.0   \n",
       "fffcf5a5ff07b0908bd4e2dbc735a684                          1.0   \n",
       "fffea47cd6d3cc0a88bd621562a9d061                          1.0   \n",
       "ffff371b4d645b6ecea244b27531430a                          1.0   \n",
       "ffffd2657e2aad2907e67c3e9daecbeb                          1.0   \n",
       "\n",
       "                                  n_transactions_holdout_pred  \n",
       "customer_unique_id                                             \n",
       "0000f46a3911fa3c0805444483337064                     0.007896  \n",
       "0000f6ccb0745a6a4b88665a16c9f078                     0.014077  \n",
       "0004aac84e0df4da2b147fca70cf8255                     0.016051  \n",
       "0005e1862207bf6ccc02e4228effd9a0                     0.007802  \n",
       "0006fdc98a402fceb4eb0ee528f6a8d4                     0.010707  \n",
       "...                                                       ...  \n",
       "fffbf87b7a1a6fa8b03f081c5f51a201                     0.019733  \n",
       "fffcf5a5ff07b0908bd4e2dbc735a684                     0.009645  \n",
       "fffea47cd6d3cc0a88bd621562a9d061                     0.018078  \n",
       "ffff371b4d645b6ecea244b27531430a                     0.007433  \n",
       "ffffd2657e2aad2907e67c3e9daecbeb                     0.008838  \n",
       "\n",
       "[55206 rows x 3 columns]"
      ]
     },
     "execution_count": 79,
     "metadata": {},
     "output_type": "execute_result"
    }
   ],
   "source": [
    "bgf_real_v_pred_df(ch_1,bgf_1)"
   ]
  }
 ],
 "metadata": {
  "kernelspec": {
   "display_name": "Python (lifetime-env)",
   "language": "python",
   "name": "lifetime-env"
  },
  "language_info": {
   "codemirror_mode": {
    "name": "ipython",
    "version": 3
   },
   "file_extension": ".py",
   "mimetype": "text/x-python",
   "name": "python",
   "nbconvert_exporter": "python",
   "pygments_lexer": "ipython3",
   "version": "3.10.4"
  }
 },
 "nbformat": 4,
 "nbformat_minor": 4
}
