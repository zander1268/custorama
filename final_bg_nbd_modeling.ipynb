{
 "cells": [
  {
   "cell_type": "code",
   "execution_count": 129,
   "metadata": {},
   "outputs": [],
   "source": [
    "#Inital imports\n",
    "%matplotlib inline\n",
    "import numpy as np\n",
    "import pandas as pd\n",
    "import matplotlib.pyplot as plt\n",
    "import seaborn as sns\n",
    "import lifetimes\n",
    "from lifetimes.plotting import plot_period_transactions, plot_calibration_purchases_vs_holdout_purchases\n",
    "from lifetimes import BetaGeoFitter, GammaGammaFitter\n",
    "from datetime import timedelta\n",
    "from datetime import datetime\n",
    "from dateutil import parser\n",
    "from sklearn.metrics import mean_squared_error\n",
    "from sklearn.model_selection import GridSearchCV"
   ]
  },
  {
   "cell_type": "code",
   "execution_count": 2,
   "metadata": {},
   "outputs": [
    {
     "name": "stdout",
     "output_type": "stream",
     "text": [
      "OnlineRetail_2yrs.csv             lifetimes_object_df.csv\r\n",
      "customer_data_base.zip            lifetimes_object_df_uncleaned.csv\r\n"
     ]
    }
   ],
   "source": [
    "!ls data"
   ]
  },
  {
   "cell_type": "code",
   "execution_count": 3,
   "metadata": {},
   "outputs": [],
   "source": [
    "#Load in our pre-prepared dataframes\n",
    "lifetimes_object_df = pd.read_csv(\"data/lifetimes_object_df.csv\")"
   ]
  },
  {
   "cell_type": "markdown",
   "metadata": {},
   "source": [
    "### Preparation and evaluation functions"
   ]
  },
  {
   "cell_type": "code",
   "execution_count": 4,
   "metadata": {},
   "outputs": [],
   "source": [
    "#Load in our data wrangler\n",
    "from lifetimes.utils import summary_data_from_transaction_data\n",
    "#Import holdout \n",
    "from lifetimes.utils import calibration_and_holdout_data"
   ]
  },
  {
   "cell_type": "code",
   "execution_count": 5,
   "metadata": {},
   "outputs": [],
   "source": [
    "#class to return a calibration and holdout df\n",
    "class df_ch():\n",
    "    def __init__(self, eval_period=None,transaction_df=None,purchase_timestamp_col=None,customer_id_col=None,datetime_col=None,monetary_value_col=None):\n",
    "        #initialized attributes\n",
    "        self.eval_period = eval_period\n",
    "        self.transaction_df = transaction_df\n",
    "        self.purchase_timestamp_col=purchase_timestamp_col\n",
    "        self.customer_id_col=customer_id_col\n",
    "        self.datetime_col=datetime_col\n",
    "        self.monetary_value_col=monetary_value_col\n",
    "        #save off more attributes\n",
    "        self.min_obs_date = parser.parse(transaction_df[purchase_timestamp_col].min())\n",
    "        self.max_obs_date = parser.parse(transaction_df[purchase_timestamp_col].max())\n",
    "        self.max_calib_date = self.max_obs_date - timedelta(days=eval_period)  \n",
    "        self.calib_range_days = (self.max_calib_date - self.min_obs_date).days\n",
    "    def df_ch_getdf(self):\n",
    "        df = calibration_and_holdout_data(\n",
    "        transactions = self.transaction_df, \n",
    "        customer_id_col=self.customer_id_col,\n",
    "        datetime_col=self.datetime_col,\n",
    "        monetary_value_col=self.monetary_value_col,\n",
    "        calibration_period_end = self.max_calib_date, \n",
    "        observation_period_end = self.max_obs_date, \n",
    "        freq = \"D\")\n",
    "        return df\n",
    "        "
   ]
  },
  {
   "cell_type": "code",
   "execution_count": 87,
   "metadata": {},
   "outputs": [],
   "source": [
    "#function to return a df of real and predicted transacitons in eval period\n",
    "def bgf_real_v_pred_df(ch,bgf):\n",
    "    rfm_cal_holdout = pd.DataFrame()\n",
    "    ch_df = ch.df_ch_getdf()\n",
    "    rfm_cal_holdout[\"n_transactions_cal_real\"]  = ch_df[\"frequency_cal\"] + 1 #Total calibration days with purchases = calibration frequency + 1\n",
    "    rfm_cal_holdout[\"n_transactions_holdout_real\"]  = ch_df[\"frequency_holdout\"] #Total validation days with purchases = validation frequency\n",
    "    # the predicted number of transactions\n",
    "    rfm_cal_holdout[\"n_transactions_holdout_pred\"] = bgf.predict(t=ch.eval_period, \n",
    "                                                    frequency=ch_df['frequency_cal'], \n",
    "                                                    recency=ch_df['recency_cal'], \n",
    "                                                    T=ch_df['T_cal'])\n",
    "    return rfm_cal_holdout[[\"n_transactions_cal_real\",\"n_transactions_holdout_real\", \"n_transactions_holdout_pred\"]]"
   ]
  },
  {
   "cell_type": "code",
   "execution_count": 60,
   "metadata": {},
   "outputs": [],
   "source": [
    "#function to capture RMSE for a BGF model\n",
    "def bgf_rmse(ch,bgf):\n",
    "    df_ch = ch.df_ch_getdf()\n",
    "    df_ch[\"n_transactions_holdout_real\"] = df_ch[\"frequency_holdout\"]\n",
    "    y_true = df_ch[\"n_transactions_holdout_real\"]\n",
    "    y_pred = bgf.predict(t=ch.eval_period, frequency=df_ch['frequency_cal'],\n",
    "                         recency=df_ch['recency_cal'],\n",
    "                         T=df_ch['T_cal'])\n",
    "\n",
    "    return mean_squared_error(y_true,y_pred)"
   ]
  },
  {
   "cell_type": "code",
   "execution_count": 61,
   "metadata": {},
   "outputs": [],
   "source": [
    "#function to return predicted # transactions for given customer in evaluation period\n",
    "def samp_cust_pred_trans(df_ch,sample_customer_id,eval_period):\n",
    "    sample_customer = df_ch.loc[sample_customer_id]\n",
    "    n_transactions_pred = bgf.predict(t=eval_period,\n",
    "                                  frequency=sample_customer['frequency_cal'], \n",
    "                                  recency=sample_customer['recency_cal'], \n",
    "                                  T=sample_customer['T_cal'])\n",
    "    return(n_transactions_pred)"
   ]
  },
  {
   "cell_type": "code",
   "execution_count": 62,
   "metadata": {},
   "outputs": [],
   "source": [
    "#Dummy model function that predicts the same purchase rate in the observation period to continue through the eval period\n",
    "def bgf_dummy_model(ch):\n",
    "    df_ch = ch.df_ch_getdf()\n",
    "    dummy_ch_df = pd.DataFrame()\n",
    "    dummy_ch_df[\"purchases_per_period_cal\"] = df_ch[\"frequency_cal\"] + 1 #Total calibration days with purchases = calibration frequency + 1\n",
    "    dummy_ch_df[\"purchases_per_period_cal\"] = dummy_ch_df[\"purchases_per_period_cal\"]/ch.calib_range_days #Purchase rate\n",
    "    dummy_ch_df[\"dummy_pred_purchases_holdout\"] = dummy_ch_df[\"purchases_per_period_cal\"] * ch.eval_period #Predicting purchase rate to continue\n",
    "    dummy_ch_df[\"actual_purchases_holdout\"] = df_ch[\"frequency_holdout\"] #Total validation days with purchases = validation frequency\n",
    "    return mean_squared_error(y_true=dummy_ch_df[\"dummy_pred_purchases_holdout\"],y_pred=dummy_ch_df[\"actual_purchases_holdout\"])\n"
   ]
  },
  {
   "cell_type": "code",
   "execution_count": 79,
   "metadata": {},
   "outputs": [],
   "source": [
    "#function to return a df of real and predicted transacitons in eval period for dummy model\n",
    "def bgf_dummy_real_v_pred_df(ch):\n",
    "    df_ch = ch.df_ch_getdf()\n",
    "    dummy_ch_df = pd.DataFrame()\n",
    "    dummy_ch_df[\"purchases_per_period_cal\"] = df_ch[\"frequency_cal\"] + 1 #Total calibration days with purchases = calibration frequency + 1\n",
    "    dummy_ch_df[\"purchases_per_period_cal\"] = dummy_ch_df[\"purchases_per_period_cal\"]/ch.calib_range_days #Purchase rate\n",
    "    dummy_ch_df[\"dummy_pred_purchases_holdout\"] = dummy_ch_df[\"purchases_per_period_cal\"] * ch.eval_period #Predicting purchase rate to continue\n",
    "    dummy_ch_df[\"actual_purchases_holdout\"] = df_ch[\"frequency_holdout\"] #Total validation days with purchases = validation frequency\n",
    "    return dummy_ch_df"
   ]
  },
  {
   "cell_type": "markdown",
   "metadata": {},
   "source": [
    "### RFM data exploration "
   ]
  },
  {
   "cell_type": "code",
   "execution_count": 10,
   "metadata": {},
   "outputs": [
    {
     "data": {
      "text/html": [
       "<div>\n",
       "<style scoped>\n",
       "    .dataframe tbody tr th:only-of-type {\n",
       "        vertical-align: middle;\n",
       "    }\n",
       "\n",
       "    .dataframe tbody tr th {\n",
       "        vertical-align: top;\n",
       "    }\n",
       "\n",
       "    .dataframe thead th {\n",
       "        text-align: right;\n",
       "    }\n",
       "</style>\n",
       "<table border=\"1\" class=\"dataframe\">\n",
       "  <thead>\n",
       "    <tr style=\"text-align: right;\">\n",
       "      <th></th>\n",
       "      <th>frequency</th>\n",
       "      <th>recency</th>\n",
       "      <th>T</th>\n",
       "      <th>monetary_value</th>\n",
       "    </tr>\n",
       "    <tr>\n",
       "      <th>customer_unique_id</th>\n",
       "      <th></th>\n",
       "      <th></th>\n",
       "      <th></th>\n",
       "      <th></th>\n",
       "    </tr>\n",
       "  </thead>\n",
       "  <tbody>\n",
       "    <tr>\n",
       "      <th>0000366f3b9a7992bf8c76cfdf3221e2</th>\n",
       "      <td>0.0</td>\n",
       "      <td>0.0</td>\n",
       "      <td>160.0</td>\n",
       "      <td>0.0</td>\n",
       "    </tr>\n",
       "    <tr>\n",
       "      <th>0000b849f77a49e4a4ce2b2a4ca5be3f</th>\n",
       "      <td>0.0</td>\n",
       "      <td>0.0</td>\n",
       "      <td>163.0</td>\n",
       "      <td>0.0</td>\n",
       "    </tr>\n",
       "    <tr>\n",
       "      <th>0000f46a3911fa3c0805444483337064</th>\n",
       "      <td>0.0</td>\n",
       "      <td>0.0</td>\n",
       "      <td>586.0</td>\n",
       "      <td>0.0</td>\n",
       "    </tr>\n",
       "    <tr>\n",
       "      <th>0000f6ccb0745a6a4b88665a16c9f078</th>\n",
       "      <td>0.0</td>\n",
       "      <td>0.0</td>\n",
       "      <td>370.0</td>\n",
       "      <td>0.0</td>\n",
       "    </tr>\n",
       "    <tr>\n",
       "      <th>0004aac84e0df4da2b147fca70cf8255</th>\n",
       "      <td>0.0</td>\n",
       "      <td>0.0</td>\n",
       "      <td>337.0</td>\n",
       "      <td>0.0</td>\n",
       "    </tr>\n",
       "    <tr>\n",
       "      <th>...</th>\n",
       "      <td>...</td>\n",
       "      <td>...</td>\n",
       "      <td>...</td>\n",
       "      <td>...</td>\n",
       "    </tr>\n",
       "    <tr>\n",
       "      <th>fffcf5a5ff07b0908bd4e2dbc735a684</th>\n",
       "      <td>0.0</td>\n",
       "      <td>0.0</td>\n",
       "      <td>496.0</td>\n",
       "      <td>0.0</td>\n",
       "    </tr>\n",
       "    <tr>\n",
       "      <th>fffea47cd6d3cc0a88bd621562a9d061</th>\n",
       "      <td>0.0</td>\n",
       "      <td>0.0</td>\n",
       "      <td>311.0</td>\n",
       "      <td>0.0</td>\n",
       "    </tr>\n",
       "    <tr>\n",
       "      <th>ffff371b4d645b6ecea244b27531430a</th>\n",
       "      <td>0.0</td>\n",
       "      <td>0.0</td>\n",
       "      <td>617.0</td>\n",
       "      <td>0.0</td>\n",
       "    </tr>\n",
       "    <tr>\n",
       "      <th>ffff5962728ec6157033ef9805bacc48</th>\n",
       "      <td>0.0</td>\n",
       "      <td>0.0</td>\n",
       "      <td>168.0</td>\n",
       "      <td>0.0</td>\n",
       "    </tr>\n",
       "    <tr>\n",
       "      <th>ffffd2657e2aad2907e67c3e9daecbeb</th>\n",
       "      <td>0.0</td>\n",
       "      <td>0.0</td>\n",
       "      <td>533.0</td>\n",
       "      <td>0.0</td>\n",
       "    </tr>\n",
       "  </tbody>\n",
       "</table>\n",
       "<p>94989 rows × 4 columns</p>\n",
       "</div>"
      ],
      "text/plain": [
       "                                  frequency  recency      T  monetary_value\n",
       "customer_unique_id                                                         \n",
       "0000366f3b9a7992bf8c76cfdf3221e2        0.0      0.0  160.0             0.0\n",
       "0000b849f77a49e4a4ce2b2a4ca5be3f        0.0      0.0  163.0             0.0\n",
       "0000f46a3911fa3c0805444483337064        0.0      0.0  586.0             0.0\n",
       "0000f6ccb0745a6a4b88665a16c9f078        0.0      0.0  370.0             0.0\n",
       "0004aac84e0df4da2b147fca70cf8255        0.0      0.0  337.0             0.0\n",
       "...                                     ...      ...    ...             ...\n",
       "fffcf5a5ff07b0908bd4e2dbc735a684        0.0      0.0  496.0             0.0\n",
       "fffea47cd6d3cc0a88bd621562a9d061        0.0      0.0  311.0             0.0\n",
       "ffff371b4d645b6ecea244b27531430a        0.0      0.0  617.0             0.0\n",
       "ffff5962728ec6157033ef9805bacc48        0.0      0.0  168.0             0.0\n",
       "ffffd2657e2aad2907e67c3e9daecbeb        0.0      0.0  533.0             0.0\n",
       "\n",
       "[94989 rows x 4 columns]"
      ]
     },
     "execution_count": 10,
     "metadata": {},
     "output_type": "execute_result"
    }
   ],
   "source": [
    "summary = summary_data_from_transaction_data(transactions=lifetimes_object_df,customer_id_col='customer_unique_id',\n",
    "                                             datetime_col='order_purchase_timestamp',monetary_value_col='payment_value',observation_period_end='2018-10-17')\n",
    "summary"
   ]
  },
  {
   "cell_type": "code",
   "execution_count": 63,
   "metadata": {},
   "outputs": [
    {
     "data": {
      "text/plain": [
       "0.0     0.978261\n",
       "1.0     0.020097\n",
       "2.0     0.001305\n",
       "3.0     0.000189\n",
       "4.0     0.000063\n",
       "5.0     0.000053\n",
       "6.0     0.000021\n",
       "15.0    0.000011\n",
       "Name: frequency, dtype: float64"
      ]
     },
     "execution_count": 63,
     "metadata": {},
     "output_type": "execute_result"
    }
   ],
   "source": [
    "#We have less than 3% of customers who are repeat purchasers\n",
    "summary.frequency.value_counts(normalize=True)"
   ]
  },
  {
   "cell_type": "code",
   "execution_count": 64,
   "metadata": {},
   "outputs": [
    {
     "data": {
      "text/plain": [
       "0.0     92924\n",
       "1.0      1909\n",
       "2.0       124\n",
       "3.0        18\n",
       "4.0         6\n",
       "5.0         5\n",
       "6.0         2\n",
       "15.0        1\n",
       "Name: frequency, dtype: int64"
      ]
     },
     "execution_count": 64,
     "metadata": {},
     "output_type": "execute_result"
    }
   ],
   "source": [
    "summary.frequency.value_counts()"
   ]
  },
  {
   "cell_type": "code",
   "execution_count": 65,
   "metadata": {},
   "outputs": [
    {
     "data": {
      "text/plain": [
       "True"
      ]
     },
     "execution_count": 65,
     "metadata": {},
     "output_type": "execute_result"
    }
   ],
   "source": [
    "#create a list of repeat purchasers\n",
    "repeat_purchaser_ids = list(summary[summary[\"frequency\"] >= 1].index)\n",
    "#subset our transaction data to just repeat purchasers\n",
    "repeat_lifetimes_object_df = lifetimes_object_df[lifetimes_object_df[\"customer_unique_id\"].isin(repeat_purchaser_ids) == True]\n",
    "#Checking we removed the correct number of user id's\n",
    "(len(lifetimes_object_df.customer_unique_id.unique()) - len(repeat_lifetimes_object_df.customer_unique_id.unique())) == summary.frequency.value_counts()[0]"
   ]
  },
  {
   "cell_type": "code",
   "execution_count": 66,
   "metadata": {},
   "outputs": [],
   "source": [
    "repeat_purchaser_summary = summary_data_from_transaction_data(transactions=repeat_lifetimes_object_df,customer_id_col='customer_unique_id',\n",
    "                                             datetime_col='order_purchase_timestamp',monetary_value_col='payment_value',observation_period_end='2018-10-17')\n"
   ]
  },
  {
   "cell_type": "code",
   "execution_count": 67,
   "metadata": {},
   "outputs": [
    {
     "data": {
      "text/html": [
       "<div>\n",
       "<style scoped>\n",
       "    .dataframe tbody tr th:only-of-type {\n",
       "        vertical-align: middle;\n",
       "    }\n",
       "\n",
       "    .dataframe tbody tr th {\n",
       "        vertical-align: top;\n",
       "    }\n",
       "\n",
       "    .dataframe thead th {\n",
       "        text-align: right;\n",
       "    }\n",
       "</style>\n",
       "<table border=\"1\" class=\"dataframe\">\n",
       "  <thead>\n",
       "    <tr style=\"text-align: right;\">\n",
       "      <th></th>\n",
       "      <th>monetary_value</th>\n",
       "      <th>frequency</th>\n",
       "    </tr>\n",
       "  </thead>\n",
       "  <tbody>\n",
       "    <tr>\n",
       "      <th>monetary_value</th>\n",
       "      <td>1.00000</td>\n",
       "      <td>-0.00049</td>\n",
       "    </tr>\n",
       "    <tr>\n",
       "      <th>frequency</th>\n",
       "      <td>-0.00049</td>\n",
       "      <td>1.00000</td>\n",
       "    </tr>\n",
       "  </tbody>\n",
       "</table>\n",
       "</div>"
      ],
      "text/plain": [
       "                monetary_value  frequency\n",
       "monetary_value         1.00000   -0.00049\n",
       "frequency             -0.00049    1.00000"
      ]
     },
     "execution_count": 67,
     "metadata": {},
     "output_type": "execute_result"
    }
   ],
   "source": [
    "#The Gamma-Gamma submodel, assumes no relationship between the monetary value and the purchase frequency. \n",
    "#The correlation between the two vectors is close to 0 so we can use this model.\n",
    "repeat_purchaser_summary[['monetary_value', 'frequency']].corr()"
   ]
  },
  {
   "cell_type": "code",
   "execution_count": 68,
   "metadata": {},
   "outputs": [],
   "source": [
    "#Load in our ch object with all data\n",
    "ch_1 = df_ch(eval_period=240,transaction_df=lifetimes_object_df,purchase_timestamp_col='order_purchase_timestamp',\n",
    "                   customer_id_col='customer_unique_id',datetime_col='order_purchase_timestamp',\n",
    "                   monetary_value_col='payment_value')"
   ]
  },
  {
   "cell_type": "code",
   "execution_count": 69,
   "metadata": {},
   "outputs": [],
   "source": [
    "#Load in our ch object with repeat purchaser data\n",
    "ch_2 = df_ch(eval_period=240,transaction_df=repeat_lifetimes_object_df,purchase_timestamp_col='order_purchase_timestamp',\n",
    "                   customer_id_col='customer_unique_id',datetime_col='order_purchase_timestamp',\n",
    "                   monetary_value_col='payment_value')"
   ]
  },
  {
   "cell_type": "code",
   "execution_count": 70,
   "metadata": {},
   "outputs": [],
   "source": [
    "#create an array to evaluate total purchases per customer in calib period\n",
    "repeat_lifetimes_object_df_ts = repeat_lifetimes_object_df\n",
    "repeat_lifetimes_object_df_ts[\"order_purchase_timestamp\"] = pd.to_datetime(repeat_lifetimes_object_df[\"order_purchase_timestamp\"])\n",
    "purchases_in_cal = repeat_lifetimes_object_df_ts[repeat_lifetimes_object_df_ts[\"order_purchase_timestamp\"]<=ch_2.max_calib_date]\n",
    "purchases_in_cal = purchases_in_cal[purchases_in_cal[\"order_purchase_timestamp\"]<=ch_2.max_calib_date].groupby(\"customer_unique_id\").nunique()[\"order_purchase_timestamp\"]\n",
    "purchases_in_cal.sort_values()\n",
    "purchases_in_cal = pd.DataFrame(purchases_in_cal)\n",
    "purchaser_id_in_cal = list(purchases_in_cal.index)"
   ]
  },
  {
   "cell_type": "code",
   "execution_count": 71,
   "metadata": {},
   "outputs": [
    {
     "data": {
      "text/html": [
       "<div>\n",
       "<style scoped>\n",
       "    .dataframe tbody tr th:only-of-type {\n",
       "        vertical-align: middle;\n",
       "    }\n",
       "\n",
       "    .dataframe tbody tr th {\n",
       "        vertical-align: top;\n",
       "    }\n",
       "\n",
       "    .dataframe thead th {\n",
       "        text-align: right;\n",
       "    }\n",
       "</style>\n",
       "<table border=\"1\" class=\"dataframe\">\n",
       "  <thead>\n",
       "    <tr style=\"text-align: right;\">\n",
       "      <th></th>\n",
       "      <th>order_purchase_timestamp</th>\n",
       "    </tr>\n",
       "    <tr>\n",
       "      <th>customer_unique_id</th>\n",
       "      <th></th>\n",
       "    </tr>\n",
       "  </thead>\n",
       "  <tbody>\n",
       "    <tr>\n",
       "      <th>004288347e5e88a27ded2bb23747066c</th>\n",
       "      <td>1</td>\n",
       "    </tr>\n",
       "    <tr>\n",
       "      <th>004b45ec5c64187465168251cd1c9c2f</th>\n",
       "      <td>1</td>\n",
       "    </tr>\n",
       "    <tr>\n",
       "      <th>011b4adcd54683b480c4d841250a987f</th>\n",
       "      <td>1</td>\n",
       "    </tr>\n",
       "    <tr>\n",
       "      <th>012452d40dafae4df401bced74cdb490</th>\n",
       "      <td>1</td>\n",
       "    </tr>\n",
       "    <tr>\n",
       "      <th>0178b244a5c281fb2ade54038dd4b161</th>\n",
       "      <td>1</td>\n",
       "    </tr>\n",
       "    <tr>\n",
       "      <th>...</th>\n",
       "      <td>...</td>\n",
       "    </tr>\n",
       "    <tr>\n",
       "      <th>fc19fe9ac733e36ff8227c29435c2030</th>\n",
       "      <td>1</td>\n",
       "    </tr>\n",
       "    <tr>\n",
       "      <th>fcd0ab79592faab19e2bf386cf69fbcd</th>\n",
       "      <td>1</td>\n",
       "    </tr>\n",
       "    <tr>\n",
       "      <th>fe3e52de024b82706717c38c8e183084</th>\n",
       "      <td>1</td>\n",
       "    </tr>\n",
       "    <tr>\n",
       "      <th>fe81bb32c243a86b2f86fbf053fe6140</th>\n",
       "      <td>3</td>\n",
       "    </tr>\n",
       "    <tr>\n",
       "      <th>fed519569d16e690df6f89cb99d4e682</th>\n",
       "      <td>1</td>\n",
       "    </tr>\n",
       "  </tbody>\n",
       "</table>\n",
       "<p>674 rows × 1 columns</p>\n",
       "</div>"
      ],
      "text/plain": [
       "                                  order_purchase_timestamp\n",
       "customer_unique_id                                        \n",
       "004288347e5e88a27ded2bb23747066c                         1\n",
       "004b45ec5c64187465168251cd1c9c2f                         1\n",
       "011b4adcd54683b480c4d841250a987f                         1\n",
       "012452d40dafae4df401bced74cdb490                         1\n",
       "0178b244a5c281fb2ade54038dd4b161                         1\n",
       "...                                                    ...\n",
       "fc19fe9ac733e36ff8227c29435c2030                         1\n",
       "fcd0ab79592faab19e2bf386cf69fbcd                         1\n",
       "fe3e52de024b82706717c38c8e183084                         1\n",
       "fe81bb32c243a86b2f86fbf053fe6140                         3\n",
       "fed519569d16e690df6f89cb99d4e682                         1\n",
       "\n",
       "[674 rows x 1 columns]"
      ]
     },
     "execution_count": 71,
     "metadata": {},
     "output_type": "execute_result"
    }
   ],
   "source": [
    "#create an array to evaluate total purchases per customer in validation period\n",
    "purchases_in_val = repeat_lifetimes_object_df_ts[repeat_lifetimes_object_df_ts[\"order_purchase_timestamp\"]>ch_2.max_calib_date].groupby(\"customer_unique_id\").nunique()[\"order_purchase_timestamp\"]\n",
    "purchases_in_val.sort_values()\n",
    "purchases_in_val = pd.DataFrame(purchases_in_val)\n",
    "#subset to just those id's that appeared in our calib period\n",
    "purchases_in_val = purchases_in_val[purchases_in_val.index.isin(purchaser_id_in_cal)]\n",
    "purchases_in_val"
   ]
  },
  {
   "cell_type": "code",
   "execution_count": 72,
   "metadata": {},
   "outputs": [],
   "source": [
    "df_ch_2 = ch_2.df_ch_getdf()"
   ]
  },
  {
   "cell_type": "code",
   "execution_count": 73,
   "metadata": {},
   "outputs": [
    {
     "data": {
      "text/plain": [
       "True"
      ]
     },
     "execution_count": 73,
     "metadata": {},
     "output_type": "execute_result"
    }
   ],
   "source": [
    "#Confirming that a 'frequency' of 0.00 in calibration period means total purchases in that period = 1\n",
    "#Total calibration days with purchases = calibration frequency + 1\n",
    "purch = []\n",
    "for purchasers in df_ch_2[\"frequency_cal\"]:    \n",
    "    purch.append(purchasers+1)\n",
    "sum(purch) == purchases_in_cal[\"order_purchase_timestamp\"].sum()"
   ]
  },
  {
   "cell_type": "code",
   "execution_count": 75,
   "metadata": {},
   "outputs": [
    {
     "data": {
      "text/plain": [
       "False"
      ]
     },
     "execution_count": 75,
     "metadata": {},
     "output_type": "execute_result"
    }
   ],
   "source": [
    "#Attempting on holdout group\n",
    "#False bc these are repeat customers so we don't need to add +1\n",
    "purch = []\n",
    "for purchasers in df_ch_2[\"frequency_holdout\"]:    \n",
    "    purch.append(purchasers+1)\n",
    "sum(purch) == purchases_in_val[\"order_purchase_timestamp\"].sum()"
   ]
  },
  {
   "cell_type": "code",
   "execution_count": 76,
   "metadata": {},
   "outputs": [
    {
     "data": {
      "text/plain": [
       "True"
      ]
     },
     "execution_count": 76,
     "metadata": {},
     "output_type": "execute_result"
    }
   ],
   "source": [
    "#Total validation days with purchases = validation frequency\n",
    "sum(df_ch_2[\"frequency_holdout\"]) == purchases_in_val[\"order_purchase_timestamp\"].sum()"
   ]
  },
  {
   "cell_type": "markdown",
   "metadata": {},
   "source": [
    "###  Dummy model\n",
    "Model features\n",
    "- Predict purchases in holdout period based on the observed purchase rate in the calibration period\n",
    "Model results\n",
    "- Decent RMSE for all customers\n",
    "- Poor RMSE for repeat customer subset\n",
    "- We significantly improved upon our dummy model"
   ]
  },
  {
   "cell_type": "code",
   "execution_count": 78,
   "metadata": {},
   "outputs": [
    {
     "name": "stdout",
     "output_type": "stream",
     "text": [
      " bgf dummy model RMSE w/ all data: 0.25709468684945536\n",
      " bgf dummy model RMSE w/ repeat cust only: 0.8141615765376924\n"
     ]
    }
   ],
   "source": [
    "print(f' bgf dummy model RMSE w/ all data: {bgf_dummy_model(ch_1)}')\n",
    "print(f' bgf dummy model RMSE w/ repeat cust only: {bgf_dummy_model(ch_2)}')"
   ]
  },
  {
   "cell_type": "code",
   "execution_count": null,
   "metadata": {},
   "outputs": [],
   "source": [
    "dummy_ch_df = pd.DataFrame()\n",
    "dummy_ch_df[\"purchases_per_period_cal\"] = df_ch_2[\"frequency_cal\"] + 1\n",
    "#533 is the calib range\n",
    "dummy_ch_df[\"purchases_per_period_cal\"] = dummy_ch_df[\"purchases_per_period_cal\"]/533\n",
    "dummy_ch_df[\"value_per_purchase_cal\"] = df_ch_2[\"monetary_value_cal\"] / (df_ch_2[\"frequency_cal\"] + 1)\n",
    "#240 is the eval range\n",
    "dummy_ch_df[\"dummy_pred_purchases_holdout\"] = dummy_ch_df[\"purchases_per_period_cal\"] * 240\n",
    "dummy_ch_df[\"actual_purchases_holdout\"] = df_ch_2[\"frequency_holdout\"] + 1\n",
    "dummy_ch_df"
   ]
  },
  {
   "cell_type": "markdown",
   "metadata": {},
   "source": [
    "###  1.0 BG/NBD model\n",
    "Model features\n",
    "- All customers including those with just 1 purchase\n",
    "\n",
    "Model results\n",
    "- Very strong RMSE\n",
    "- We significantly improved upon our dummy model\n",
    "\n",
    "Next steps\n",
    "- Attempt on subsetted data of customers with more than 1 purchase"
   ]
  },
  {
   "cell_type": "code",
   "execution_count": 83,
   "metadata": {},
   "outputs": [],
   "source": [
    "#Iniatialze df_ch \n",
    "df_ch_1 = ch_1.df_ch_getdf()"
   ]
  },
  {
   "cell_type": "code",
   "execution_count": 81,
   "metadata": {},
   "outputs": [],
   "source": [
    "#Iniatialize bgf model\n",
    "bgf_1 = BetaGeoFitter(penalizer_coef=0)"
   ]
  },
  {
   "cell_type": "code",
   "execution_count": 84,
   "metadata": {},
   "outputs": [
    {
     "name": "stdout",
     "output_type": "stream",
     "text": [
      "Optimization terminated successfully.\n",
      "         Current function value: 0.065817\n",
      "         Iterations: 60\n",
      "         Function evaluations: 63\n",
      "         Gradient evaluations: 63\n"
     ]
    },
    {
     "data": {
      "text/plain": [
       "<lifetimes.BetaGeoFitter: fitted with 44463 subjects, a: 1.85, alpha: 55.22, b: 0.32, r: 0.02>"
      ]
     },
     "execution_count": 84,
     "metadata": {},
     "output_type": "execute_result"
    }
   ],
   "source": [
    "#Fit model to df_ch\n",
    "bgf_1.fit(\n",
    "        frequency = df_ch_1[\"frequency_cal\"], \n",
    "        recency = df_ch_1[\"recency_cal\"], \n",
    "        T = df_ch_1[\"T_cal\"],   \n",
    "        weights = None,  \n",
    "        verbose = True)"
   ]
  },
  {
   "cell_type": "code",
   "execution_count": 85,
   "metadata": {},
   "outputs": [
    {
     "data": {
      "text/plain": [
       "0.020255570402409388"
      ]
     },
     "execution_count": 85,
     "metadata": {},
     "output_type": "execute_result"
    }
   ],
   "source": [
    "bgf_1_rmse = bgf_rmse(ch_1,bgf_1)\n",
    "bgf_1_rmse"
   ]
  },
  {
   "cell_type": "code",
   "execution_count": 89,
   "metadata": {},
   "outputs": [
    {
     "name": "stderr",
     "output_type": "stream",
     "text": [
      "/Applications/anaconda3/envs/lifetime-env/lib/python3.10/site-packages/lifetimes/generate_data.py:54: RuntimeWarning: divide by zero encountered in double_scalars\n",
      "  next_purchase_in = random.exponential(scale=1.0 / l)\n"
     ]
    },
    {
     "data": {
      "image/png": "[encoded data removed]",
      "text/plain": [
       "<Figure size 432x288 with 1 Axes>"
      ]
     },
     "metadata": {
      "needs_background": "light"
     },
     "output_type": "display_data"
    }
   ],
   "source": [
    "#Our model accurately esimates n purchases with in the calibation period\n",
    "plot_period_transactions(bgf_1);"
   ]
  },
  {
   "cell_type": "code",
   "execution_count": 94,
   "metadata": {},
   "outputs": [
    {
     "data": {
      "text/plain": [
       "<Figure size 504x504 with 0 Axes>"
      ]
     },
     "metadata": {},
     "output_type": "display_data"
    },
    {
     "data": {
      "image/png": "[encoded data removed]",
      "text/plain": [
       "<Figure size 432x288 with 1 Axes>"
      ]
     },
     "metadata": {
      "needs_background": "light"
     },
     "output_type": "display_data"
    }
   ],
   "source": [
    "# testing: predicted vs actual purchases in holdout period\n",
    "fig = plt.figure(figsize=(7, 7))\n",
    "plot_calibration_purchases_vs_holdout_purchases(bgf_1, df_ch_1);"
   ]
  },
  {
   "cell_type": "markdown",
   "metadata": {},
   "source": [
    "###  2.0 BG/NBD model\n",
    "Model features\n",
    "- Subsetted data of customers with more than 1 purchase\n",
    "\n",
    "Model results\n",
    "- Our model is less accurate on this subset of repeat customers bc we can't inflate accuracy with the signficant n of correct 0 purchase perdictions that \n",
    "- That said, this model did much better than our dummy model did on repeat customers\n",
    "\n",
    "Next steps\n",
    "- Attempt regularization"
   ]
  },
  {
   "cell_type": "code",
   "execution_count": 95,
   "metadata": {},
   "outputs": [],
   "source": [
    "#Iniatialze df_ch \n",
    "df_ch_2 = ch_2.df_ch_getdf()"
   ]
  },
  {
   "cell_type": "code",
   "execution_count": 97,
   "metadata": {},
   "outputs": [],
   "source": [
    "#Iniatialize bgf model\n",
    "bgf_2 = BetaGeoFitter(penalizer_coef=0)"
   ]
  },
  {
   "cell_type": "code",
   "execution_count": 100,
   "metadata": {},
   "outputs": [
    {
     "name": "stdout",
     "output_type": "stream",
     "text": [
      "Optimization terminated successfully.\n",
      "         Current function value: 0.095057\n",
      "         Iterations: 29\n",
      "         Function evaluations: 31\n",
      "         Gradient evaluations: 31\n"
     ]
    },
    {
     "data": {
      "text/plain": [
       "<lifetimes.BetaGeoFitter: fitted with 1384 subjects, a: 1.82, alpha: 135.02, b: 0.25, r: 1.13>"
      ]
     },
     "execution_count": 100,
     "metadata": {},
     "output_type": "execute_result"
    }
   ],
   "source": [
    "#Fit model to df_ch\n",
    "bgf_2.fit(\n",
    "        frequency = df_ch_2[\"frequency_cal\"], \n",
    "        recency = df_ch_2[\"recency_cal\"], \n",
    "        T = df_ch_2[\"T_cal\"],   \n",
    "        weights = None,  \n",
    "        verbose = True)"
   ]
  },
  {
   "cell_type": "code",
   "execution_count": 101,
   "metadata": {},
   "outputs": [
    {
     "data": {
      "text/plain": [
       "0.254995983388962"
      ]
     },
     "execution_count": 101,
     "metadata": {},
     "output_type": "execute_result"
    }
   ],
   "source": [
    "bgf_2_rmse = bgf_rmse(ch_2,bgf_2)\n",
    "bgf_2_rmse"
   ]
  },
  {
   "cell_type": "code",
   "execution_count": 102,
   "metadata": {},
   "outputs": [
    {
     "data": {
      "image/png": "[encoded data removed]",
      "text/plain": [
       "<Figure size 432x288 with 1 Axes>"
      ]
     },
     "metadata": {
      "needs_background": "light"
     },
     "output_type": "display_data"
    }
   ],
   "source": [
    "plot_period_transactions(bgf_2);"
   ]
  },
  {
   "cell_type": "code",
   "execution_count": 103,
   "metadata": {},
   "outputs": [
    {
     "data": {
      "text/plain": [
       "<Figure size 504x504 with 0 Axes>"
      ]
     },
     "metadata": {},
     "output_type": "display_data"
    },
    {
     "data": {
      "image/png": "[encoded data removed]",
      "text/plain": [
       "<Figure size 432x288 with 1 Axes>"
      ]
     },
     "metadata": {
      "needs_background": "light"
     },
     "output_type": "display_data"
    }
   ],
   "source": [
    "# testing: predicted vs actual purchases in holdout period\n",
    "fig = plt.figure(figsize=(7, 7)) \n",
    "plot_calibration_purchases_vs_holdout_purchases(bgf_2, df_ch_2);"
   ]
  },
  {
   "cell_type": "markdown",
   "metadata": {},
   "source": [
    "###  3.0 BG/NBD model\n",
    "Model features\n",
    "- Subsetted data of customers with more than 1 purchase\n",
    "- Regularization in the form of l2 penalty\n",
    "\n",
    "Model results\n",
    "- Zero regularization produced the best result\n",
    "\n",
    "Next steps\n",
    "- Attempt regularization on full data set"
   ]
  },
  {
   "cell_type": "code",
   "execution_count": 125,
   "metadata": {},
   "outputs": [
    {
     "name": "stdout",
     "output_type": "stream",
     "text": [
      "bgf_3_0 0.254995983388962\n",
      "bgf_3_001 0.2554724458875201\n",
      "bgf_3_05 0.38414252555643896\n",
      "bgf_3_01 0.2950368840677332\n",
      "bgf_3_015 0.3111396102838008\n"
     ]
    }
   ],
   "source": [
    "#Documentation says that penalties in the order of 0.001 to 0.1 are effective\n",
    "penalizer_coef_grid = {\"bgf_3_0\":0,\"bgf_3_001\":0.001,\"bgf_3_05\":0.05,\"bgf_3_01\":.01,\"bgf_3_015\":.015}\n",
    "for penalizer in penalizer_coef_grid:\n",
    "    model = BetaGeoFitter(penalizer_coef=penalizer_coef_grid[penalizer])\n",
    "    model.fit(\n",
    "        frequency = df_ch_2[\"frequency_cal\"], \n",
    "        recency = df_ch_2[\"recency_cal\"], \n",
    "        T = df_ch_2[\"T_cal\"],   \n",
    "        weights = None,  \n",
    "        verbose = False)\n",
    "    print(f'{penalizer} {bgf_rmse(ch_2,model)}')"
   ]
  },
  {
   "cell_type": "markdown",
   "metadata": {},
   "source": [
    "###  4.0 BG/NBD model\n",
    "Model features\n",
    "- All customers including those with just 1 purchase\n",
    "- Regularization in the form of l2 penalty\n",
    "\n",
    "Model results\n",
    "- Zero regularization produced the best result\n",
    "\n",
    "Next steps\n",
    "- Bring in a Gama Gama model to predict LTV\n"
   ]
  },
  {
   "cell_type": "code",
   "execution_count": 126,
   "metadata": {},
   "outputs": [
    {
     "name": "stdout",
     "output_type": "stream",
     "text": [
      "bgf_3_0 0.020255570402409388\n",
      "bgf_3_001 0.02159426531842805\n",
      "bgf_3_05 0.026885903278818842\n",
      "bgf_3_01 0.024215553556762578\n",
      "bgf_3_015 0.024818318495397666\n"
     ]
    }
   ],
   "source": [
    "for penalizer in penalizer_coef_grid:\n",
    "    model = BetaGeoFitter(penalizer_coef=penalizer_coef_grid[penalizer])\n",
    "    model.fit(\n",
    "        frequency = df_ch_1[\"frequency_cal\"], \n",
    "        recency = df_ch_1[\"recency_cal\"], \n",
    "        T = df_ch_1[\"T_cal\"],   \n",
    "        weights = None,  \n",
    "        verbose = False)\n",
    "    print(f'{penalizer} {bgf_rmse(ch_1,model)}')"
   ]
  },
  {
   "cell_type": "markdown",
   "metadata": {},
   "source": [
    "###  1.0 GG model\n",
    "Model features\n",
    "- All customers including those with just 1 purchase\n",
    "- No regularization\n",
    "\n",
    "Model results\n",
    "- TBD\n"
   ]
  },
  {
   "cell_type": "code",
   "execution_count": null,
   "metadata": {},
   "outputs": [],
   "source": []
  },
  {
   "cell_type": "code",
   "execution_count": 140,
   "metadata": {},
   "outputs": [
    {
     "ename": "ValueError",
     "evalue": "There exist non-positive (<= 0) values in the monetary_value vector.",
     "output_type": "error",
     "traceback": [
      "\u001b[0;31m---------------------------------------------------------------------------\u001b[0m",
      "\u001b[0;31mValueError\u001b[0m                                Traceback (most recent call last)",
      "Input \u001b[0;32mIn [140]\u001b[0m, in \u001b[0;36m<cell line: 2>\u001b[0;34m()\u001b[0m\n\u001b[1;32m      1\u001b[0m ggf \u001b[38;5;241m=\u001b[39m GammaGammaFitter(penalizer_coef \u001b[38;5;241m=\u001b[39m \u001b[38;5;241m0\u001b[39m)\n\u001b[0;32m----> 2\u001b[0m \u001b[43mggf\u001b[49m\u001b[38;5;241;43m.\u001b[39;49m\u001b[43mfit\u001b[49m\u001b[43m(\u001b[49m\u001b[43mfrequency\u001b[49m\u001b[38;5;241;43m=\u001b[39;49m\u001b[43mdf_ch_2\u001b[49m\u001b[43m[\u001b[49m\u001b[38;5;124;43m\"\u001b[39;49m\u001b[38;5;124;43mfrequency_cal\u001b[39;49m\u001b[38;5;124;43m\"\u001b[39;49m\u001b[43m]\u001b[49m\u001b[43m,\u001b[49m\u001b[43mmonetary_value\u001b[49m\u001b[38;5;241;43m=\u001b[39;49m\u001b[43mdf_ch_2\u001b[49m\u001b[43m[\u001b[49m\u001b[38;5;124;43m\"\u001b[39;49m\u001b[38;5;124;43mmonetary_value_cal\u001b[39;49m\u001b[38;5;124;43m\"\u001b[39;49m\u001b[43m]\u001b[49m\u001b[43m)\u001b[49m\n",
      "File \u001b[0;32m/Applications/anaconda3/envs/lifetime-env/lib/python3.10/site-packages/lifetimes/fitters/gamma_gamma_fitter.py:214\u001b[0m, in \u001b[0;36mGammaGammaFitter.fit\u001b[0;34m(self, frequency, monetary_value, weights, initial_params, verbose, tol, index, q_constraint, **kwargs)\u001b[0m\n\u001b[1;32m    160\u001b[0m \u001b[38;5;28;01mdef\u001b[39;00m \u001b[38;5;21mfit\u001b[39m(\n\u001b[1;32m    161\u001b[0m     \u001b[38;5;28mself\u001b[39m,\n\u001b[1;32m    162\u001b[0m     frequency,\n\u001b[0;32m   (...)\u001b[0m\n\u001b[1;32m    170\u001b[0m     \u001b[38;5;241m*\u001b[39m\u001b[38;5;241m*\u001b[39mkwargs\n\u001b[1;32m    171\u001b[0m ):\n\u001b[1;32m    172\u001b[0m     \u001b[38;5;124;03m\"\"\"\u001b[39;00m\n\u001b[1;32m    173\u001b[0m \u001b[38;5;124;03m    Fit the data to the Gamma/Gamma model.\u001b[39;00m\n\u001b[1;32m    174\u001b[0m \n\u001b[0;32m   (...)\u001b[0m\n\u001b[1;32m    211\u001b[0m \u001b[38;5;124;03m        fitted and with parameters estimated\u001b[39;00m\n\u001b[1;32m    212\u001b[0m \u001b[38;5;124;03m    \"\"\"\u001b[39;00m\n\u001b[0;32m--> 214\u001b[0m     \u001b[43m_check_inputs\u001b[49m\u001b[43m(\u001b[49m\u001b[43mfrequency\u001b[49m\u001b[43m,\u001b[49m\u001b[43m \u001b[49m\u001b[43mmonetary_value\u001b[49m\u001b[38;5;241;43m=\u001b[39;49m\u001b[43mmonetary_value\u001b[49m\u001b[43m)\u001b[49m\n\u001b[1;32m    216\u001b[0m     frequency \u001b[38;5;241m=\u001b[39m np\u001b[38;5;241m.\u001b[39masarray(frequency)\u001b[38;5;241m.\u001b[39mastype(\u001b[38;5;28mfloat\u001b[39m)\n\u001b[1;32m    217\u001b[0m     monetary_value \u001b[38;5;241m=\u001b[39m np\u001b[38;5;241m.\u001b[39masarray(monetary_value)\u001b[38;5;241m.\u001b[39mastype(\u001b[38;5;28mfloat\u001b[39m)\n",
      "File \u001b[0;32m/Applications/anaconda3/envs/lifetime-env/lib/python3.10/site-packages/lifetimes/utils.py:444\u001b[0m, in \u001b[0;36m_check_inputs\u001b[0;34m(frequency, recency, T, monetary_value)\u001b[0m\n\u001b[1;32m    442\u001b[0m     \u001b[38;5;28;01mraise\u001b[39;00m \u001b[38;5;167;01mValueError\u001b[39;00m(\u001b[38;5;124m\"\u001b[39m\u001b[38;5;124mThere exist non-integer values in the frequency vector.\u001b[39m\u001b[38;5;124m\"\u001b[39m)\n\u001b[1;32m    443\u001b[0m \u001b[38;5;28;01mif\u001b[39;00m monetary_value \u001b[38;5;129;01mis\u001b[39;00m \u001b[38;5;129;01mnot\u001b[39;00m \u001b[38;5;28;01mNone\u001b[39;00m \u001b[38;5;129;01mand\u001b[39;00m np\u001b[38;5;241m.\u001b[39many(monetary_value \u001b[38;5;241m<\u001b[39m\u001b[38;5;241m=\u001b[39m \u001b[38;5;241m0\u001b[39m):\n\u001b[0;32m--> 444\u001b[0m     \u001b[38;5;28;01mraise\u001b[39;00m \u001b[38;5;167;01mValueError\u001b[39;00m(\u001b[38;5;124m\"\u001b[39m\u001b[38;5;124mThere exist non-positive (<= 0) values in the monetary_value vector.\u001b[39m\u001b[38;5;124m\"\u001b[39m)\n",
      "\u001b[0;31mValueError\u001b[0m: There exist non-positive (<= 0) values in the monetary_value vector."
     ]
    }
   ],
   "source": [
    "ggf = GammaGammaFitter(penalizer_coef = 0)\n",
    "ggf.fit(frequency=df_ch_2[\"frequency_cal\"],monetary_value=df_ch_2[\"monetary_value_cal\"])"
   ]
  },
  {
   "cell_type": "code",
   "execution_count": null,
   "metadata": {},
   "outputs": [],
   "source": []
  }
 ],
 "metadata": {
  "kernelspec": {
   "display_name": "Python (lifetime-env)",
   "language": "python",
   "name": "lifetime-env"
  },
  "language_info": {
   "codemirror_mode": {
    "name": "ipython",
    "version": 3
   },
   "file_extension": ".py",
   "mimetype": "text/x-python",
   "name": "python",
   "nbconvert_exporter": "python",
   "pygments_lexer": "ipython3",
   "version": "3.10.4"
  }
 },
 "nbformat": 4,
 "nbformat_minor": 4
}
