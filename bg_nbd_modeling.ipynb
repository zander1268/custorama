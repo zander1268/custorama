{
 "cells": [
  {
   "cell_type": "code",
   "execution_count": 26,
   "id": "37718a37",
   "metadata": {},
   "outputs": [],
   "source": [
    "#Inital imports\n",
    "%matplotlib inline\n",
    "import numpy as np\n",
    "import pandas as pd\n",
    "import matplotlib.pyplot as plt\n",
    "import seaborn as sns\n",
    "import lifetimes\n",
    "from lifetimes.plotting import plot_period_transactions, plot_calibration_purchases_vs_holdout_purchases\n",
    "from lifetimes import BetaGeoFitter\n",
    "from datetime import timedelta\n",
    "from datetime import datetime\n",
    "from dateutil import parser\n",
    "from sklearn.metrics import mean_squared_error"
   ]
  },
  {
   "cell_type": "code",
   "execution_count": 2,
   "id": "dfac00e7",
   "metadata": {},
   "outputs": [
    {
     "data": {
      "text/html": [
       "<div>\n",
       "<style scoped>\n",
       "    .dataframe tbody tr th:only-of-type {\n",
       "        vertical-align: middle;\n",
       "    }\n",
       "\n",
       "    .dataframe tbody tr th {\n",
       "        vertical-align: top;\n",
       "    }\n",
       "\n",
       "    .dataframe thead th {\n",
       "        text-align: right;\n",
       "    }\n",
       "</style>\n",
       "<table border=\"1\" class=\"dataframe\">\n",
       "  <thead>\n",
       "    <tr style=\"text-align: right;\">\n",
       "      <th></th>\n",
       "      <th>order_id</th>\n",
       "      <th>customer_unique_id</th>\n",
       "      <th>order_status</th>\n",
       "      <th>order_purchase_timestamp</th>\n",
       "      <th>order_approved_at</th>\n",
       "      <th>order_delivered_carrier_date</th>\n",
       "      <th>order_delivered_customer_date</th>\n",
       "      <th>order_estimated_delivery_date</th>\n",
       "      <th>payment_value</th>\n",
       "    </tr>\n",
       "  </thead>\n",
       "  <tbody>\n",
       "    <tr>\n",
       "      <th>0</th>\n",
       "      <td>00e7ee1b050b8499577073aeb2a297a1</td>\n",
       "      <td>861eff4711a542e4b93843c6dd7febb0</td>\n",
       "      <td>delivered</td>\n",
       "      <td>2017-05-16</td>\n",
       "      <td>2017-05-16 15:22:12</td>\n",
       "      <td>2017-05-23 10:47:57</td>\n",
       "      <td>2017-05-25 10:35:35</td>\n",
       "      <td>2017-06-05 00:00:00</td>\n",
       "      <td>146.87</td>\n",
       "    </tr>\n",
       "    <tr>\n",
       "      <th>1</th>\n",
       "      <td>29150127e6685892b6eab3eec79f59c7</td>\n",
       "      <td>290c77bc529b7ac935b93aa66c333dc3</td>\n",
       "      <td>delivered</td>\n",
       "      <td>2018-01-12</td>\n",
       "      <td>2018-01-12 20:58:32</td>\n",
       "      <td>2018-01-15 17:14:59</td>\n",
       "      <td>2018-01-29 12:41:19</td>\n",
       "      <td>2018-02-06 00:00:00</td>\n",
       "      <td>335.48</td>\n",
       "    </tr>\n",
       "    <tr>\n",
       "      <th>2</th>\n",
       "      <td>b2059ed67ce144a36e2aa97d2c9e9ad2</td>\n",
       "      <td>060e732b5b29e8181a18229c7b0b2b5e</td>\n",
       "      <td>delivered</td>\n",
       "      <td>2018-05-19</td>\n",
       "      <td>2018-05-20 16:19:10</td>\n",
       "      <td>2018-06-11 14:31:00</td>\n",
       "      <td>2018-06-14 17:58:51</td>\n",
       "      <td>2018-06-13 00:00:00</td>\n",
       "      <td>157.73</td>\n",
       "    </tr>\n",
       "    <tr>\n",
       "      <th>3</th>\n",
       "      <td>951670f92359f4fe4a63112aa7306eba</td>\n",
       "      <td>259dac757896d24d7702b9acbbff3f3c</td>\n",
       "      <td>delivered</td>\n",
       "      <td>2018-03-13</td>\n",
       "      <td>2018-03-13 17:29:19</td>\n",
       "      <td>2018-03-27 23:22:42</td>\n",
       "      <td>2018-03-28 16:04:25</td>\n",
       "      <td>2018-04-10 00:00:00</td>\n",
       "      <td>173.30</td>\n",
       "    </tr>\n",
       "    <tr>\n",
       "      <th>4</th>\n",
       "      <td>6b7d50bd145f6fc7f33cebabd7e49d0f</td>\n",
       "      <td>345ecd01c38d18a9036ed96c73b8d066</td>\n",
       "      <td>delivered</td>\n",
       "      <td>2018-07-29</td>\n",
       "      <td>2018-07-29 10:10:09</td>\n",
       "      <td>2018-07-30 15:16:00</td>\n",
       "      <td>2018-08-09 20:55:48</td>\n",
       "      <td>2018-08-15 00:00:00</td>\n",
       "      <td>252.25</td>\n",
       "    </tr>\n",
       "  </tbody>\n",
       "</table>\n",
       "</div>"
      ],
      "text/plain": [
       "                           order_id                customer_unique_id  \\\n",
       "0  00e7ee1b050b8499577073aeb2a297a1  861eff4711a542e4b93843c6dd7febb0   \n",
       "1  29150127e6685892b6eab3eec79f59c7  290c77bc529b7ac935b93aa66c333dc3   \n",
       "2  b2059ed67ce144a36e2aa97d2c9e9ad2  060e732b5b29e8181a18229c7b0b2b5e   \n",
       "3  951670f92359f4fe4a63112aa7306eba  259dac757896d24d7702b9acbbff3f3c   \n",
       "4  6b7d50bd145f6fc7f33cebabd7e49d0f  345ecd01c38d18a9036ed96c73b8d066   \n",
       "\n",
       "  order_status order_purchase_timestamp    order_approved_at  \\\n",
       "0    delivered               2017-05-16  2017-05-16 15:22:12   \n",
       "1    delivered               2018-01-12  2018-01-12 20:58:32   \n",
       "2    delivered               2018-05-19  2018-05-20 16:19:10   \n",
       "3    delivered               2018-03-13  2018-03-13 17:29:19   \n",
       "4    delivered               2018-07-29  2018-07-29 10:10:09   \n",
       "\n",
       "  order_delivered_carrier_date order_delivered_customer_date  \\\n",
       "0          2017-05-23 10:47:57           2017-05-25 10:35:35   \n",
       "1          2018-01-15 17:14:59           2018-01-29 12:41:19   \n",
       "2          2018-06-11 14:31:00           2018-06-14 17:58:51   \n",
       "3          2018-03-27 23:22:42           2018-03-28 16:04:25   \n",
       "4          2018-07-30 15:16:00           2018-08-09 20:55:48   \n",
       "\n",
       "  order_estimated_delivery_date  payment_value  \n",
       "0           2017-06-05 00:00:00         146.87  \n",
       "1           2018-02-06 00:00:00         335.48  \n",
       "2           2018-06-13 00:00:00         157.73  \n",
       "3           2018-04-10 00:00:00         173.30  \n",
       "4           2018-08-15 00:00:00         252.25  "
      ]
     },
     "execution_count": 2,
     "metadata": {},
     "output_type": "execute_result"
    }
   ],
   "source": [
    "#Load in our pre-prepared dataframe\n",
    "lifetimes_object_df = pd.read_csv(\"data/lifetimes_object_df.csv\")\n",
    "lifetimes_object_df.head(5)"
   ]
  },
  {
   "cell_type": "markdown",
   "id": "155ac20a",
   "metadata": {},
   "source": [
    "### Data cleaning"
   ]
  },
  {
   "cell_type": "code",
   "execution_count": 3,
   "id": "543d1f8a",
   "metadata": {},
   "outputs": [
    {
     "data": {
      "text/html": [
       "<div>\n",
       "<style scoped>\n",
       "    .dataframe tbody tr th:only-of-type {\n",
       "        vertical-align: middle;\n",
       "    }\n",
       "\n",
       "    .dataframe tbody tr th {\n",
       "        vertical-align: top;\n",
       "    }\n",
       "\n",
       "    .dataframe thead th {\n",
       "        text-align: right;\n",
       "    }\n",
       "</style>\n",
       "<table border=\"1\" class=\"dataframe\">\n",
       "  <thead>\n",
       "    <tr style=\"text-align: right;\">\n",
       "      <th></th>\n",
       "      <th>order_id</th>\n",
       "      <th>customer_unique_id</th>\n",
       "      <th>order_status</th>\n",
       "      <th>order_purchase_timestamp</th>\n",
       "      <th>order_approved_at</th>\n",
       "      <th>order_delivered_carrier_date</th>\n",
       "      <th>order_delivered_customer_date</th>\n",
       "      <th>order_estimated_delivery_date</th>\n",
       "      <th>payment_value</th>\n",
       "    </tr>\n",
       "  </thead>\n",
       "  <tbody>\n",
       "  </tbody>\n",
       "</table>\n",
       "</div>"
      ],
      "text/plain": [
       "Empty DataFrame\n",
       "Columns: [order_id, customer_unique_id, order_status, order_purchase_timestamp, order_approved_at, order_delivered_carrier_date, order_delivered_customer_date, order_estimated_delivery_date, payment_value]\n",
       "Index: []"
      ]
     },
     "execution_count": 3,
     "metadata": {},
     "output_type": "execute_result"
    }
   ],
   "source": [
    "lifetimes_object_df[lifetimes_object_df[\"payment_value\"]<=0]"
   ]
  },
  {
   "cell_type": "code",
   "execution_count": 4,
   "id": "0910cdec",
   "metadata": {},
   "outputs": [
    {
     "data": {
      "text/plain": [
       "(98206, 9)"
      ]
     },
     "execution_count": 4,
     "metadata": {},
     "output_type": "execute_result"
    }
   ],
   "source": [
    "lifetimes_object_df.shape"
   ]
  },
  {
   "cell_type": "code",
   "execution_count": 5,
   "id": "997d4674",
   "metadata": {},
   "outputs": [
    {
     "data": {
      "text/plain": [
       "3217"
      ]
     },
     "execution_count": 5,
     "metadata": {},
     "output_type": "execute_result"
    }
   ],
   "source": [
    "#It seems we only have 3,345 repeat buyers, this could be a major issue.\n",
    "len(list(lifetimes_object_df.customer_unique_id)) - len(set(list(lifetimes_object_df.customer_unique_id)))"
   ]
  },
  {
   "cell_type": "markdown",
   "id": "dabc440a",
   "metadata": {},
   "source": [
    "### Data wrangling into lifetimes object"
   ]
  },
  {
   "cell_type": "code",
   "execution_count": 6,
   "id": "f803d54d",
   "metadata": {},
   "outputs": [],
   "source": [
    "#Load in our data wrangler\n",
    "from lifetimes.utils import summary_data_from_transaction_data"
   ]
  },
  {
   "cell_type": "code",
   "execution_count": 7,
   "id": "5bb4b3ae",
   "metadata": {},
   "outputs": [
    {
     "data": {
      "text/html": [
       "<div>\n",
       "<style scoped>\n",
       "    .dataframe tbody tr th:only-of-type {\n",
       "        vertical-align: middle;\n",
       "    }\n",
       "\n",
       "    .dataframe tbody tr th {\n",
       "        vertical-align: top;\n",
       "    }\n",
       "\n",
       "    .dataframe thead th {\n",
       "        text-align: right;\n",
       "    }\n",
       "</style>\n",
       "<table border=\"1\" class=\"dataframe\">\n",
       "  <thead>\n",
       "    <tr style=\"text-align: right;\">\n",
       "      <th></th>\n",
       "      <th>frequency</th>\n",
       "      <th>recency</th>\n",
       "      <th>T</th>\n",
       "      <th>monetary_value</th>\n",
       "    </tr>\n",
       "    <tr>\n",
       "      <th>customer_unique_id</th>\n",
       "      <th></th>\n",
       "      <th></th>\n",
       "      <th></th>\n",
       "      <th></th>\n",
       "    </tr>\n",
       "  </thead>\n",
       "  <tbody>\n",
       "    <tr>\n",
       "      <th>0000366f3b9a7992bf8c76cfdf3221e2</th>\n",
       "      <td>0.0</td>\n",
       "      <td>0.0</td>\n",
       "      <td>160.0</td>\n",
       "      <td>0.0</td>\n",
       "    </tr>\n",
       "    <tr>\n",
       "      <th>0000b849f77a49e4a4ce2b2a4ca5be3f</th>\n",
       "      <td>0.0</td>\n",
       "      <td>0.0</td>\n",
       "      <td>163.0</td>\n",
       "      <td>0.0</td>\n",
       "    </tr>\n",
       "    <tr>\n",
       "      <th>0000f46a3911fa3c0805444483337064</th>\n",
       "      <td>0.0</td>\n",
       "      <td>0.0</td>\n",
       "      <td>586.0</td>\n",
       "      <td>0.0</td>\n",
       "    </tr>\n",
       "    <tr>\n",
       "      <th>0000f6ccb0745a6a4b88665a16c9f078</th>\n",
       "      <td>0.0</td>\n",
       "      <td>0.0</td>\n",
       "      <td>370.0</td>\n",
       "      <td>0.0</td>\n",
       "    </tr>\n",
       "    <tr>\n",
       "      <th>0004aac84e0df4da2b147fca70cf8255</th>\n",
       "      <td>0.0</td>\n",
       "      <td>0.0</td>\n",
       "      <td>337.0</td>\n",
       "      <td>0.0</td>\n",
       "    </tr>\n",
       "    <tr>\n",
       "      <th>...</th>\n",
       "      <td>...</td>\n",
       "      <td>...</td>\n",
       "      <td>...</td>\n",
       "      <td>...</td>\n",
       "    </tr>\n",
       "    <tr>\n",
       "      <th>fffcf5a5ff07b0908bd4e2dbc735a684</th>\n",
       "      <td>0.0</td>\n",
       "      <td>0.0</td>\n",
       "      <td>496.0</td>\n",
       "      <td>0.0</td>\n",
       "    </tr>\n",
       "    <tr>\n",
       "      <th>fffea47cd6d3cc0a88bd621562a9d061</th>\n",
       "      <td>0.0</td>\n",
       "      <td>0.0</td>\n",
       "      <td>311.0</td>\n",
       "      <td>0.0</td>\n",
       "    </tr>\n",
       "    <tr>\n",
       "      <th>ffff371b4d645b6ecea244b27531430a</th>\n",
       "      <td>0.0</td>\n",
       "      <td>0.0</td>\n",
       "      <td>617.0</td>\n",
       "      <td>0.0</td>\n",
       "    </tr>\n",
       "    <tr>\n",
       "      <th>ffff5962728ec6157033ef9805bacc48</th>\n",
       "      <td>0.0</td>\n",
       "      <td>0.0</td>\n",
       "      <td>168.0</td>\n",
       "      <td>0.0</td>\n",
       "    </tr>\n",
       "    <tr>\n",
       "      <th>ffffd2657e2aad2907e67c3e9daecbeb</th>\n",
       "      <td>0.0</td>\n",
       "      <td>0.0</td>\n",
       "      <td>533.0</td>\n",
       "      <td>0.0</td>\n",
       "    </tr>\n",
       "  </tbody>\n",
       "</table>\n",
       "<p>94989 rows × 4 columns</p>\n",
       "</div>"
      ],
      "text/plain": [
       "                                  frequency  recency      T  monetary_value\n",
       "customer_unique_id                                                         \n",
       "0000366f3b9a7992bf8c76cfdf3221e2        0.0      0.0  160.0             0.0\n",
       "0000b849f77a49e4a4ce2b2a4ca5be3f        0.0      0.0  163.0             0.0\n",
       "0000f46a3911fa3c0805444483337064        0.0      0.0  586.0             0.0\n",
       "0000f6ccb0745a6a4b88665a16c9f078        0.0      0.0  370.0             0.0\n",
       "0004aac84e0df4da2b147fca70cf8255        0.0      0.0  337.0             0.0\n",
       "...                                     ...      ...    ...             ...\n",
       "fffcf5a5ff07b0908bd4e2dbc735a684        0.0      0.0  496.0             0.0\n",
       "fffea47cd6d3cc0a88bd621562a9d061        0.0      0.0  311.0             0.0\n",
       "ffff371b4d645b6ecea244b27531430a        0.0      0.0  617.0             0.0\n",
       "ffff5962728ec6157033ef9805bacc48        0.0      0.0  168.0             0.0\n",
       "ffffd2657e2aad2907e67c3e9daecbeb        0.0      0.0  533.0             0.0\n",
       "\n",
       "[94989 rows x 4 columns]"
      ]
     },
     "execution_count": 7,
     "metadata": {},
     "output_type": "execute_result"
    }
   ],
   "source": [
    "summary = summary_data_from_transaction_data(transactions=lifetimes_object_df,customer_id_col='customer_unique_id',\n",
    "                                             datetime_col='order_purchase_timestamp',monetary_value_col='payment_value',observation_period_end='2018-10-17')\n",
    "summary"
   ]
  },
  {
   "cell_type": "code",
   "execution_count": 8,
   "id": "97231f02",
   "metadata": {},
   "outputs": [
    {
     "data": {
      "text/plain": [
       "0.0     0.978261\n",
       "1.0     0.020097\n",
       "2.0     0.001305\n",
       "3.0     0.000189\n",
       "4.0     0.000063\n",
       "5.0     0.000053\n",
       "6.0     0.000021\n",
       "15.0    0.000011\n",
       "Name: frequency, dtype: float64"
      ]
     },
     "execution_count": 8,
     "metadata": {},
     "output_type": "execute_result"
    }
   ],
   "source": [
    "#We have less than 3% of customers who are repeat purchasers\n",
    "summary.frequency.value_counts(normalize=True)"
   ]
  },
  {
   "cell_type": "code",
   "execution_count": 9,
   "id": "5250b66a",
   "metadata": {},
   "outputs": [
    {
     "data": {
      "image/png": "[encoded data removed]",
      "text/plain": [
       "<Figure size 432x288 with 1 Axes>"
      ]
     },
     "metadata": {
      "needs_background": "light"
     },
     "output_type": "display_data"
    }
   ],
   "source": [
    "plt.hist(summary.frequency);"
   ]
  },
  {
   "cell_type": "markdown",
   "id": "a0238b6a",
   "metadata": {},
   "source": [
    "### Split of Training and Test Dataset"
   ]
  },
  {
   "cell_type": "code",
   "execution_count": 10,
   "id": "eb6dfe73",
   "metadata": {},
   "outputs": [],
   "source": [
    "#Import holdout \n",
    "from lifetimes.utils import calibration_and_holdout_data"
   ]
  },
  {
   "cell_type": "code",
   "execution_count": 11,
   "id": "a043e4d3",
   "metadata": {},
   "outputs": [
    {
     "name": "stdout",
     "output_type": "stream",
     "text": [
      "max transaction date observed: 2018-09-03\n",
      "max calibration date observed: 2018-01-06 00:00:00\n"
     ]
    },
    {
     "data": {
      "text/html": [
       "<div>\n",
       "<style scoped>\n",
       "    .dataframe tbody tr th:only-of-type {\n",
       "        vertical-align: middle;\n",
       "    }\n",
       "\n",
       "    .dataframe tbody tr th {\n",
       "        vertical-align: top;\n",
       "    }\n",
       "\n",
       "    .dataframe thead th {\n",
       "        text-align: right;\n",
       "    }\n",
       "</style>\n",
       "<table border=\"1\" class=\"dataframe\">\n",
       "  <thead>\n",
       "    <tr style=\"text-align: right;\">\n",
       "      <th></th>\n",
       "      <th>frequency_cal</th>\n",
       "      <th>recency_cal</th>\n",
       "      <th>T_cal</th>\n",
       "      <th>monetary_value_cal</th>\n",
       "      <th>frequency_holdout</th>\n",
       "      <th>monetary_value_holdout</th>\n",
       "      <th>duration_holdout</th>\n",
       "    </tr>\n",
       "    <tr>\n",
       "      <th>customer_unique_id</th>\n",
       "      <th></th>\n",
       "      <th></th>\n",
       "      <th></th>\n",
       "      <th></th>\n",
       "      <th></th>\n",
       "      <th></th>\n",
       "      <th></th>\n",
       "    </tr>\n",
       "  </thead>\n",
       "  <tbody>\n",
       "    <tr>\n",
       "      <th>0000f46a3911fa3c0805444483337064</th>\n",
       "      <td>0.0</td>\n",
       "      <td>0.0</td>\n",
       "      <td>302.0</td>\n",
       "      <td>0.0</td>\n",
       "      <td>0.0</td>\n",
       "      <td>0.0</td>\n",
       "      <td>240.0</td>\n",
       "    </tr>\n",
       "    <tr>\n",
       "      <th>0000f6ccb0745a6a4b88665a16c9f078</th>\n",
       "      <td>0.0</td>\n",
       "      <td>0.0</td>\n",
       "      <td>86.0</td>\n",
       "      <td>0.0</td>\n",
       "      <td>0.0</td>\n",
       "      <td>0.0</td>\n",
       "      <td>240.0</td>\n",
       "    </tr>\n",
       "    <tr>\n",
       "      <th>0004aac84e0df4da2b147fca70cf8255</th>\n",
       "      <td>0.0</td>\n",
       "      <td>0.0</td>\n",
       "      <td>53.0</td>\n",
       "      <td>0.0</td>\n",
       "      <td>0.0</td>\n",
       "      <td>0.0</td>\n",
       "      <td>240.0</td>\n",
       "    </tr>\n",
       "    <tr>\n",
       "      <th>0005e1862207bf6ccc02e4228effd9a0</th>\n",
       "      <td>0.0</td>\n",
       "      <td>0.0</td>\n",
       "      <td>308.0</td>\n",
       "      <td>0.0</td>\n",
       "      <td>0.0</td>\n",
       "      <td>0.0</td>\n",
       "      <td>240.0</td>\n",
       "    </tr>\n",
       "    <tr>\n",
       "      <th>0006fdc98a402fceb4eb0ee528f6a8d4</th>\n",
       "      <td>0.0</td>\n",
       "      <td>0.0</td>\n",
       "      <td>172.0</td>\n",
       "      <td>0.0</td>\n",
       "      <td>0.0</td>\n",
       "      <td>0.0</td>\n",
       "      <td>240.0</td>\n",
       "    </tr>\n",
       "    <tr>\n",
       "      <th>...</th>\n",
       "      <td>...</td>\n",
       "      <td>...</td>\n",
       "      <td>...</td>\n",
       "      <td>...</td>\n",
       "      <td>...</td>\n",
       "      <td>...</td>\n",
       "      <td>...</td>\n",
       "    </tr>\n",
       "    <tr>\n",
       "      <th>fffbf87b7a1a6fa8b03f081c5f51a201</th>\n",
       "      <td>0.0</td>\n",
       "      <td>0.0</td>\n",
       "      <td>10.0</td>\n",
       "      <td>0.0</td>\n",
       "      <td>0.0</td>\n",
       "      <td>0.0</td>\n",
       "      <td>240.0</td>\n",
       "    </tr>\n",
       "    <tr>\n",
       "      <th>fffcf5a5ff07b0908bd4e2dbc735a684</th>\n",
       "      <td>0.0</td>\n",
       "      <td>0.0</td>\n",
       "      <td>212.0</td>\n",
       "      <td>0.0</td>\n",
       "      <td>0.0</td>\n",
       "      <td>0.0</td>\n",
       "      <td>240.0</td>\n",
       "    </tr>\n",
       "    <tr>\n",
       "      <th>fffea47cd6d3cc0a88bd621562a9d061</th>\n",
       "      <td>0.0</td>\n",
       "      <td>0.0</td>\n",
       "      <td>27.0</td>\n",
       "      <td>0.0</td>\n",
       "      <td>0.0</td>\n",
       "      <td>0.0</td>\n",
       "      <td>240.0</td>\n",
       "    </tr>\n",
       "    <tr>\n",
       "      <th>ffff371b4d645b6ecea244b27531430a</th>\n",
       "      <td>0.0</td>\n",
       "      <td>0.0</td>\n",
       "      <td>333.0</td>\n",
       "      <td>0.0</td>\n",
       "      <td>0.0</td>\n",
       "      <td>0.0</td>\n",
       "      <td>240.0</td>\n",
       "    </tr>\n",
       "    <tr>\n",
       "      <th>ffffd2657e2aad2907e67c3e9daecbeb</th>\n",
       "      <td>0.0</td>\n",
       "      <td>0.0</td>\n",
       "      <td>249.0</td>\n",
       "      <td>0.0</td>\n",
       "      <td>0.0</td>\n",
       "      <td>0.0</td>\n",
       "      <td>240.0</td>\n",
       "    </tr>\n",
       "  </tbody>\n",
       "</table>\n",
       "<p>44463 rows × 7 columns</p>\n",
       "</div>"
      ],
      "text/plain": [
       "                                  frequency_cal  recency_cal  T_cal  \\\n",
       "customer_unique_id                                                    \n",
       "0000f46a3911fa3c0805444483337064            0.0          0.0  302.0   \n",
       "0000f6ccb0745a6a4b88665a16c9f078            0.0          0.0   86.0   \n",
       "0004aac84e0df4da2b147fca70cf8255            0.0          0.0   53.0   \n",
       "0005e1862207bf6ccc02e4228effd9a0            0.0          0.0  308.0   \n",
       "0006fdc98a402fceb4eb0ee528f6a8d4            0.0          0.0  172.0   \n",
       "...                                         ...          ...    ...   \n",
       "fffbf87b7a1a6fa8b03f081c5f51a201            0.0          0.0   10.0   \n",
       "fffcf5a5ff07b0908bd4e2dbc735a684            0.0          0.0  212.0   \n",
       "fffea47cd6d3cc0a88bd621562a9d061            0.0          0.0   27.0   \n",
       "ffff371b4d645b6ecea244b27531430a            0.0          0.0  333.0   \n",
       "ffffd2657e2aad2907e67c3e9daecbeb            0.0          0.0  249.0   \n",
       "\n",
       "                                  monetary_value_cal  frequency_holdout  \\\n",
       "customer_unique_id                                                        \n",
       "0000f46a3911fa3c0805444483337064                 0.0                0.0   \n",
       "0000f6ccb0745a6a4b88665a16c9f078                 0.0                0.0   \n",
       "0004aac84e0df4da2b147fca70cf8255                 0.0                0.0   \n",
       "0005e1862207bf6ccc02e4228effd9a0                 0.0                0.0   \n",
       "0006fdc98a402fceb4eb0ee528f6a8d4                 0.0                0.0   \n",
       "...                                              ...                ...   \n",
       "fffbf87b7a1a6fa8b03f081c5f51a201                 0.0                0.0   \n",
       "fffcf5a5ff07b0908bd4e2dbc735a684                 0.0                0.0   \n",
       "fffea47cd6d3cc0a88bd621562a9d061                 0.0                0.0   \n",
       "ffff371b4d645b6ecea244b27531430a                 0.0                0.0   \n",
       "ffffd2657e2aad2907e67c3e9daecbeb                 0.0                0.0   \n",
       "\n",
       "                                  monetary_value_holdout  duration_holdout  \n",
       "customer_unique_id                                                          \n",
       "0000f46a3911fa3c0805444483337064                     0.0             240.0  \n",
       "0000f6ccb0745a6a4b88665a16c9f078                     0.0             240.0  \n",
       "0004aac84e0df4da2b147fca70cf8255                     0.0             240.0  \n",
       "0005e1862207bf6ccc02e4228effd9a0                     0.0             240.0  \n",
       "0006fdc98a402fceb4eb0ee528f6a8d4                     0.0             240.0  \n",
       "...                                                  ...               ...  \n",
       "fffbf87b7a1a6fa8b03f081c5f51a201                     0.0             240.0  \n",
       "fffcf5a5ff07b0908bd4e2dbc735a684                     0.0             240.0  \n",
       "fffea47cd6d3cc0a88bd621562a9d061                     0.0             240.0  \n",
       "ffff371b4d645b6ecea244b27531430a                     0.0             240.0  \n",
       "ffffd2657e2aad2907e67c3e9daecbeb                     0.0             240.0  \n",
       "\n",
       "[44463 rows x 7 columns]"
      ]
     },
     "execution_count": 11,
     "metadata": {},
     "output_type": "execute_result"
    }
   ],
   "source": [
    "# days to preserve for evaluation\n",
    "t_evaluation = 240                                         \n",
    "\n",
    "#save the end of our data set observation\n",
    "max_obs_date = lifetimes_object_df[\"order_purchase_timestamp\"].max()\n",
    "print(\"max transaction date observed:\", max_obs_date)\n",
    "#convert to date-time\n",
    "max_obs_date = parser.parse(max_obs_date)\n",
    "\n",
    "#save the end of our calibaration observation\n",
    "max_calib_date = max_obs_date - timedelta(days=t_evaluation)\n",
    "print(\"max calibration date observed:\", max_calib_date)\n",
    "\n",
    "df_ch = calibration_and_holdout_data(\n",
    "        transactions = lifetimes_object_df, \n",
    "        customer_id_col='customer_unique_id',\n",
    "        datetime_col='order_purchase_timestamp',\n",
    "        monetary_value_col='payment_value',\n",
    "        calibration_period_end = max_calib_date, \n",
    "        observation_period_end = max_obs_date, \n",
    "        freq = \"D\")\n",
    "df_ch"
   ]
  },
  {
   "cell_type": "markdown",
   "id": "e976ba5d",
   "metadata": {},
   "source": [
    "###  1.0 BG/NBD model\n",
    "Model features\n",
    "- Uncleaned data\n",
    "Model results\n",
    "- Terrrible\n",
    "- Our model is way off because we have such an imbalence of customers who never made a repeat purchase.\n",
    "Next steps\n",
    "- Drop customers with less than 2 orders"
   ]
  },
  {
   "cell_type": "code",
   "execution_count": 12,
   "id": "e09c6616",
   "metadata": {},
   "outputs": [
    {
     "name": "stdout",
     "output_type": "stream",
     "text": [
      "Optimization terminated successfully.\n",
      "         Current function value: 0.065817\n",
      "         Iterations: 60\n",
      "         Function evaluations: 63\n",
      "         Gradient evaluations: 63\n"
     ]
    },
    {
     "data": {
      "text/plain": [
       "<lifetimes.BetaGeoFitter: fitted with 44463 subjects, a: 1.85, alpha: 55.22, b: 0.32, r: 0.02>"
      ]
     },
     "execution_count": 12,
     "metadata": {},
     "output_type": "execute_result"
    }
   ],
   "source": [
    "bgf = BetaGeoFitter(penalizer_coef=0)\n",
    "bgf.fit(\n",
    "        frequency = df_ch[\"frequency_cal\"], \n",
    "        recency = df_ch[\"recency_cal\"], \n",
    "        T = df_ch[\"T_cal\"],   \n",
    "        weights = None,  \n",
    "        verbose = True,)"
   ]
  },
  {
   "cell_type": "code",
   "execution_count": 13,
   "id": "d55d822d",
   "metadata": {},
   "outputs": [
    {
     "data": {
      "text/html": [
       "<div>\n",
       "<style scoped>\n",
       "    .dataframe tbody tr th:only-of-type {\n",
       "        vertical-align: middle;\n",
       "    }\n",
       "\n",
       "    .dataframe tbody tr th {\n",
       "        vertical-align: top;\n",
       "    }\n",
       "\n",
       "    .dataframe thead th {\n",
       "        text-align: right;\n",
       "    }\n",
       "</style>\n",
       "<table border=\"1\" class=\"dataframe\">\n",
       "  <thead>\n",
       "    <tr style=\"text-align: right;\">\n",
       "      <th></th>\n",
       "      <th>coef</th>\n",
       "      <th>se(coef)</th>\n",
       "      <th>lower 95% bound</th>\n",
       "      <th>upper 95% bound</th>\n",
       "    </tr>\n",
       "  </thead>\n",
       "  <tbody>\n",
       "    <tr>\n",
       "      <th>r</th>\n",
       "      <td>0.015204</td>\n",
       "      <td>0.001420</td>\n",
       "      <td>0.012420</td>\n",
       "      <td>0.017989</td>\n",
       "    </tr>\n",
       "    <tr>\n",
       "      <th>alpha</th>\n",
       "      <td>55.218535</td>\n",
       "      <td>8.587844</td>\n",
       "      <td>38.386360</td>\n",
       "      <td>72.050710</td>\n",
       "    </tr>\n",
       "    <tr>\n",
       "      <th>a</th>\n",
       "      <td>1.850872</td>\n",
       "      <td>0.855647</td>\n",
       "      <td>0.173803</td>\n",
       "      <td>3.527940</td>\n",
       "    </tr>\n",
       "    <tr>\n",
       "      <th>b</th>\n",
       "      <td>0.316596</td>\n",
       "      <td>0.158063</td>\n",
       "      <td>0.006794</td>\n",
       "      <td>0.626399</td>\n",
       "    </tr>\n",
       "  </tbody>\n",
       "</table>\n",
       "</div>"
      ],
      "text/plain": [
       "            coef  se(coef)  lower 95% bound  upper 95% bound\n",
       "r       0.015204  0.001420         0.012420         0.017989\n",
       "alpha  55.218535  8.587844        38.386360        72.050710\n",
       "a       1.850872  0.855647         0.173803         3.527940\n",
       "b       0.316596  0.158063         0.006794         0.626399"
      ]
     },
     "execution_count": 13,
     "metadata": {},
     "output_type": "execute_result"
    }
   ],
   "source": [
    "bgf.summary"
   ]
  },
  {
   "cell_type": "code",
   "execution_count": 14,
   "id": "d0c8c485",
   "metadata": {},
   "outputs": [
    {
     "name": "stderr",
     "output_type": "stream",
     "text": [
      "/Applications/anaconda3/envs/lifetime-env/lib/python3.10/site-packages/lifetimes/generate_data.py:54: RuntimeWarning: divide by zero encountered in double_scalars\n",
      "  next_purchase_in = random.exponential(scale=1.0 / l)\n"
     ]
    },
    {
     "data": {
      "image/png": "[encoded data removed]",
      "text/plain": [
       "<Figure size 432x288 with 1 Axes>"
      ]
     },
     "metadata": {
      "needs_background": "light"
     },
     "output_type": "display_data"
    }
   ],
   "source": [
    "plot_period_transactions(bgf);"
   ]
  },
  {
   "cell_type": "code",
   "execution_count": 15,
   "id": "1c0225a9",
   "metadata": {},
   "outputs": [
    {
     "data": {
      "text/plain": [
       "<AxesSubplot:title={'center':'Actual Purchases in Holdout Period vs Predicted Purchases'}, xlabel='Purchases in calibration period', ylabel='Average of Purchases in Holdout Period'>"
      ]
     },
     "execution_count": 15,
     "metadata": {},
     "output_type": "execute_result"
    },
    {
     "data": {
      "text/plain": [
       "<Figure size 504x504 with 0 Axes>"
      ]
     },
     "metadata": {},
     "output_type": "display_data"
    },
    {
     "data": {
      "image/png": "[encoded data removed]",
      "text/plain": [
       "<Figure size 432x288 with 1 Axes>"
      ]
     },
     "metadata": {
      "needs_background": "light"
     },
     "output_type": "display_data"
    }
   ],
   "source": [
    "# testing: predicted vs actual purchases in holdout period\n",
    "fig = plt.figure(figsize=(7, 7))\n",
    "plot_calibration_purchases_vs_holdout_purchases(bgf, df_ch)"
   ]
  },
  {
   "cell_type": "code",
   "execution_count": 16,
   "id": "684a6bea",
   "metadata": {},
   "outputs": [],
   "source": [
    "#Our model is way off because we have such an imbalence of customers who never made a repeat purchase."
   ]
  },
  {
   "cell_type": "markdown",
   "id": "5a67d620",
   "metadata": {},
   "source": [
    "###  2.0 BG/NBD model\n",
    "Model features\n",
    "- Removed all customers with less than 2 purchases"
   ]
  },
  {
   "cell_type": "code",
   "execution_count": 17,
   "id": "40a0ec4a",
   "metadata": {},
   "outputs": [],
   "source": [
    "#create a list of repeat purchasers\n",
    "repeat_purchaser_ids = list(summary[summary[\"frequency\"] >= 1].index)"
   ]
  },
  {
   "cell_type": "code",
   "execution_count": 18,
   "id": "80f7071d",
   "metadata": {},
   "outputs": [],
   "source": [
    "#subset our transaction data to just repeat purchasers\n",
    "repeat_lifetimes_object_df = lifetimes_object_df[lifetimes_object_df[\"customer_unique_id\"].isin(repeat_purchaser_ids) == True]"
   ]
  },
  {
   "cell_type": "code",
   "execution_count": 19,
   "id": "4deacfa7",
   "metadata": {},
   "outputs": [
    {
     "data": {
      "text/plain": [
       "2065"
      ]
     },
     "execution_count": 19,
     "metadata": {},
     "output_type": "execute_result"
    }
   ],
   "source": [
    "len(list(repeat_lifetimes_object_df[\"customer_unique_id\"].unique()))"
   ]
  },
  {
   "cell_type": "code",
   "execution_count": 61,
   "id": "73aec512",
   "metadata": {},
   "outputs": [
    {
     "name": "stdout",
     "output_type": "stream",
     "text": [
      "max transaction date observed: 2018-09-03\n",
      "max calibration date observed: 2018-01-06 00:00:00\n"
     ]
    },
    {
     "data": {
      "text/html": [
       "<div>\n",
       "<style scoped>\n",
       "    .dataframe tbody tr th:only-of-type {\n",
       "        vertical-align: middle;\n",
       "    }\n",
       "\n",
       "    .dataframe tbody tr th {\n",
       "        vertical-align: top;\n",
       "    }\n",
       "\n",
       "    .dataframe thead th {\n",
       "        text-align: right;\n",
       "    }\n",
       "</style>\n",
       "<table border=\"1\" class=\"dataframe\">\n",
       "  <thead>\n",
       "    <tr style=\"text-align: right;\">\n",
       "      <th></th>\n",
       "      <th>frequency_cal</th>\n",
       "      <th>recency_cal</th>\n",
       "      <th>T_cal</th>\n",
       "      <th>monetary_value_cal</th>\n",
       "      <th>frequency_holdout</th>\n",
       "      <th>monetary_value_holdout</th>\n",
       "      <th>duration_holdout</th>\n",
       "    </tr>\n",
       "    <tr>\n",
       "      <th>customer_unique_id</th>\n",
       "      <th></th>\n",
       "      <th></th>\n",
       "      <th></th>\n",
       "      <th></th>\n",
       "      <th></th>\n",
       "      <th></th>\n",
       "      <th></th>\n",
       "    </tr>\n",
       "  </thead>\n",
       "  <tbody>\n",
       "    <tr>\n",
       "      <th>0000f46a3911fa3c0805444483337064</th>\n",
       "      <td>0.0</td>\n",
       "      <td>0.0</td>\n",
       "      <td>302.0</td>\n",
       "      <td>0.0</td>\n",
       "      <td>0.0</td>\n",
       "      <td>0.0</td>\n",
       "      <td>240.0</td>\n",
       "    </tr>\n",
       "    <tr>\n",
       "      <th>0000f6ccb0745a6a4b88665a16c9f078</th>\n",
       "      <td>0.0</td>\n",
       "      <td>0.0</td>\n",
       "      <td>86.0</td>\n",
       "      <td>0.0</td>\n",
       "      <td>0.0</td>\n",
       "      <td>0.0</td>\n",
       "      <td>240.0</td>\n",
       "    </tr>\n",
       "    <tr>\n",
       "      <th>0004aac84e0df4da2b147fca70cf8255</th>\n",
       "      <td>0.0</td>\n",
       "      <td>0.0</td>\n",
       "      <td>53.0</td>\n",
       "      <td>0.0</td>\n",
       "      <td>0.0</td>\n",
       "      <td>0.0</td>\n",
       "      <td>240.0</td>\n",
       "    </tr>\n",
       "    <tr>\n",
       "      <th>0005e1862207bf6ccc02e4228effd9a0</th>\n",
       "      <td>0.0</td>\n",
       "      <td>0.0</td>\n",
       "      <td>308.0</td>\n",
       "      <td>0.0</td>\n",
       "      <td>0.0</td>\n",
       "      <td>0.0</td>\n",
       "      <td>240.0</td>\n",
       "    </tr>\n",
       "    <tr>\n",
       "      <th>0006fdc98a402fceb4eb0ee528f6a8d4</th>\n",
       "      <td>0.0</td>\n",
       "      <td>0.0</td>\n",
       "      <td>172.0</td>\n",
       "      <td>0.0</td>\n",
       "      <td>0.0</td>\n",
       "      <td>0.0</td>\n",
       "      <td>240.0</td>\n",
       "    </tr>\n",
       "    <tr>\n",
       "      <th>...</th>\n",
       "      <td>...</td>\n",
       "      <td>...</td>\n",
       "      <td>...</td>\n",
       "      <td>...</td>\n",
       "      <td>...</td>\n",
       "      <td>...</td>\n",
       "      <td>...</td>\n",
       "    </tr>\n",
       "    <tr>\n",
       "      <th>fffbf87b7a1a6fa8b03f081c5f51a201</th>\n",
       "      <td>0.0</td>\n",
       "      <td>0.0</td>\n",
       "      <td>10.0</td>\n",
       "      <td>0.0</td>\n",
       "      <td>0.0</td>\n",
       "      <td>0.0</td>\n",
       "      <td>240.0</td>\n",
       "    </tr>\n",
       "    <tr>\n",
       "      <th>fffcf5a5ff07b0908bd4e2dbc735a684</th>\n",
       "      <td>0.0</td>\n",
       "      <td>0.0</td>\n",
       "      <td>212.0</td>\n",
       "      <td>0.0</td>\n",
       "      <td>0.0</td>\n",
       "      <td>0.0</td>\n",
       "      <td>240.0</td>\n",
       "    </tr>\n",
       "    <tr>\n",
       "      <th>fffea47cd6d3cc0a88bd621562a9d061</th>\n",
       "      <td>0.0</td>\n",
       "      <td>0.0</td>\n",
       "      <td>27.0</td>\n",
       "      <td>0.0</td>\n",
       "      <td>0.0</td>\n",
       "      <td>0.0</td>\n",
       "      <td>240.0</td>\n",
       "    </tr>\n",
       "    <tr>\n",
       "      <th>ffff371b4d645b6ecea244b27531430a</th>\n",
       "      <td>0.0</td>\n",
       "      <td>0.0</td>\n",
       "      <td>333.0</td>\n",
       "      <td>0.0</td>\n",
       "      <td>0.0</td>\n",
       "      <td>0.0</td>\n",
       "      <td>240.0</td>\n",
       "    </tr>\n",
       "    <tr>\n",
       "      <th>ffffd2657e2aad2907e67c3e9daecbeb</th>\n",
       "      <td>0.0</td>\n",
       "      <td>0.0</td>\n",
       "      <td>249.0</td>\n",
       "      <td>0.0</td>\n",
       "      <td>0.0</td>\n",
       "      <td>0.0</td>\n",
       "      <td>240.0</td>\n",
       "    </tr>\n",
       "  </tbody>\n",
       "</table>\n",
       "<p>44463 rows × 7 columns</p>\n",
       "</div>"
      ],
      "text/plain": [
       "                                  frequency_cal  recency_cal  T_cal  \\\n",
       "customer_unique_id                                                    \n",
       "0000f46a3911fa3c0805444483337064            0.0          0.0  302.0   \n",
       "0000f6ccb0745a6a4b88665a16c9f078            0.0          0.0   86.0   \n",
       "0004aac84e0df4da2b147fca70cf8255            0.0          0.0   53.0   \n",
       "0005e1862207bf6ccc02e4228effd9a0            0.0          0.0  308.0   \n",
       "0006fdc98a402fceb4eb0ee528f6a8d4            0.0          0.0  172.0   \n",
       "...                                         ...          ...    ...   \n",
       "fffbf87b7a1a6fa8b03f081c5f51a201            0.0          0.0   10.0   \n",
       "fffcf5a5ff07b0908bd4e2dbc735a684            0.0          0.0  212.0   \n",
       "fffea47cd6d3cc0a88bd621562a9d061            0.0          0.0   27.0   \n",
       "ffff371b4d645b6ecea244b27531430a            0.0          0.0  333.0   \n",
       "ffffd2657e2aad2907e67c3e9daecbeb            0.0          0.0  249.0   \n",
       "\n",
       "                                  monetary_value_cal  frequency_holdout  \\\n",
       "customer_unique_id                                                        \n",
       "0000f46a3911fa3c0805444483337064                 0.0                0.0   \n",
       "0000f6ccb0745a6a4b88665a16c9f078                 0.0                0.0   \n",
       "0004aac84e0df4da2b147fca70cf8255                 0.0                0.0   \n",
       "0005e1862207bf6ccc02e4228effd9a0                 0.0                0.0   \n",
       "0006fdc98a402fceb4eb0ee528f6a8d4                 0.0                0.0   \n",
       "...                                              ...                ...   \n",
       "fffbf87b7a1a6fa8b03f081c5f51a201                 0.0                0.0   \n",
       "fffcf5a5ff07b0908bd4e2dbc735a684                 0.0                0.0   \n",
       "fffea47cd6d3cc0a88bd621562a9d061                 0.0                0.0   \n",
       "ffff371b4d645b6ecea244b27531430a                 0.0                0.0   \n",
       "ffffd2657e2aad2907e67c3e9daecbeb                 0.0                0.0   \n",
       "\n",
       "                                  monetary_value_holdout  duration_holdout  \n",
       "customer_unique_id                                                          \n",
       "0000f46a3911fa3c0805444483337064                     0.0             240.0  \n",
       "0000f6ccb0745a6a4b88665a16c9f078                     0.0             240.0  \n",
       "0004aac84e0df4da2b147fca70cf8255                     0.0             240.0  \n",
       "0005e1862207bf6ccc02e4228effd9a0                     0.0             240.0  \n",
       "0006fdc98a402fceb4eb0ee528f6a8d4                     0.0             240.0  \n",
       "...                                                  ...               ...  \n",
       "fffbf87b7a1a6fa8b03f081c5f51a201                     0.0             240.0  \n",
       "fffcf5a5ff07b0908bd4e2dbc735a684                     0.0             240.0  \n",
       "fffea47cd6d3cc0a88bd621562a9d061                     0.0             240.0  \n",
       "ffff371b4d645b6ecea244b27531430a                     0.0             240.0  \n",
       "ffffd2657e2aad2907e67c3e9daecbeb                     0.0             240.0  \n",
       "\n",
       "[44463 rows x 7 columns]"
      ]
     },
     "execution_count": 61,
     "metadata": {},
     "output_type": "execute_result"
    }
   ],
   "source": [
    "# days to preserve for evaluation\n",
    "t_evaluation = 240                                         \n",
    "\n",
    "#save the end of our data set observation\n",
    "max_obs_date = repeat_lifetimes_object_df[\"order_purchase_timestamp\"].max()\n",
    "print(\"max transaction date observed:\", max_obs_date)\n",
    "#convert to date-time\n",
    "max_obs_date = parser.parse(max_obs_date)\n",
    "\n",
    "#save the end of our calibaration observation\n",
    "max_calib_date = max_obs_date - timedelta(days=t_evaluation)\n",
    "print(\"max calibration date observed:\", max_calib_date)\n",
    "\n",
    "df_ch = calibration_and_holdout_data(\n",
    "        transactions = lifetimes_object_df, \n",
    "        customer_id_col='customer_unique_id',\n",
    "        datetime_col='order_purchase_timestamp',\n",
    "        monetary_value_col='payment_value',\n",
    "        calibration_period_end = max_calib_date, \n",
    "        observation_period_end = max_obs_date, \n",
    "        freq = \"D\")\n",
    "df_ch"
   ]
  },
  {
   "cell_type": "code",
   "execution_count": 79,
   "id": "a396b700",
   "metadata": {},
   "outputs": [],
   "source": [
    "#class to return a calibration and holdout df\n",
    "class df_ch():\n",
    "    def __init__(self, eval_period=None,transaction_df=None,purchase_timestamp_col=None,customer_id_col=None,datetime_col=None,monetary_value_col=None):\n",
    "        #initialized attributes\n",
    "        self.eval_period = eval_period\n",
    "        self.transaction_df = transaction_df\n",
    "        self.purchase_timestamp_col=purchase_timestamp_col\n",
    "        self.customer_id_col=customer_id_col\n",
    "        self.datetime_col=datetime_col\n",
    "        self.monetary_value_col=monetary_value_col\n",
    "        #save off more attributes\n",
    "        self.max_obs_date = parser.parse(transaction_df[purchase_timestamp_col].max())\n",
    "        self.max_calib_date = self.max_obs_date - timedelta(days=eval_period)\n",
    "    def df_ch_getdf(self):\n",
    "        df = calibration_and_holdout_data(\n",
    "        transactions = self.transaction_df, \n",
    "        customer_id_col=self.customer_id_col,\n",
    "        datetime_col=self.datetime_col,\n",
    "        monetary_value_col=self.monetary_value_col,\n",
    "        calibration_period_end = self.max_calib_date, \n",
    "        observation_period_end = self.max_obs_date, \n",
    "        freq = \"D\")\n",
    "        return df\n",
    "        "
   ]
  },
  {
   "cell_type": "code",
   "execution_count": 81,
   "id": "524dec67",
   "metadata": {},
   "outputs": [],
   "source": [
    "#testing new class\n",
    "test_df_ch = df_ch(eval_period=240,transaction_df=repeat_lifetimes_object_df,purchase_timestamp_col='order_purchase_timestamp',\n",
    "                   customer_id_col='customer_unique_id',datetime_col='order_purchase_timestamp',\n",
    "                   monetary_value_col='payment_value'\n",
    "                  )"
   ]
  },
  {
   "cell_type": "code",
   "execution_count": 84,
   "id": "cc4f3bce",
   "metadata": {},
   "outputs": [
    {
     "data": {
      "text/plain": [
       "datetime.datetime(2018, 9, 3, 0, 0)"
      ]
     },
     "execution_count": 84,
     "metadata": {},
     "output_type": "execute_result"
    }
   ],
   "source": [
    "test_df_ch.max_obs_date"
   ]
  },
  {
   "cell_type": "code",
   "execution_count": 62,
   "id": "01f09271",
   "metadata": {},
   "outputs": [
    {
     "name": "stdout",
     "output_type": "stream",
     "text": [
      "Optimization terminated successfully.\n",
      "         Current function value: 0.065817\n",
      "         Iterations: 60\n",
      "         Function evaluations: 63\n",
      "         Gradient evaluations: 63\n"
     ]
    },
    {
     "data": {
      "text/plain": [
       "<lifetimes.BetaGeoFitter: fitted with 44463 subjects, a: 1.85, alpha: 55.22, b: 0.32, r: 0.02>"
      ]
     },
     "execution_count": 62,
     "metadata": {},
     "output_type": "execute_result"
    }
   ],
   "source": [
    "bgf = BetaGeoFitter(penalizer_coef=0)\n",
    "bgf.fit(\n",
    "        frequency = df_ch[\"frequency_cal\"], \n",
    "        recency = df_ch[\"recency_cal\"], \n",
    "        T = df_ch[\"T_cal\"],   \n",
    "        weights = None,  \n",
    "        verbose = True,)"
   ]
  },
  {
   "cell_type": "code",
   "execution_count": 23,
   "id": "f5840ba3",
   "metadata": {},
   "outputs": [
    {
     "data": {
      "text/html": [
       "<div>\n",
       "<style scoped>\n",
       "    .dataframe tbody tr th:only-of-type {\n",
       "        vertical-align: middle;\n",
       "    }\n",
       "\n",
       "    .dataframe tbody tr th {\n",
       "        vertical-align: top;\n",
       "    }\n",
       "\n",
       "    .dataframe thead th {\n",
       "        text-align: right;\n",
       "    }\n",
       "</style>\n",
       "<table border=\"1\" class=\"dataframe\">\n",
       "  <thead>\n",
       "    <tr style=\"text-align: right;\">\n",
       "      <th></th>\n",
       "      <th>coef</th>\n",
       "      <th>se(coef)</th>\n",
       "      <th>lower 95% bound</th>\n",
       "      <th>upper 95% bound</th>\n",
       "    </tr>\n",
       "  </thead>\n",
       "  <tbody>\n",
       "    <tr>\n",
       "      <th>r</th>\n",
       "      <td>1.128861</td>\n",
       "      <td>0.169484</td>\n",
       "      <td>0.796672</td>\n",
       "      <td>1.461051</td>\n",
       "    </tr>\n",
       "    <tr>\n",
       "      <th>alpha</th>\n",
       "      <td>135.016045</td>\n",
       "      <td>27.417765</td>\n",
       "      <td>81.277224</td>\n",
       "      <td>188.754865</td>\n",
       "    </tr>\n",
       "    <tr>\n",
       "      <th>a</th>\n",
       "      <td>1.816854</td>\n",
       "      <td>0.797437</td>\n",
       "      <td>0.253877</td>\n",
       "      <td>3.379831</td>\n",
       "    </tr>\n",
       "    <tr>\n",
       "      <th>b</th>\n",
       "      <td>0.254597</td>\n",
       "      <td>0.120486</td>\n",
       "      <td>0.018444</td>\n",
       "      <td>0.490750</td>\n",
       "    </tr>\n",
       "  </tbody>\n",
       "</table>\n",
       "</div>"
      ],
      "text/plain": [
       "             coef   se(coef)  lower 95% bound  upper 95% bound\n",
       "r        1.128861   0.169484         0.796672         1.461051\n",
       "alpha  135.016045  27.417765        81.277224       188.754865\n",
       "a        1.816854   0.797437         0.253877         3.379831\n",
       "b        0.254597   0.120486         0.018444         0.490750"
      ]
     },
     "execution_count": 23,
     "metadata": {},
     "output_type": "execute_result"
    }
   ],
   "source": [
    "bgf.summary"
   ]
  },
  {
   "cell_type": "code",
   "execution_count": 63,
   "id": "0cda98af",
   "metadata": {},
   "outputs": [
    {
     "name": "stderr",
     "output_type": "stream",
     "text": [
      "/Applications/anaconda3/envs/lifetime-env/lib/python3.10/site-packages/lifetimes/generate_data.py:54: RuntimeWarning: divide by zero encountered in double_scalars\n",
      "  next_purchase_in = random.exponential(scale=1.0 / l)\n"
     ]
    },
    {
     "data": {
      "image/png": "[encoded data removed]",
      "text/plain": [
       "<Figure size 432x288 with 1 Axes>"
      ]
     },
     "metadata": {
      "needs_background": "light"
     },
     "output_type": "display_data"
    }
   ],
   "source": [
    "plot_period_transactions(bgf);"
   ]
  },
  {
   "cell_type": "code",
   "execution_count": 64,
   "id": "c6df5d4d",
   "metadata": {},
   "outputs": [
    {
     "data": {
      "text/plain": [
       "<Figure size 504x504 with 0 Axes>"
      ]
     },
     "metadata": {},
     "output_type": "display_data"
    },
    {
     "data": {
      "image/png": "[encoded data removed]",
      "text/plain": [
       "<Figure size 432x288 with 1 Axes>"
      ]
     },
     "metadata": {
      "needs_background": "light"
     },
     "output_type": "display_data"
    }
   ],
   "source": [
    "# testing: predicted vs actual purchases in holdout period\n",
    "fig = plt.figure(figsize=(7, 7)) \n",
    "plot_calibration_purchases_vs_holdout_purchases(bgf, df_ch);"
   ]
  },
  {
   "cell_type": "markdown",
   "id": "3d54ae99",
   "metadata": {},
   "source": [
    "#### evaluation function"
   ]
  },
  {
   "cell_type": "code",
   "execution_count": 73,
   "id": "76448c4c",
   "metadata": {},
   "outputs": [],
   "source": [
    "#function to return predicted # transactions for given customer in evaluation period\n",
    "def samp_cust_pred_trans(df_ch,sample_customer_id,eval_period):\n",
    "    sample_customer = df_ch.loc[sample_customer_id]\n",
    "    n_transactions_pred = bgf.predict(t=eval_period,\n",
    "                                  frequency=sample_customer['frequency_cal'], \n",
    "                                  recency=sample_customer['recency_cal'], \n",
    "                                  T=sample_customer['T_cal'])\n",
    "    return(n_transactions_pred)"
   ]
  },
  {
   "cell_type": "code",
   "execution_count": 74,
   "id": "b006ffc1",
   "metadata": {},
   "outputs": [
    {
     "data": {
      "text/plain": [
       "0.008070970611805308"
      ]
     },
     "execution_count": 74,
     "metadata": {},
     "output_type": "execute_result"
    }
   ],
   "source": [
    "samp_cust_pred_trans(df_ch=df_ch,sample_customer_id='0000f46a3911fa3c0805444483337064',eval_period=240)"
   ]
  },
  {
   "cell_type": "code",
   "execution_count": 76,
   "id": "e4394e54",
   "metadata": {},
   "outputs": [
    {
     "ename": "NameError",
     "evalue": "name 'df_ch_eval' is not defined",
     "output_type": "error",
     "traceback": [
      "\u001b[0;31m---------------------------------------------------------------------------\u001b[0m",
      "\u001b[0;31mNameError\u001b[0m                                 Traceback (most recent call last)",
      "Input \u001b[0;32mIn [76]\u001b[0m, in \u001b[0;36m<cell line: 2>\u001b[0;34m()\u001b[0m\n\u001b[1;32m      1\u001b[0m \u001b[38;5;66;03m# transactions in the eval period, equals frequency_holdout + 1\u001b[39;00m\n\u001b[0;32m----> 2\u001b[0m \u001b[43mdf_ch_eval\u001b[49m[\u001b[38;5;124m\"\u001b[39m\u001b[38;5;124mn_transactions_holdout_real\u001b[39m\u001b[38;5;124m\"\u001b[39m]  \u001b[38;5;241m=\u001b[39m df_ch[\u001b[38;5;124m\"\u001b[39m\u001b[38;5;124mfrequency_holdout\u001b[39m\u001b[38;5;124m\"\u001b[39m] \u001b[38;5;241m+\u001b[39m \u001b[38;5;241m1\u001b[39m\n\u001b[1;32m      4\u001b[0m \u001b[38;5;66;03m# the predicted number of transactions in the next 26 weeks (length of the observation period)\u001b[39;00m\n\u001b[1;32m      5\u001b[0m df_ch_eval[\u001b[38;5;124m\"\u001b[39m\u001b[38;5;124mn_transactions_holdout_pred\u001b[39m\u001b[38;5;124m\"\u001b[39m] \u001b[38;5;241m=\u001b[39m bgf\u001b[38;5;241m.\u001b[39mpredict(t\u001b[38;5;241m=\u001b[39m\u001b[38;5;241m240\u001b[39m, \n\u001b[1;32m      6\u001b[0m                                                     frequency\u001b[38;5;241m=\u001b[39mdf_ch[\u001b[38;5;124m'\u001b[39m\u001b[38;5;124mfrequency_cal\u001b[39m\u001b[38;5;124m'\u001b[39m], \n\u001b[1;32m      7\u001b[0m                                                     recency\u001b[38;5;241m=\u001b[39mdf_ch[\u001b[38;5;124m'\u001b[39m\u001b[38;5;124mrecency_cal\u001b[39m\u001b[38;5;124m'\u001b[39m], \n\u001b[1;32m      8\u001b[0m                                                     T\u001b[38;5;241m=\u001b[39mdf_ch[\u001b[38;5;124m'\u001b[39m\u001b[38;5;124mT_cal\u001b[39m\u001b[38;5;124m'\u001b[39m])\n",
      "\u001b[0;31mNameError\u001b[0m: name 'df_ch_eval' is not defined"
     ]
    }
   ],
   "source": [
    "# transactions in the eval period, equals frequency_holdout + 1\n",
    "df_ch_eval\n",
    "df_ch_eval[\"n_transactions_holdout_real\"] = df_ch[\"frequency_holdout\"] + 1\n",
    "\n",
    "# the predicted number of transactions in the next 26 weeks (length of the observation period)\n",
    "df_ch_eval[\"n_transactions_holdout_pred\"] = bgf.predict(t=240, \n",
    "                                                    frequency=df_ch['frequency_cal'], \n",
    "                                                    recency=df_ch['recency_cal'], \n",
    "                                                    T=df_ch['T_cal'])\n",
    "\n",
    "# comparison of the real and predicted transactions\n",
    "df_ch_eval[[\"n_transactions_holdout_real\", \"n_transactions_holdout_pred\"]].head()"
   ]
  },
  {
   "cell_type": "code",
   "execution_count": null,
   "id": "9bc67e24",
   "metadata": {},
   "outputs": [],
   "source": [
    "y_true=\n",
    "y_pred=\n",
    "\n",
    "mean_squared_error(y_true,y_pred)"
   ]
  }
 ],
 "metadata": {
  "kernelspec": {
   "display_name": "Python (lifetime-env)",
   "language": "python",
   "name": "lifetime-env"
  },
  "language_info": {
   "codemirror_mode": {
    "name": "ipython",
    "version": 3
   },
   "file_extension": ".py",
   "mimetype": "text/x-python",
   "name": "python",
   "nbconvert_exporter": "python",
   "pygments_lexer": "ipython3",
   "version": "3.10.4"
  }
 },
 "nbformat": 4,
 "nbformat_minor": 5
}
