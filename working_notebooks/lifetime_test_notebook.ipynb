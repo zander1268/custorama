{
 "cells": [
  {
   "cell_type": "code",
   "execution_count": 1,
   "id": "252aa888",
   "metadata": {},
   "outputs": [],
   "source": [
    "%matplotlib inline\n",
    "\n",
    "import numpy as np\n",
    "import pandas as pd\n",
    "import matplotlib.pyplot as plt\n",
    "import seaborn as sns\n",
    "import lifetimes\n",
    "from zipfile import ZipFile\n",
    "\n",
    "#Let's make this notebook reproducible \n",
    "np.random.seed(42)\n",
    "\n",
    "import random\n",
    "random.seed(42)\n",
    "\n",
    "import warnings\n",
    "warnings.filterwarnings('ignore')"
   ]
  },
  {
   "cell_type": "code",
   "execution_count": 2,
   "id": "65359ce6",
   "metadata": {},
   "outputs": [],
   "source": [
    "# open zipped dataset and save to df's\n",
    "with ZipFile(\"data/customer_data_base.zip\") as z:\n",
    "   # open the orders csv file in the dataset\n",
    "   with z.open(\"olist_orders_dataset.csv\") as a:    \n",
    "      # read the dataset as dataframe \"df\"\n",
    "      orders_df = pd.read_csv(a)\n",
    "        \n",
    "   # open the customers csv file in the dataset\n",
    "   with z.open(\"olist_customers_dataset.csv\") as b:    \n",
    "      # read the dataset as dataframe \"df\"\n",
    "      customers_df = pd.read_csv(b)     \n",
    "        \n",
    "   # open the customers csv file in the dataset\n",
    "   with z.open(\"olist_order_payments_dataset.csv\") as c:    \n",
    "      # read the dataset as dataframe \"df\"\n",
    "      payments_df = pd.read_csv(c)     \n"
   ]
  },
  {
   "cell_type": "code",
   "execution_count": 3,
   "id": "d5704dcc",
   "metadata": {},
   "outputs": [
    {
     "name": "stdout",
     "output_type": "stream",
     "text": [
      "orders_df customers_df payments_df\n"
     ]
    }
   ],
   "source": [
    "print(\"orders_df\",\"customers_df\",\"payments_df\")"
   ]
  },
  {
   "cell_type": "code",
   "execution_count": 4,
   "id": "17eb3848",
   "metadata": {},
   "outputs": [],
   "source": [
    "#creating an orders df with unique customer id\n",
    "cols = ['customer_id', 'order_id', 'order_purchase_timestamp']\n",
    "orders = orders_df[cols]\n",
    "orders = orders.set_index('customer_id')\n",
    "orders.drop_duplicates(inplace=True)"
   ]
  },
  {
   "cell_type": "code",
   "execution_count": 5,
   "id": "4cee1de5",
   "metadata": {},
   "outputs": [],
   "source": [
    "#creating a customers df with unique customer id\n",
    "cols = ['customer_id', 'customer_unique_id']\n",
    "customers = customers_df[cols]\n",
    "customers = customers.set_index('customer_id')"
   ]
  },
  {
   "cell_type": "code",
   "execution_count": 6,
   "id": "4567dac3",
   "metadata": {},
   "outputs": [],
   "source": [
    "#creating a payments df with unqique order ids\n",
    "cols = ['order_id', 'payment_value']\n",
    "payment = payments_df[cols]\n",
    "payment = payment.set_index('order_id')\n",
    "payment.drop_duplicates(inplace=True)"
   ]
  },
  {
   "cell_type": "code",
   "execution_count": 7,
   "id": "09f653e9",
   "metadata": {},
   "outputs": [
    {
     "name": "stdout",
     "output_type": "stream",
     "text": [
      "<class 'pandas.core.frame.DataFrame'>\n",
      "RangeIndex: 99441 entries, 0 to 99440\n",
      "Data columns (total 2 columns):\n",
      " #   Column       Non-Null Count  Dtype         \n",
      "---  ------       --------------  -----         \n",
      " 0   CUSTOMER_ID  99441 non-null  object        \n",
      " 1   ORDER_DATE   99441 non-null  datetime64[ns]\n",
      "dtypes: datetime64[ns](1), object(1)\n",
      "memory usage: 1.5+ MB\n"
     ]
    },
    {
     "data": {
      "text/html": [
       "<div>\n",
       "<style scoped>\n",
       "    .dataframe tbody tr th:only-of-type {\n",
       "        vertical-align: middle;\n",
       "    }\n",
       "\n",
       "    .dataframe tbody tr th {\n",
       "        vertical-align: top;\n",
       "    }\n",
       "\n",
       "    .dataframe thead th {\n",
       "        text-align: right;\n",
       "    }\n",
       "</style>\n",
       "<table border=\"1\" class=\"dataframe\">\n",
       "  <thead>\n",
       "    <tr style=\"text-align: right;\">\n",
       "      <th></th>\n",
       "      <th>CUSTOMER_ID</th>\n",
       "      <th>ORDER_DATE</th>\n",
       "    </tr>\n",
       "  </thead>\n",
       "  <tbody>\n",
       "    <tr>\n",
       "      <th>52263</th>\n",
       "      <td>2d1bf256227e4d22d10ea6c0b81809d7</td>\n",
       "      <td>2018-06-12</td>\n",
       "    </tr>\n",
       "    <tr>\n",
       "      <th>46645</th>\n",
       "      <td>12bf514b8d413d8cbe66a2665f4b724c</td>\n",
       "      <td>2018-01-20</td>\n",
       "    </tr>\n",
       "    <tr>\n",
       "      <th>37546</th>\n",
       "      <td>83c6df0d47130de38c99cebe96521e8a</td>\n",
       "      <td>2018-06-16</td>\n",
       "    </tr>\n",
       "    <tr>\n",
       "      <th>94756</th>\n",
       "      <td>29b186723b197669f69b7d63c3e27c07</td>\n",
       "      <td>2017-08-30</td>\n",
       "    </tr>\n",
       "    <tr>\n",
       "      <th>14771</th>\n",
       "      <td>a59129ed35da4c3e3f2a005b4c6582fc</td>\n",
       "      <td>2017-08-10</td>\n",
       "    </tr>\n",
       "  </tbody>\n",
       "</table>\n",
       "</div>"
      ],
      "text/plain": [
       "                            CUSTOMER_ID ORDER_DATE\n",
       "52263  2d1bf256227e4d22d10ea6c0b81809d7 2018-06-12\n",
       "46645  12bf514b8d413d8cbe66a2665f4b724c 2018-01-20\n",
       "37546  83c6df0d47130de38c99cebe96521e8a 2018-06-16\n",
       "94756  29b186723b197669f69b7d63c3e27c07 2017-08-30\n",
       "14771  a59129ed35da4c3e3f2a005b4c6582fc 2017-08-10"
      ]
     },
     "metadata": {},
     "output_type": "display_data"
    }
   ],
   "source": [
    "#I don't know\n",
    "elog = pd.concat([orders,customers], axis=1, join='inner')\n",
    "elog.reset_index(inplace=True)\n",
    "\n",
    "cols = ['customer_unique_id', 'order_purchase_timestamp']\n",
    "elog = elog[cols]\n",
    "\n",
    "elog['order_purchase_timestamp'] = pd.to_datetime(elog['order_purchase_timestamp'])\n",
    "elog['order_date'] = elog.order_purchase_timestamp.dt.date\n",
    "elog['order_date'] = pd.to_datetime(elog['order_date'])\n",
    "\n",
    "cols = ['customer_unique_id', 'order_date']\n",
    "elog = elog[cols]\n",
    "\n",
    "elog.columns = ['CUSTOMER_ID', 'ORDER_DATE']\n",
    "\n",
    "\n",
    "elog.info()\n",
    "display(elog.sample(5))\n"
   ]
  },
  {
   "cell_type": "markdown",
   "id": "e85656f2",
   "metadata": {},
   "source": [
    "### From lifetimes documentation"
   ]
  },
  {
   "cell_type": "code",
   "execution_count": 8,
   "id": "6d1c95b9",
   "metadata": {},
   "outputs": [
    {
     "name": "stdout",
     "output_type": "stream",
     "text": [
      "    frequency  recency      T\n",
      "ID                           \n",
      "1           2    30.43  38.86\n",
      "2           1     1.71  38.86\n",
      "3           0     0.00  38.86\n",
      "4           0     0.00  38.86\n",
      "5           0     0.00  38.86\n"
     ]
    }
   ],
   "source": [
    "#import sample data\n",
    "from lifetimes.datasets import load_cdnow_summary\n",
    "data = load_cdnow_summary(index_col=[0])\n",
    "\n",
    "print(data.head())"
   ]
  },
  {
   "cell_type": "code",
   "execution_count": 9,
   "id": "035e1502",
   "metadata": {},
   "outputs": [
    {
     "data": {
      "text/html": [
       "<div>\n",
       "<style scoped>\n",
       "    .dataframe tbody tr th:only-of-type {\n",
       "        vertical-align: middle;\n",
       "    }\n",
       "\n",
       "    .dataframe tbody tr th {\n",
       "        vertical-align: top;\n",
       "    }\n",
       "\n",
       "    .dataframe thead th {\n",
       "        text-align: right;\n",
       "    }\n",
       "</style>\n",
       "<table border=\"1\" class=\"dataframe\">\n",
       "  <thead>\n",
       "    <tr style=\"text-align: right;\">\n",
       "      <th></th>\n",
       "      <th>frequency</th>\n",
       "      <th>recency</th>\n",
       "      <th>T</th>\n",
       "    </tr>\n",
       "    <tr>\n",
       "      <th>ID</th>\n",
       "      <th></th>\n",
       "      <th></th>\n",
       "      <th></th>\n",
       "    </tr>\n",
       "  </thead>\n",
       "  <tbody>\n",
       "    <tr>\n",
       "      <th>1</th>\n",
       "      <td>2</td>\n",
       "      <td>30.43</td>\n",
       "      <td>38.86</td>\n",
       "    </tr>\n",
       "    <tr>\n",
       "      <th>2</th>\n",
       "      <td>1</td>\n",
       "      <td>1.71</td>\n",
       "      <td>38.86</td>\n",
       "    </tr>\n",
       "    <tr>\n",
       "      <th>3</th>\n",
       "      <td>0</td>\n",
       "      <td>0.00</td>\n",
       "      <td>38.86</td>\n",
       "    </tr>\n",
       "    <tr>\n",
       "      <th>4</th>\n",
       "      <td>0</td>\n",
       "      <td>0.00</td>\n",
       "      <td>38.86</td>\n",
       "    </tr>\n",
       "    <tr>\n",
       "      <th>5</th>\n",
       "      <td>0</td>\n",
       "      <td>0.00</td>\n",
       "      <td>38.86</td>\n",
       "    </tr>\n",
       "    <tr>\n",
       "      <th>...</th>\n",
       "      <td>...</td>\n",
       "      <td>...</td>\n",
       "      <td>...</td>\n",
       "    </tr>\n",
       "    <tr>\n",
       "      <th>2353</th>\n",
       "      <td>0</td>\n",
       "      <td>0.00</td>\n",
       "      <td>27.00</td>\n",
       "    </tr>\n",
       "    <tr>\n",
       "      <th>2354</th>\n",
       "      <td>5</td>\n",
       "      <td>24.29</td>\n",
       "      <td>27.00</td>\n",
       "    </tr>\n",
       "    <tr>\n",
       "      <th>2355</th>\n",
       "      <td>0</td>\n",
       "      <td>0.00</td>\n",
       "      <td>27.00</td>\n",
       "    </tr>\n",
       "    <tr>\n",
       "      <th>2356</th>\n",
       "      <td>4</td>\n",
       "      <td>26.57</td>\n",
       "      <td>27.00</td>\n",
       "    </tr>\n",
       "    <tr>\n",
       "      <th>2357</th>\n",
       "      <td>0</td>\n",
       "      <td>0.00</td>\n",
       "      <td>27.00</td>\n",
       "    </tr>\n",
       "  </tbody>\n",
       "</table>\n",
       "<p>2357 rows × 3 columns</p>\n",
       "</div>"
      ],
      "text/plain": [
       "      frequency  recency      T\n",
       "ID                             \n",
       "1             2    30.43  38.86\n",
       "2             1     1.71  38.86\n",
       "3             0     0.00  38.86\n",
       "4             0     0.00  38.86\n",
       "5             0     0.00  38.86\n",
       "...         ...      ...    ...\n",
       "2353          0     0.00  27.00\n",
       "2354          5    24.29  27.00\n",
       "2355          0     0.00  27.00\n",
       "2356          4    26.57  27.00\n",
       "2357          0     0.00  27.00\n",
       "\n",
       "[2357 rows x 3 columns]"
      ]
     },
     "execution_count": 9,
     "metadata": {},
     "output_type": "execute_result"
    }
   ],
   "source": [
    "#df \n",
    "data"
   ]
  },
  {
   "cell_type": "code",
   "execution_count": 10,
   "id": "e1f87d7e",
   "metadata": {},
   "outputs": [
    {
     "name": "stdout",
     "output_type": "stream",
     "text": [
      "<lifetimes.BetaGeoFitter: fitted with 2357 subjects, a: 0.79, alpha: 4.41, b: 2.43, r: 0.24>\n"
     ]
    }
   ],
   "source": [
    "# similar API to scikit-learn and lifelines\n",
    "from lifetimes import BetaGeoFitter\n",
    "bgf = BetaGeoFitter(penalizer_coef=0.0)\n",
    "bgf.fit(data['frequency'], data['recency'], data['T'])\n",
    "print(bgf)"
   ]
  },
  {
   "cell_type": "code",
   "execution_count": 13,
   "id": "e7afffb5",
   "metadata": {},
   "outputs": [
    {
     "data": {
      "text/html": [
       "<div>\n",
       "<style scoped>\n",
       "    .dataframe tbody tr th:only-of-type {\n",
       "        vertical-align: middle;\n",
       "    }\n",
       "\n",
       "    .dataframe tbody tr th {\n",
       "        vertical-align: top;\n",
       "    }\n",
       "\n",
       "    .dataframe thead th {\n",
       "        text-align: right;\n",
       "    }\n",
       "</style>\n",
       "<table border=\"1\" class=\"dataframe\">\n",
       "  <thead>\n",
       "    <tr style=\"text-align: right;\">\n",
       "      <th></th>\n",
       "      <th>coef</th>\n",
       "      <th>se(coef)</th>\n",
       "      <th>lower 95% bound</th>\n",
       "      <th>upper 95% bound</th>\n",
       "    </tr>\n",
       "  </thead>\n",
       "  <tbody>\n",
       "    <tr>\n",
       "      <th>r</th>\n",
       "      <td>0.242593</td>\n",
       "      <td>0.012557</td>\n",
       "      <td>0.217981</td>\n",
       "      <td>0.267205</td>\n",
       "    </tr>\n",
       "    <tr>\n",
       "      <th>alpha</th>\n",
       "      <td>4.413532</td>\n",
       "      <td>0.378221</td>\n",
       "      <td>3.672218</td>\n",
       "      <td>5.154846</td>\n",
       "    </tr>\n",
       "    <tr>\n",
       "      <th>a</th>\n",
       "      <td>0.792886</td>\n",
       "      <td>0.185719</td>\n",
       "      <td>0.428877</td>\n",
       "      <td>1.156895</td>\n",
       "    </tr>\n",
       "    <tr>\n",
       "      <th>b</th>\n",
       "      <td>2.425752</td>\n",
       "      <td>0.705345</td>\n",
       "      <td>1.043276</td>\n",
       "      <td>3.808229</td>\n",
       "    </tr>\n",
       "  </tbody>\n",
       "</table>\n",
       "</div>"
      ],
      "text/plain": [
       "           coef  se(coef)  lower 95% bound  upper 95% bound\n",
       "r      0.242593  0.012557         0.217981         0.267205\n",
       "alpha  4.413532  0.378221         3.672218         5.154846\n",
       "a      0.792886  0.185719         0.428877         1.156895\n",
       "b      2.425752  0.705345         1.043276         3.808229"
      ]
     },
     "execution_count": 13,
     "metadata": {},
     "output_type": "execute_result"
    }
   ],
   "source": [
    "bgf.summary"
   ]
  },
  {
   "cell_type": "code",
   "execution_count": null,
   "id": "1f23baec",
   "metadata": {},
   "outputs": [],
   "source": []
  }
 ],
 "metadata": {
  "kernelspec": {
   "display_name": "Python 3 (ipykernel)",
   "language": "python",
   "name": "python3"
  },
  "language_info": {
   "codemirror_mode": {
    "name": "ipython",
    "version": 3
   },
   "file_extension": ".py",
   "mimetype": "text/x-python",
   "name": "python",
   "nbconvert_exporter": "python",
   "pygments_lexer": "ipython3",
   "version": "3.10.4"
  }
 },
 "nbformat": 4,
 "nbformat_minor": 5
}
