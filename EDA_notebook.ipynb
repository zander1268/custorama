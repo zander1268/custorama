{
 "cells": [
  {
   "cell_type": "markdown",
   "metadata": {},
   "source": [
    "**Author**: [Alex FitzGerald](https://www.linkedin.com/in/alex-fitzgerald-0734076a/)\n",
    "\n",
    "![windjammer header](visuals/windjammer_logo.jpg)\n",
    "\n",
    "## Overview\n",
    "This project creates a user-friendly customer lifetime value (CLV) prediction engine able to take in transaction data and return important CLV predictions with a high degree of accuracy for a merchant's entire customer base and individual customers over a selected period of time in the future. The data processing and modeling techniques were validated on a publicly available e-commerce data set from Olist but the app is flexible enough to re-process and model unstructured transaction data from any non-contractual business with continuous purchasing behavior (ex. grocery purchases, e-commerce, movie rentals).\n",
    "\n",
    "## Business Problem\n",
    "How much are your customers worth? CLV is a north star metric for marketers and key to many business analyses; sales/marketing activity ROI, sales forecasts, company valuation, churn mitigation tactics, and customer persona analysis. \n",
    "\n",
    "Olist, the largest e-commerce department store in Brazil, wants to help the small business merchants who sell goods through their marketplace understand their CLV. Olist makes their money taking a commission on orders placed on their marketplace. They want to help their merchants sell more products and retain those merchants on their marketplace by providing top-notch business analytics.\n",
    "\n",
    "Olist has decided to create a user friendly app to help their merchants better understand the customers who buy their products through the Olist marketplace. Empowering their merchants with CLV analysis will help merchants improve their strategy and increase sales and commissions through Olist. The addition of a customer insight tool will also improve the retention of merchants on the Olist network. \n",
    "\n",
    "To accomplish this project, Olist has hired Windjammer Consulting, a data-science consulting firm.\n",
    "\n",
    "To test out the app for accuracy, Olist has provided a full transaction data set of purchases from all vendors and asked Windjammer Consulting to return CLV predictions with minimal error (RMSE).\n",
    "If the model passes muster, they want Windjammer Consulting to create an application that allows merchants to upload their own data and retrieve predictions.\n",
    "\n",
    "## EDA Notebook"
   ]
  },
  {
   "cell_type": "markdown",
   "metadata": {},
   "source": [
    "### Exploratory Data Analysis\n",
    "1. Data base exploration\n",
    "2. Inital observations"
   ]
  },
  {
   "cell_type": "markdown",
   "metadata": {},
   "source": [
    "#### Data base exploration\n",
    "To create a CLV, model we need a customer identifier, purchase timestamp, and purchase value. The data base contains more information than we need so I'm only going to open these three files for further exploration. \n",
    "- olist_customers_dataset\n",
    "    - This dataset has information about the customer and its location. Use it to identify unique customers in the orders dataset.\n",
    "- olist_order_items_dataset\n",
    "    - d\n",
    "- olist_order_payments_dataset\n",
    "    - This dataset includes data about the orders payment options."
   ]
  },
  {
   "cell_type": "code",
   "execution_count": 1,
   "metadata": {},
   "outputs": [
    {
     "name": "stdout",
     "output_type": "stream",
     "text": [
      "Data base files\n",
      " \n",
      "olist_customers_dataset.csv\n",
      "olist_geolocation_dataset.csv\n",
      "olist_order_items_dataset.csv\n",
      "olist_order_payments_dataset.csv\n",
      "olist_order_reviews_dataset.csv\n",
      "olist_orders_dataset.csv\n",
      "olist_products_dataset.csv\n",
      "olist_sellers_dataset.csv\n",
      "product_category_name_translation.csv\n"
     ]
    }
   ],
   "source": [
    "#import zipfile to deal with zipped data\n",
    "from zipfile import ZipFile\n",
    "# Create iterate over our files in the zip file and print their names\n",
    "print(\"Data base files\")\n",
    "print(\" \")\n",
    "with ZipFile('data/customer_data_base.zip', 'r') as zipObj:\n",
    "   # Get list of files names in zip\n",
    "   listOfiles = zipObj.namelist()\n",
    "   # Iterate over the list of file names in given list & print them\n",
    "   for elem in listOfiles:\n",
    "       print(elem)"
   ]
  },
  {
   "cell_type": "code",
   "execution_count": 2,
   "metadata": {},
   "outputs": [],
   "source": [
    "#Inital imports\n",
    "%matplotlib inline\n",
    "import numpy as np\n",
    "import pandas as pd\n",
    "import matplotlib.pyplot as plt\n",
    "import seaborn as sns\n",
    "import lifetimes\n",
    "from zipfile import ZipFile\n",
    "import random"
   ]
  },
  {
   "cell_type": "code",
   "execution_count": 3,
   "metadata": {},
   "outputs": [],
   "source": [
    "#Load in our data\n",
    "# open zipped dataset and save to df's\n",
    "with ZipFile(\"data/customer_data_base.zip\") as z:\n",
    "   # open the orders csv file in the dataset\n",
    "   with z.open(\"olist_orders_dataset.csv\") as a:    \n",
    "      # read the dataset as dataframe \"df\"\n",
    "      orders_df = pd.read_csv(a)\n",
    "        \n",
    "   # open the customers csv file in the dataset\n",
    "   with z.open(\"olist_customers_dataset.csv\") as b:    \n",
    "      # read the dataset as dataframe \"df\"\n",
    "      customers_df = pd.read_csv(b)     \n",
    "        \n",
    "   # open the customers csv file in the dataset\n",
    "   with z.open(\"olist_order_payments_dataset.csv\") as c:    \n",
    "      # read the dataset as dataframe \"df\"\n",
    "      payments_df = pd.read_csv(c)     \n"
   ]
  },
  {
   "cell_type": "markdown",
   "metadata": {},
   "source": [
    "![Data_base_schema](visuals/data_base_schema.png)"
   ]
  },
  {
   "cell_type": "markdown",
   "metadata": {},
   "source": [
    "#### Initial Observations\n",
    "\n",
    "#### customers_dataset\n",
    "- All we need from this dataset is `customer_unique_id` and `customer_id`\t\n",
    "- No null or missing values\n",
    "- We have 96,096 unique customers\n",
    "    - Total unique `customer_id`: 99,441\n",
    "    - Total unique `customer_unique_id`: 96,096\n",
    "- All 27 Brazilian states + federal district (FD) represented\n",
    "- customer_unique_id represents the unique customer identifier\n",
    "- customer_id is a key to the orders dataset and represents a unique order id\n",
    "    - From the data providers, \"At our system each order is assigned to a unique customerid.\"\n",
    "\n",
    "#### olist_order_items_dataset\n",
    "- From this dataset we need; `order_purchase_timestamp`, `order_id`, `customer_id`\n",
    "- `unique order_ids`: 99,441\n",
    "- `unique customer_ids`: 99,441\n",
    "- `order_purchase_timestamp` units of time is in days\n",
    "- Dates range 773 days, from 2016-09-04 to 2018-10-17\n",
    "- We don't have many observations early in our data set, 2017-04 we get more data\n",
    "- we see the order status's 'canceled' and 'unavailable' causing issues & we may decide to drop these after joining depending on their order's monetary value\n",
    "\n",
    "#### olist_order_payments_dataset\n",
    "- From this dataset we need `payment_value`\n",
    "- Unique `order_ids`: 99,440\n",
    "- Duplicate `order_ids`: 4,446\n",
    "- We have entries with zero `payment_value`\n",
    "- We have right outliers in `payment_value`\n",
    "\n"
   ]
  },
  {
   "cell_type": "markdown",
   "metadata": {},
   "source": [
    "##### customers_dataset"
   ]
  },
  {
   "cell_type": "code",
   "execution_count": 4,
   "metadata": {},
   "outputs": [
    {
     "data": {
      "text/plain": [
       "(99441, 5)"
      ]
     },
     "execution_count": 4,
     "metadata": {},
     "output_type": "execute_result"
    }
   ],
   "source": [
    "#99441 observations\n",
    "customers_df.shape"
   ]
  },
  {
   "cell_type": "code",
   "execution_count": 5,
   "metadata": {},
   "outputs": [
    {
     "data": {
      "text/plain": [
       "customer_id                 0\n",
       "customer_unique_id          0\n",
       "customer_zip_code_prefix    0\n",
       "customer_city               0\n",
       "customer_state              0\n",
       "dtype: int64"
      ]
     },
     "execution_count": 5,
     "metadata": {},
     "output_type": "execute_result"
    }
   ],
   "source": [
    "#We have no null or na values\n",
    "customers_df.isnull().sum()"
   ]
  },
  {
   "cell_type": "code",
   "execution_count": 6,
   "metadata": {},
   "outputs": [
    {
     "name": "stdout",
     "output_type": "stream",
     "text": [
      "<class 'pandas.core.frame.DataFrame'>\n",
      "RangeIndex: 99441 entries, 0 to 99440\n",
      "Data columns (total 5 columns):\n",
      " #   Column                    Non-Null Count  Dtype \n",
      "---  ------                    --------------  ----- \n",
      " 0   customer_id               99441 non-null  object\n",
      " 1   customer_unique_id        99441 non-null  object\n",
      " 2   customer_zip_code_prefix  99441 non-null  int64 \n",
      " 3   customer_city             99441 non-null  object\n",
      " 4   customer_state            99441 non-null  object\n",
      "dtypes: int64(1), object(4)\n",
      "memory usage: 3.8+ MB\n"
     ]
    }
   ],
   "source": [
    "#We have mostly strings and an integer for zip code\n",
    "customers_df.info()"
   ]
  },
  {
   "cell_type": "code",
   "execution_count": 7,
   "metadata": {},
   "outputs": [
    {
     "data": {
      "text/html": [
       "<div>\n",
       "<style scoped>\n",
       "    .dataframe tbody tr th:only-of-type {\n",
       "        vertical-align: middle;\n",
       "    }\n",
       "\n",
       "    .dataframe tbody tr th {\n",
       "        vertical-align: top;\n",
       "    }\n",
       "\n",
       "    .dataframe thead th {\n",
       "        text-align: right;\n",
       "    }\n",
       "</style>\n",
       "<table border=\"1\" class=\"dataframe\">\n",
       "  <thead>\n",
       "    <tr style=\"text-align: right;\">\n",
       "      <th></th>\n",
       "      <th>customer_id</th>\n",
       "      <th>customer_unique_id</th>\n",
       "      <th>customer_zip_code_prefix</th>\n",
       "      <th>customer_city</th>\n",
       "      <th>customer_state</th>\n",
       "    </tr>\n",
       "  </thead>\n",
       "  <tbody>\n",
       "    <tr>\n",
       "      <th>0</th>\n",
       "      <td>06b8999e2fba1a1fbc88172c00ba8bc7</td>\n",
       "      <td>861eff4711a542e4b93843c6dd7febb0</td>\n",
       "      <td>14409</td>\n",
       "      <td>franca</td>\n",
       "      <td>SP</td>\n",
       "    </tr>\n",
       "    <tr>\n",
       "      <th>1</th>\n",
       "      <td>18955e83d337fd6b2def6b18a428ac77</td>\n",
       "      <td>290c77bc529b7ac935b93aa66c333dc3</td>\n",
       "      <td>9790</td>\n",
       "      <td>sao bernardo do campo</td>\n",
       "      <td>SP</td>\n",
       "    </tr>\n",
       "    <tr>\n",
       "      <th>2</th>\n",
       "      <td>4e7b3e00288586ebd08712fdd0374a03</td>\n",
       "      <td>060e732b5b29e8181a18229c7b0b2b5e</td>\n",
       "      <td>1151</td>\n",
       "      <td>sao paulo</td>\n",
       "      <td>SP</td>\n",
       "    </tr>\n",
       "    <tr>\n",
       "      <th>3</th>\n",
       "      <td>b2b6027bc5c5109e529d4dc6358b12c3</td>\n",
       "      <td>259dac757896d24d7702b9acbbff3f3c</td>\n",
       "      <td>8775</td>\n",
       "      <td>mogi das cruzes</td>\n",
       "      <td>SP</td>\n",
       "    </tr>\n",
       "    <tr>\n",
       "      <th>4</th>\n",
       "      <td>4f2d8ab171c80ec8364f7c12e35b23ad</td>\n",
       "      <td>345ecd01c38d18a9036ed96c73b8d066</td>\n",
       "      <td>13056</td>\n",
       "      <td>campinas</td>\n",
       "      <td>SP</td>\n",
       "    </tr>\n",
       "  </tbody>\n",
       "</table>\n",
       "</div>"
      ],
      "text/plain": [
       "                        customer_id                customer_unique_id  \\\n",
       "0  06b8999e2fba1a1fbc88172c00ba8bc7  861eff4711a542e4b93843c6dd7febb0   \n",
       "1  18955e83d337fd6b2def6b18a428ac77  290c77bc529b7ac935b93aa66c333dc3   \n",
       "2  4e7b3e00288586ebd08712fdd0374a03  060e732b5b29e8181a18229c7b0b2b5e   \n",
       "3  b2b6027bc5c5109e529d4dc6358b12c3  259dac757896d24d7702b9acbbff3f3c   \n",
       "4  4f2d8ab171c80ec8364f7c12e35b23ad  345ecd01c38d18a9036ed96c73b8d066   \n",
       "\n",
       "   customer_zip_code_prefix          customer_city customer_state  \n",
       "0                     14409                 franca             SP  \n",
       "1                      9790  sao bernardo do campo             SP  \n",
       "2                      1151              sao paulo             SP  \n",
       "3                      8775        mogi das cruzes             SP  \n",
       "4                     13056               campinas             SP  "
      ]
     },
     "execution_count": 7,
     "metadata": {},
     "output_type": "execute_result"
    }
   ],
   "source": [
    "#Explore head of dataframe\n",
    "#There is a difference between customer_id and customer_unique_id, let's explore further\n",
    "customers_df.head()"
   ]
  },
  {
   "cell_type": "code",
   "execution_count": 8,
   "metadata": {},
   "outputs": [
    {
     "name": "stdout",
     "output_type": "stream",
     "text": [
      "Total unique customer_id: 99441\n",
      "Total unique customer_unique_id: 96096\n"
     ]
    }
   ],
   "source": [
    "#As the name suggests, unique_customer_id is a more unique customer identifier\n",
    "print(f'Total unique customer_id: {len(customers_df[\"customer_id\"].unique())}')\n",
    "print(f'Total unique customer_unique_id: {len(customers_df[\"customer_unique_id\"].unique())}')"
   ]
  },
  {
   "cell_type": "code",
   "execution_count": 9,
   "metadata": {},
   "outputs": [
    {
     "data": {
      "text/plain": [
       "1.0348089410589412"
      ]
     },
     "execution_count": 9,
     "metadata": {},
     "output_type": "execute_result"
    }
   ],
   "source": [
    "#We have 1.03 unique customer_id per every customer_unique_id\n",
    "len(customers_df[\"customer_id\"].unique())/len(customers_df[\"customer_unique_id\"].unique())"
   ]
  },
  {
   "cell_type": "code",
   "execution_count": 10,
   "metadata": {},
   "outputs": [
    {
     "data": {
      "text/plain": [
       "27"
      ]
     },
     "execution_count": 10,
     "metadata": {},
     "output_type": "execute_result"
    }
   ],
   "source": [
    "#All 27 Brazilian states + federal district (FD) represented\n",
    "len(customers_df[\"customer_state\"].unique())"
   ]
  },
  {
   "cell_type": "code",
   "execution_count": 11,
   "metadata": {},
   "outputs": [
    {
     "data": {
      "text/plain": [
       "SP    41746\n",
       "RJ    12852\n",
       "MG    11635\n",
       "RS     5466\n",
       "PR     5045\n",
       "SC     3637\n",
       "BA     3380\n",
       "DF     2140\n",
       "ES     2033\n",
       "GO     2020\n",
       "PE     1652\n",
       "CE     1336\n",
       "PA      975\n",
       "MT      907\n",
       "MA      747\n",
       "MS      715\n",
       "PB      536\n",
       "PI      495\n",
       "RN      485\n",
       "AL      413\n",
       "SE      350\n",
       "TO      280\n",
       "RO      253\n",
       "AM      148\n",
       "AC       81\n",
       "AP       68\n",
       "RR       46\n",
       "Name: customer_state, dtype: int64"
      ]
     },
     "execution_count": 11,
     "metadata": {},
     "output_type": "execute_result"
    }
   ],
   "source": [
    "customers_df[\"customer_state\"].value_counts()"
   ]
  },
  {
   "cell_type": "markdown",
   "metadata": {},
   "source": [
    "##### olist_order_items_dataset"
   ]
  },
  {
   "cell_type": "code",
   "execution_count": 12,
   "metadata": {},
   "outputs": [
    {
     "data": {
      "text/plain": [
       "(99441, 8)"
      ]
     },
     "execution_count": 12,
     "metadata": {},
     "output_type": "execute_result"
    }
   ],
   "source": [
    "#99441 observations, same as our customers dataset\n",
    "orders_df.shape"
   ]
  },
  {
   "cell_type": "code",
   "execution_count": 13,
   "metadata": {},
   "outputs": [
    {
     "name": "stdout",
     "output_type": "stream",
     "text": [
      "<class 'pandas.core.frame.DataFrame'>\n",
      "RangeIndex: 99441 entries, 0 to 99440\n",
      "Data columns (total 8 columns):\n",
      " #   Column                         Non-Null Count  Dtype \n",
      "---  ------                         --------------  ----- \n",
      " 0   order_id                       99441 non-null  object\n",
      " 1   customer_id                    99441 non-null  object\n",
      " 2   order_status                   99441 non-null  object\n",
      " 3   order_purchase_timestamp       99441 non-null  object\n",
      " 4   order_approved_at              99281 non-null  object\n",
      " 5   order_delivered_carrier_date   97658 non-null  object\n",
      " 6   order_delivered_customer_date  96476 non-null  object\n",
      " 7   order_estimated_delivery_date  99441 non-null  object\n",
      "dtypes: object(8)\n",
      "memory usage: 6.1+ MB\n"
     ]
    }
   ],
   "source": [
    "#We have only objects. We'll need to translate order_purchase_timestamp to a more useful d type\n",
    "orders_df.info()"
   ]
  },
  {
   "cell_type": "code",
   "execution_count": 14,
   "metadata": {},
   "outputs": [
    {
     "name": "stdout",
     "output_type": "stream",
     "text": [
      "<class 'pandas.core.series.Series'>\n",
      "RangeIndex: 99441 entries, 0 to 99440\n",
      "Series name: order_purchase_timestamp\n",
      "Non-Null Count  Dtype \n",
      "--------------  ----- \n",
      "99441 non-null  object\n",
      "dtypes: object(1)\n",
      "memory usage: 777.0+ KB\n"
     ]
    }
   ],
   "source": [
    "#translate order_purchase_timestamp to date time\n",
    "orders_df[\"order_purchase_timestamp\"] = pd.to_datetime(orders_df[\"order_purchase_timestamp\"]).dt.date #normalize()\n",
    "orders_df[\"order_purchase_timestamp\"].info()"
   ]
  },
  {
   "cell_type": "code",
   "execution_count": 15,
   "metadata": {},
   "outputs": [
    {
     "data": {
      "text/plain": [
       "0    2017-10-02\n",
       "1    2018-07-24\n",
       "2    2018-08-08\n",
       "3    2017-11-18\n",
       "4    2018-02-13\n",
       "Name: order_purchase_timestamp, dtype: object"
      ]
     },
     "execution_count": 15,
     "metadata": {},
     "output_type": "execute_result"
    }
   ],
   "source": [
    "#our units of time is in days\n",
    "orders_df[\"order_purchase_timestamp\"].head()"
   ]
  },
  {
   "cell_type": "code",
   "execution_count": 16,
   "metadata": {},
   "outputs": [
    {
     "name": "stdout",
     "output_type": "stream",
     "text": [
      " min date: 2016-09-04\n",
      " max date: 2018-10-17\n",
      " range: 773 days, 0:00:00\n"
     ]
    }
   ],
   "source": [
    "print(f' min date: {orders_df[\"order_purchase_timestamp\"].min()}')\n",
    "print(f' max date: {orders_df[\"order_purchase_timestamp\"].max()}')\n",
    "print(f' range: {orders_df[\"order_purchase_timestamp\"].max()-orders_df[\"order_purchase_timestamp\"].min()}')"
   ]
  },
  {
   "cell_type": "code",
   "execution_count": 17,
   "metadata": {},
   "outputs": [
    {
     "data": {
      "image/png": "[encoded data removed]",
      "text/plain": [
       "<Figure size 720x360 with 1 Axes>"
      ]
     },
     "metadata": {
      "needs_background": "light"
     },
     "output_type": "display_data"
    }
   ],
   "source": [
    "#Dates range 773 days, from 2016-09-04 to 2018-10-17\n",
    "#We have very few observations early in our data set\n",
    "fig, ax = plt.subplots(figsize=(10,5))\n",
    "ax.hist(orders_df[\"order_purchase_timestamp\"]);"
   ]
  },
  {
   "cell_type": "code",
   "execution_count": 18,
   "metadata": {},
   "outputs": [
    {
     "data": {
      "text/html": [
       "<div>\n",
       "<style scoped>\n",
       "    .dataframe tbody tr th:only-of-type {\n",
       "        vertical-align: middle;\n",
       "    }\n",
       "\n",
       "    .dataframe tbody tr th {\n",
       "        vertical-align: top;\n",
       "    }\n",
       "\n",
       "    .dataframe thead th {\n",
       "        text-align: right;\n",
       "    }\n",
       "</style>\n",
       "<table border=\"1\" class=\"dataframe\">\n",
       "  <thead>\n",
       "    <tr style=\"text-align: right;\">\n",
       "      <th></th>\n",
       "      <th>order_id</th>\n",
       "      <th>customer_id</th>\n",
       "      <th>order_status</th>\n",
       "      <th>order_purchase_timestamp</th>\n",
       "      <th>order_approved_at</th>\n",
       "      <th>order_delivered_carrier_date</th>\n",
       "      <th>order_delivered_customer_date</th>\n",
       "      <th>order_estimated_delivery_date</th>\n",
       "    </tr>\n",
       "  </thead>\n",
       "  <tbody>\n",
       "    <tr>\n",
       "      <th>0</th>\n",
       "      <td>e481f51cbdc54678b7cc49136f2d6af7</td>\n",
       "      <td>9ef432eb6251297304e76186b10a928d</td>\n",
       "      <td>delivered</td>\n",
       "      <td>2017-10-02</td>\n",
       "      <td>2017-10-02 11:07:15</td>\n",
       "      <td>2017-10-04 19:55:00</td>\n",
       "      <td>2017-10-10 21:25:13</td>\n",
       "      <td>2017-10-18 00:00:00</td>\n",
       "    </tr>\n",
       "    <tr>\n",
       "      <th>1</th>\n",
       "      <td>53cdb2fc8bc7dce0b6741e2150273451</td>\n",
       "      <td>b0830fb4747a6c6d20dea0b8c802d7ef</td>\n",
       "      <td>delivered</td>\n",
       "      <td>2018-07-24</td>\n",
       "      <td>2018-07-26 03:24:27</td>\n",
       "      <td>2018-07-26 14:31:00</td>\n",
       "      <td>2018-08-07 15:27:45</td>\n",
       "      <td>2018-08-13 00:00:00</td>\n",
       "    </tr>\n",
       "    <tr>\n",
       "      <th>2</th>\n",
       "      <td>47770eb9100c2d0c44946d9cf07ec65d</td>\n",
       "      <td>41ce2a54c0b03bf3443c3d931a367089</td>\n",
       "      <td>delivered</td>\n",
       "      <td>2018-08-08</td>\n",
       "      <td>2018-08-08 08:55:23</td>\n",
       "      <td>2018-08-08 13:50:00</td>\n",
       "      <td>2018-08-17 18:06:29</td>\n",
       "      <td>2018-09-04 00:00:00</td>\n",
       "    </tr>\n",
       "    <tr>\n",
       "      <th>3</th>\n",
       "      <td>949d5b44dbf5de918fe9c16f97b45f8a</td>\n",
       "      <td>f88197465ea7920adcdbec7375364d82</td>\n",
       "      <td>delivered</td>\n",
       "      <td>2017-11-18</td>\n",
       "      <td>2017-11-18 19:45:59</td>\n",
       "      <td>2017-11-22 13:39:59</td>\n",
       "      <td>2017-12-02 00:28:42</td>\n",
       "      <td>2017-12-15 00:00:00</td>\n",
       "    </tr>\n",
       "    <tr>\n",
       "      <th>4</th>\n",
       "      <td>ad21c59c0840e6cb83a9ceb5573f8159</td>\n",
       "      <td>8ab97904e6daea8866dbdbc4fb7aad2c</td>\n",
       "      <td>delivered</td>\n",
       "      <td>2018-02-13</td>\n",
       "      <td>2018-02-13 22:20:29</td>\n",
       "      <td>2018-02-14 19:46:34</td>\n",
       "      <td>2018-02-16 18:17:02</td>\n",
       "      <td>2018-02-26 00:00:00</td>\n",
       "    </tr>\n",
       "  </tbody>\n",
       "</table>\n",
       "</div>"
      ],
      "text/plain": [
       "                           order_id                       customer_id  \\\n",
       "0  e481f51cbdc54678b7cc49136f2d6af7  9ef432eb6251297304e76186b10a928d   \n",
       "1  53cdb2fc8bc7dce0b6741e2150273451  b0830fb4747a6c6d20dea0b8c802d7ef   \n",
       "2  47770eb9100c2d0c44946d9cf07ec65d  41ce2a54c0b03bf3443c3d931a367089   \n",
       "3  949d5b44dbf5de918fe9c16f97b45f8a  f88197465ea7920adcdbec7375364d82   \n",
       "4  ad21c59c0840e6cb83a9ceb5573f8159  8ab97904e6daea8866dbdbc4fb7aad2c   \n",
       "\n",
       "  order_status order_purchase_timestamp    order_approved_at  \\\n",
       "0    delivered               2017-10-02  2017-10-02 11:07:15   \n",
       "1    delivered               2018-07-24  2018-07-26 03:24:27   \n",
       "2    delivered               2018-08-08  2018-08-08 08:55:23   \n",
       "3    delivered               2017-11-18  2017-11-18 19:45:59   \n",
       "4    delivered               2018-02-13  2018-02-13 22:20:29   \n",
       "\n",
       "  order_delivered_carrier_date order_delivered_customer_date  \\\n",
       "0          2017-10-04 19:55:00           2017-10-10 21:25:13   \n",
       "1          2018-07-26 14:31:00           2018-08-07 15:27:45   \n",
       "2          2018-08-08 13:50:00           2018-08-17 18:06:29   \n",
       "3          2017-11-22 13:39:59           2017-12-02 00:28:42   \n",
       "4          2018-02-14 19:46:34           2018-02-16 18:17:02   \n",
       "\n",
       "  order_estimated_delivery_date  \n",
       "0           2017-10-18 00:00:00  \n",
       "1           2018-08-13 00:00:00  \n",
       "2           2018-09-04 00:00:00  \n",
       "3           2017-12-15 00:00:00  \n",
       "4           2018-02-26 00:00:00  "
      ]
     },
     "execution_count": 18,
     "metadata": {},
     "output_type": "execute_result"
    }
   ],
   "source": [
    "#Explore head of dataframe\n",
    "#Indexed by order_id\n",
    "#From this dataset we have the required elements for a CLV model; customer identifier, purchase timestamp.\n",
    "orders_df.head()"
   ]
  },
  {
   "cell_type": "code",
   "execution_count": 19,
   "metadata": {},
   "outputs": [
    {
     "name": "stdout",
     "output_type": "stream",
     "text": [
      "duplicate order_ids: 0\n",
      "unique order_ids: 99441\n"
     ]
    }
   ],
   "source": [
    "#order_id's are unique\n",
    "print(f'duplicate order_ids: {len(orders_df[\"order_id\"].unique()) - len(orders_df[\"order_id\"])}')\n",
    "print(f'unique order_ids: {len(orders_df[\"order_id\"].unique())}')"
   ]
  },
  {
   "cell_type": "code",
   "execution_count": 20,
   "metadata": {},
   "outputs": [
    {
     "name": "stdout",
     "output_type": "stream",
     "text": [
      "duplicate customer_id: 0\n",
      "unique customer_ids: 99441\n"
     ]
    }
   ],
   "source": [
    "#order_id's are unique\n",
    "print(f'duplicate customer_id: {len(orders_df[\"customer_id\"].unique()) - len(orders_df[\"customer_id\"])}')\n",
    "print(f'unique customer_ids: {len(orders_df[\"customer_id\"].unique())}')"
   ]
  },
  {
   "cell_type": "code",
   "execution_count": 21,
   "metadata": {},
   "outputs": [
    {
     "data": {
      "text/plain": [
       "delivered      96478\n",
       "shipped         1107\n",
       "canceled         625\n",
       "unavailable      609\n",
       "invoiced         314\n",
       "processing       301\n",
       "created            5\n",
       "approved           2\n",
       "Name: order_status, dtype: int64"
      ]
     },
     "execution_count": 21,
     "metadata": {},
     "output_type": "execute_result"
    }
   ],
   "source": [
    "#We have some order statuses that are concerning for a CLV model; canceled and unavailable\n",
    "#We have to check if these order types are associated with zero or negative monetary values when we join datasets \n",
    "orders_df[\"order_status\"].value_counts()"
   ]
  },
  {
   "cell_type": "code",
   "execution_count": 22,
   "metadata": {},
   "outputs": [
    {
     "data": {
      "text/plain": [
       "order_id                            0\n",
       "customer_id                         0\n",
       "order_status                        0\n",
       "order_purchase_timestamp            0\n",
       "order_approved_at                 160\n",
       "order_delivered_carrier_date     1783\n",
       "order_delivered_customer_date    2965\n",
       "order_estimated_delivery_date       0\n",
       "dtype: int64"
      ]
     },
     "execution_count": 22,
     "metadata": {},
     "output_type": "execute_result"
    }
   ],
   "source": [
    "#We have have some null values to deal with in order_approved_at, order_delivered_carrier_date, order_delivered_customer_date\n",
    "orders_df.isnull().sum()"
   ]
  },
  {
   "cell_type": "code",
   "execution_count": 23,
   "metadata": {},
   "outputs": [
    {
     "data": {
      "image/png": "[encoded data removed]",
      "text/plain": [
       "<Figure size 1440x864 with 2 Axes>"
      ]
     },
     "metadata": {
      "needs_background": "light"
     },
     "output_type": "display_data"
    }
   ],
   "source": [
    "#Let's visualize our errors to understand what might be causing them\n",
    "#Install missingno\n",
    "import missingno as msno\n",
    "msno.heatmap(orders_df);\n",
    "#It looks like order_delivered_carrier_date and order_delivered_customer_date are connected. When one is in error..\n",
    "#so is the other (most of the time)."
   ]
  },
  {
   "cell_type": "code",
   "execution_count": 24,
   "metadata": {},
   "outputs": [
    {
     "data": {
      "text/plain": [
       "canceled     0.88125\n",
       "delivered    0.08750\n",
       "created      0.03125\n",
       "Name: order_status, dtype: float64"
      ]
     },
     "execution_count": 24,
     "metadata": {},
     "output_type": "execute_result"
    }
   ],
   "source": [
    "#Dealing with order_approved_at null values first\n",
    "#We see that there is a strong correlation between order_approved_at being null and \"order_status\" being 'canceled'\n",
    "#This makes sense, if the order was canceled, it never got the chance to be approved.\n",
    "order_approved_at_null_df = orders_df[orders_df[\"order_approved_at\"].isnull() == True]\n",
    "order_approved_at_null_df[\"order_status\"].value_counts(normalize=True)"
   ]
  },
  {
   "cell_type": "code",
   "execution_count": 25,
   "metadata": {},
   "outputs": [
    {
     "data": {
      "text/plain": [
       "delivered      0.970203\n",
       "shipped        0.011132\n",
       "canceled       0.006285\n",
       "unavailable    0.006124\n",
       "invoiced       0.003158\n",
       "processing     0.003027\n",
       "created        0.000050\n",
       "approved       0.000020\n",
       "Name: order_status, dtype: float64"
      ]
     },
     "execution_count": 25,
     "metadata": {},
     "output_type": "execute_result"
    }
   ],
   "source": [
    "#Compared to the order_approved_at_null_df, our full df has a much lower % of 'canceled' status\n",
    "orders_df[\"order_status\"].value_counts(normalize=True)"
   ]
  },
  {
   "cell_type": "code",
   "execution_count": 26,
   "metadata": {},
   "outputs": [
    {
     "data": {
      "text/plain": [
       "1130     canceled\n",
       "1801     canceled\n",
       "1868     canceled\n",
       "2029     canceled\n",
       "2161     canceled\n",
       "           ...   \n",
       "97696    canceled\n",
       "98415    canceled\n",
       "98909    canceled\n",
       "99283    canceled\n",
       "99347    canceled\n",
       "Name: order_status, Length: 160, dtype: object"
      ]
     },
     "execution_count": 26,
     "metadata": {},
     "output_type": "execute_result"
    }
   ],
   "source": [
    "order_approved_at_null_df[\"order_status\"]"
   ]
  },
  {
   "cell_type": "code",
   "execution_count": 27,
   "metadata": {},
   "outputs": [
    {
     "name": "stdout",
     "output_type": "stream",
     "text": [
      "null order_approved_at & delivered: 14\n"
     ]
    },
    {
     "data": {
      "text/html": [
       "<div>\n",
       "<style scoped>\n",
       "    .dataframe tbody tr th:only-of-type {\n",
       "        vertical-align: middle;\n",
       "    }\n",
       "\n",
       "    .dataframe tbody tr th {\n",
       "        vertical-align: top;\n",
       "    }\n",
       "\n",
       "    .dataframe thead th {\n",
       "        text-align: right;\n",
       "    }\n",
       "</style>\n",
       "<table border=\"1\" class=\"dataframe\">\n",
       "  <thead>\n",
       "    <tr style=\"text-align: right;\">\n",
       "      <th></th>\n",
       "      <th>order_id</th>\n",
       "      <th>customer_id</th>\n",
       "      <th>order_status</th>\n",
       "      <th>order_purchase_timestamp</th>\n",
       "      <th>order_approved_at</th>\n",
       "      <th>order_delivered_carrier_date</th>\n",
       "      <th>order_delivered_customer_date</th>\n",
       "      <th>order_estimated_delivery_date</th>\n",
       "    </tr>\n",
       "  </thead>\n",
       "  <tbody>\n",
       "    <tr>\n",
       "      <th>5323</th>\n",
       "      <td>e04abd8149ef81b95221e88f6ed9ab6a</td>\n",
       "      <td>2127dc6603ac33544953ef05ec155771</td>\n",
       "      <td>delivered</td>\n",
       "      <td>2017-02-18</td>\n",
       "      <td>NaN</td>\n",
       "      <td>2017-02-23 12:04:47</td>\n",
       "      <td>2017-03-01 13:25:33</td>\n",
       "      <td>2017-03-17 00:00:00</td>\n",
       "    </tr>\n",
       "    <tr>\n",
       "      <th>16567</th>\n",
       "      <td>8a9adc69528e1001fc68dd0aaebbb54a</td>\n",
       "      <td>4c1ccc74e00993733742a3c786dc3c1f</td>\n",
       "      <td>delivered</td>\n",
       "      <td>2017-02-18</td>\n",
       "      <td>NaN</td>\n",
       "      <td>2017-02-23 09:01:52</td>\n",
       "      <td>2017-03-02 10:05:06</td>\n",
       "      <td>2017-03-21 00:00:00</td>\n",
       "    </tr>\n",
       "    <tr>\n",
       "      <th>19031</th>\n",
       "      <td>7013bcfc1c97fe719a7b5e05e61c12db</td>\n",
       "      <td>2941af76d38100e0f8740a374f1a5dc3</td>\n",
       "      <td>delivered</td>\n",
       "      <td>2017-02-18</td>\n",
       "      <td>NaN</td>\n",
       "      <td>2017-02-22 16:25:25</td>\n",
       "      <td>2017-03-01 08:07:38</td>\n",
       "      <td>2017-03-17 00:00:00</td>\n",
       "    </tr>\n",
       "    <tr>\n",
       "      <th>22663</th>\n",
       "      <td>5cf925b116421afa85ee25e99b4c34fb</td>\n",
       "      <td>29c35fc91fc13fb5073c8f30505d860d</td>\n",
       "      <td>delivered</td>\n",
       "      <td>2017-02-18</td>\n",
       "      <td>NaN</td>\n",
       "      <td>2017-02-22 11:23:10</td>\n",
       "      <td>2017-03-09 07:28:47</td>\n",
       "      <td>2017-03-31 00:00:00</td>\n",
       "    </tr>\n",
       "    <tr>\n",
       "      <th>23156</th>\n",
       "      <td>12a95a3c06dbaec84bcfb0e2da5d228a</td>\n",
       "      <td>1e101e0daffaddce8159d25a8e53f2b2</td>\n",
       "      <td>delivered</td>\n",
       "      <td>2017-02-17</td>\n",
       "      <td>NaN</td>\n",
       "      <td>2017-02-22 11:23:11</td>\n",
       "      <td>2017-03-02 11:09:19</td>\n",
       "      <td>2017-03-20 00:00:00</td>\n",
       "    </tr>\n",
       "  </tbody>\n",
       "</table>\n",
       "</div>"
      ],
      "text/plain": [
       "                               order_id                       customer_id  \\\n",
       "5323   e04abd8149ef81b95221e88f6ed9ab6a  2127dc6603ac33544953ef05ec155771   \n",
       "16567  8a9adc69528e1001fc68dd0aaebbb54a  4c1ccc74e00993733742a3c786dc3c1f   \n",
       "19031  7013bcfc1c97fe719a7b5e05e61c12db  2941af76d38100e0f8740a374f1a5dc3   \n",
       "22663  5cf925b116421afa85ee25e99b4c34fb  29c35fc91fc13fb5073c8f30505d860d   \n",
       "23156  12a95a3c06dbaec84bcfb0e2da5d228a  1e101e0daffaddce8159d25a8e53f2b2   \n",
       "\n",
       "      order_status order_purchase_timestamp order_approved_at  \\\n",
       "5323     delivered               2017-02-18               NaN   \n",
       "16567    delivered               2017-02-18               NaN   \n",
       "19031    delivered               2017-02-18               NaN   \n",
       "22663    delivered               2017-02-18               NaN   \n",
       "23156    delivered               2017-02-17               NaN   \n",
       "\n",
       "      order_delivered_carrier_date order_delivered_customer_date  \\\n",
       "5323           2017-02-23 12:04:47           2017-03-01 13:25:33   \n",
       "16567          2017-02-23 09:01:52           2017-03-02 10:05:06   \n",
       "19031          2017-02-22 16:25:25           2017-03-01 08:07:38   \n",
       "22663          2017-02-22 11:23:10           2017-03-09 07:28:47   \n",
       "23156          2017-02-22 11:23:11           2017-03-02 11:09:19   \n",
       "\n",
       "      order_estimated_delivery_date  \n",
       "5323            2017-03-17 00:00:00  \n",
       "16567           2017-03-21 00:00:00  \n",
       "19031           2017-03-17 00:00:00  \n",
       "22663           2017-03-31 00:00:00  \n",
       "23156           2017-03-20 00:00:00  "
      ]
     },
     "execution_count": 27,
     "metadata": {},
     "output_type": "execute_result"
    }
   ],
   "source": [
    "#When order status is 'delivered', we'd expect a an \"order_approved_at\" date but it seems like there..\n",
    "#were rare instances of data loss. This isn't a big concern bc we don't need 'order_approved_at'\n",
    "print(f'null order_approved_at & delivered: {len(order_approved_at_null_df[order_approved_at_null_df[\"order_status\"]==\"delivered\"])}')\n",
    "order_approved_at_null_df[order_approved_at_null_df[\"order_status\"]==\"delivered\"].head()"
   ]
  },
  {
   "cell_type": "code",
   "execution_count": 28,
   "metadata": {},
   "outputs": [
    {
     "name": "stdout",
     "output_type": "stream",
     "text": [
      "null order_approved_at & created: 5\n"
     ]
    },
    {
     "data": {
      "text/html": [
       "<div>\n",
       "<style scoped>\n",
       "    .dataframe tbody tr th:only-of-type {\n",
       "        vertical-align: middle;\n",
       "    }\n",
       "\n",
       "    .dataframe tbody tr th {\n",
       "        vertical-align: top;\n",
       "    }\n",
       "\n",
       "    .dataframe thead th {\n",
       "        text-align: right;\n",
       "    }\n",
       "</style>\n",
       "<table border=\"1\" class=\"dataframe\">\n",
       "  <thead>\n",
       "    <tr style=\"text-align: right;\">\n",
       "      <th></th>\n",
       "      <th>order_id</th>\n",
       "      <th>customer_id</th>\n",
       "      <th>order_status</th>\n",
       "      <th>order_purchase_timestamp</th>\n",
       "      <th>order_approved_at</th>\n",
       "      <th>order_delivered_carrier_date</th>\n",
       "      <th>order_delivered_customer_date</th>\n",
       "      <th>order_estimated_delivery_date</th>\n",
       "    </tr>\n",
       "  </thead>\n",
       "  <tbody>\n",
       "    <tr>\n",
       "      <th>7434</th>\n",
       "      <td>b5359909123fa03c50bdb0cfed07f098</td>\n",
       "      <td>438449d4af8980d107bf04571413a8e7</td>\n",
       "      <td>created</td>\n",
       "      <td>2017-12-05</td>\n",
       "      <td>NaN</td>\n",
       "      <td>NaN</td>\n",
       "      <td>NaN</td>\n",
       "      <td>2018-01-11 00:00:00</td>\n",
       "    </tr>\n",
       "    <tr>\n",
       "      <th>9238</th>\n",
       "      <td>dba5062fbda3af4fb6c33b1e040ca38f</td>\n",
       "      <td>964a6df3d9bdf60fe3e7b8bb69ed893a</td>\n",
       "      <td>created</td>\n",
       "      <td>2018-02-09</td>\n",
       "      <td>NaN</td>\n",
       "      <td>NaN</td>\n",
       "      <td>NaN</td>\n",
       "      <td>2018-03-07 00:00:00</td>\n",
       "    </tr>\n",
       "    <tr>\n",
       "      <th>21441</th>\n",
       "      <td>7a4df5d8cff4090e541401a20a22bb80</td>\n",
       "      <td>725e9c75605414b21fd8c8d5a1c2f1d6</td>\n",
       "      <td>created</td>\n",
       "      <td>2017-11-25</td>\n",
       "      <td>NaN</td>\n",
       "      <td>NaN</td>\n",
       "      <td>NaN</td>\n",
       "      <td>2017-12-12 00:00:00</td>\n",
       "    </tr>\n",
       "    <tr>\n",
       "      <th>55086</th>\n",
       "      <td>35de4050331c6c644cddc86f4f2d0d64</td>\n",
       "      <td>4ee64f4bfc542546f422da0aeb462853</td>\n",
       "      <td>created</td>\n",
       "      <td>2017-12-05</td>\n",
       "      <td>NaN</td>\n",
       "      <td>NaN</td>\n",
       "      <td>NaN</td>\n",
       "      <td>2018-01-08 00:00:00</td>\n",
       "    </tr>\n",
       "    <tr>\n",
       "      <th>58958</th>\n",
       "      <td>90ab3e7d52544ec7bc3363c82689965f</td>\n",
       "      <td>7d61b9f4f216052ba664f22e9c504ef1</td>\n",
       "      <td>created</td>\n",
       "      <td>2017-11-06</td>\n",
       "      <td>NaN</td>\n",
       "      <td>NaN</td>\n",
       "      <td>NaN</td>\n",
       "      <td>2017-12-01 00:00:00</td>\n",
       "    </tr>\n",
       "  </tbody>\n",
       "</table>\n",
       "</div>"
      ],
      "text/plain": [
       "                               order_id                       customer_id  \\\n",
       "7434   b5359909123fa03c50bdb0cfed07f098  438449d4af8980d107bf04571413a8e7   \n",
       "9238   dba5062fbda3af4fb6c33b1e040ca38f  964a6df3d9bdf60fe3e7b8bb69ed893a   \n",
       "21441  7a4df5d8cff4090e541401a20a22bb80  725e9c75605414b21fd8c8d5a1c2f1d6   \n",
       "55086  35de4050331c6c644cddc86f4f2d0d64  4ee64f4bfc542546f422da0aeb462853   \n",
       "58958  90ab3e7d52544ec7bc3363c82689965f  7d61b9f4f216052ba664f22e9c504ef1   \n",
       "\n",
       "      order_status order_purchase_timestamp order_approved_at  \\\n",
       "7434       created               2017-12-05               NaN   \n",
       "9238       created               2018-02-09               NaN   \n",
       "21441      created               2017-11-25               NaN   \n",
       "55086      created               2017-12-05               NaN   \n",
       "58958      created               2017-11-06               NaN   \n",
       "\n",
       "      order_delivered_carrier_date order_delivered_customer_date  \\\n",
       "7434                           NaN                           NaN   \n",
       "9238                           NaN                           NaN   \n",
       "21441                          NaN                           NaN   \n",
       "55086                          NaN                           NaN   \n",
       "58958                          NaN                           NaN   \n",
       "\n",
       "      order_estimated_delivery_date  \n",
       "7434            2018-01-11 00:00:00  \n",
       "9238            2018-03-07 00:00:00  \n",
       "21441           2017-12-12 00:00:00  \n",
       "55086           2018-01-08 00:00:00  \n",
       "58958           2017-12-01 00:00:00  "
      ]
     },
     "execution_count": 28,
     "metadata": {},
     "output_type": "execute_result"
    }
   ],
   "source": [
    "#were rare instances of data loss for the 'created status' as well\n",
    "print(f'null order_approved_at & created: {len(order_approved_at_null_df[order_approved_at_null_df[\"order_status\"]==\"created\"])}')\n",
    "order_approved_at_null_df[order_approved_at_null_df[\"order_status\"]==\"created\"].head()"
   ]
  },
  {
   "cell_type": "code",
   "execution_count": 29,
   "metadata": {},
   "outputs": [
    {
     "data": {
      "text/plain": [
       "shipped        0.373356\n",
       "canceled       0.208769\n",
       "unavailable    0.205396\n",
       "invoiced       0.105902\n",
       "processing     0.101518\n",
       "delivered      0.002698\n",
       "created        0.001686\n",
       "approved       0.000675\n",
       "Name: order_status, dtype: float64"
      ]
     },
     "execution_count": 29,
     "metadata": {},
     "output_type": "execute_result"
    }
   ],
   "source": [
    "#Now looking at our null values with order delivered dates\n",
    "null_order_delivered_customer_date_df = orders_df[orders_df[\"order_delivered_customer_date\"].isnull() == True]\n",
    "null_order_delivered_customer_date_df[\"order_status\"].value_counts(normalize=True)"
   ]
  },
  {
   "cell_type": "code",
   "execution_count": 30,
   "metadata": {},
   "outputs": [
    {
     "data": {
      "text/plain": [
       "unavailable    0.341559\n",
       "canceled       0.308469\n",
       "invoiced       0.176108\n",
       "processing     0.168817\n",
       "created        0.002804\n",
       "approved       0.001122\n",
       "delivered      0.001122\n",
       "Name: order_status, dtype: float64"
      ]
     },
     "execution_count": 30,
     "metadata": {},
     "output_type": "execute_result"
    }
   ],
   "source": [
    "null_order_delivered_carrier_date_df = orders_df[orders_df[\"order_delivered_carrier_date\"].isnull() == True]\n",
    "null_order_delivered_carrier_date_df[\"order_status\"].value_counts(normalize=True)"
   ]
  },
  {
   "cell_type": "code",
   "execution_count": 31,
   "metadata": {},
   "outputs": [],
   "source": [
    "#Again we see the order status's 'canceled' and 'unavailable' causing issues, we'll drop these from our joined dataset"
   ]
  },
  {
   "cell_type": "markdown",
   "metadata": {},
   "source": [
    "##### olist_order_payments_dataset"
   ]
  },
  {
   "cell_type": "code",
   "execution_count": 32,
   "metadata": {},
   "outputs": [
    {
     "data": {
      "text/plain": [
       "(103886, 5)"
      ]
     },
     "execution_count": 32,
     "metadata": {},
     "output_type": "execute_result"
    }
   ],
   "source": [
    "payments_df.shape"
   ]
  },
  {
   "cell_type": "code",
   "execution_count": 33,
   "metadata": {},
   "outputs": [
    {
     "name": "stdout",
     "output_type": "stream",
     "text": [
      "<class 'pandas.core.frame.DataFrame'>\n",
      "RangeIndex: 103886 entries, 0 to 103885\n",
      "Data columns (total 5 columns):\n",
      " #   Column                Non-Null Count   Dtype  \n",
      "---  ------                --------------   -----  \n",
      " 0   order_id              103886 non-null  object \n",
      " 1   payment_sequential    103886 non-null  int64  \n",
      " 2   payment_type          103886 non-null  object \n",
      " 3   payment_installments  103886 non-null  int64  \n",
      " 4   payment_value         103886 non-null  float64\n",
      "dtypes: float64(1), int64(2), object(2)\n",
      "memory usage: 4.0+ MB\n"
     ]
    }
   ],
   "source": [
    "#We see the data we need, 'payment_value' and 'order_id' in appropriate d types\n",
    "payments_df.info()"
   ]
  },
  {
   "cell_type": "code",
   "execution_count": 34,
   "metadata": {},
   "outputs": [
    {
     "data": {
      "text/plain": [
       "order_id                0\n",
       "payment_sequential      0\n",
       "payment_type            0\n",
       "payment_installments    0\n",
       "payment_value           0\n",
       "dtype: int64"
      ]
     },
     "execution_count": 34,
     "metadata": {},
     "output_type": "execute_result"
    }
   ],
   "source": [
    "#No null values\n",
    "payments_df.isnull().sum()"
   ]
  },
  {
   "cell_type": "code",
   "execution_count": 35,
   "metadata": {},
   "outputs": [
    {
     "data": {
      "text/html": [
       "<div>\n",
       "<style scoped>\n",
       "    .dataframe tbody tr th:only-of-type {\n",
       "        vertical-align: middle;\n",
       "    }\n",
       "\n",
       "    .dataframe tbody tr th {\n",
       "        vertical-align: top;\n",
       "    }\n",
       "\n",
       "    .dataframe thead th {\n",
       "        text-align: right;\n",
       "    }\n",
       "</style>\n",
       "<table border=\"1\" class=\"dataframe\">\n",
       "  <thead>\n",
       "    <tr style=\"text-align: right;\">\n",
       "      <th></th>\n",
       "      <th>order_id</th>\n",
       "      <th>payment_sequential</th>\n",
       "      <th>payment_type</th>\n",
       "      <th>payment_installments</th>\n",
       "      <th>payment_value</th>\n",
       "    </tr>\n",
       "  </thead>\n",
       "  <tbody>\n",
       "    <tr>\n",
       "      <th>0</th>\n",
       "      <td>b81ef226f3fe1789b1e8b2acac839d17</td>\n",
       "      <td>1</td>\n",
       "      <td>credit_card</td>\n",
       "      <td>8</td>\n",
       "      <td>99.33</td>\n",
       "    </tr>\n",
       "    <tr>\n",
       "      <th>1</th>\n",
       "      <td>a9810da82917af2d9aefd1278f1dcfa0</td>\n",
       "      <td>1</td>\n",
       "      <td>credit_card</td>\n",
       "      <td>1</td>\n",
       "      <td>24.39</td>\n",
       "    </tr>\n",
       "    <tr>\n",
       "      <th>2</th>\n",
       "      <td>25e8ea4e93396b6fa0d3dd708e76c1bd</td>\n",
       "      <td>1</td>\n",
       "      <td>credit_card</td>\n",
       "      <td>1</td>\n",
       "      <td>65.71</td>\n",
       "    </tr>\n",
       "    <tr>\n",
       "      <th>3</th>\n",
       "      <td>ba78997921bbcdc1373bb41e913ab953</td>\n",
       "      <td>1</td>\n",
       "      <td>credit_card</td>\n",
       "      <td>8</td>\n",
       "      <td>107.78</td>\n",
       "    </tr>\n",
       "    <tr>\n",
       "      <th>4</th>\n",
       "      <td>42fdf880ba16b47b59251dd489d4441a</td>\n",
       "      <td>1</td>\n",
       "      <td>credit_card</td>\n",
       "      <td>2</td>\n",
       "      <td>128.45</td>\n",
       "    </tr>\n",
       "  </tbody>\n",
       "</table>\n",
       "</div>"
      ],
      "text/plain": [
       "                           order_id  payment_sequential payment_type  \\\n",
       "0  b81ef226f3fe1789b1e8b2acac839d17                   1  credit_card   \n",
       "1  a9810da82917af2d9aefd1278f1dcfa0                   1  credit_card   \n",
       "2  25e8ea4e93396b6fa0d3dd708e76c1bd                   1  credit_card   \n",
       "3  ba78997921bbcdc1373bb41e913ab953                   1  credit_card   \n",
       "4  42fdf880ba16b47b59251dd489d4441a                   1  credit_card   \n",
       "\n",
       "   payment_installments  payment_value  \n",
       "0                     8          99.33  \n",
       "1                     1          24.39  \n",
       "2                     1          65.71  \n",
       "3                     8         107.78  \n",
       "4                     2         128.45  "
      ]
     },
     "execution_count": 35,
     "metadata": {},
     "output_type": "execute_result"
    }
   ],
   "source": [
    "#data set indexed by order_id\n",
    "payments_df.head()"
   ]
  },
  {
   "cell_type": "code",
   "execution_count": 36,
   "metadata": {},
   "outputs": [
    {
     "name": "stdout",
     "output_type": "stream",
     "text": [
      "duplicate order_ids: 4446\n",
      "unique order_ids: 99440\n"
     ]
    }
   ],
   "source": [
    "print(f'duplicate order_ids: {len(payments_df[\"order_id\"])-len(payments_df[\"order_id\"].unique())}')\n",
    "print(f'unique order_ids: {len(payments_df[\"order_id\"].unique())}')"
   ]
  },
  {
   "cell_type": "code",
   "execution_count": 37,
   "metadata": {},
   "outputs": [
    {
     "data": {
      "text/plain": [
       "fa65dad1b0e818e3ccc5cb0e39231352    29\n",
       "ccf804e764ed5650cd8759557269dc13    26\n",
       "285c2e15bebd4ac83635ccc563dc71f4    22\n",
       "895ab968e7bb0d5659d16cd74cd1650c    21\n",
       "fedcd9f7ccdc8cba3a18defedd1a5547    19\n",
       "                                    ..\n",
       "6d2a30c9b7dcee3ed507dc9a601f99e7     1\n",
       "a7737f6d9208dd56ea498a322ed3c37f     1\n",
       "646e62df54f3e236eb6d5ff3b31429b8     1\n",
       "e115da7a49ec2acf622e1f31da65cfb9     1\n",
       "28bbae6599b09d39ca406b747b6632b1     1\n",
       "Name: order_id, Length: 99440, dtype: int64"
      ]
     },
     "execution_count": 37,
     "metadata": {},
     "output_type": "execute_result"
    }
   ],
   "source": [
    "#order_id's repeat in our data set\n",
    "payments_df['order_id'].value_counts()"
   ]
  },
  {
   "cell_type": "code",
   "execution_count": 38,
   "metadata": {},
   "outputs": [
    {
     "data": {
      "text/html": [
       "<div>\n",
       "<style scoped>\n",
       "    .dataframe tbody tr th:only-of-type {\n",
       "        vertical-align: middle;\n",
       "    }\n",
       "\n",
       "    .dataframe tbody tr th {\n",
       "        vertical-align: top;\n",
       "    }\n",
       "\n",
       "    .dataframe thead th {\n",
       "        text-align: right;\n",
       "    }\n",
       "</style>\n",
       "<table border=\"1\" class=\"dataframe\">\n",
       "  <thead>\n",
       "    <tr style=\"text-align: right;\">\n",
       "      <th></th>\n",
       "      <th>order_id</th>\n",
       "      <th>payment_sequential</th>\n",
       "      <th>payment_type</th>\n",
       "      <th>payment_installments</th>\n",
       "      <th>payment_value</th>\n",
       "    </tr>\n",
       "  </thead>\n",
       "  <tbody>\n",
       "    <tr>\n",
       "      <th>14321</th>\n",
       "      <td>fa65dad1b0e818e3ccc5cb0e39231352</td>\n",
       "      <td>1</td>\n",
       "      <td>voucher</td>\n",
       "      <td>1</td>\n",
       "      <td>3.71</td>\n",
       "    </tr>\n",
       "    <tr>\n",
       "      <th>23074</th>\n",
       "      <td>fa65dad1b0e818e3ccc5cb0e39231352</td>\n",
       "      <td>2</td>\n",
       "      <td>voucher</td>\n",
       "      <td>1</td>\n",
       "      <td>8.51</td>\n",
       "    </tr>\n",
       "    <tr>\n",
       "      <th>65641</th>\n",
       "      <td>fa65dad1b0e818e3ccc5cb0e39231352</td>\n",
       "      <td>3</td>\n",
       "      <td>voucher</td>\n",
       "      <td>1</td>\n",
       "      <td>2.95</td>\n",
       "    </tr>\n",
       "    <tr>\n",
       "      <th>9985</th>\n",
       "      <td>fa65dad1b0e818e3ccc5cb0e39231352</td>\n",
       "      <td>4</td>\n",
       "      <td>voucher</td>\n",
       "      <td>1</td>\n",
       "      <td>29.16</td>\n",
       "    </tr>\n",
       "    <tr>\n",
       "      <th>28330</th>\n",
       "      <td>fa65dad1b0e818e3ccc5cb0e39231352</td>\n",
       "      <td>5</td>\n",
       "      <td>voucher</td>\n",
       "      <td>1</td>\n",
       "      <td>0.66</td>\n",
       "    </tr>\n",
       "  </tbody>\n",
       "</table>\n",
       "</div>"
      ],
      "text/plain": [
       "                               order_id  payment_sequential payment_type  \\\n",
       "14321  fa65dad1b0e818e3ccc5cb0e39231352                   1      voucher   \n",
       "23074  fa65dad1b0e818e3ccc5cb0e39231352                   2      voucher   \n",
       "65641  fa65dad1b0e818e3ccc5cb0e39231352                   3      voucher   \n",
       "9985   fa65dad1b0e818e3ccc5cb0e39231352                   4      voucher   \n",
       "28330  fa65dad1b0e818e3ccc5cb0e39231352                   5      voucher   \n",
       "\n",
       "       payment_installments  payment_value  \n",
       "14321                     1           3.71  \n",
       "23074                     1           8.51  \n",
       "65641                     1           2.95  \n",
       "9985                      1          29.16  \n",
       "28330                     1           0.66  "
      ]
     },
     "execution_count": 38,
     "metadata": {},
     "output_type": "execute_result"
    }
   ],
   "source": [
    "#Exploring an order_id with many instances\n",
    "#Order_ids represent unique orders and the duplicates in this data-set represent intalment type payments\n",
    "payments_df[payments_df['order_id'] == \"fa65dad1b0e818e3ccc5cb0e39231352\"].sort_values(by=[\"payment_sequential\"],ascending=True).head()"
   ]
  },
  {
   "cell_type": "code",
   "execution_count": 39,
   "metadata": {},
   "outputs": [
    {
     "data": {
      "text/html": [
       "<div>\n",
       "<style scoped>\n",
       "    .dataframe tbody tr th:only-of-type {\n",
       "        vertical-align: middle;\n",
       "    }\n",
       "\n",
       "    .dataframe tbody tr th {\n",
       "        vertical-align: top;\n",
       "    }\n",
       "\n",
       "    .dataframe thead th {\n",
       "        text-align: right;\n",
       "    }\n",
       "</style>\n",
       "<table border=\"1\" class=\"dataframe\">\n",
       "  <thead>\n",
       "    <tr style=\"text-align: right;\">\n",
       "      <th></th>\n",
       "      <th>order_id</th>\n",
       "      <th>payment_sequential</th>\n",
       "      <th>payment_type</th>\n",
       "      <th>payment_installments</th>\n",
       "      <th>payment_value</th>\n",
       "    </tr>\n",
       "  </thead>\n",
       "  <tbody>\n",
       "    <tr>\n",
       "      <th>63398</th>\n",
       "      <td>285c2e15bebd4ac83635ccc563dc71f4</td>\n",
       "      <td>1</td>\n",
       "      <td>credit_card</td>\n",
       "      <td>1</td>\n",
       "      <td>1.62</td>\n",
       "    </tr>\n",
       "    <tr>\n",
       "      <th>51943</th>\n",
       "      <td>285c2e15bebd4ac83635ccc563dc71f4</td>\n",
       "      <td>2</td>\n",
       "      <td>voucher</td>\n",
       "      <td>1</td>\n",
       "      <td>1.24</td>\n",
       "    </tr>\n",
       "    <tr>\n",
       "      <th>75172</th>\n",
       "      <td>285c2e15bebd4ac83635ccc563dc71f4</td>\n",
       "      <td>3</td>\n",
       "      <td>voucher</td>\n",
       "      <td>1</td>\n",
       "      <td>1.40</td>\n",
       "    </tr>\n",
       "    <tr>\n",
       "      <th>81583</th>\n",
       "      <td>285c2e15bebd4ac83635ccc563dc71f4</td>\n",
       "      <td>4</td>\n",
       "      <td>voucher</td>\n",
       "      <td>1</td>\n",
       "      <td>2.89</td>\n",
       "    </tr>\n",
       "    <tr>\n",
       "      <th>76134</th>\n",
       "      <td>285c2e15bebd4ac83635ccc563dc71f4</td>\n",
       "      <td>5</td>\n",
       "      <td>voucher</td>\n",
       "      <td>1</td>\n",
       "      <td>1.75</td>\n",
       "    </tr>\n",
       "  </tbody>\n",
       "</table>\n",
       "</div>"
      ],
      "text/plain": [
       "                               order_id  payment_sequential payment_type  \\\n",
       "63398  285c2e15bebd4ac83635ccc563dc71f4                   1  credit_card   \n",
       "51943  285c2e15bebd4ac83635ccc563dc71f4                   2      voucher   \n",
       "75172  285c2e15bebd4ac83635ccc563dc71f4                   3      voucher   \n",
       "81583  285c2e15bebd4ac83635ccc563dc71f4                   4      voucher   \n",
       "76134  285c2e15bebd4ac83635ccc563dc71f4                   5      voucher   \n",
       "\n",
       "       payment_installments  payment_value  \n",
       "63398                     1           1.62  \n",
       "51943                     1           1.24  \n",
       "75172                     1           1.40  \n",
       "81583                     1           2.89  \n",
       "76134                     1           1.75  "
      ]
     },
     "execution_count": 39,
     "metadata": {},
     "output_type": "execute_result"
    }
   ],
   "source": [
    "payments_df[payments_df['order_id'] == \"285c2e15bebd4ac83635ccc563dc71f4\"].sort_values(by=[\"payment_sequential\"],ascending=True).head()"
   ]
  },
  {
   "cell_type": "code",
   "execution_count": 40,
   "metadata": {},
   "outputs": [
    {
     "data": {
      "text/html": [
       "<div>\n",
       "<style scoped>\n",
       "    .dataframe tbody tr th:only-of-type {\n",
       "        vertical-align: middle;\n",
       "    }\n",
       "\n",
       "    .dataframe tbody tr th {\n",
       "        vertical-align: top;\n",
       "    }\n",
       "\n",
       "    .dataframe thead th {\n",
       "        text-align: right;\n",
       "    }\n",
       "</style>\n",
       "<table border=\"1\" class=\"dataframe\">\n",
       "  <thead>\n",
       "    <tr style=\"text-align: right;\">\n",
       "      <th></th>\n",
       "      <th>payment_sequential</th>\n",
       "      <th>payment_installments</th>\n",
       "      <th>payment_value</th>\n",
       "    </tr>\n",
       "  </thead>\n",
       "  <tbody>\n",
       "    <tr>\n",
       "      <th>count</th>\n",
       "      <td>103886.000000</td>\n",
       "      <td>103886.000000</td>\n",
       "      <td>103886.000000</td>\n",
       "    </tr>\n",
       "    <tr>\n",
       "      <th>mean</th>\n",
       "      <td>1.092679</td>\n",
       "      <td>2.853349</td>\n",
       "      <td>154.100380</td>\n",
       "    </tr>\n",
       "    <tr>\n",
       "      <th>std</th>\n",
       "      <td>0.706584</td>\n",
       "      <td>2.687051</td>\n",
       "      <td>217.494064</td>\n",
       "    </tr>\n",
       "    <tr>\n",
       "      <th>min</th>\n",
       "      <td>1.000000</td>\n",
       "      <td>0.000000</td>\n",
       "      <td>0.000000</td>\n",
       "    </tr>\n",
       "    <tr>\n",
       "      <th>25%</th>\n",
       "      <td>1.000000</td>\n",
       "      <td>1.000000</td>\n",
       "      <td>56.790000</td>\n",
       "    </tr>\n",
       "    <tr>\n",
       "      <th>50%</th>\n",
       "      <td>1.000000</td>\n",
       "      <td>1.000000</td>\n",
       "      <td>100.000000</td>\n",
       "    </tr>\n",
       "    <tr>\n",
       "      <th>75%</th>\n",
       "      <td>1.000000</td>\n",
       "      <td>4.000000</td>\n",
       "      <td>171.837500</td>\n",
       "    </tr>\n",
       "    <tr>\n",
       "      <th>max</th>\n",
       "      <td>29.000000</td>\n",
       "      <td>24.000000</td>\n",
       "      <td>13664.080000</td>\n",
       "    </tr>\n",
       "  </tbody>\n",
       "</table>\n",
       "</div>"
      ],
      "text/plain": [
       "       payment_sequential  payment_installments  payment_value\n",
       "count       103886.000000         103886.000000  103886.000000\n",
       "mean             1.092679              2.853349     154.100380\n",
       "std              0.706584              2.687051     217.494064\n",
       "min              1.000000              0.000000       0.000000\n",
       "25%              1.000000              1.000000      56.790000\n",
       "50%              1.000000              1.000000     100.000000\n",
       "75%              1.000000              4.000000     171.837500\n",
       "max             29.000000             24.000000   13664.080000"
      ]
     },
     "execution_count": 40,
     "metadata": {},
     "output_type": "execute_result"
    }
   ],
   "source": [
    "#We have some major right outliers in `payments_value`\n",
    "payments_df.describe()"
   ]
  },
  {
   "cell_type": "code",
   "execution_count": 41,
   "metadata": {},
   "outputs": [
    {
     "data": {
      "image/png": "[encoded data removed]",
      "text/plain": [
       "<Figure size 432x288 with 1 Axes>"
      ]
     },
     "metadata": {
      "needs_background": "light"
     },
     "output_type": "display_data"
    }
   ],
   "source": [
    "plt.hist(payments_df[\"payment_value\"]);"
   ]
  },
  {
   "cell_type": "code",
   "execution_count": 42,
   "metadata": {},
   "outputs": [
    {
     "data": {
      "text/html": [
       "<div>\n",
       "<style scoped>\n",
       "    .dataframe tbody tr th:only-of-type {\n",
       "        vertical-align: middle;\n",
       "    }\n",
       "\n",
       "    .dataframe tbody tr th {\n",
       "        vertical-align: top;\n",
       "    }\n",
       "\n",
       "    .dataframe thead th {\n",
       "        text-align: right;\n",
       "    }\n",
       "</style>\n",
       "<table border=\"1\" class=\"dataframe\">\n",
       "  <thead>\n",
       "    <tr style=\"text-align: right;\">\n",
       "      <th></th>\n",
       "      <th>order_id</th>\n",
       "      <th>payment_sequential</th>\n",
       "      <th>payment_type</th>\n",
       "      <th>payment_installments</th>\n",
       "      <th>payment_value</th>\n",
       "    </tr>\n",
       "  </thead>\n",
       "  <tbody>\n",
       "    <tr>\n",
       "      <th>57411</th>\n",
       "      <td>00b1cb0320190ca0daa2c88b35206009</td>\n",
       "      <td>1</td>\n",
       "      <td>not_defined</td>\n",
       "      <td>1</td>\n",
       "      <td>0.00</td>\n",
       "    </tr>\n",
       "    <tr>\n",
       "      <th>100766</th>\n",
       "      <td>b23878b3e8eb4d25a158f57d96331b18</td>\n",
       "      <td>4</td>\n",
       "      <td>voucher</td>\n",
       "      <td>1</td>\n",
       "      <td>0.00</td>\n",
       "    </tr>\n",
       "    <tr>\n",
       "      <th>51280</th>\n",
       "      <td>4637ca194b6387e2d538dc89b124b0ee</td>\n",
       "      <td>1</td>\n",
       "      <td>not_defined</td>\n",
       "      <td>1</td>\n",
       "      <td>0.00</td>\n",
       "    </tr>\n",
       "    <tr>\n",
       "      <th>36822</th>\n",
       "      <td>fa65dad1b0e818e3ccc5cb0e39231352</td>\n",
       "      <td>14</td>\n",
       "      <td>voucher</td>\n",
       "      <td>1</td>\n",
       "      <td>0.00</td>\n",
       "    </tr>\n",
       "    <tr>\n",
       "      <th>77885</th>\n",
       "      <td>fa65dad1b0e818e3ccc5cb0e39231352</td>\n",
       "      <td>13</td>\n",
       "      <td>voucher</td>\n",
       "      <td>1</td>\n",
       "      <td>0.00</td>\n",
       "    </tr>\n",
       "    <tr>\n",
       "      <th>...</th>\n",
       "      <td>...</td>\n",
       "      <td>...</td>\n",
       "      <td>...</td>\n",
       "      <td>...</td>\n",
       "      <td>...</td>\n",
       "    </tr>\n",
       "    <tr>\n",
       "      <th>85539</th>\n",
       "      <td>f5136e38d1a14a4dbd87dff67da82701</td>\n",
       "      <td>1</td>\n",
       "      <td>boleto</td>\n",
       "      <td>1</td>\n",
       "      <td>6726.66</td>\n",
       "    </tr>\n",
       "    <tr>\n",
       "      <th>49581</th>\n",
       "      <td>fefacc66af859508bf1a7934eab1e97f</td>\n",
       "      <td>1</td>\n",
       "      <td>boleto</td>\n",
       "      <td>1</td>\n",
       "      <td>6922.21</td>\n",
       "    </tr>\n",
       "    <tr>\n",
       "      <th>41419</th>\n",
       "      <td>0812eb902a67711a1cb742b3cdaa65ae</td>\n",
       "      <td>1</td>\n",
       "      <td>credit_card</td>\n",
       "      <td>8</td>\n",
       "      <td>6929.31</td>\n",
       "    </tr>\n",
       "    <tr>\n",
       "      <th>34370</th>\n",
       "      <td>736e1922ae60d0d6a89247b851902527</td>\n",
       "      <td>1</td>\n",
       "      <td>boleto</td>\n",
       "      <td>1</td>\n",
       "      <td>7274.88</td>\n",
       "    </tr>\n",
       "    <tr>\n",
       "      <th>52107</th>\n",
       "      <td>03caa2c082116e1d31e67e9ae3700499</td>\n",
       "      <td>1</td>\n",
       "      <td>credit_card</td>\n",
       "      <td>1</td>\n",
       "      <td>13664.08</td>\n",
       "    </tr>\n",
       "  </tbody>\n",
       "</table>\n",
       "<p>103886 rows × 5 columns</p>\n",
       "</div>"
      ],
      "text/plain": [
       "                                order_id  payment_sequential payment_type  \\\n",
       "57411   00b1cb0320190ca0daa2c88b35206009                   1  not_defined   \n",
       "100766  b23878b3e8eb4d25a158f57d96331b18                   4      voucher   \n",
       "51280   4637ca194b6387e2d538dc89b124b0ee                   1  not_defined   \n",
       "36822   fa65dad1b0e818e3ccc5cb0e39231352                  14      voucher   \n",
       "77885   fa65dad1b0e818e3ccc5cb0e39231352                  13      voucher   \n",
       "...                                  ...                 ...          ...   \n",
       "85539   f5136e38d1a14a4dbd87dff67da82701                   1       boleto   \n",
       "49581   fefacc66af859508bf1a7934eab1e97f                   1       boleto   \n",
       "41419   0812eb902a67711a1cb742b3cdaa65ae                   1  credit_card   \n",
       "34370   736e1922ae60d0d6a89247b851902527                   1       boleto   \n",
       "52107   03caa2c082116e1d31e67e9ae3700499                   1  credit_card   \n",
       "\n",
       "        payment_installments  payment_value  \n",
       "57411                      1           0.00  \n",
       "100766                     1           0.00  \n",
       "51280                      1           0.00  \n",
       "36822                      1           0.00  \n",
       "77885                      1           0.00  \n",
       "...                      ...            ...  \n",
       "85539                      1        6726.66  \n",
       "49581                      1        6922.21  \n",
       "41419                      8        6929.31  \n",
       "34370                      1        7274.88  \n",
       "52107                      1       13664.08  \n",
       "\n",
       "[103886 rows x 5 columns]"
      ]
     },
     "execution_count": 42,
     "metadata": {},
     "output_type": "execute_result"
    }
   ],
   "source": [
    "#We also have some payment_value equal to zero\n",
    "payments_df.sort_values([\"payment_value\"])"
   ]
  },
  {
   "cell_type": "markdown",
   "metadata": {},
   "source": [
    "#### Pre-Join Data Cleaning\n",
    "- **customers_dataset** Drop all but `customer_unique_id` and `customer_id`\n",
    "- **payments_df**: group by `order_id` and sum to get total `payment_value` per unique order\n",
    "- **payments_df**: drop all but the `order_id` and  `payment_value` column"
   ]
  },
  {
   "cell_type": "code",
   "execution_count": 43,
   "metadata": {},
   "outputs": [
    {
     "data": {
      "text/html": [
       "<div>\n",
       "<style scoped>\n",
       "    .dataframe tbody tr th:only-of-type {\n",
       "        vertical-align: middle;\n",
       "    }\n",
       "\n",
       "    .dataframe tbody tr th {\n",
       "        vertical-align: top;\n",
       "    }\n",
       "\n",
       "    .dataframe thead th {\n",
       "        text-align: right;\n",
       "    }\n",
       "</style>\n",
       "<table border=\"1\" class=\"dataframe\">\n",
       "  <thead>\n",
       "    <tr style=\"text-align: right;\">\n",
       "      <th></th>\n",
       "      <th>customer_unique_id</th>\n",
       "    </tr>\n",
       "    <tr>\n",
       "      <th>customer_id</th>\n",
       "      <th></th>\n",
       "    </tr>\n",
       "  </thead>\n",
       "  <tbody>\n",
       "    <tr>\n",
       "      <th>06b8999e2fba1a1fbc88172c00ba8bc7</th>\n",
       "      <td>861eff4711a542e4b93843c6dd7febb0</td>\n",
       "    </tr>\n",
       "    <tr>\n",
       "      <th>18955e83d337fd6b2def6b18a428ac77</th>\n",
       "      <td>290c77bc529b7ac935b93aa66c333dc3</td>\n",
       "    </tr>\n",
       "    <tr>\n",
       "      <th>4e7b3e00288586ebd08712fdd0374a03</th>\n",
       "      <td>060e732b5b29e8181a18229c7b0b2b5e</td>\n",
       "    </tr>\n",
       "    <tr>\n",
       "      <th>b2b6027bc5c5109e529d4dc6358b12c3</th>\n",
       "      <td>259dac757896d24d7702b9acbbff3f3c</td>\n",
       "    </tr>\n",
       "    <tr>\n",
       "      <th>4f2d8ab171c80ec8364f7c12e35b23ad</th>\n",
       "      <td>345ecd01c38d18a9036ed96c73b8d066</td>\n",
       "    </tr>\n",
       "    <tr>\n",
       "      <th>...</th>\n",
       "      <td>...</td>\n",
       "    </tr>\n",
       "    <tr>\n",
       "      <th>17ddf5dd5d51696bb3d7c6291687be6f</th>\n",
       "      <td>1a29b476fee25c95fbafc67c5ac95cf8</td>\n",
       "    </tr>\n",
       "    <tr>\n",
       "      <th>e7b71a9017aa05c9a7fd292d714858e8</th>\n",
       "      <td>d52a67c98be1cf6a5c84435bd38d095d</td>\n",
       "    </tr>\n",
       "    <tr>\n",
       "      <th>5e28dfe12db7fb50a4b2f691faecea5e</th>\n",
       "      <td>e9f50caf99f032f0bf3c55141f019d99</td>\n",
       "    </tr>\n",
       "    <tr>\n",
       "      <th>56b18e2166679b8a959d72dd06da27f9</th>\n",
       "      <td>73c2643a0a458b49f58cea58833b192e</td>\n",
       "    </tr>\n",
       "    <tr>\n",
       "      <th>274fa6071e5e17fe303b9748641082c8</th>\n",
       "      <td>84732c5050c01db9b23e19ba39899398</td>\n",
       "    </tr>\n",
       "  </tbody>\n",
       "</table>\n",
       "<p>99441 rows × 1 columns</p>\n",
       "</div>"
      ],
      "text/plain": [
       "                                                customer_unique_id\n",
       "customer_id                                                       \n",
       "06b8999e2fba1a1fbc88172c00ba8bc7  861eff4711a542e4b93843c6dd7febb0\n",
       "18955e83d337fd6b2def6b18a428ac77  290c77bc529b7ac935b93aa66c333dc3\n",
       "4e7b3e00288586ebd08712fdd0374a03  060e732b5b29e8181a18229c7b0b2b5e\n",
       "b2b6027bc5c5109e529d4dc6358b12c3  259dac757896d24d7702b9acbbff3f3c\n",
       "4f2d8ab171c80ec8364f7c12e35b23ad  345ecd01c38d18a9036ed96c73b8d066\n",
       "...                                                            ...\n",
       "17ddf5dd5d51696bb3d7c6291687be6f  1a29b476fee25c95fbafc67c5ac95cf8\n",
       "e7b71a9017aa05c9a7fd292d714858e8  d52a67c98be1cf6a5c84435bd38d095d\n",
       "5e28dfe12db7fb50a4b2f691faecea5e  e9f50caf99f032f0bf3c55141f019d99\n",
       "56b18e2166679b8a959d72dd06da27f9  73c2643a0a458b49f58cea58833b192e\n",
       "274fa6071e5e17fe303b9748641082c8  84732c5050c01db9b23e19ba39899398\n",
       "\n",
       "[99441 rows x 1 columns]"
      ]
     },
     "execution_count": 43,
     "metadata": {},
     "output_type": "execute_result"
    }
   ],
   "source": [
    "#Drop all but `customer_unique_id` and `customer_id`\n",
    "customers_df_cleaned = customers_df.drop(columns=[\"customer_zip_code_prefix\",\"customer_city\",\"customer_state\"])\n",
    "#Reset our index\n",
    "customers_df_cleaned.set_index('customer_id',inplace=True)\n",
    "customers_df_cleaned"
   ]
  },
  {
   "cell_type": "code",
   "execution_count": 44,
   "metadata": {},
   "outputs": [],
   "source": [
    "#group by `order_id` and sum to get total `payment_value` per unique order\n",
    "payments_df_cleaned = payments_df.groupby(\"order_id\",).sum()"
   ]
  },
  {
   "cell_type": "code",
   "execution_count": 45,
   "metadata": {},
   "outputs": [
    {
     "data": {
      "text/html": [
       "<div>\n",
       "<style scoped>\n",
       "    .dataframe tbody tr th:only-of-type {\n",
       "        vertical-align: middle;\n",
       "    }\n",
       "\n",
       "    .dataframe tbody tr th {\n",
       "        vertical-align: top;\n",
       "    }\n",
       "\n",
       "    .dataframe thead th {\n",
       "        text-align: right;\n",
       "    }\n",
       "</style>\n",
       "<table border=\"1\" class=\"dataframe\">\n",
       "  <thead>\n",
       "    <tr style=\"text-align: right;\">\n",
       "      <th></th>\n",
       "      <th>payment_value</th>\n",
       "    </tr>\n",
       "    <tr>\n",
       "      <th>order_id</th>\n",
       "      <th></th>\n",
       "    </tr>\n",
       "  </thead>\n",
       "  <tbody>\n",
       "    <tr>\n",
       "      <th>00010242fe8c5a6d1ba2dd792cb16214</th>\n",
       "      <td>72.19</td>\n",
       "    </tr>\n",
       "    <tr>\n",
       "      <th>00018f77f2f0320c557190d7a144bdd3</th>\n",
       "      <td>259.83</td>\n",
       "    </tr>\n",
       "    <tr>\n",
       "      <th>000229ec398224ef6ca0657da4fc703e</th>\n",
       "      <td>216.87</td>\n",
       "    </tr>\n",
       "    <tr>\n",
       "      <th>00024acbcdf0a6daa1e931b038114c75</th>\n",
       "      <td>25.78</td>\n",
       "    </tr>\n",
       "    <tr>\n",
       "      <th>00042b26cf59d7ce69dfabb4e55b4fd9</th>\n",
       "      <td>218.04</td>\n",
       "    </tr>\n",
       "    <tr>\n",
       "      <th>...</th>\n",
       "      <td>...</td>\n",
       "    </tr>\n",
       "    <tr>\n",
       "      <th>fffc94f6ce00a00581880bf54a75a037</th>\n",
       "      <td>343.40</td>\n",
       "    </tr>\n",
       "    <tr>\n",
       "      <th>fffcd46ef2263f404302a634eb57f7eb</th>\n",
       "      <td>386.53</td>\n",
       "    </tr>\n",
       "    <tr>\n",
       "      <th>fffce4705a9662cd70adb13d4a31832d</th>\n",
       "      <td>116.85</td>\n",
       "    </tr>\n",
       "    <tr>\n",
       "      <th>fffe18544ffabc95dfada21779c9644f</th>\n",
       "      <td>64.71</td>\n",
       "    </tr>\n",
       "    <tr>\n",
       "      <th>fffe41c64501cc87c801fd61db3f6244</th>\n",
       "      <td>55.79</td>\n",
       "    </tr>\n",
       "  </tbody>\n",
       "</table>\n",
       "<p>99440 rows × 1 columns</p>\n",
       "</div>"
      ],
      "text/plain": [
       "                                  payment_value\n",
       "order_id                                       \n",
       "00010242fe8c5a6d1ba2dd792cb16214          72.19\n",
       "00018f77f2f0320c557190d7a144bdd3         259.83\n",
       "000229ec398224ef6ca0657da4fc703e         216.87\n",
       "00024acbcdf0a6daa1e931b038114c75          25.78\n",
       "00042b26cf59d7ce69dfabb4e55b4fd9         218.04\n",
       "...                                         ...\n",
       "fffc94f6ce00a00581880bf54a75a037         343.40\n",
       "fffcd46ef2263f404302a634eb57f7eb         386.53\n",
       "fffce4705a9662cd70adb13d4a31832d         116.85\n",
       "fffe18544ffabc95dfada21779c9644f          64.71\n",
       "fffe41c64501cc87c801fd61db3f6244          55.79\n",
       "\n",
       "[99440 rows x 1 columns]"
      ]
     },
     "execution_count": 45,
     "metadata": {},
     "output_type": "execute_result"
    }
   ],
   "source": [
    "#drop all but the `order_id` and  `payment_value` column\n",
    "payments_df_cleaned = payments_df_cleaned[[\"payment_value\"]]\n",
    "payments_df_cleaned "
   ]
  },
  {
   "cell_type": "code",
   "execution_count": 46,
   "metadata": {},
   "outputs": [
    {
     "data": {
      "text/html": [
       "<div>\n",
       "<style scoped>\n",
       "    .dataframe tbody tr th:only-of-type {\n",
       "        vertical-align: middle;\n",
       "    }\n",
       "\n",
       "    .dataframe tbody tr th {\n",
       "        vertical-align: top;\n",
       "    }\n",
       "\n",
       "    .dataframe thead th {\n",
       "        text-align: right;\n",
       "    }\n",
       "</style>\n",
       "<table border=\"1\" class=\"dataframe\">\n",
       "  <thead>\n",
       "    <tr style=\"text-align: right;\">\n",
       "      <th></th>\n",
       "      <th>order_id</th>\n",
       "      <th>order_status</th>\n",
       "      <th>order_purchase_timestamp</th>\n",
       "      <th>order_approved_at</th>\n",
       "      <th>order_delivered_carrier_date</th>\n",
       "      <th>order_delivered_customer_date</th>\n",
       "      <th>order_estimated_delivery_date</th>\n",
       "    </tr>\n",
       "    <tr>\n",
       "      <th>customer_id</th>\n",
       "      <th></th>\n",
       "      <th></th>\n",
       "      <th></th>\n",
       "      <th></th>\n",
       "      <th></th>\n",
       "      <th></th>\n",
       "      <th></th>\n",
       "    </tr>\n",
       "  </thead>\n",
       "  <tbody>\n",
       "    <tr>\n",
       "      <th>9ef432eb6251297304e76186b10a928d</th>\n",
       "      <td>e481f51cbdc54678b7cc49136f2d6af7</td>\n",
       "      <td>delivered</td>\n",
       "      <td>2017-10-02</td>\n",
       "      <td>2017-10-02 11:07:15</td>\n",
       "      <td>2017-10-04 19:55:00</td>\n",
       "      <td>2017-10-10 21:25:13</td>\n",
       "      <td>2017-10-18 00:00:00</td>\n",
       "    </tr>\n",
       "    <tr>\n",
       "      <th>b0830fb4747a6c6d20dea0b8c802d7ef</th>\n",
       "      <td>53cdb2fc8bc7dce0b6741e2150273451</td>\n",
       "      <td>delivered</td>\n",
       "      <td>2018-07-24</td>\n",
       "      <td>2018-07-26 03:24:27</td>\n",
       "      <td>2018-07-26 14:31:00</td>\n",
       "      <td>2018-08-07 15:27:45</td>\n",
       "      <td>2018-08-13 00:00:00</td>\n",
       "    </tr>\n",
       "    <tr>\n",
       "      <th>41ce2a54c0b03bf3443c3d931a367089</th>\n",
       "      <td>47770eb9100c2d0c44946d9cf07ec65d</td>\n",
       "      <td>delivered</td>\n",
       "      <td>2018-08-08</td>\n",
       "      <td>2018-08-08 08:55:23</td>\n",
       "      <td>2018-08-08 13:50:00</td>\n",
       "      <td>2018-08-17 18:06:29</td>\n",
       "      <td>2018-09-04 00:00:00</td>\n",
       "    </tr>\n",
       "    <tr>\n",
       "      <th>f88197465ea7920adcdbec7375364d82</th>\n",
       "      <td>949d5b44dbf5de918fe9c16f97b45f8a</td>\n",
       "      <td>delivered</td>\n",
       "      <td>2017-11-18</td>\n",
       "      <td>2017-11-18 19:45:59</td>\n",
       "      <td>2017-11-22 13:39:59</td>\n",
       "      <td>2017-12-02 00:28:42</td>\n",
       "      <td>2017-12-15 00:00:00</td>\n",
       "    </tr>\n",
       "    <tr>\n",
       "      <th>8ab97904e6daea8866dbdbc4fb7aad2c</th>\n",
       "      <td>ad21c59c0840e6cb83a9ceb5573f8159</td>\n",
       "      <td>delivered</td>\n",
       "      <td>2018-02-13</td>\n",
       "      <td>2018-02-13 22:20:29</td>\n",
       "      <td>2018-02-14 19:46:34</td>\n",
       "      <td>2018-02-16 18:17:02</td>\n",
       "      <td>2018-02-26 00:00:00</td>\n",
       "    </tr>\n",
       "    <tr>\n",
       "      <th>...</th>\n",
       "      <td>...</td>\n",
       "      <td>...</td>\n",
       "      <td>...</td>\n",
       "      <td>...</td>\n",
       "      <td>...</td>\n",
       "      <td>...</td>\n",
       "      <td>...</td>\n",
       "    </tr>\n",
       "    <tr>\n",
       "      <th>39bd1228ee8140590ac3aca26f2dfe00</th>\n",
       "      <td>9c5dedf39a927c1b2549525ed64a053c</td>\n",
       "      <td>delivered</td>\n",
       "      <td>2017-03-09</td>\n",
       "      <td>2017-03-09 09:54:05</td>\n",
       "      <td>2017-03-10 11:18:03</td>\n",
       "      <td>2017-03-17 15:08:01</td>\n",
       "      <td>2017-03-28 00:00:00</td>\n",
       "    </tr>\n",
       "    <tr>\n",
       "      <th>1fca14ff2861355f6e5f14306ff977a7</th>\n",
       "      <td>63943bddc261676b46f01ca7ac2f7bd8</td>\n",
       "      <td>delivered</td>\n",
       "      <td>2018-02-06</td>\n",
       "      <td>2018-02-06 13:10:37</td>\n",
       "      <td>2018-02-07 23:22:42</td>\n",
       "      <td>2018-02-28 17:37:56</td>\n",
       "      <td>2018-03-02 00:00:00</td>\n",
       "    </tr>\n",
       "    <tr>\n",
       "      <th>1aa71eb042121263aafbe80c1b562c9c</th>\n",
       "      <td>83c1379a015df1e13d02aae0204711ab</td>\n",
       "      <td>delivered</td>\n",
       "      <td>2017-08-27</td>\n",
       "      <td>2017-08-27 15:04:16</td>\n",
       "      <td>2017-08-28 20:52:26</td>\n",
       "      <td>2017-09-21 11:24:17</td>\n",
       "      <td>2017-09-27 00:00:00</td>\n",
       "    </tr>\n",
       "    <tr>\n",
       "      <th>b331b74b18dc79bcdf6532d51e1637c1</th>\n",
       "      <td>11c177c8e97725db2631073c19f07b62</td>\n",
       "      <td>delivered</td>\n",
       "      <td>2018-01-08</td>\n",
       "      <td>2018-01-08 21:36:21</td>\n",
       "      <td>2018-01-12 15:35:03</td>\n",
       "      <td>2018-01-25 23:32:54</td>\n",
       "      <td>2018-02-15 00:00:00</td>\n",
       "    </tr>\n",
       "    <tr>\n",
       "      <th>edb027a75a1449115f6b43211ae02a24</th>\n",
       "      <td>66dea50a8b16d9b4dee7af250b4be1a5</td>\n",
       "      <td>delivered</td>\n",
       "      <td>2018-03-08</td>\n",
       "      <td>2018-03-09 11:20:28</td>\n",
       "      <td>2018-03-09 22:11:59</td>\n",
       "      <td>2018-03-16 13:08:30</td>\n",
       "      <td>2018-04-03 00:00:00</td>\n",
       "    </tr>\n",
       "  </tbody>\n",
       "</table>\n",
       "<p>99441 rows × 7 columns</p>\n",
       "</div>"
      ],
      "text/plain": [
       "                                                          order_id  \\\n",
       "customer_id                                                          \n",
       "9ef432eb6251297304e76186b10a928d  e481f51cbdc54678b7cc49136f2d6af7   \n",
       "b0830fb4747a6c6d20dea0b8c802d7ef  53cdb2fc8bc7dce0b6741e2150273451   \n",
       "41ce2a54c0b03bf3443c3d931a367089  47770eb9100c2d0c44946d9cf07ec65d   \n",
       "f88197465ea7920adcdbec7375364d82  949d5b44dbf5de918fe9c16f97b45f8a   \n",
       "8ab97904e6daea8866dbdbc4fb7aad2c  ad21c59c0840e6cb83a9ceb5573f8159   \n",
       "...                                                            ...   \n",
       "39bd1228ee8140590ac3aca26f2dfe00  9c5dedf39a927c1b2549525ed64a053c   \n",
       "1fca14ff2861355f6e5f14306ff977a7  63943bddc261676b46f01ca7ac2f7bd8   \n",
       "1aa71eb042121263aafbe80c1b562c9c  83c1379a015df1e13d02aae0204711ab   \n",
       "b331b74b18dc79bcdf6532d51e1637c1  11c177c8e97725db2631073c19f07b62   \n",
       "edb027a75a1449115f6b43211ae02a24  66dea50a8b16d9b4dee7af250b4be1a5   \n",
       "\n",
       "                                 order_status order_purchase_timestamp  \\\n",
       "customer_id                                                              \n",
       "9ef432eb6251297304e76186b10a928d    delivered               2017-10-02   \n",
       "b0830fb4747a6c6d20dea0b8c802d7ef    delivered               2018-07-24   \n",
       "41ce2a54c0b03bf3443c3d931a367089    delivered               2018-08-08   \n",
       "f88197465ea7920adcdbec7375364d82    delivered               2017-11-18   \n",
       "8ab97904e6daea8866dbdbc4fb7aad2c    delivered               2018-02-13   \n",
       "...                                       ...                      ...   \n",
       "39bd1228ee8140590ac3aca26f2dfe00    delivered               2017-03-09   \n",
       "1fca14ff2861355f6e5f14306ff977a7    delivered               2018-02-06   \n",
       "1aa71eb042121263aafbe80c1b562c9c    delivered               2017-08-27   \n",
       "b331b74b18dc79bcdf6532d51e1637c1    delivered               2018-01-08   \n",
       "edb027a75a1449115f6b43211ae02a24    delivered               2018-03-08   \n",
       "\n",
       "                                    order_approved_at  \\\n",
       "customer_id                                             \n",
       "9ef432eb6251297304e76186b10a928d  2017-10-02 11:07:15   \n",
       "b0830fb4747a6c6d20dea0b8c802d7ef  2018-07-26 03:24:27   \n",
       "41ce2a54c0b03bf3443c3d931a367089  2018-08-08 08:55:23   \n",
       "f88197465ea7920adcdbec7375364d82  2017-11-18 19:45:59   \n",
       "8ab97904e6daea8866dbdbc4fb7aad2c  2018-02-13 22:20:29   \n",
       "...                                               ...   \n",
       "39bd1228ee8140590ac3aca26f2dfe00  2017-03-09 09:54:05   \n",
       "1fca14ff2861355f6e5f14306ff977a7  2018-02-06 13:10:37   \n",
       "1aa71eb042121263aafbe80c1b562c9c  2017-08-27 15:04:16   \n",
       "b331b74b18dc79bcdf6532d51e1637c1  2018-01-08 21:36:21   \n",
       "edb027a75a1449115f6b43211ae02a24  2018-03-09 11:20:28   \n",
       "\n",
       "                                 order_delivered_carrier_date  \\\n",
       "customer_id                                                     \n",
       "9ef432eb6251297304e76186b10a928d          2017-10-04 19:55:00   \n",
       "b0830fb4747a6c6d20dea0b8c802d7ef          2018-07-26 14:31:00   \n",
       "41ce2a54c0b03bf3443c3d931a367089          2018-08-08 13:50:00   \n",
       "f88197465ea7920adcdbec7375364d82          2017-11-22 13:39:59   \n",
       "8ab97904e6daea8866dbdbc4fb7aad2c          2018-02-14 19:46:34   \n",
       "...                                                       ...   \n",
       "39bd1228ee8140590ac3aca26f2dfe00          2017-03-10 11:18:03   \n",
       "1fca14ff2861355f6e5f14306ff977a7          2018-02-07 23:22:42   \n",
       "1aa71eb042121263aafbe80c1b562c9c          2017-08-28 20:52:26   \n",
       "b331b74b18dc79bcdf6532d51e1637c1          2018-01-12 15:35:03   \n",
       "edb027a75a1449115f6b43211ae02a24          2018-03-09 22:11:59   \n",
       "\n",
       "                                 order_delivered_customer_date  \\\n",
       "customer_id                                                      \n",
       "9ef432eb6251297304e76186b10a928d           2017-10-10 21:25:13   \n",
       "b0830fb4747a6c6d20dea0b8c802d7ef           2018-08-07 15:27:45   \n",
       "41ce2a54c0b03bf3443c3d931a367089           2018-08-17 18:06:29   \n",
       "f88197465ea7920adcdbec7375364d82           2017-12-02 00:28:42   \n",
       "8ab97904e6daea8866dbdbc4fb7aad2c           2018-02-16 18:17:02   \n",
       "...                                                        ...   \n",
       "39bd1228ee8140590ac3aca26f2dfe00           2017-03-17 15:08:01   \n",
       "1fca14ff2861355f6e5f14306ff977a7           2018-02-28 17:37:56   \n",
       "1aa71eb042121263aafbe80c1b562c9c           2017-09-21 11:24:17   \n",
       "b331b74b18dc79bcdf6532d51e1637c1           2018-01-25 23:32:54   \n",
       "edb027a75a1449115f6b43211ae02a24           2018-03-16 13:08:30   \n",
       "\n",
       "                                 order_estimated_delivery_date  \n",
       "customer_id                                                     \n",
       "9ef432eb6251297304e76186b10a928d           2017-10-18 00:00:00  \n",
       "b0830fb4747a6c6d20dea0b8c802d7ef           2018-08-13 00:00:00  \n",
       "41ce2a54c0b03bf3443c3d931a367089           2018-09-04 00:00:00  \n",
       "f88197465ea7920adcdbec7375364d82           2017-12-15 00:00:00  \n",
       "8ab97904e6daea8866dbdbc4fb7aad2c           2018-02-26 00:00:00  \n",
       "...                                                        ...  \n",
       "39bd1228ee8140590ac3aca26f2dfe00           2017-03-28 00:00:00  \n",
       "1fca14ff2861355f6e5f14306ff977a7           2018-03-02 00:00:00  \n",
       "1aa71eb042121263aafbe80c1b562c9c           2017-09-27 00:00:00  \n",
       "b331b74b18dc79bcdf6532d51e1637c1           2018-02-15 00:00:00  \n",
       "edb027a75a1449115f6b43211ae02a24           2018-04-03 00:00:00  \n",
       "\n",
       "[99441 rows x 7 columns]"
      ]
     },
     "execution_count": 46,
     "metadata": {},
     "output_type": "execute_result"
    }
   ],
   "source": [
    "orders_df_cleaned = orders_df.set_index(\"customer_id\")\n",
    "orders_df_cleaned"
   ]
  },
  {
   "cell_type": "code",
   "execution_count": 47,
   "metadata": {},
   "outputs": [
    {
     "data": {
      "text/plain": [
       "True"
      ]
     },
     "execution_count": 47,
     "metadata": {},
     "output_type": "execute_result"
    }
   ],
   "source": [
    "#join customers and orders together with customer_id\n",
    "lifetimes_object_df_uncleaned = pd.concat([customers_df_cleaned,orders_df_cleaned], axis=1, join='inner')\n",
    "#check that we retained all our unique customer_id's\n",
    "len(lifetimes_object_df_uncleaned) == len(customers_df_cleaned) == len(orders_df_cleaned)"
   ]
  },
  {
   "cell_type": "code",
   "execution_count": 48,
   "metadata": {},
   "outputs": [
    {
     "data": {
      "text/html": [
       "<div>\n",
       "<style scoped>\n",
       "    .dataframe tbody tr th:only-of-type {\n",
       "        vertical-align: middle;\n",
       "    }\n",
       "\n",
       "    .dataframe tbody tr th {\n",
       "        vertical-align: top;\n",
       "    }\n",
       "\n",
       "    .dataframe thead th {\n",
       "        text-align: right;\n",
       "    }\n",
       "</style>\n",
       "<table border=\"1\" class=\"dataframe\">\n",
       "  <thead>\n",
       "    <tr style=\"text-align: right;\">\n",
       "      <th></th>\n",
       "      <th>customer_unique_id</th>\n",
       "      <th>order_id</th>\n",
       "      <th>order_status</th>\n",
       "      <th>order_purchase_timestamp</th>\n",
       "      <th>order_approved_at</th>\n",
       "      <th>order_delivered_carrier_date</th>\n",
       "      <th>order_delivered_customer_date</th>\n",
       "      <th>order_estimated_delivery_date</th>\n",
       "    </tr>\n",
       "    <tr>\n",
       "      <th>customer_id</th>\n",
       "      <th></th>\n",
       "      <th></th>\n",
       "      <th></th>\n",
       "      <th></th>\n",
       "      <th></th>\n",
       "      <th></th>\n",
       "      <th></th>\n",
       "      <th></th>\n",
       "    </tr>\n",
       "  </thead>\n",
       "  <tbody>\n",
       "    <tr>\n",
       "      <th>06b8999e2fba1a1fbc88172c00ba8bc7</th>\n",
       "      <td>861eff4711a542e4b93843c6dd7febb0</td>\n",
       "      <td>00e7ee1b050b8499577073aeb2a297a1</td>\n",
       "      <td>delivered</td>\n",
       "      <td>2017-05-16</td>\n",
       "      <td>2017-05-16 15:22:12</td>\n",
       "      <td>2017-05-23 10:47:57</td>\n",
       "      <td>2017-05-25 10:35:35</td>\n",
       "      <td>2017-06-05 00:00:00</td>\n",
       "    </tr>\n",
       "    <tr>\n",
       "      <th>18955e83d337fd6b2def6b18a428ac77</th>\n",
       "      <td>290c77bc529b7ac935b93aa66c333dc3</td>\n",
       "      <td>29150127e6685892b6eab3eec79f59c7</td>\n",
       "      <td>delivered</td>\n",
       "      <td>2018-01-12</td>\n",
       "      <td>2018-01-12 20:58:32</td>\n",
       "      <td>2018-01-15 17:14:59</td>\n",
       "      <td>2018-01-29 12:41:19</td>\n",
       "      <td>2018-02-06 00:00:00</td>\n",
       "    </tr>\n",
       "  </tbody>\n",
       "</table>\n",
       "</div>"
      ],
      "text/plain": [
       "                                                customer_unique_id  \\\n",
       "customer_id                                                          \n",
       "06b8999e2fba1a1fbc88172c00ba8bc7  861eff4711a542e4b93843c6dd7febb0   \n",
       "18955e83d337fd6b2def6b18a428ac77  290c77bc529b7ac935b93aa66c333dc3   \n",
       "\n",
       "                                                          order_id  \\\n",
       "customer_id                                                          \n",
       "06b8999e2fba1a1fbc88172c00ba8bc7  00e7ee1b050b8499577073aeb2a297a1   \n",
       "18955e83d337fd6b2def6b18a428ac77  29150127e6685892b6eab3eec79f59c7   \n",
       "\n",
       "                                 order_status order_purchase_timestamp  \\\n",
       "customer_id                                                              \n",
       "06b8999e2fba1a1fbc88172c00ba8bc7    delivered               2017-05-16   \n",
       "18955e83d337fd6b2def6b18a428ac77    delivered               2018-01-12   \n",
       "\n",
       "                                    order_approved_at  \\\n",
       "customer_id                                             \n",
       "06b8999e2fba1a1fbc88172c00ba8bc7  2017-05-16 15:22:12   \n",
       "18955e83d337fd6b2def6b18a428ac77  2018-01-12 20:58:32   \n",
       "\n",
       "                                 order_delivered_carrier_date  \\\n",
       "customer_id                                                     \n",
       "06b8999e2fba1a1fbc88172c00ba8bc7          2017-05-23 10:47:57   \n",
       "18955e83d337fd6b2def6b18a428ac77          2018-01-15 17:14:59   \n",
       "\n",
       "                                 order_delivered_customer_date  \\\n",
       "customer_id                                                      \n",
       "06b8999e2fba1a1fbc88172c00ba8bc7           2017-05-25 10:35:35   \n",
       "18955e83d337fd6b2def6b18a428ac77           2018-01-29 12:41:19   \n",
       "\n",
       "                                 order_estimated_delivery_date  \n",
       "customer_id                                                     \n",
       "06b8999e2fba1a1fbc88172c00ba8bc7           2017-06-05 00:00:00  \n",
       "18955e83d337fd6b2def6b18a428ac77           2018-02-06 00:00:00  "
      ]
     },
     "execution_count": 48,
     "metadata": {},
     "output_type": "execute_result"
    }
   ],
   "source": [
    "lifetimes_object_df_uncleaned.head(2)"
   ]
  },
  {
   "cell_type": "code",
   "execution_count": 49,
   "metadata": {},
   "outputs": [],
   "source": [
    "#reset index to order_id so we can join with payment info\n",
    "lifetimes_object_df_uncleaned.set_index(\"order_id\",inplace=True)"
   ]
  },
  {
   "cell_type": "code",
   "execution_count": 50,
   "metadata": {},
   "outputs": [],
   "source": [
    "#Join with payment info\n",
    "lifetimes_object_df_uncleaned = pd.concat([lifetimes_object_df_uncleaned,payments_df_cleaned], axis=1, join='inner')"
   ]
  },
  {
   "cell_type": "code",
   "execution_count": 51,
   "metadata": {},
   "outputs": [],
   "source": [
    "lifetimes_object_df_uncleaned.to_csv(\"data/lifetimes_object_df_uncleaned.csv\")"
   ]
  },
  {
   "cell_type": "markdown",
   "metadata": {},
   "source": [
    "#### Post-Join Data Cleaning\n",
    "- Drop `payment_value` less or equal to zero\n",
    "- Drop 'canceled' and 'unavailable' rows in the `order_status` column"
   ]
  },
  {
   "cell_type": "code",
   "execution_count": 52,
   "metadata": {},
   "outputs": [],
   "source": [
    "#Drop `payment_value` less or equal to zero\n",
    "lifetimes_object_df = lifetimes_object_df_uncleaned[lifetimes_object_df_uncleaned[\"payment_value\"]>0]"
   ]
  },
  {
   "cell_type": "code",
   "execution_count": 53,
   "metadata": {},
   "outputs": [],
   "source": [
    "#Drop 'canceled' and 'unavailable' rows in the `order_status` column\n",
    "lifetimes_object_df = lifetimes_object_df[lifetimes_object_df[\"order_status\"]!=\"canceled\"]\n",
    "lifetimes_object_df = lifetimes_object_df[lifetimes_object_df[\"order_status\"]!=\"unavailable\"]"
   ]
  },
  {
   "cell_type": "code",
   "execution_count": 54,
   "metadata": {},
   "outputs": [
    {
     "name": "stdout",
     "output_type": "stream",
     "text": [
      "We dropped 1234 rows\n"
     ]
    }
   ],
   "source": [
    "#counting dropped rows\n",
    "print(f'We dropped {len(lifetimes_object_df_uncleaned) - len(lifetimes_object_df)} rows')"
   ]
  },
  {
   "cell_type": "code",
   "execution_count": 55,
   "metadata": {},
   "outputs": [],
   "source": [
    "lifetimes_object_df.to_csv(\"data/lifetimes_object_df.csv\")"
   ]
  },
  {
   "cell_type": "code",
   "execution_count": null,
   "metadata": {},
   "outputs": [],
   "source": []
  }
 ],
 "metadata": {
  "kernelspec": {
   "display_name": "Python (lifetime-env)",
   "language": "python",
   "name": "lifetime-env"
  },
  "language_info": {
   "codemirror_mode": {
    "name": "ipython",
    "version": 3
   },
   "file_extension": ".py",
   "mimetype": "text/x-python",
   "name": "python",
   "nbconvert_exporter": "python",
   "pygments_lexer": "ipython3",
   "version": "3.10.4"
  }
 },
 "nbformat": 4,
 "nbformat_minor": 5
}
