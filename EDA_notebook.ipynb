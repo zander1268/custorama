{
 "cells": [
  {
   "cell_type": "markdown",
   "id": "00e1e6a5",
   "metadata": {},
   "source": [
    "## EDA Notebook"
   ]
  },
  {
   "cell_type": "code",
   "execution_count": null,
   "id": "07650c68",
   "metadata": {},
   "outputs": [],
   "source": [
    "data_base_schema.png"
   ]
  },
  {
   "cell_type": "markdown",
   "id": "d39e7b60",
   "metadata": {},
   "source": [
    "### Exploratory Data Analysis\n",
    "1. Data base exploration\n",
    "2. Inital observations"
   ]
  },
  {
   "cell_type": "markdown",
   "id": "6fdf23a3",
   "metadata": {},
   "source": [
    "#### Data base exploration\n",
    "To create a CLV, model we need a customer identifier, purchase timestamp, and purchase value. The data base contains more information than we need so I'm only going to open these three files for further exploration. \n",
    "- olist_customers_dataset\n",
    "    - This dataset has information about the customer and its location. Use it to identify unique customers in the orders dataset.\n",
    "- olist_order_items_dataset\n",
    "    - d\n",
    "- olist_order_payments_dataset\n",
    "    - This dataset includes data about the orders payment options."
   ]
  },
  {
   "cell_type": "code",
   "execution_count": 10,
   "id": "bce74f05",
   "metadata": {},
   "outputs": [
    {
     "name": "stdout",
     "output_type": "stream",
     "text": [
      "Data base files\n",
      " \n",
      "olist_customers_dataset.csv\n",
      "olist_geolocation_dataset.csv\n",
      "olist_order_items_dataset.csv\n",
      "olist_order_payments_dataset.csv\n",
      "olist_order_reviews_dataset.csv\n",
      "olist_orders_dataset.csv\n",
      "olist_products_dataset.csv\n",
      "olist_sellers_dataset.csv\n",
      "product_category_name_translation.csv\n"
     ]
    }
   ],
   "source": [
    "#import zipfile to deal with zipped data\n",
    "from zipfile import ZipFile\n",
    "# Create iterate over our files in the zip file and print their names\n",
    "print(\"Data base files\")\n",
    "print(\" \")\n",
    "with ZipFile('data/customer_data_base.zip', 'r') as zipObj:\n",
    "   # Get list of files names in zip\n",
    "   listOfiles = zipObj.namelist()\n",
    "   # Iterate over the list of file names in given list & print them\n",
    "   for elem in listOfiles:\n",
    "       print(elem)"
   ]
  },
  {
   "cell_type": "code",
   "execution_count": 14,
   "id": "d3a7130e",
   "metadata": {},
   "outputs": [],
   "source": [
    "#Inital imports\n",
    "%matplotlib inline\n",
    "import numpy as np\n",
    "import pandas as pd\n",
    "import matplotlib.pyplot as plt\n",
    "import seaborn as sns\n",
    "import lifetimes\n",
    "from zipfile import ZipFile\n",
    "import random"
   ]
  },
  {
   "cell_type": "code",
   "execution_count": 15,
   "id": "3c53eeaa",
   "metadata": {},
   "outputs": [],
   "source": [
    "#Load in our data\n",
    "# open zipped dataset and save to df's\n",
    "with ZipFile(\"data/customer_data_base.zip\") as z:\n",
    "   # open the orders csv file in the dataset\n",
    "   with z.open(\"olist_orders_dataset.csv\") as a:    \n",
    "      # read the dataset as dataframe \"df\"\n",
    "      orders_df = pd.read_csv(a)\n",
    "        \n",
    "   # open the customers csv file in the dataset\n",
    "   with z.open(\"olist_customers_dataset.csv\") as b:    \n",
    "      # read the dataset as dataframe \"df\"\n",
    "      customers_df = pd.read_csv(b)     \n",
    "        \n",
    "   # open the customers csv file in the dataset\n",
    "   with z.open(\"olist_order_payments_dataset.csv\") as c:    \n",
    "      # read the dataset as dataframe \"df\"\n",
    "      payments_df = pd.read_csv(c)     \n"
   ]
  },
  {
   "cell_type": "markdown",
   "id": "008c8040",
   "metadata": {},
   "source": [
    "![Data_base_schema](visuals/data_base_schema.png)"
   ]
  },
  {
   "cell_type": "markdown",
   "id": "253e7f96",
   "metadata": {},
   "source": [
    "#### Initial Observations\n",
    "\n",
    "#### customers_dataset\n",
    "- All we need from this dataset is `customer_unique_id`\n",
    "- No null or missing values\n",
    "- We have 96,096 unique customers\n",
    "- No null or missing values\n",
    "- All 27 Brazilian states + federal district (FD) represented\n",
    "- customer_unique_id represents the unique customer identifier\n",
    "- customer_id is a key to the orders dataset and represents a unique order id\n",
    "    - From the data providers, \"At our system each order is assigned to a unique customerid.\"\n",
    "\n",
    "#### olist_order_items_dataset\n",
    "- "
   ]
  },
  {
   "cell_type": "markdown",
   "id": "fb92812d",
   "metadata": {},
   "source": [
    "##### customers_dataset"
   ]
  },
  {
   "cell_type": "code",
   "execution_count": 50,
   "id": "9fde4d5f",
   "metadata": {},
   "outputs": [
    {
     "data": {
      "text/plain": [
       "(99441, 5)"
      ]
     },
     "execution_count": 50,
     "metadata": {},
     "output_type": "execute_result"
    }
   ],
   "source": [
    "#99441 observations\n",
    "customers_df.shape"
   ]
  },
  {
   "cell_type": "code",
   "execution_count": 83,
   "id": "5120e57e",
   "metadata": {},
   "outputs": [
    {
     "data": {
      "text/plain": [
       "customer_id                 0\n",
       "customer_unique_id          0\n",
       "customer_zip_code_prefix    0\n",
       "customer_city               0\n",
       "customer_state              0\n",
       "dtype: int64"
      ]
     },
     "execution_count": 83,
     "metadata": {},
     "output_type": "execute_result"
    }
   ],
   "source": [
    "#We have no null or na values\n",
    "customers_df.isnull().sum()"
   ]
  },
  {
   "cell_type": "code",
   "execution_count": 80,
   "id": "998ab2e4",
   "metadata": {},
   "outputs": [
    {
     "name": "stdout",
     "output_type": "stream",
     "text": [
      "<class 'pandas.core.frame.DataFrame'>\n",
      "RangeIndex: 99441 entries, 0 to 99440\n",
      "Data columns (total 5 columns):\n",
      " #   Column                    Non-Null Count  Dtype \n",
      "---  ------                    --------------  ----- \n",
      " 0   customer_id               99441 non-null  object\n",
      " 1   customer_unique_id        99441 non-null  object\n",
      " 2   customer_zip_code_prefix  99441 non-null  int64 \n",
      " 3   customer_city             99441 non-null  object\n",
      " 4   customer_state            99441 non-null  object\n",
      "dtypes: int64(1), object(4)\n",
      "memory usage: 3.8+ MB\n"
     ]
    }
   ],
   "source": [
    "#We have mostly strings and an integer for zip code\n",
    "customers_df.info()"
   ]
  },
  {
   "cell_type": "code",
   "execution_count": 20,
   "id": "025b3775",
   "metadata": {},
   "outputs": [
    {
     "data": {
      "text/html": [
       "<div>\n",
       "<style scoped>\n",
       "    .dataframe tbody tr th:only-of-type {\n",
       "        vertical-align: middle;\n",
       "    }\n",
       "\n",
       "    .dataframe tbody tr th {\n",
       "        vertical-align: top;\n",
       "    }\n",
       "\n",
       "    .dataframe thead th {\n",
       "        text-align: right;\n",
       "    }\n",
       "</style>\n",
       "<table border=\"1\" class=\"dataframe\">\n",
       "  <thead>\n",
       "    <tr style=\"text-align: right;\">\n",
       "      <th></th>\n",
       "      <th>customer_id</th>\n",
       "      <th>customer_unique_id</th>\n",
       "      <th>customer_zip_code_prefix</th>\n",
       "      <th>customer_city</th>\n",
       "      <th>customer_state</th>\n",
       "    </tr>\n",
       "  </thead>\n",
       "  <tbody>\n",
       "    <tr>\n",
       "      <th>0</th>\n",
       "      <td>06b8999e2fba1a1fbc88172c00ba8bc7</td>\n",
       "      <td>861eff4711a542e4b93843c6dd7febb0</td>\n",
       "      <td>14409</td>\n",
       "      <td>franca</td>\n",
       "      <td>SP</td>\n",
       "    </tr>\n",
       "    <tr>\n",
       "      <th>1</th>\n",
       "      <td>18955e83d337fd6b2def6b18a428ac77</td>\n",
       "      <td>290c77bc529b7ac935b93aa66c333dc3</td>\n",
       "      <td>9790</td>\n",
       "      <td>sao bernardo do campo</td>\n",
       "      <td>SP</td>\n",
       "    </tr>\n",
       "    <tr>\n",
       "      <th>2</th>\n",
       "      <td>4e7b3e00288586ebd08712fdd0374a03</td>\n",
       "      <td>060e732b5b29e8181a18229c7b0b2b5e</td>\n",
       "      <td>1151</td>\n",
       "      <td>sao paulo</td>\n",
       "      <td>SP</td>\n",
       "    </tr>\n",
       "    <tr>\n",
       "      <th>3</th>\n",
       "      <td>b2b6027bc5c5109e529d4dc6358b12c3</td>\n",
       "      <td>259dac757896d24d7702b9acbbff3f3c</td>\n",
       "      <td>8775</td>\n",
       "      <td>mogi das cruzes</td>\n",
       "      <td>SP</td>\n",
       "    </tr>\n",
       "    <tr>\n",
       "      <th>4</th>\n",
       "      <td>4f2d8ab171c80ec8364f7c12e35b23ad</td>\n",
       "      <td>345ecd01c38d18a9036ed96c73b8d066</td>\n",
       "      <td>13056</td>\n",
       "      <td>campinas</td>\n",
       "      <td>SP</td>\n",
       "    </tr>\n",
       "  </tbody>\n",
       "</table>\n",
       "</div>"
      ],
      "text/plain": [
       "                        customer_id                customer_unique_id  \\\n",
       "0  06b8999e2fba1a1fbc88172c00ba8bc7  861eff4711a542e4b93843c6dd7febb0   \n",
       "1  18955e83d337fd6b2def6b18a428ac77  290c77bc529b7ac935b93aa66c333dc3   \n",
       "2  4e7b3e00288586ebd08712fdd0374a03  060e732b5b29e8181a18229c7b0b2b5e   \n",
       "3  b2b6027bc5c5109e529d4dc6358b12c3  259dac757896d24d7702b9acbbff3f3c   \n",
       "4  4f2d8ab171c80ec8364f7c12e35b23ad  345ecd01c38d18a9036ed96c73b8d066   \n",
       "\n",
       "   customer_zip_code_prefix          customer_city customer_state  \n",
       "0                     14409                 franca             SP  \n",
       "1                      9790  sao bernardo do campo             SP  \n",
       "2                      1151              sao paulo             SP  \n",
       "3                      8775        mogi das cruzes             SP  \n",
       "4                     13056               campinas             SP  "
      ]
     },
     "execution_count": 20,
     "metadata": {},
     "output_type": "execute_result"
    }
   ],
   "source": [
    "#Explore head of dataframe\n",
    "#There is a difference between customer_id and customer_unique_id, let's explore further\n",
    "customers_df.head()"
   ]
  },
  {
   "cell_type": "code",
   "execution_count": 39,
   "id": "0726ee06",
   "metadata": {},
   "outputs": [
    {
     "name": "stdout",
     "output_type": "stream",
     "text": [
      "Total unique customer_id: 99441\n",
      "Total unique customer_unique_id: 96096\n"
     ]
    }
   ],
   "source": [
    "#As the name suggests, unique_customer_id is a more unique customer identifier\n",
    "print(f'Total unique customer_id: {len(customers_df[\"customer_id\"].unique())}')\n",
    "print(f'Total unique customer_unique_id: {len(customers_df[\"customer_unique_id\"].unique())}')"
   ]
  },
  {
   "cell_type": "code",
   "execution_count": 49,
   "id": "899592fa",
   "metadata": {},
   "outputs": [
    {
     "data": {
      "text/plain": [
       "1.0348089410589412"
      ]
     },
     "execution_count": 49,
     "metadata": {},
     "output_type": "execute_result"
    }
   ],
   "source": [
    "#We have 1.03 unique customer_id per every customer_unique_id\n",
    "len(customers_df[\"customer_id\"].unique())/len(customers_df[\"customer_unique_id\"].unique())"
   ]
  },
  {
   "cell_type": "code",
   "execution_count": 57,
   "id": "fc31bb33",
   "metadata": {},
   "outputs": [
    {
     "data": {
      "text/plain": [
       "27"
      ]
     },
     "execution_count": 57,
     "metadata": {},
     "output_type": "execute_result"
    }
   ],
   "source": [
    "#All 27 Brazilian states + federal district (FD) represented\n",
    "len(customers_df[\"customer_state\"].unique())"
   ]
  },
  {
   "cell_type": "code",
   "execution_count": 54,
   "id": "5bf8fc49",
   "metadata": {},
   "outputs": [
    {
     "data": {
      "text/plain": [
       "SP    41746\n",
       "RJ    12852\n",
       "MG    11635\n",
       "RS     5466\n",
       "PR     5045\n",
       "SC     3637\n",
       "BA     3380\n",
       "DF     2140\n",
       "ES     2033\n",
       "GO     2020\n",
       "PE     1652\n",
       "CE     1336\n",
       "PA      975\n",
       "MT      907\n",
       "MA      747\n",
       "MS      715\n",
       "PB      536\n",
       "PI      495\n",
       "RN      485\n",
       "AL      413\n",
       "SE      350\n",
       "TO      280\n",
       "RO      253\n",
       "AM      148\n",
       "AC       81\n",
       "AP       68\n",
       "RR       46\n",
       "Name: customer_state, dtype: int64"
      ]
     },
     "execution_count": 54,
     "metadata": {},
     "output_type": "execute_result"
    }
   ],
   "source": [
    "customers_df[\"customer_state\"].value_counts()"
   ]
  },
  {
   "cell_type": "markdown",
   "id": "516ac270",
   "metadata": {},
   "source": [
    "##### olist_order_items_dataset"
   ]
  },
  {
   "cell_type": "code",
   "execution_count": 61,
   "id": "15236047",
   "metadata": {},
   "outputs": [
    {
     "data": {
      "text/plain": [
       "(99441, 8)"
      ]
     },
     "execution_count": 61,
     "metadata": {},
     "output_type": "execute_result"
    }
   ],
   "source": [
    "#99441 observations, same as our customers dataset\n",
    "orders_df.shape"
   ]
  },
  {
   "cell_type": "code",
   "execution_count": 123,
   "id": "af78e653",
   "metadata": {},
   "outputs": [
    {
     "data": {
      "text/html": [
       "<div>\n",
       "<style scoped>\n",
       "    .dataframe tbody tr th:only-of-type {\n",
       "        vertical-align: middle;\n",
       "    }\n",
       "\n",
       "    .dataframe tbody tr th {\n",
       "        vertical-align: top;\n",
       "    }\n",
       "\n",
       "    .dataframe thead th {\n",
       "        text-align: right;\n",
       "    }\n",
       "</style>\n",
       "<table border=\"1\" class=\"dataframe\">\n",
       "  <thead>\n",
       "    <tr style=\"text-align: right;\">\n",
       "      <th></th>\n",
       "      <th>order_id</th>\n",
       "      <th>customer_id</th>\n",
       "      <th>order_status</th>\n",
       "      <th>order_purchase_timestamp</th>\n",
       "      <th>order_approved_at</th>\n",
       "      <th>order_delivered_carrier_date</th>\n",
       "      <th>order_delivered_customer_date</th>\n",
       "      <th>order_estimated_delivery_date</th>\n",
       "    </tr>\n",
       "  </thead>\n",
       "  <tbody>\n",
       "    <tr>\n",
       "      <th>0</th>\n",
       "      <td>e481f51cbdc54678b7cc49136f2d6af7</td>\n",
       "      <td>9ef432eb6251297304e76186b10a928d</td>\n",
       "      <td>delivered</td>\n",
       "      <td>2017-10-02 10:56:33</td>\n",
       "      <td>2017-10-02 11:07:15</td>\n",
       "      <td>2017-10-04 19:55:00</td>\n",
       "      <td>2017-10-10 21:25:13</td>\n",
       "      <td>2017-10-18 00:00:00</td>\n",
       "    </tr>\n",
       "    <tr>\n",
       "      <th>1</th>\n",
       "      <td>53cdb2fc8bc7dce0b6741e2150273451</td>\n",
       "      <td>b0830fb4747a6c6d20dea0b8c802d7ef</td>\n",
       "      <td>delivered</td>\n",
       "      <td>2018-07-24 20:41:37</td>\n",
       "      <td>2018-07-26 03:24:27</td>\n",
       "      <td>2018-07-26 14:31:00</td>\n",
       "      <td>2018-08-07 15:27:45</td>\n",
       "      <td>2018-08-13 00:00:00</td>\n",
       "    </tr>\n",
       "    <tr>\n",
       "      <th>2</th>\n",
       "      <td>47770eb9100c2d0c44946d9cf07ec65d</td>\n",
       "      <td>41ce2a54c0b03bf3443c3d931a367089</td>\n",
       "      <td>delivered</td>\n",
       "      <td>2018-08-08 08:38:49</td>\n",
       "      <td>2018-08-08 08:55:23</td>\n",
       "      <td>2018-08-08 13:50:00</td>\n",
       "      <td>2018-08-17 18:06:29</td>\n",
       "      <td>2018-09-04 00:00:00</td>\n",
       "    </tr>\n",
       "    <tr>\n",
       "      <th>3</th>\n",
       "      <td>949d5b44dbf5de918fe9c16f97b45f8a</td>\n",
       "      <td>f88197465ea7920adcdbec7375364d82</td>\n",
       "      <td>delivered</td>\n",
       "      <td>2017-11-18 19:28:06</td>\n",
       "      <td>2017-11-18 19:45:59</td>\n",
       "      <td>2017-11-22 13:39:59</td>\n",
       "      <td>2017-12-02 00:28:42</td>\n",
       "      <td>2017-12-15 00:00:00</td>\n",
       "    </tr>\n",
       "    <tr>\n",
       "      <th>4</th>\n",
       "      <td>ad21c59c0840e6cb83a9ceb5573f8159</td>\n",
       "      <td>8ab97904e6daea8866dbdbc4fb7aad2c</td>\n",
       "      <td>delivered</td>\n",
       "      <td>2018-02-13 21:18:39</td>\n",
       "      <td>2018-02-13 22:20:29</td>\n",
       "      <td>2018-02-14 19:46:34</td>\n",
       "      <td>2018-02-16 18:17:02</td>\n",
       "      <td>2018-02-26 00:00:00</td>\n",
       "    </tr>\n",
       "  </tbody>\n",
       "</table>\n",
       "</div>"
      ],
      "text/plain": [
       "                           order_id                       customer_id  \\\n",
       "0  e481f51cbdc54678b7cc49136f2d6af7  9ef432eb6251297304e76186b10a928d   \n",
       "1  53cdb2fc8bc7dce0b6741e2150273451  b0830fb4747a6c6d20dea0b8c802d7ef   \n",
       "2  47770eb9100c2d0c44946d9cf07ec65d  41ce2a54c0b03bf3443c3d931a367089   \n",
       "3  949d5b44dbf5de918fe9c16f97b45f8a  f88197465ea7920adcdbec7375364d82   \n",
       "4  ad21c59c0840e6cb83a9ceb5573f8159  8ab97904e6daea8866dbdbc4fb7aad2c   \n",
       "\n",
       "  order_status order_purchase_timestamp    order_approved_at  \\\n",
       "0    delivered      2017-10-02 10:56:33  2017-10-02 11:07:15   \n",
       "1    delivered      2018-07-24 20:41:37  2018-07-26 03:24:27   \n",
       "2    delivered      2018-08-08 08:38:49  2018-08-08 08:55:23   \n",
       "3    delivered      2017-11-18 19:28:06  2017-11-18 19:45:59   \n",
       "4    delivered      2018-02-13 21:18:39  2018-02-13 22:20:29   \n",
       "\n",
       "  order_delivered_carrier_date order_delivered_customer_date  \\\n",
       "0          2017-10-04 19:55:00           2017-10-10 21:25:13   \n",
       "1          2018-07-26 14:31:00           2018-08-07 15:27:45   \n",
       "2          2018-08-08 13:50:00           2018-08-17 18:06:29   \n",
       "3          2017-11-22 13:39:59           2017-12-02 00:28:42   \n",
       "4          2018-02-14 19:46:34           2018-02-16 18:17:02   \n",
       "\n",
       "  order_estimated_delivery_date  \n",
       "0           2017-10-18 00:00:00  \n",
       "1           2018-08-13 00:00:00  \n",
       "2           2018-09-04 00:00:00  \n",
       "3           2017-12-15 00:00:00  \n",
       "4           2018-02-26 00:00:00  "
      ]
     },
     "execution_count": 123,
     "metadata": {},
     "output_type": "execute_result"
    }
   ],
   "source": [
    "#Explore head of dataframe\n",
    "#From this dataset we have the required elements for a CLV model; customer identifier, purchase timestamp.\n",
    "orders_df.head()"
   ]
  },
  {
   "cell_type": "code",
   "execution_count": 124,
   "id": "38986792",
   "metadata": {},
   "outputs": [
    {
     "data": {
      "text/plain": [
       "delivered      96478\n",
       "shipped         1107\n",
       "canceled         625\n",
       "unavailable      609\n",
       "invoiced         314\n",
       "processing       301\n",
       "created            5\n",
       "approved           2\n",
       "Name: order_status, dtype: int64"
      ]
     },
     "execution_count": 124,
     "metadata": {},
     "output_type": "execute_result"
    }
   ],
   "source": [
    "#We have some order statuses that are concerning for a CLV model; canceled and unavailable\n",
    "#We have to check if these order types are associated with zero or negative monetary values when we join datasets \n",
    "orders_df[\"order_status\"].value_counts()"
   ]
  },
  {
   "cell_type": "code",
   "execution_count": 125,
   "id": "ec6b792b",
   "metadata": {},
   "outputs": [
    {
     "data": {
      "text/plain": [
       "order_id                            0\n",
       "customer_id                         0\n",
       "order_status                        0\n",
       "order_purchase_timestamp            0\n",
       "order_approved_at                 160\n",
       "order_delivered_carrier_date     1783\n",
       "order_delivered_customer_date    2965\n",
       "order_estimated_delivery_date       0\n",
       "dtype: int64"
      ]
     },
     "execution_count": 125,
     "metadata": {},
     "output_type": "execute_result"
    }
   ],
   "source": [
    "#We have have some null values to deal with in order_approved_at, order_delivered_carrier_date, order_delivered_customer_date\n",
    "orders_df.isnull().sum()"
   ]
  },
  {
   "cell_type": "code",
   "execution_count": 121,
   "id": "b7650e5a",
   "metadata": {},
   "outputs": [
    {
     "data": {
      "text/plain": [
       "canceled     141\n",
       "delivered     14\n",
       "created        5\n",
       "Name: order_status, dtype: int64"
      ]
     },
     "execution_count": 121,
     "metadata": {},
     "output_type": "execute_result"
    }
   ],
   "source": [
    "#Dealing with order_approved_at null values first\n",
    "order_approved_at_null_df = orders_df[orders_df[\"order_approved_at\"].isnull() == True]\n",
    "order_approved_at_null_df[\"order_status\"].value_counts()"
   ]
  },
  {
   "cell_type": "code",
   "execution_count": 112,
   "id": "85b6ab8a",
   "metadata": {},
   "outputs": [
    {
     "data": {
      "text/plain": [
       "shipped        1107\n",
       "canceled        619\n",
       "unavailable     609\n",
       "invoiced        314\n",
       "processing      301\n",
       "delivered        23\n",
       "created           5\n",
       "approved          2\n",
       "Name: order_status, dtype: int64"
      ]
     },
     "execution_count": 112,
     "metadata": {},
     "output_type": "execute_result"
    }
   ],
   "source": [
    "null_orders_df=orders_df[orders_df.isnull().any(axis=1)]\n",
    "null_orders_df[\"order_status\"].value_counts()"
   ]
  },
  {
   "cell_type": "code",
   "execution_count": 85,
   "id": "65fabd98",
   "metadata": {},
   "outputs": [],
   "source": [
    "#Let's check if those null values from order_approved_at, order_delivered_carrier_date, and order_delivered_customer_date\n",
    "#order_delivered_customer_date are because of these troublesome order statuses"
   ]
  },
  {
   "cell_type": "code",
   "execution_count": 97,
   "id": "c2f34519",
   "metadata": {},
   "outputs": [],
   "source": [
    "trouble_order_statuses = [\"canceled\",\"unavailable\",\"invoiced\",\"processing\",\"created\",\"approved\"]"
   ]
  },
  {
   "cell_type": "code",
   "execution_count": 96,
   "id": "11928ad8",
   "metadata": {},
   "outputs": [
    {
     "data": {
      "text/plain": [
       "order_id                            0\n",
       "customer_id                         0\n",
       "order_status                        0\n",
       "order_purchase_timestamp            0\n",
       "order_approved_at                 146\n",
       "order_delivered_carrier_date     1781\n",
       "order_delivered_customer_date    1850\n",
       "order_estimated_delivery_date       0\n",
       "dtype: int64"
      ]
     },
     "execution_count": 96,
     "metadata": {},
     "output_type": "execute_result"
    }
   ],
   "source": [
    "trouble_order_statuses_df = orders_df[orders_df[\"order_status\"].isin(trouble_order_statuses)]\n",
    "trouble_order_statuses_df.isnull().sum()"
   ]
  },
  {
   "cell_type": "markdown",
   "id": "23a1ed13",
   "metadata": {},
   "source": [
    "#### Data Cleaning\n",
    "\n",
    "#### customers_dataset\n",
    "- \n",
    "\n",
    "#### olist_order_items_dataset\n",
    "- Check and remove null and missing values"
   ]
  },
  {
   "cell_type": "code",
   "execution_count": null,
   "id": "e1db3fa8",
   "metadata": {},
   "outputs": [],
   "source": []
  }
 ],
 "metadata": {
  "kernelspec": {
   "display_name": "Python (lifetime-env)",
   "language": "python",
   "name": "lifetime-env"
  },
  "language_info": {
   "codemirror_mode": {
    "name": "ipython",
    "version": 3
   },
   "file_extension": ".py",
   "mimetype": "text/x-python",
   "name": "python",
   "nbconvert_exporter": "python",
   "pygments_lexer": "ipython3",
   "version": "3.10.4"
  }
 },
 "nbformat": 4,
 "nbformat_minor": 5
}
